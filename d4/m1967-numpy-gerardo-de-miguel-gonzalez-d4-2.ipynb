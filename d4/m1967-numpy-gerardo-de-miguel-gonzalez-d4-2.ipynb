{
 "cells": [
  {
   "cell_type": "markdown",
   "metadata": {
    "colab_type": "text",
    "id": "Hi7qAIj4QqwU"
   },
   "source": [
    "# Gerardo de Miguel González\n",
    "\n",
    "## M1967: NumPy: creating and manipulating numerical data"
   ]
  },
  {
   "cell_type": "markdown",
   "metadata": {
    "colab_type": "text",
    "id": "dcf_zJi1Q4Fj"
   },
   "source": [
    "### Ejercicios Seguimiento Numpy II\n",
    "\n",
    "Crea un Jupyter Notebook con cada ejercicio en su propia sección."
   ]
  },
  {
   "cell_type": "code",
   "execution_count": 0,
   "metadata": {
    "colab": {},
    "colab_type": "code",
    "id": "8ebiGjk5Q7sD"
   },
   "outputs": [],
   "source": [
    "import numpy as np"
   ]
  },
  {
   "cell_type": "markdown",
   "metadata": {
    "colab_type": "text",
    "id": "rJF3pVLURFti"
   },
   "source": [
    "#### Ejercicio 1\n",
    "\n",
    " Form the 2-D array (without typing it in explicitly):\n",
    " \n",
    "<pre> [[1,  6, 11], \n",
    " [2,  7, 12], \n",
    " [3,  8, 13],\n",
    " [4,  9, 14],\n",
    " [5, 10, 15]]</pre>\n",
    " \n",
    " and generate a new array containing its 2nd and 4th rows."
   ]
  },
  {
   "cell_type": "code",
   "execution_count": 3,
   "metadata": {
    "colab": {
     "base_uri": "https://localhost:8080/",
     "height": 34
    },
    "colab_type": "code",
    "executionInfo": {
     "elapsed": 538,
     "status": "ok",
     "timestamp": 1542732975277,
     "user": {
      "displayName": "Gerardo de Miguel",
      "photoUrl": "https://lh3.googleusercontent.com/-LmFLfSn0ThU/AAAAAAAAAAI/AAAAAAAAAkg/xGe-_jxkcZA/s64/photo.jpg",
      "userId": "12735548512534412210"
     },
     "user_tz": -60
    },
    "id": "MmK-hNcDQj1j",
    "outputId": "a54cbfdc-99c2-4b6c-df02-0048a4e943a8"
   },
   "outputs": [
    {
     "name": "stdout",
     "output_type": "stream",
     "text": [
      "[ 1  2  3  4  5  6  7  8  9 10 11 12 13 14 15]\n"
     ]
    }
   ],
   "source": [
    "#::GMG::Primero creamos un array 1D con los elementos que vamos a colocar \n",
    "#       en el array 2D.\n",
    "x = np.arange(1,16,1)\n",
    "print(x)"
   ]
  },
  {
   "cell_type": "code",
   "execution_count": 0,
   "metadata": {
    "colab": {
     "base_uri": "https://localhost:8080/",
     "height": 104
    },
    "colab_type": "code",
    "executionInfo": {
     "elapsed": 559,
     "status": "ok",
     "timestamp": 1542698729920,
     "user": {
      "displayName": "Gerardo de Miguel",
      "photoUrl": "https://lh3.googleusercontent.com/-LmFLfSn0ThU/AAAAAAAAAAI/AAAAAAAAAkg/xGe-_jxkcZA/s64/photo.jpg",
      "userId": "12735548512534412210"
     },
     "user_tz": -60
    },
    "id": "qN2TMvY9_0QZ",
    "outputId": "b47a1576-8f0d-4ff3-9cea-8638c0efcf50"
   },
   "outputs": [
    {
     "name": "stdout",
     "output_type": "stream",
     "text": [
      "[[ 1  2  3]\n",
      " [ 4  5  6]\n",
      " [ 7  8  9]\n",
      " [10 11 12]\n",
      " [13 14 15]]\n"
     ]
    }
   ],
   "source": [
    "#::GMG::El objetivo es tener un array 2D de 5 filas y tres columnas.\n",
    "#       Podríamos pensar en \"darle forma\" con reshape()\n",
    "#np.reshape(x, (-1, 3))\n",
    "y = x.reshape(5,3)\n",
    "print(y)"
   ]
  },
  {
   "cell_type": "code",
   "execution_count": 0,
   "metadata": {
    "colab": {
     "base_uri": "https://localhost:8080/",
     "height": 35
    },
    "colab_type": "code",
    "executionInfo": {
     "elapsed": 551,
     "status": "ok",
     "timestamp": 1542699111569,
     "user": {
      "displayName": "Gerardo de Miguel",
      "photoUrl": "https://lh3.googleusercontent.com/-LmFLfSn0ThU/AAAAAAAAAAI/AAAAAAAAAkg/xGe-_jxkcZA/s64/photo.jpg",
      "userId": "12735548512534412210"
     },
     "user_tz": -60
    },
    "id": "gyA_NlhrApSi",
    "outputId": "24143e46-ad89-427f-c41b-05c9c25bd143"
   },
   "outputs": [
    {
     "data": {
      "text/plain": [
       "(array([ 1,  6, 11]), array([ 2,  7, 12]), '...', array([ 5, 10, 15]))"
      ]
     },
     "metadata": {
      "tags": []
     },
     "output_type": "display_data"
    }
   ],
   "source": [
    "#::GMG::El resultado no es el esperado ya que los elementos no están colocados\n",
    "#       en el orden pedido. Tenemos que pensar tal vez en \"slicing\" ...\n",
    "#       ... por ejemplo la filas se obtienen de la siguiente manera\n",
    "display((x[::5],x[1::5],'...',x[4::5]))"
   ]
  },
  {
   "cell_type": "code",
   "execution_count": 4,
   "metadata": {
    "colab": {
     "base_uri": "https://localhost:8080/",
     "height": 102
    },
    "colab_type": "code",
    "executionInfo": {
     "elapsed": 544,
     "status": "ok",
     "timestamp": 1542732982413,
     "user": {
      "displayName": "Gerardo de Miguel",
      "photoUrl": "https://lh3.googleusercontent.com/-LmFLfSn0ThU/AAAAAAAAAAI/AAAAAAAAAkg/xGe-_jxkcZA/s64/photo.jpg",
      "userId": "12735548512534412210"
     },
     "user_tz": -60
    },
    "id": "2XudF4ZCCb1u",
    "outputId": "b5895ff7-521a-4626-daf7-2e6b31e8d5b1"
   },
   "outputs": [
    {
     "data": {
      "text/plain": [
       "array([[ 1,  2,  3],\n",
       "       [ 4,  5,  6],\n",
       "       [ 7,  8,  9],\n",
       "       [10, 11, 12],\n",
       "       [13, 14, 15]])"
      ]
     },
     "execution_count": 4,
     "metadata": {
      "tags": []
     },
     "output_type": "execute_result"
    }
   ],
   "source": [
    "#::GMG::Así que empleando \"slicing\" podemos construir el array 2D por\n",
    "#       partes :)\n",
    "y = np.array([x[::5],x[1::5],x[2::5],x[3::5],x[4::5]])\n",
    "print(y)"
   ]
  },
  {
   "cell_type": "code",
   "execution_count": 0,
   "metadata": {
    "colab": {
     "base_uri": "https://localhost:8080/",
     "height": 104
    },
    "colab_type": "code",
    "executionInfo": {
     "elapsed": 508,
     "status": "ok",
     "timestamp": 1542700256351,
     "user": {
      "displayName": "Gerardo de Miguel",
      "photoUrl": "https://lh3.googleusercontent.com/-LmFLfSn0ThU/AAAAAAAAAAI/AAAAAAAAAkg/xGe-_jxkcZA/s64/photo.jpg",
      "userId": "12735548512534412210"
     },
     "user_tz": -60
    },
    "id": "9BDBA2StFtU_",
    "outputId": "3a1bb4c7-4d19-495a-c823-8625494bd0ed"
   },
   "outputs": [
    {
     "name": "stdout",
     "output_type": "stream",
     "text": [
      "[[ 1  6 11]\n",
      " [ 2  7 12]\n",
      " [ 3  8 13]\n",
      " [ 4  9 14]\n",
      " [ 5 10 15]]\n"
     ]
    }
   ],
   "source": [
    "#::GMG::También podemos pensar en colocar los elementos como filas en 2D y \n",
    "#       luego tansponer el array 2D\n",
    "# https://docs.scipy.org/doc/numpy-1.15.0/reference/generated/numpy.reshape.html\n",
    "# https://docs.scipy.org/doc/numpy-1.15.0/reference/generated/numpy.transpose.html\n",
    "y = np.transpose(x.reshape(3,5))\n",
    "print(y)"
   ]
  },
  {
   "cell_type": "code",
   "execution_count": 0,
   "metadata": {
    "colab": {
     "base_uri": "https://localhost:8080/",
     "height": 104
    },
    "colab_type": "code",
    "executionInfo": {
     "elapsed": 547,
     "status": "ok",
     "timestamp": 1542700431693,
     "user": {
      "displayName": "Gerardo de Miguel",
      "photoUrl": "https://lh3.googleusercontent.com/-LmFLfSn0ThU/AAAAAAAAAAI/AAAAAAAAAkg/xGe-_jxkcZA/s64/photo.jpg",
      "userId": "12735548512534412210"
     },
     "user_tz": -60
    },
    "id": "C7CVzbxmGj9h",
    "outputId": "12f5beff-cf8b-4279-c00a-87cc94825709"
   },
   "outputs": [
    {
     "name": "stdout",
     "output_type": "stream",
     "text": [
      "[[ 1  6 11]\n",
      " [ 2  7 12]\n",
      " [ 3  8 13]\n",
      " [ 4  9 14]\n",
      " [ 5 10 15]]\n"
     ]
    }
   ],
   "source": [
    "#::GMG::Otra alternativa es dividir el array 1D en tres partes y colocarlos\n",
    "#       como columnas en el nuevo array 2D\n",
    "# https://docs.scipy.org/doc/numpy/reference/generated/numpy.split.html\n",
    "# https://docs.scipy.org/doc/numpy-1.13.0/reference/generated/numpy.column_stack.html\n",
    "z = np.column_stack(np.split(x,3))\n",
    "print(z)"
   ]
  },
  {
   "cell_type": "markdown",
   "metadata": {
    "colab_type": "text",
    "id": "EZu5idmESvb3"
   },
   "source": [
    "#### Ejercicio 2\n",
    "\n",
    "Generate a 10 x 3 array of random numbers (in range [0,1]). For each row, pick the number closest to 0.5.\n",
    "     \n",
    "Hints: \n",
    "\n",
    "- Use abs and argsort to find the column j closest for each row.\n",
    "-  Use fancy indexing to extract the numbers."
   ]
  },
  {
   "cell_type": "code",
   "execution_count": 0,
   "metadata": {
    "colab": {
     "base_uri": "https://localhost:8080/",
     "height": 201
    },
    "colab_type": "code",
    "executionInfo": {
     "elapsed": 568,
     "status": "ok",
     "timestamp": 1542724117645,
     "user": {
      "displayName": "Gerardo de Miguel",
      "photoUrl": "https://lh3.googleusercontent.com/-LmFLfSn0ThU/AAAAAAAAAAI/AAAAAAAAAkg/xGe-_jxkcZA/s64/photo.jpg",
      "userId": "12735548512534412210"
     },
     "user_tz": -60
    },
    "id": "Q8oic6iSeeLC",
    "outputId": "7b1d30de-91c4-4066-a491-89a01cc7c7b8"
   },
   "outputs": [
    {
     "data": {
      "text/plain": [
       "array([[4.17022005e-01, 7.20324493e-01, 1.14374817e-04],\n",
       "       [3.02332573e-01, 1.46755891e-01, 9.23385948e-02],\n",
       "       [1.86260211e-01, 3.45560727e-01, 3.96767474e-01],\n",
       "       [5.38816734e-01, 4.19194514e-01, 6.85219500e-01],\n",
       "       [2.04452250e-01, 8.78117436e-01, 2.73875932e-02],\n",
       "       [6.70467510e-01, 4.17304802e-01, 5.58689828e-01],\n",
       "       [1.40386939e-01, 1.98101489e-01, 8.00744569e-01],\n",
       "       [9.68261576e-01, 3.13424178e-01, 6.92322616e-01],\n",
       "       [8.76389152e-01, 8.94606664e-01, 8.50442114e-02],\n",
       "       [3.90547832e-02, 1.69830420e-01, 8.78142503e-01]])"
      ]
     },
     "execution_count": 3,
     "metadata": {
      "tags": []
     },
     "output_type": "execute_result"
    }
   ],
   "source": [
    "np.random.seed(1)\n",
    "r = np.random.rand(30).reshape(10,3)"
   ]
  },
  {
   "cell_type": "code",
   "execution_count": 0,
   "metadata": {
    "colab": {},
    "colab_type": "code",
    "id": "EHcFCwUTS_0P"
   },
   "outputs": [],
   "source": [
    ""
   ]
  }
 ],
 "metadata": {
  "colab": {
   "collapsed_sections": [],
   "name": "m1967-numpy-gerardo-de-miguel-gonzalez-d4-2.ipynb",
   "provenance": [],
   "version": "0.3.2"
  },
  "kernelspec": {
   "display_name": "Python 3",
   "name": "python3"
  }
 },
 "nbformat": 4,
 "nbformat_minor": 0
}
