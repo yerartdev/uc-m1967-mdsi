{
 "cells": [
  {
   "cell_type": "markdown",
   "metadata": {
    "colab_type": "text",
    "id": "Hi7qAIj4QqwU"
   },
   "source": [
    "# Gerardo de Miguel González\n",
    "\n",
    "## M1967: NumPy: creating and manipulating numerical data"
   ]
  },
  {
   "cell_type": "markdown",
   "metadata": {
    "colab_type": "text",
    "id": "dcf_zJi1Q4Fj"
   },
   "source": [
    "### Ejercicios Seguimiento Numpy II\n",
    "\n",
    "Crea un Jupyter Notebook con cada ejercicio en su propia sección."
   ]
  },
  {
   "cell_type": "code",
   "execution_count": 0,
   "metadata": {
    "colab": {},
    "colab_type": "code",
    "id": "8ebiGjk5Q7sD"
   },
   "outputs": [],
   "source": [
    "import numpy as np"
   ]
  },
  {
   "cell_type": "markdown",
   "metadata": {
    "colab_type": "text",
    "id": "rJF3pVLURFti"
   },
   "source": [
    "#### Ejercicio 1\n",
    "\n",
    " Form the 2-D array (without typing it in explicitly):\n",
    " \n",
    "<pre> [[1,  6, 11], \n",
    " [2,  7, 12], \n",
    " [3,  8, 13],\n",
    " [4,  9, 14],\n",
    " [5, 10, 15]]</pre>\n",
    " \n",
    " and generate a new array containing its 2nd and 4th rows."
   ]
  },
  {
   "cell_type": "code",
   "execution_count": 0,
   "metadata": {
    "colab": {},
    "colab_type": "code",
    "id": "MmK-hNcDQj1j"
   },
   "outputs": [],
   "source": []
  },
  {
   "cell_type": "markdown",
   "metadata": {
    "colab_type": "text",
    "id": "EZu5idmESvb3"
   },
   "source": [
    "#### Ejercicio 2\n",
    "\n",
    "Generate a 10 x 3 array of random numbers (in range [0,1]). For each row, pick the number closest to 0.5.\n",
    "     \n",
    "Hints: \n",
    "\n",
    "- Use abs and argsort to find the column j closest for each row.\n",
    "-  Use fancy indexing to extract the numbers."
   ]
  },
  {
   "cell_type": "code",
   "execution_count": 0,
   "metadata": {
    "colab": {},
    "colab_type": "code",
    "id": "EHcFCwUTS_0P"
   },
   "outputs": [],
   "source": []
  }
 ],
 "metadata": {
  "colab": {
   "collapsed_sections": [],
   "name": "m1967-numpy-gerardo-de-miguel-gonzalez-d4-2.ipynb",
   "provenance": [],
   "version": "0.3.2"
  },
  "kernelspec": {
   "display_name": "Python 3",
   "language": "python",
   "name": "python3"
  },
  "language_info": {
   "codemirror_mode": {
    "name": "ipython",
    "version": 3
   },
   "file_extension": ".py",
   "mimetype": "text/x-python",
   "name": "python",
   "nbconvert_exporter": "python",
   "pygments_lexer": "ipython3",
   "version": "3.6.5"
  }
 },
 "nbformat": 4,
 "nbformat_minor": 1
}
