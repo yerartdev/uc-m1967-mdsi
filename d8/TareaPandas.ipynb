{
 "cells": [
  {
   "cell_type": "markdown",
   "metadata": {
    "colab_type": "text",
    "id": "j1Va7PsCPQ-Y"
   },
   "source": [
    "# Alumno: Gerardo de Miguel González"
   ]
  },
  {
   "cell_type": "markdown",
   "metadata": {
    "colab_type": "text",
    "id": "jKrgm3nPWkPs"
   },
   "source": [
    "## Núcleos de  Población"
   ]
  },
  {
   "cell_type": "markdown",
   "metadata": {
    "colab_type": "text",
    "id": "M7vSFF7jPQ-Y"
   },
   "source": [
    "### Archivo CSV\n",
    "\n",
    "Descargue el fichero núcleos de población. Usando PANDAS, contestar en el notebook, a las siguientes preguntas:"
   ]
  },
  {
   "cell_type": "code",
   "execution_count": 0,
   "metadata": {
    "colab": {},
    "colab_type": "code",
    "id": "A-56raITPQ-a"
   },
   "outputs": [],
   "source": [
    "#::GMG::Importamos lo necesario para hacer la práctica\n",
    "import pandas as pd\n",
    "import numpy as np\n",
    "import matplotlib.pyplot as plt\n",
    "#import requests\n",
    "#import io"
   ]
  },
  {
   "cell_type": "code",
   "execution_count": 0,
   "metadata": {
    "colab": {},
    "colab_type": "code",
    "id": "GABd2d0CPQ-d"
   },
   "outputs": [],
   "source": [
    "#::GMG::Importamos un fichero csv y lo llamamos ndp (núcleos de población)\n",
    "# https://stackoverflow.com/questions/32400867/pandas-read-csv-from-url\n",
    "#ndp = pd.read_csv(\n",
    "#    io.StringIO(\n",
    "#        requests.get(\n",
    "#            'https://raw.githubusercontent.com/yerartdev/uc-m1967-mdsi/master/d8/Centroides_NucleosPoblacion.csv'\n",
    "#        ).content.decode('utf-8'))\n",
    "#)\n",
    "ndp = pd.read_csv(\n",
    "    'https://raw.githubusercontent.com/yerartdev/uc-m1967-mdsi/master/d8/Centroides_NucleosPoblacion.csv'\n",
    ")"
   ]
  },
  {
   "cell_type": "code",
   "execution_count": 0,
   "metadata": {
    "colab": {},
    "colab_type": "code",
    "id": "pNuOJYlhPQ-e"
   },
   "outputs": [],
   "source": [
    "#::GMG::Estudiamos la estructura de los datos que hemos importado\n",
    "indice=ndp.index\n",
    "columnas=ndp.columns\n",
    "valores=ndp.values"
   ]
  },
  {
   "cell_type": "code",
   "execution_count": 0,
   "metadata": {
    "colab": {
     "base_uri": "https://localhost:8080/",
     "height": 255
    },
    "colab_type": "code",
    "executionInfo": {
     "elapsed": 592,
     "status": "ok",
     "timestamp": 1543829520656,
     "user": {
      "displayName": "Gerardo de Miguel",
      "photoUrl": "https://lh3.googleusercontent.com/-LmFLfSn0ThU/AAAAAAAAAAI/AAAAAAAAAkg/xGe-_jxkcZA/s64/photo.jpg",
      "userId": "12735548512534412210"
     },
     "user_tz": -60
    },
    "id": "CCXITCSQPQ-h",
    "outputId": "f7a9ebfe-6330-408b-e922-d939ce81b38a"
   },
   "outputs": [
    {
     "name": "stdout",
     "output_type": "stream",
     "text": [
      "Indice: RangeIndex(start=0, stop=852, step=1) \n",
      "\n",
      "Columnas: Index(['FID', 'OBJECTID', 'Cod_INE', 'Texto', 'Poblacion', 'CodMun',\n",
      "       'Municipio', 'Cod_Provin', 'Provincia', 'X', 'Y'],\n",
      "      dtype='object') \n",
      "\n",
      "Valores: [[0 1 35002000101 ... 'Las Palmas' -15.446012264 27.9005418852]\n",
      " [1 2 35003000201 ... 'Las Palmas' -14.01330083 28.418966224200002]\n",
      " [2 3 35004000301 ... 'Las Palmas' -13.551451235 28.9606494152]\n",
      " ...\n",
      " [849 850 30030000126 ... 'Murcia' -1.130563853 37.9957145751]\n",
      " [850 851 45168000102 ... 'Toledo' -3.948363664 39.866698976100004]\n",
      " [851 852 12040000102 ... 'Castelló/Castellón' 0.012911354\n",
      "  39.973567825100005]]\n"
     ]
    }
   ],
   "source": [
    "print('Indice: {} \\n\\nColumnas: {} \\n\\nValores: {}'.format(indice, columnas, valores))"
   ]
  },
  {
   "cell_type": "code",
   "execution_count": 0,
   "metadata": {
    "colab": {},
    "colab_type": "code",
    "id": "YAwXstirPQ-l",
    "outputId": "a3dd36c1-14fb-4f57-cb13-18d839ff1a85"
   },
   "outputs": [
    {
     "data": {
      "text/html": [
       "<div>\n",
       "<style scoped>\n",
       "    .dataframe tbody tr th:only-of-type {\n",
       "        vertical-align: middle;\n",
       "    }\n",
       "\n",
       "    .dataframe tbody tr th {\n",
       "        vertical-align: top;\n",
       "    }\n",
       "\n",
       "    .dataframe thead th {\n",
       "        text-align: right;\n",
       "    }\n",
       "</style>\n",
       "<table border=\"1\" class=\"dataframe\">\n",
       "  <thead>\n",
       "    <tr style=\"text-align: right;\">\n",
       "      <th></th>\n",
       "      <th>FID</th>\n",
       "      <th>OBJECTID</th>\n",
       "      <th>Cod_INE</th>\n",
       "      <th>Texto</th>\n",
       "      <th>Poblacion</th>\n",
       "      <th>CodMun</th>\n",
       "      <th>Municipio</th>\n",
       "      <th>Cod_Provin</th>\n",
       "      <th>Provincia</th>\n",
       "      <th>X</th>\n",
       "      <th>Y</th>\n",
       "    </tr>\n",
       "  </thead>\n",
       "  <tbody>\n",
       "    <tr>\n",
       "      <th>0</th>\n",
       "      <td>0</td>\n",
       "      <td>1</td>\n",
       "      <td>35002000101</td>\n",
       "      <td>Agüimes</td>\n",
       "      <td>29431.0</td>\n",
       "      <td>35002</td>\n",
       "      <td>Agüimes</td>\n",
       "      <td>35</td>\n",
       "      <td>Las Palmas</td>\n",
       "      <td>-15.446012</td>\n",
       "      <td>27.900542</td>\n",
       "    </tr>\n",
       "    <tr>\n",
       "      <th>1</th>\n",
       "      <td>1</td>\n",
       "      <td>2</td>\n",
       "      <td>35003000201</td>\n",
       "      <td>Antigua</td>\n",
       "      <td>10458.0</td>\n",
       "      <td>35003</td>\n",
       "      <td>Antigua</td>\n",
       "      <td>35</td>\n",
       "      <td>Las Palmas</td>\n",
       "      <td>-14.013301</td>\n",
       "      <td>28.418966</td>\n",
       "    </tr>\n",
       "    <tr>\n",
       "      <th>2</th>\n",
       "      <td>2</td>\n",
       "      <td>3</td>\n",
       "      <td>35004000301</td>\n",
       "      <td>Arrecife</td>\n",
       "      <td>58156.0</td>\n",
       "      <td>35004</td>\n",
       "      <td>Arrecife</td>\n",
       "      <td>35</td>\n",
       "      <td>Las Palmas</td>\n",
       "      <td>-13.551451</td>\n",
       "      <td>28.960649</td>\n",
       "    </tr>\n",
       "    <tr>\n",
       "      <th>3</th>\n",
       "      <td>3</td>\n",
       "      <td>4</td>\n",
       "      <td>35006000202</td>\n",
       "      <td>Arucas</td>\n",
       "      <td>36745.0</td>\n",
       "      <td>35006</td>\n",
       "      <td>Arucas</td>\n",
       "      <td>35</td>\n",
       "      <td>Las Palmas</td>\n",
       "      <td>-15.521512</td>\n",
       "      <td>28.117496</td>\n",
       "    </tr>\n",
       "    <tr>\n",
       "      <th>4</th>\n",
       "      <td>4</td>\n",
       "      <td>5</td>\n",
       "      <td>35009000303</td>\n",
       "      <td>Gáldar</td>\n",
       "      <td>24473.0</td>\n",
       "      <td>35009</td>\n",
       "      <td>Gáldar</td>\n",
       "      <td>35</td>\n",
       "      <td>Las Palmas</td>\n",
       "      <td>-15.654111</td>\n",
       "      <td>28.143873</td>\n",
       "    </tr>\n",
       "  </tbody>\n",
       "</table>\n",
       "</div>"
      ],
      "text/plain": [
       "   FID  OBJECTID      Cod_INE     Texto  Poblacion  CodMun Municipio  \\\n",
       "0    0         1  35002000101   Agüimes    29431.0   35002   Agüimes   \n",
       "1    1         2  35003000201   Antigua    10458.0   35003   Antigua   \n",
       "2    2         3  35004000301  Arrecife    58156.0   35004  Arrecife   \n",
       "3    3         4  35006000202    Arucas    36745.0   35006    Arucas   \n",
       "4    4         5  35009000303    Gáldar    24473.0   35009    Gáldar   \n",
       "\n",
       "   Cod_Provin   Provincia          X          Y  \n",
       "0          35  Las Palmas -15.446012  27.900542  \n",
       "1          35  Las Palmas -14.013301  28.418966  \n",
       "2          35  Las Palmas -13.551451  28.960649  \n",
       "3          35  Las Palmas -15.521512  28.117496  \n",
       "4          35  Las Palmas -15.654111  28.143873  "
      ]
     },
     "execution_count": 8,
     "metadata": {
      "tags": []
     },
     "output_type": "execute_result"
    }
   ],
   "source": [
    "ndp.head()"
   ]
  },
  {
   "cell_type": "code",
   "execution_count": 0,
   "metadata": {
    "colab": {
     "base_uri": "https://localhost:8080/",
     "height": 309
    },
    "colab_type": "code",
    "executionInfo": {
     "elapsed": 556,
     "status": "ok",
     "timestamp": 1543836256259,
     "user": {
      "displayName": "Gerardo de Miguel",
      "photoUrl": "https://lh3.googleusercontent.com/-LmFLfSn0ThU/AAAAAAAAAAI/AAAAAAAAAkg/xGe-_jxkcZA/s64/photo.jpg",
      "userId": "12735548512534412210"
     },
     "user_tz": -60
    },
    "id": "vI0CVrujPQ-o",
    "outputId": "a7b148a4-f605-47f8-9011-cb44ac02229f"
   },
   "outputs": [
    {
     "data": {
      "text/html": [
       "<div>\n",
       "<style scoped>\n",
       "    .dataframe tbody tr th:only-of-type {\n",
       "        vertical-align: middle;\n",
       "    }\n",
       "\n",
       "    .dataframe tbody tr th {\n",
       "        vertical-align: top;\n",
       "    }\n",
       "\n",
       "    .dataframe thead th {\n",
       "        text-align: right;\n",
       "    }\n",
       "</style>\n",
       "<table border=\"1\" class=\"dataframe\">\n",
       "  <thead>\n",
       "    <tr style=\"text-align: right;\">\n",
       "      <th></th>\n",
       "      <th>FID</th>\n",
       "      <th>OBJECTID</th>\n",
       "      <th>Cod_INE</th>\n",
       "      <th>Poblacion</th>\n",
       "      <th>Habitantes</th>\n",
       "      <th>CodMun</th>\n",
       "      <th>Municipio</th>\n",
       "      <th>Cod_Provin</th>\n",
       "      <th>Provincia</th>\n",
       "      <th>X</th>\n",
       "      <th>Y</th>\n",
       "    </tr>\n",
       "  </thead>\n",
       "  <tbody>\n",
       "    <tr>\n",
       "      <th>0</th>\n",
       "      <td>0</td>\n",
       "      <td>1</td>\n",
       "      <td>35002000101</td>\n",
       "      <td>Agüimes</td>\n",
       "      <td>29431.0</td>\n",
       "      <td>35002</td>\n",
       "      <td>Agüimes</td>\n",
       "      <td>35</td>\n",
       "      <td>Las Palmas</td>\n",
       "      <td>-15.446012</td>\n",
       "      <td>27.900542</td>\n",
       "    </tr>\n",
       "    <tr>\n",
       "      <th>1</th>\n",
       "      <td>1</td>\n",
       "      <td>2</td>\n",
       "      <td>35003000201</td>\n",
       "      <td>Antigua</td>\n",
       "      <td>10458.0</td>\n",
       "      <td>35003</td>\n",
       "      <td>Antigua</td>\n",
       "      <td>35</td>\n",
       "      <td>Las Palmas</td>\n",
       "      <td>-14.013301</td>\n",
       "      <td>28.418966</td>\n",
       "    </tr>\n",
       "    <tr>\n",
       "      <th>2</th>\n",
       "      <td>2</td>\n",
       "      <td>3</td>\n",
       "      <td>35004000301</td>\n",
       "      <td>Arrecife</td>\n",
       "      <td>58156.0</td>\n",
       "      <td>35004</td>\n",
       "      <td>Arrecife</td>\n",
       "      <td>35</td>\n",
       "      <td>Las Palmas</td>\n",
       "      <td>-13.551451</td>\n",
       "      <td>28.960649</td>\n",
       "    </tr>\n",
       "    <tr>\n",
       "      <th>3</th>\n",
       "      <td>3</td>\n",
       "      <td>4</td>\n",
       "      <td>35006000202</td>\n",
       "      <td>Arucas</td>\n",
       "      <td>36745.0</td>\n",
       "      <td>35006</td>\n",
       "      <td>Arucas</td>\n",
       "      <td>35</td>\n",
       "      <td>Las Palmas</td>\n",
       "      <td>-15.521512</td>\n",
       "      <td>28.117496</td>\n",
       "    </tr>\n",
       "    <tr>\n",
       "      <th>4</th>\n",
       "      <td>4</td>\n",
       "      <td>5</td>\n",
       "      <td>35009000303</td>\n",
       "      <td>Gáldar</td>\n",
       "      <td>24473.0</td>\n",
       "      <td>35009</td>\n",
       "      <td>Gáldar</td>\n",
       "      <td>35</td>\n",
       "      <td>Las Palmas</td>\n",
       "      <td>-15.654111</td>\n",
       "      <td>28.143873</td>\n",
       "    </tr>\n",
       "  </tbody>\n",
       "</table>\n",
       "</div>"
      ],
      "text/plain": [
       "   FID  OBJECTID      Cod_INE Poblacion  Habitantes  CodMun Municipio  \\\n",
       "0    0         1  35002000101   Agüimes     29431.0   35002   Agüimes   \n",
       "1    1         2  35003000201   Antigua     10458.0   35003   Antigua   \n",
       "2    2         3  35004000301  Arrecife     58156.0   35004  Arrecife   \n",
       "3    3         4  35006000202    Arucas     36745.0   35006    Arucas   \n",
       "4    4         5  35009000303    Gáldar     24473.0   35009    Gáldar   \n",
       "\n",
       "   Cod_Provin   Provincia          X          Y  \n",
       "0          35  Las Palmas -15.446012  27.900542  \n",
       "1          35  Las Palmas -14.013301  28.418966  \n",
       "2          35  Las Palmas -13.551451  28.960649  \n",
       "3          35  Las Palmas -15.521512  28.117496  \n",
       "4          35  Las Palmas -15.654111  28.143873  "
      ]
     },
     "execution_count": 22,
     "metadata": {
      "tags": []
     },
     "output_type": "execute_result"
    }
   ],
   "source": [
    "#::GMG::Hay dos columnas que resultan equívocas en el dataset: Texto y Población\n",
    "#       Voy a cambiarlas por Población y Habitantes :)\n",
    "#       https://stackoverflow.com/questions/11346283/renaming-columns-in-pandas\n",
    "ndp = ndp.rename(columns={'Poblacion': 'Habitantes', 'Texto': 'Poblacion'})\n",
    "ndp.head()"
   ]
  },
  {
   "cell_type": "markdown",
   "metadata": {
    "colab_type": "text",
    "id": "udWHOiRcPQ-q"
   },
   "source": [
    "###  **Ejercicio 1** \n"
   ]
  },
  {
   "cell_type": "markdown",
   "metadata": {
    "colab_type": "text",
    "id": "-yhOmwFZW-jy"
   },
   "source": [
    "- ¿Cuántos Municipios tienen más de 100000 habitantes? "
   ]
  },
  {
   "cell_type": "code",
   "execution_count": 0,
   "metadata": {
    "colab": {},
    "colab_type": "code",
    "id": "bpM_88H1PQ-r",
    "outputId": "ed6dfe45-f20b-401a-807d-f92ebecb1e02"
   },
   "outputs": [
    {
     "name": "stdout",
     "output_type": "stream",
     "text": [
      "Hay 62 poblaciones con más de 100k habitantes.\n"
     ]
    }
   ],
   "source": [
    "#::GMG::Usamos fancy indexing para seleccionar las poblaciones\n",
    "#mas_de_100k = ndp.loc[:,['Poblacion','Habitantes']]\n",
    "mas_de_100k = ndp[ndp.Habitantes > 100000].loc[:,['Poblacion']]\n",
    "#type(mas_de_100k)\n",
    "print('Hay {} poblaciones con más de 100k habitantes.'.format(len(mas_de_100k['Poblacion'])))\n",
    "#::GMG::Pero esto NO es lo que nos piden ... \n",
    "#       lo que hemos hecho es calcular las poblaciones de más de 100k habitantes (!!)"
   ]
  },
  {
   "cell_type": "code",
   "execution_count": 0,
   "metadata": {
    "colab": {},
    "colab_type": "code",
    "id": "MiM8eE4yPQ-t",
    "outputId": "ae401992-273a-431b-c395-cb1f8d905d8e"
   },
   "outputs": [
    {
     "name": "stdout",
     "output_type": "stream",
     "text": [
      "Hay 75 municipios con más de 100k habitantes.\n"
     ]
    }
   ],
   "source": [
    "#::GMG::Lo que hay que hacer agrupar por municipios las poblaciones (!!)\n",
    "habitantes_municipios = ndp[['Municipio','Habitantes']].groupby('Municipio').sum()\n",
    "print('Hay {} municipios con más de 100k habitantes.'\n",
    "      .format(\n",
    "          len(habitantes_municipios[habitantes_municipios.Habitantes > 100000])\n",
    "      )\n",
    "     )"
   ]
  },
  {
   "cell_type": "markdown",
   "metadata": {
    "colab_type": "text",
    "id": "H3S-uHG2d9ph"
   },
   "source": [
    "- ¿Cuál es la segunda ciudad más poblada?"
   ]
  },
  {
   "cell_type": "code",
   "execution_count": 0,
   "metadata": {
    "colab": {},
    "colab_type": "code",
    "id": "Wr-7N2DmPQ-v",
    "outputId": "329e5c1d-99b4-4a9a-a6cf-5161bfbd1acf"
   },
   "outputs": [
    {
     "name": "stdout",
     "output_type": "stream",
     "text": [
      "La segunda ciudad más poblada es: \n",
      "\n",
      "Poblacion       Barcelona\n",
      "Habitantes    1.61934e+06\n",
      "Name: 623, dtype: object\n"
     ]
    }
   ],
   "source": [
    "#::GMG::Para obtener la segunda ciudad más poblada tenemos que obtener la lista ordenada de\n",
    "#       menor a  mayor de Poblaciones y Habitantes y seleccionar el segundo elemento por la cola\n",
    "#       de esa lista\n",
    "#ndp.sort_values('Habitantes').iloc[-2]\n",
    "print('La segunda ciudad más poblada es: \\n\\n{}'\n",
    "      .format(\n",
    "          ndp[['Poblacion','Habitantes']].sort_values('Habitantes').iloc[-2]\n",
    "      )\n",
    "     )"
   ]
  },
  {
   "cell_type": "markdown",
   "metadata": {
    "colab_type": "text",
    "id": "-KrK8GJPeCaY"
   },
   "source": [
    "- ¿Qué posición ocupa Granada en el ranking de las más pobladas?"
   ]
  },
  {
   "cell_type": "code",
   "execution_count": 0,
   "metadata": {
    "colab": {
     "base_uri": "https://localhost:8080/",
     "height": 607
    },
    "colab_type": "code",
    "executionInfo": {
     "elapsed": 624,
     "status": "ok",
     "timestamp": 1543836632361,
     "user": {
      "displayName": "Gerardo de Miguel",
      "photoUrl": "https://lh3.googleusercontent.com/-LmFLfSn0ThU/AAAAAAAAAAI/AAAAAAAAAkg/xGe-_jxkcZA/s64/photo.jpg",
      "userId": "12735548512534412210"
     },
     "user_tz": -60
    },
    "id": "m3jmb87vPQ-y",
    "outputId": "37891317-82c1-47e4-9cc3-c29f0b4b5eef"
   },
   "outputs": [
    {
     "data": {
      "text/html": [
       "<div>\n",
       "<style scoped>\n",
       "    .dataframe tbody tr th:only-of-type {\n",
       "        vertical-align: middle;\n",
       "    }\n",
       "\n",
       "    .dataframe tbody tr th {\n",
       "        vertical-align: top;\n",
       "    }\n",
       "\n",
       "    .dataframe thead th {\n",
       "        text-align: right;\n",
       "    }\n",
       "</style>\n",
       "<table border=\"1\" class=\"dataframe\">\n",
       "  <thead>\n",
       "    <tr style=\"text-align: right;\">\n",
       "      <th></th>\n",
       "      <th>Poblacion</th>\n",
       "      <th>Habitantes</th>\n",
       "    </tr>\n",
       "  </thead>\n",
       "  <tbody>\n",
       "    <tr>\n",
       "      <th>355</th>\n",
       "      <td>Madrid</td>\n",
       "      <td>3273049.0</td>\n",
       "    </tr>\n",
       "    <tr>\n",
       "      <th>623</th>\n",
       "      <td>Barcelona</td>\n",
       "      <td>1619337.0</td>\n",
       "    </tr>\n",
       "    <tr>\n",
       "      <th>561</th>\n",
       "      <td>Valencia</td>\n",
       "      <td>809267.0</td>\n",
       "    </tr>\n",
       "    <tr>\n",
       "      <th>492</th>\n",
       "      <td>Sevilla</td>\n",
       "      <td>704198.0</td>\n",
       "    </tr>\n",
       "    <tr>\n",
       "      <th>591</th>\n",
       "      <td>Zaragoza</td>\n",
       "      <td>675121.0</td>\n",
       "    </tr>\n",
       "    <tr>\n",
       "      <th>391</th>\n",
       "      <td>Málaga</td>\n",
       "      <td>568507.0</td>\n",
       "    </tr>\n",
       "    <tr>\n",
       "      <th>420</th>\n",
       "      <td>Murcia</td>\n",
       "      <td>441345.0</td>\n",
       "    </tr>\n",
       "    <tr>\n",
       "      <th>610</th>\n",
       "      <td>Palma</td>\n",
       "      <td>404681.0</td>\n",
       "    </tr>\n",
       "    <tr>\n",
       "      <th>9</th>\n",
       "      <td>Las Palmas de Gran Canaria</td>\n",
       "      <td>383308.0</td>\n",
       "    </tr>\n",
       "    <tr>\n",
       "      <th>571</th>\n",
       "      <td>Bilbao</td>\n",
       "      <td>353187.0</td>\n",
       "    </tr>\n",
       "    <tr>\n",
       "      <th>160</th>\n",
       "      <td>Alacant/Alicante</td>\n",
       "      <td>334418.0</td>\n",
       "    </tr>\n",
       "    <tr>\n",
       "      <th>254</th>\n",
       "      <td>Córdoba</td>\n",
       "      <td>328547.0</td>\n",
       "    </tr>\n",
       "    <tr>\n",
       "      <th>565</th>\n",
       "      <td>Valladolid</td>\n",
       "      <td>315522.0</td>\n",
       "    </tr>\n",
       "    <tr>\n",
       "      <th>135</th>\n",
       "      <td>Vigo</td>\n",
       "      <td>297124.0</td>\n",
       "    </tr>\n",
       "    <tr>\n",
       "      <th>446</th>\n",
       "      <td>Gijón/Xixón</td>\n",
       "      <td>277198.0</td>\n",
       "    </tr>\n",
       "    <tr>\n",
       "      <th>642</th>\n",
       "      <td>L'Hospitalet de Llobregat</td>\n",
       "      <td>258642.0</td>\n",
       "    </tr>\n",
       "    <tr>\n",
       "      <th>67</th>\n",
       "      <td>A Coruña</td>\n",
       "      <td>246047.0</td>\n",
       "    </tr>\n",
       "    <tr>\n",
       "      <th>272</th>\n",
       "      <td>Granada</td>\n",
       "      <td>239154.0</td>\n",
       "    </tr>\n",
       "  </tbody>\n",
       "</table>\n",
       "</div>"
      ],
      "text/plain": [
       "                      Poblacion  Habitantes\n",
       "355                      Madrid   3273049.0\n",
       "623                   Barcelona   1619337.0\n",
       "561                    Valencia    809267.0\n",
       "492                     Sevilla    704198.0\n",
       "591                    Zaragoza    675121.0\n",
       "391                      Málaga    568507.0\n",
       "420                      Murcia    441345.0\n",
       "610                       Palma    404681.0\n",
       "9    Las Palmas de Gran Canaria    383308.0\n",
       "571                      Bilbao    353187.0\n",
       "160            Alacant/Alicante    334418.0\n",
       "254                     Córdoba    328547.0\n",
       "565                  Valladolid    315522.0\n",
       "135                        Vigo    297124.0\n",
       "446                 Gijón/Xixón    277198.0\n",
       "642   L'Hospitalet de Llobregat    258642.0\n",
       "67                     A Coruña    246047.0\n",
       "272                     Granada    239154.0"
      ]
     },
     "execution_count": 29,
     "metadata": {
      "tags": []
     },
     "output_type": "execute_result"
    }
   ],
   "source": [
    "#::GMG::Podemos sacar una lista ordenada hasta la posición de Granada \n",
    "mas_pobladas = ndp.sort_values(by='Habitantes', ascending=False)[['Poblacion','Habitantes']]\n",
    "mas_pobladas.head(18)\n",
    "#::nota::vemos que granada está en la posición \"18\""
   ]
  },
  {
   "cell_type": "code",
   "execution_count": 0,
   "metadata": {
    "colab": {
     "base_uri": "https://localhost:8080/",
     "height": 80
    },
    "colab_type": "code",
    "executionInfo": {
     "elapsed": 601,
     "status": "ok",
     "timestamp": 1543836269620,
     "user": {
      "displayName": "Gerardo de Miguel",
      "photoUrl": "https://lh3.googleusercontent.com/-LmFLfSn0ThU/AAAAAAAAAAI/AAAAAAAAAkg/xGe-_jxkcZA/s64/photo.jpg",
      "userId": "12735548512534412210"
     },
     "user_tz": -60
    },
    "id": "JuDWHEvqxhlt",
    "outputId": "7f9fdbd3-b582-402a-8b74-1a5ada0072df"
   },
   "outputs": [
    {
     "data": {
      "text/html": [
       "<div>\n",
       "<style scoped>\n",
       "    .dataframe tbody tr th:only-of-type {\n",
       "        vertical-align: middle;\n",
       "    }\n",
       "\n",
       "    .dataframe tbody tr th {\n",
       "        vertical-align: top;\n",
       "    }\n",
       "\n",
       "    .dataframe thead th {\n",
       "        text-align: right;\n",
       "    }\n",
       "</style>\n",
       "<table border=\"1\" class=\"dataframe\">\n",
       "  <thead>\n",
       "    <tr style=\"text-align: right;\">\n",
       "      <th></th>\n",
       "      <th>Poblacion</th>\n",
       "      <th>Habitantes</th>\n",
       "    </tr>\n",
       "  </thead>\n",
       "  <tbody>\n",
       "    <tr>\n",
       "      <th>272</th>\n",
       "      <td>Granada</td>\n",
       "      <td>239154.0</td>\n",
       "    </tr>\n",
       "  </tbody>\n",
       "</table>\n",
       "</div>"
      ],
      "text/plain": [
       "    Poblacion  Habitantes\n",
       "272   Granada    239154.0"
      ]
     },
     "execution_count": 24,
     "metadata": {
      "tags": []
     },
     "output_type": "execute_result"
    }
   ],
   "source": [
    "#::GMG::Podemos localizar fácilmente Granada dentro del Dataframe de poblaciones\n",
    "#       ordenadas por número de habitantes.\n",
    "#       Vemos que \"Granada\" tiene un índice 272 en el Dataframe original\n",
    "mas_pobladas.loc[mas_pobladas['Poblacion'] == 'Granada']"
   ]
  },
  {
   "cell_type": "code",
   "execution_count": 0,
   "metadata": {
    "colab": {
     "base_uri": "https://localhost:8080/",
     "height": 34
    },
    "colab_type": "code",
    "executionInfo": {
     "elapsed": 800,
     "status": "ok",
     "timestamp": 1543837588539,
     "user": {
      "displayName": "Gerardo de Miguel",
      "photoUrl": "https://lh3.googleusercontent.com/-LmFLfSn0ThU/AAAAAAAAAAI/AAAAAAAAAkg/xGe-_jxkcZA/s64/photo.jpg",
      "userId": "12735548512534412210"
     },
     "user_tz": -60
    },
    "id": "JZeW1k7q4i_c",
    "outputId": "7d62dba0-0577-4138-e3a4-331ccf43444a"
   },
   "outputs": [
    {
     "data": {
      "text/plain": [
       "272"
      ]
     },
     "execution_count": 35,
     "metadata": {
      "tags": []
     },
     "output_type": "execute_result"
    }
   ],
   "source": [
    "#::GMG::Para obtener el index label\n",
    "# https://stackoverflow.com/questions/21800169/python-pandas-get-index-of-rows-which-column-matches-certain-value\n",
    "mas_pobladas.index[mas_pobladas['Poblacion'] == 'Granada'].tolist()[0]"
   ]
  },
  {
   "cell_type": "code",
   "execution_count": 0,
   "metadata": {
    "colab": {
     "base_uri": "https://localhost:8080/",
     "height": 85
    },
    "colab_type": "code",
    "executionInfo": {
     "elapsed": 666,
     "status": "ok",
     "timestamp": 1543837106147,
     "user": {
      "displayName": "Gerardo de Miguel",
      "photoUrl": "https://lh3.googleusercontent.com/-LmFLfSn0ThU/AAAAAAAAAAI/AAAAAAAAAkg/xGe-_jxkcZA/s64/photo.jpg",
      "userId": "12735548512534412210"
     },
     "user_tz": -60
    },
    "id": "wDrWzHWa0U4z",
    "outputId": "02018cd0-ca93-4975-bb6d-d0d55f80f996"
   },
   "outputs": [
    {
     "data": {
      "text/plain": [
       "Int64Index([355, 623, 561, 492, 591, 391, 420, 610,   9, 571,\n",
       "            ...\n",
       "            756, 841, 193, 503,  97, 525, 746, 168, 115, 307],\n",
       "           dtype='int64', length=852)"
      ]
     },
     "execution_count": 30,
     "metadata": {
      "tags": []
     },
     "output_type": "execute_result"
    }
   ],
   "source": [
    "#::GMG::La pregunta que tenemos que hacernos es, ¿podemos obtener la posición\n",
    "#       del índice de Granada dentro de los índices del nuevo Dataframe de\n",
    "#       poblaciones ordenadas?\n",
    "#       Este es el índice del que estamos hablando\n",
    "mas_pobladas.index"
   ]
  },
  {
   "cell_type": "code",
   "execution_count": 0,
   "metadata": {
    "colab": {
     "base_uri": "https://localhost:8080/",
     "height": 34
    },
    "colab_type": "code",
    "executionInfo": {
     "elapsed": 576,
     "status": "ok",
     "timestamp": 1543837647226,
     "user": {
      "displayName": "Gerardo de Miguel",
      "photoUrl": "https://lh3.googleusercontent.com/-LmFLfSn0ThU/AAAAAAAAAAI/AAAAAAAAAkg/xGe-_jxkcZA/s64/photo.jpg",
      "userId": "12735548512534412210"
     },
     "user_tz": -60
    },
    "id": "lyO8kwQw3My3",
    "outputId": "0be4f0b7-0775-4824-8077-ed1f20b01e8d"
   },
   "outputs": [
    {
     "data": {
      "text/plain": [
       "17"
      ]
     },
     "execution_count": 36,
     "metadata": {
      "tags": []
     },
     "output_type": "execute_result"
    }
   ],
   "source": [
    "#::GMG::Existe un método en pandas que nos permite localizar un índice concreto\n",
    "# https://pandas.pydata.org/pandas-docs/stable/generated/pandas.Index.get_loc.html\n",
    "#\n",
    "# ¿Cuál es la posición del índice de Granada?\n",
    "# \n",
    "mas_pobladas.index.get_loc(\n",
    "    mas_pobladas.index[mas_pobladas['Poblacion'] == 'Granada'].tolist()[0])"
   ]
  },
  {
   "cell_type": "code",
   "execution_count": 0,
   "metadata": {
    "colab": {
     "base_uri": "https://localhost:8080/",
     "height": 34
    },
    "colab_type": "code",
    "executionInfo": {
     "elapsed": 716,
     "status": "ok",
     "timestamp": 1543837771829,
     "user": {
      "displayName": "Gerardo de Miguel",
      "photoUrl": "https://lh3.googleusercontent.com/-LmFLfSn0ThU/AAAAAAAAAAI/AAAAAAAAAkg/xGe-_jxkcZA/s64/photo.jpg",
      "userId": "12735548512534412210"
     },
     "user_tz": -60
    },
    "id": "hTQdGUVm3_q9",
    "outputId": "170d2bfd-952e-4482-fdcc-f9094d05dba8"
   },
   "outputs": [
    {
     "name": "stdout",
     "output_type": "stream",
     "text": [
      "Granada está en la posición 18 de la lista de las más pobladas\n"
     ]
    }
   ],
   "source": [
    "#::GMG::Solamente tenemos que recordar que en Python los índices empiezan por 0\n",
    "#       por lo que la posición es índice + 1\n",
    "print('Granada está en la posición {} de la lista de las más pobladas'\n",
    "      .format(\n",
    "          mas_pobladas.index.get_loc(\n",
    "    mas_pobladas.index[mas_pobladas['Poblacion'] == 'Granada'].tolist()[0]) + 1\n",
    "      )\n",
    "     )"
   ]
  },
  {
   "cell_type": "markdown",
   "metadata": {
    "colab_type": "text",
    "id": "njokXC44eSMB"
   },
   "source": [
    "### Ejercicio 2\n",
    "\n",
    "Escriba los nombres de los 10 municipios con menos población.\n"
   ]
  },
  {
   "cell_type": "markdown",
   "metadata": {
    "colab_type": "text",
    "id": "6TuMMfCfXTda"
   },
   "source": [
    "### Ejercicio 3\n",
    "\n",
    "¿Cuántos municipios de León tienen más de 6000 habitantes?.\n"
   ]
  },
  {
   "cell_type": "markdown",
   "metadata": {
    "colab_type": "text",
    "id": "P3kPn5GPXY5Z"
   },
   "source": [
    "### Ejercicio 4\n",
    "\n",
    "¿Cuál es el municipio situado más al Norte? (Usar el valor de la coordenada \"Y\" que representa la latitud en grados). Proporcione también la provincia a la que pertenece y su población.\n"
   ]
  },
  {
   "cell_type": "markdown",
   "metadata": {
    "colab_type": "text",
    "id": "HcFbnv1bXeph"
   },
   "source": [
    "### Ejercicio 5\n",
    "\n",
    "¿Cual es el municipio de la provincia de Cantabria situado más al Este?. ¿Cual es el situado más al Oeste?.\n"
   ]
  },
  {
   "cell_type": "markdown",
   "metadata": {
    "colab_type": "text",
    "id": "CgnnswGwXjHR"
   },
   "source": [
    "### Ejercicio 6\n",
    "\n",
    "Dígame los nombres de los Municipios más cercano y más lejano a Madrid. Para ello debe calcular la distancia en todos ellos y Madrid. Por supuesto, Madrid no cuenta.\n"
   ]
  },
  {
   "cell_type": "markdown",
   "metadata": {
    "colab_type": "text",
    "id": "KLgq9NxTXnTh"
   },
   "source": [
    "### Ejercicio 7\n",
    "\n",
    "¿Cuántos Municipios hay en un radio de 5 grados de la ciudad de Barcelona?.\n"
   ]
  },
  {
   "cell_type": "markdown",
   "metadata": {
    "colab_type": "text",
    "id": "kg9cKrj0Xq8Z"
   },
   "source": [
    "### Ejercicio 8\n",
    "\n",
    "Obtenga la media, mediana, desviación estándar, valor máximo y valor mínimo de la población de los municipios de la provincia de Cantabria.\n"
   ]
  },
  {
   "cell_type": "markdown",
   "metadata": {
    "colab_type": "text",
    "id": "LHkcst3KXvwq"
   },
   "source": [
    "### Ejercicio 9\n",
    "\n",
    "Usando los métodos de agregación, calcular las poblaciones de cada provincia.\n"
   ]
  },
  {
   "cell_type": "markdown",
   "metadata": {
    "colab_type": "text",
    "id": "fwNGG62rX1Ra"
   },
   "source": [
    "### Ejercicio 10\n",
    "\n",
    "Dibujar el valor de la población para las diferentes ciudades (usar las funciones vistas en MatPlotLib).\n",
    "\n"
   ]
  },
  {
   "cell_type": "markdown",
   "metadata": {
    "colab_type": "text",
    "id": "HoJXAslaX5Wa"
   },
   "source": [
    "### Ejercicio 11\n",
    "\n",
    "Hacer un gráfico equivalente pero para las diferentes provincias. Seleccionar un punto representativo de las ciudades incluidas en cada provincia."
   ]
  },
  {
   "cell_type": "markdown",
   "metadata": {
    "colab_type": "text",
    "id": "koRxR72JWzAH"
   },
   "source": [
    "## Series Temporales"
   ]
  },
  {
   "cell_type": "markdown",
   "metadata": {
    "colab_type": "text",
    "id": "_wOV_Yl_W2Vn"
   },
   "source": [
    "Los ficheros precip.csv y precip.stn contienen los datos de precipitación diaria de los años 2000-2010 para 86 estaciones meteorológicas distribuidas por Europa. Leer ambos ficheros utilizando las funciones correspondientes de PANDAS y realizar lo siguiente:"
   ]
  },
  {
   "cell_type": "markdown",
   "metadata": {
    "colab_type": "text",
    "id": "48sFBHVFYUt6"
   },
   "source": [
    "### Ejercicio 1\n",
    "\n",
    "Obtener y exportar en csv los datos asociados a las series mensuales, estacionales y anuales\n"
   ]
  },
  {
   "cell_type": "markdown",
   "metadata": {
    "colab_type": "text",
    "id": "SAof8n77YZnx"
   },
   "source": [
    "### Ejercicio 2\n",
    "\n",
    "Dibujar la serie temporal asociada al promedio espacial de los datos mensuales, estacionales y anuales.\n"
   ]
  },
  {
   "cell_type": "markdown",
   "metadata": {
    "colab_type": "text",
    "id": "TcPMsJ7dYcSi"
   },
   "source": [
    "### Ejercicio 3\n",
    "\n",
    "Dibujar la distribución espacial de las estaciones, así como los valores promedio y máximo.\n"
   ]
  },
  {
   "cell_type": "markdown",
   "metadata": {
    "colab_type": "text",
    "id": "eTSOMDwcYiVU"
   },
   "source": [
    "### Ejercicio 4\n",
    "\n",
    "Calcular la frecuencia de días con precipitaciones mayores (>) de 1 mm."
   ]
  }
 ],
 "metadata": {
  "colab": {
   "collapsed_sections": [
    "jKrgm3nPWkPs",
    "M7vSFF7jPQ-Y",
    "udWHOiRcPQ-q",
    "koRxR72JWzAH"
   ],
   "name": "TareaPandas.ipynb",
   "provenance": [],
   "version": "0.3.2"
  },
  "kernelspec": {
   "display_name": "Python 3",
   "language": "python",
   "name": "python3"
  }
 },
 "nbformat": 4,
 "nbformat_minor": 0
}
