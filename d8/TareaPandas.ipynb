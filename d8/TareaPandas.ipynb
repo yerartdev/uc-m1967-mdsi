{
 "cells": [
  {
   "cell_type": "markdown",
   "metadata": {
    "colab_type": "text",
    "id": "j1Va7PsCPQ-Y"
   },
   "source": [
    "# Alumno: Gerardo de Miguel González"
   ]
  },
  {
   "cell_type": "markdown",
   "metadata": {
    "colab_type": "text",
    "id": "jKrgm3nPWkPs"
   },
   "source": [
    "## Núcleos de  Población"
   ]
  },
  {
   "cell_type": "markdown",
   "metadata": {
    "colab_type": "text",
    "id": "M7vSFF7jPQ-Y"
   },
   "source": [
    "### Archivo CSV\n",
    "\n",
    "Descargue el fichero núcleos de población. Usando PANDAS, contestar en el notebook, a las siguientes preguntas:"
   ]
  },
  {
   "cell_type": "code",
   "execution_count": 0,
   "metadata": {
    "colab": {},
    "colab_type": "code",
    "id": "A-56raITPQ-a"
   },
   "outputs": [],
   "source": [
    "#::GMG::Importamos lo necesario para hacer la práctica\n",
    "import pandas as pd\n",
    "import numpy as np\n",
    "import matplotlib.pyplot as plt\n",
    "#import requests\n",
    "#import io"
   ]
  },
  {
   "cell_type": "code",
   "execution_count": 0,
   "metadata": {
    "colab": {},
    "colab_type": "code",
    "id": "GABd2d0CPQ-d"
   },
   "outputs": [],
   "source": [
    "#::GMG::Importamos un fichero csv y lo llamamos ndp (núcleos de población)\n",
    "# https://stackoverflow.com/questions/32400867/pandas-read-csv-from-url\n",
    "#ndp = pd.read_csv(\n",
    "#    io.StringIO(\n",
    "#        requests.get(\n",
    "#            'https://raw.githubusercontent.com/yerartdev/uc-m1967-mdsi/master/d8/Centroides_NucleosPoblacion.csv'\n",
    "#        ).content.decode('utf-8'))\n",
    "#)\n",
    "ndp = pd.read_csv(\n",
    "    'https://raw.githubusercontent.com/yerartdev/uc-m1967-mdsi/master/d8/Centroides_NucleosPoblacion.csv'\n",
    ")"
   ]
  },
  {
   "cell_type": "code",
   "execution_count": 0,
   "metadata": {
    "colab": {},
    "colab_type": "code",
    "id": "pNuOJYlhPQ-e"
   },
   "outputs": [],
   "source": [
    "#::GMG::Estudiamos la estructura de los datos que hemos importado\n",
    "indice=ndp.index\n",
    "columnas=ndp.columns\n",
    "valores=ndp.values"
   ]
  },
  {
   "cell_type": "code",
   "execution_count": 8,
   "metadata": {
    "colab": {
     "base_uri": "https://localhost:8080/",
     "height": 260
    },
    "colab_type": "code",
    "executionInfo": {
     "elapsed": 525,
     "status": "ok",
     "timestamp": 1544131206784,
     "user": {
      "displayName": "Gerardo de Miguel",
      "photoUrl": "https://lh3.googleusercontent.com/-LmFLfSn0ThU/AAAAAAAAAAI/AAAAAAAAAkg/xGe-_jxkcZA/s64/photo.jpg",
      "userId": "12735548512534412210"
     },
     "user_tz": -60
    },
    "id": "CCXITCSQPQ-h",
    "outputId": "59babcc9-c3f8-4e4f-fc4e-07e78b47be41"
   },
   "outputs": [
    {
     "name": "stdout",
     "output_type": "stream",
     "text": [
      "Indice: RangeIndex(start=0, stop=852, step=1) \n",
      "\n",
      "Columnas: Index(['FID', 'OBJECTID', 'Cod_INE', 'Texto', 'Poblacion', 'CodMun',\n",
      "       'Municipio', 'Cod_Provin', 'Provincia', 'X', 'Y'],\n",
      "      dtype='object') \n",
      "\n",
      "Valores: [[0 1 35002000101 ... 'Las Palmas' -15.446012264 27.9005418852]\n",
      " [1 2 35003000201 ... 'Las Palmas' -14.01330083 28.418966224200002]\n",
      " [2 3 35004000301 ... 'Las Palmas' -13.551451235 28.9606494152]\n",
      " ...\n",
      " [849 850 30030000126 ... 'Murcia' -1.130563853 37.9957145751]\n",
      " [850 851 45168000102 ... 'Toledo' -3.948363664 39.866698976100004]\n",
      " [851 852 12040000102 ... 'Castelló/Castellón' 0.012911354\n",
      "  39.973567825100005]]\n"
     ]
    }
   ],
   "source": [
    "print('Indice: {} \\n\\nColumnas: {} \\n\\nValores: {}'.format(indice, columnas, valores))"
   ]
  },
  {
   "cell_type": "code",
   "execution_count": 9,
   "metadata": {
    "colab": {
     "base_uri": "https://localhost:8080/",
     "height": 202
    },
    "colab_type": "code",
    "executionInfo": {
     "elapsed": 519,
     "status": "ok",
     "timestamp": 1544131216567,
     "user": {
      "displayName": "Gerardo de Miguel",
      "photoUrl": "https://lh3.googleusercontent.com/-LmFLfSn0ThU/AAAAAAAAAAI/AAAAAAAAAkg/xGe-_jxkcZA/s64/photo.jpg",
      "userId": "12735548512534412210"
     },
     "user_tz": -60
    },
    "id": "YAwXstirPQ-l",
    "outputId": "ccb12b53-353a-4139-b0d6-fa48d0d3bdc7"
   },
   "outputs": [
    {
     "data": {
      "text/html": [
       "<div>\n",
       "<style scoped>\n",
       "    .dataframe tbody tr th:only-of-type {\n",
       "        vertical-align: middle;\n",
       "    }\n",
       "\n",
       "    .dataframe tbody tr th {\n",
       "        vertical-align: top;\n",
       "    }\n",
       "\n",
       "    .dataframe thead th {\n",
       "        text-align: right;\n",
       "    }\n",
       "</style>\n",
       "<table border=\"1\" class=\"dataframe\">\n",
       "  <thead>\n",
       "    <tr style=\"text-align: right;\">\n",
       "      <th></th>\n",
       "      <th>FID</th>\n",
       "      <th>OBJECTID</th>\n",
       "      <th>Cod_INE</th>\n",
       "      <th>Texto</th>\n",
       "      <th>Poblacion</th>\n",
       "      <th>CodMun</th>\n",
       "      <th>Municipio</th>\n",
       "      <th>Cod_Provin</th>\n",
       "      <th>Provincia</th>\n",
       "      <th>X</th>\n",
       "      <th>Y</th>\n",
       "    </tr>\n",
       "  </thead>\n",
       "  <tbody>\n",
       "    <tr>\n",
       "      <th>0</th>\n",
       "      <td>0</td>\n",
       "      <td>1</td>\n",
       "      <td>35002000101</td>\n",
       "      <td>Agüimes</td>\n",
       "      <td>29431.0</td>\n",
       "      <td>35002</td>\n",
       "      <td>Agüimes</td>\n",
       "      <td>35</td>\n",
       "      <td>Las Palmas</td>\n",
       "      <td>-15.446012</td>\n",
       "      <td>27.900542</td>\n",
       "    </tr>\n",
       "    <tr>\n",
       "      <th>1</th>\n",
       "      <td>1</td>\n",
       "      <td>2</td>\n",
       "      <td>35003000201</td>\n",
       "      <td>Antigua</td>\n",
       "      <td>10458.0</td>\n",
       "      <td>35003</td>\n",
       "      <td>Antigua</td>\n",
       "      <td>35</td>\n",
       "      <td>Las Palmas</td>\n",
       "      <td>-14.013301</td>\n",
       "      <td>28.418966</td>\n",
       "    </tr>\n",
       "    <tr>\n",
       "      <th>2</th>\n",
       "      <td>2</td>\n",
       "      <td>3</td>\n",
       "      <td>35004000301</td>\n",
       "      <td>Arrecife</td>\n",
       "      <td>58156.0</td>\n",
       "      <td>35004</td>\n",
       "      <td>Arrecife</td>\n",
       "      <td>35</td>\n",
       "      <td>Las Palmas</td>\n",
       "      <td>-13.551451</td>\n",
       "      <td>28.960649</td>\n",
       "    </tr>\n",
       "    <tr>\n",
       "      <th>3</th>\n",
       "      <td>3</td>\n",
       "      <td>4</td>\n",
       "      <td>35006000202</td>\n",
       "      <td>Arucas</td>\n",
       "      <td>36745.0</td>\n",
       "      <td>35006</td>\n",
       "      <td>Arucas</td>\n",
       "      <td>35</td>\n",
       "      <td>Las Palmas</td>\n",
       "      <td>-15.521512</td>\n",
       "      <td>28.117496</td>\n",
       "    </tr>\n",
       "    <tr>\n",
       "      <th>4</th>\n",
       "      <td>4</td>\n",
       "      <td>5</td>\n",
       "      <td>35009000303</td>\n",
       "      <td>Gáldar</td>\n",
       "      <td>24473.0</td>\n",
       "      <td>35009</td>\n",
       "      <td>Gáldar</td>\n",
       "      <td>35</td>\n",
       "      <td>Las Palmas</td>\n",
       "      <td>-15.654111</td>\n",
       "      <td>28.143873</td>\n",
       "    </tr>\n",
       "  </tbody>\n",
       "</table>\n",
       "</div>"
      ],
      "text/plain": [
       "   FID  OBJECTID      Cod_INE     Texto  Poblacion  CodMun Municipio  \\\n",
       "0    0         1  35002000101   Agüimes    29431.0   35002   Agüimes   \n",
       "1    1         2  35003000201   Antigua    10458.0   35003   Antigua   \n",
       "2    2         3  35004000301  Arrecife    58156.0   35004  Arrecife   \n",
       "3    3         4  35006000202    Arucas    36745.0   35006    Arucas   \n",
       "4    4         5  35009000303    Gáldar    24473.0   35009    Gáldar   \n",
       "\n",
       "   Cod_Provin   Provincia          X          Y  \n",
       "0          35  Las Palmas -15.446012  27.900542  \n",
       "1          35  Las Palmas -14.013301  28.418966  \n",
       "2          35  Las Palmas -13.551451  28.960649  \n",
       "3          35  Las Palmas -15.521512  28.117496  \n",
       "4          35  Las Palmas -15.654111  28.143873  "
      ]
     },
     "execution_count": 9,
     "metadata": {
      "tags": []
     },
     "output_type": "execute_result"
    }
   ],
   "source": [
    "ndp.head()"
   ]
  },
  {
   "cell_type": "code",
   "execution_count": 10,
   "metadata": {
    "colab": {
     "base_uri": "https://localhost:8080/",
     "height": 202
    },
    "colab_type": "code",
    "executionInfo": {
     "elapsed": 553,
     "status": "ok",
     "timestamp": 1544131220765,
     "user": {
      "displayName": "Gerardo de Miguel",
      "photoUrl": "https://lh3.googleusercontent.com/-LmFLfSn0ThU/AAAAAAAAAAI/AAAAAAAAAkg/xGe-_jxkcZA/s64/photo.jpg",
      "userId": "12735548512534412210"
     },
     "user_tz": -60
    },
    "id": "vI0CVrujPQ-o",
    "outputId": "bf0e3bae-3e4c-4205-805b-cd0fbd0f228d"
   },
   "outputs": [
    {
     "data": {
      "text/html": [
       "<div>\n",
       "<style scoped>\n",
       "    .dataframe tbody tr th:only-of-type {\n",
       "        vertical-align: middle;\n",
       "    }\n",
       "\n",
       "    .dataframe tbody tr th {\n",
       "        vertical-align: top;\n",
       "    }\n",
       "\n",
       "    .dataframe thead th {\n",
       "        text-align: right;\n",
       "    }\n",
       "</style>\n",
       "<table border=\"1\" class=\"dataframe\">\n",
       "  <thead>\n",
       "    <tr style=\"text-align: right;\">\n",
       "      <th></th>\n",
       "      <th>FID</th>\n",
       "      <th>OBJECTID</th>\n",
       "      <th>Cod_INE</th>\n",
       "      <th>Localidad</th>\n",
       "      <th>Poblacion</th>\n",
       "      <th>CodMun</th>\n",
       "      <th>Municipio</th>\n",
       "      <th>Cod_Provin</th>\n",
       "      <th>Provincia</th>\n",
       "      <th>Longitud</th>\n",
       "      <th>Latitud</th>\n",
       "    </tr>\n",
       "  </thead>\n",
       "  <tbody>\n",
       "    <tr>\n",
       "      <th>0</th>\n",
       "      <td>0</td>\n",
       "      <td>1</td>\n",
       "      <td>35002000101</td>\n",
       "      <td>Agüimes</td>\n",
       "      <td>29431.0</td>\n",
       "      <td>35002</td>\n",
       "      <td>Agüimes</td>\n",
       "      <td>35</td>\n",
       "      <td>Las Palmas</td>\n",
       "      <td>-15.446012</td>\n",
       "      <td>27.900542</td>\n",
       "    </tr>\n",
       "    <tr>\n",
       "      <th>1</th>\n",
       "      <td>1</td>\n",
       "      <td>2</td>\n",
       "      <td>35003000201</td>\n",
       "      <td>Antigua</td>\n",
       "      <td>10458.0</td>\n",
       "      <td>35003</td>\n",
       "      <td>Antigua</td>\n",
       "      <td>35</td>\n",
       "      <td>Las Palmas</td>\n",
       "      <td>-14.013301</td>\n",
       "      <td>28.418966</td>\n",
       "    </tr>\n",
       "    <tr>\n",
       "      <th>2</th>\n",
       "      <td>2</td>\n",
       "      <td>3</td>\n",
       "      <td>35004000301</td>\n",
       "      <td>Arrecife</td>\n",
       "      <td>58156.0</td>\n",
       "      <td>35004</td>\n",
       "      <td>Arrecife</td>\n",
       "      <td>35</td>\n",
       "      <td>Las Palmas</td>\n",
       "      <td>-13.551451</td>\n",
       "      <td>28.960649</td>\n",
       "    </tr>\n",
       "    <tr>\n",
       "      <th>3</th>\n",
       "      <td>3</td>\n",
       "      <td>4</td>\n",
       "      <td>35006000202</td>\n",
       "      <td>Arucas</td>\n",
       "      <td>36745.0</td>\n",
       "      <td>35006</td>\n",
       "      <td>Arucas</td>\n",
       "      <td>35</td>\n",
       "      <td>Las Palmas</td>\n",
       "      <td>-15.521512</td>\n",
       "      <td>28.117496</td>\n",
       "    </tr>\n",
       "    <tr>\n",
       "      <th>4</th>\n",
       "      <td>4</td>\n",
       "      <td>5</td>\n",
       "      <td>35009000303</td>\n",
       "      <td>Gáldar</td>\n",
       "      <td>24473.0</td>\n",
       "      <td>35009</td>\n",
       "      <td>Gáldar</td>\n",
       "      <td>35</td>\n",
       "      <td>Las Palmas</td>\n",
       "      <td>-15.654111</td>\n",
       "      <td>28.143873</td>\n",
       "    </tr>\n",
       "  </tbody>\n",
       "</table>\n",
       "</div>"
      ],
      "text/plain": [
       "   FID  OBJECTID      Cod_INE Localidad  Poblacion  CodMun Municipio  \\\n",
       "0    0         1  35002000101   Agüimes    29431.0   35002   Agüimes   \n",
       "1    1         2  35003000201   Antigua    10458.0   35003   Antigua   \n",
       "2    2         3  35004000301  Arrecife    58156.0   35004  Arrecife   \n",
       "3    3         4  35006000202    Arucas    36745.0   35006    Arucas   \n",
       "4    4         5  35009000303    Gáldar    24473.0   35009    Gáldar   \n",
       "\n",
       "   Cod_Provin   Provincia   Longitud    Latitud  \n",
       "0          35  Las Palmas -15.446012  27.900542  \n",
       "1          35  Las Palmas -14.013301  28.418966  \n",
       "2          35  Las Palmas -13.551451  28.960649  \n",
       "3          35  Las Palmas -15.521512  28.117496  \n",
       "4          35  Las Palmas -15.654111  28.143873  "
      ]
     },
     "execution_count": 10,
     "metadata": {
      "tags": []
     },
     "output_type": "execute_result"
    }
   ],
   "source": [
    "#::GMG::Hay una columna que resulta ambigua en el dataset: Texto\n",
    "#       Voy a cambiarla por Localidad\n",
    "#\n",
    "#       https://stackoverflow.com/questions/11346283/renaming-columns-in-pandas\n",
    "#       https://es.wikipedia.org/wiki/Localidad\n",
    "#\n",
    "#       Otras dos, i.e. X e Y tampoco son informativas y las voy a cambiar por\n",
    "#       que corresponden a Latitud, Longitud\n",
    "#\n",
    "# https://journeynorth.org/tm/LongitudeIntro.html\n",
    "# https://latitude.to/articles-by-country/es/spain/140414/bay-of-santander\n",
    "ndp = ndp.rename(columns={'Texto': 'Localidad',\n",
    "                          'X': 'Longitud', \n",
    "                          'Y': 'Latitud'}\n",
    "                )\n",
    "ndp.head()"
   ]
  },
  {
   "cell_type": "markdown",
   "metadata": {
    "colab_type": "text",
    "id": "udWHOiRcPQ-q"
   },
   "source": [
    "###  **Ejercicio 1** \n"
   ]
  },
  {
   "cell_type": "markdown",
   "metadata": {
    "colab_type": "text",
    "id": "-yhOmwFZW-jy"
   },
   "source": [
    "- ¿Cuántos Municipios tienen más de 100000 habitantes? "
   ]
  },
  {
   "cell_type": "code",
   "execution_count": 11,
   "metadata": {
    "colab": {
     "base_uri": "https://localhost:8080/",
     "height": 35
    },
    "colab_type": "code",
    "executionInfo": {
     "elapsed": 730,
     "status": "ok",
     "timestamp": 1544131320741,
     "user": {
      "displayName": "Gerardo de Miguel",
      "photoUrl": "https://lh3.googleusercontent.com/-LmFLfSn0ThU/AAAAAAAAAAI/AAAAAAAAAkg/xGe-_jxkcZA/s64/photo.jpg",
      "userId": "12735548512534412210"
     },
     "user_tz": -60
    },
    "id": "bpM_88H1PQ-r",
    "outputId": "d7fbac15-d97e-4be6-a0b9-b3fbc8197c37"
   },
   "outputs": [
    {
     "name": "stdout",
     "output_type": "stream",
     "text": [
      "Hay 62 poblaciones con más de 100k habitantes.\n"
     ]
    }
   ],
   "source": [
    "#::GMG::Usamos fancy indexing para seleccionar las poblaciones\n",
    "#mas_de_100k = ndp.loc[:,['Poblacion','Habitantes']]\n",
    "mas_de_100k = ndp[ndp.Poblacion > 100000].loc[:,['Localidad']]\n",
    "#type(mas_de_100k)\n",
    "print('Hay {} poblaciones con más de 100k habitantes.'.format(\n",
    "    len(mas_de_100k['Localidad'])\n",
    "   )\n",
    ")\n",
    "#::GMG::Pero esto NO es lo que nos piden ... \n",
    "#       lo que hemos hecho es calcular las poblaciones de más de 100k habitantes (!!)"
   ]
  },
  {
   "cell_type": "code",
   "execution_count": 13,
   "metadata": {
    "colab": {
     "base_uri": "https://localhost:8080/",
     "height": 35
    },
    "colab_type": "code",
    "executionInfo": {
     "elapsed": 541,
     "status": "ok",
     "timestamp": 1544131367440,
     "user": {
      "displayName": "Gerardo de Miguel",
      "photoUrl": "https://lh3.googleusercontent.com/-LmFLfSn0ThU/AAAAAAAAAAI/AAAAAAAAAkg/xGe-_jxkcZA/s64/photo.jpg",
      "userId": "12735548512534412210"
     },
     "user_tz": -60
    },
    "id": "MiM8eE4yPQ-t",
    "outputId": "6198c323-a84c-43a2-dfbf-2276c7027353"
   },
   "outputs": [
    {
     "name": "stdout",
     "output_type": "stream",
     "text": [
      "Hay 75 municipios con más de 100k habitantes.\n"
     ]
    }
   ],
   "source": [
    "#::GMG::Lo que hay que hacer agrupar por municipios las poblaciones (!!)\n",
    "habitantes_municipios = ndp[['Municipio','Poblacion']].groupby('Municipio').sum()\n",
    "print('Hay {} municipios con más de 100k habitantes.'\n",
    "      .format(\n",
    "          len(habitantes_municipios[habitantes_municipios.Poblacion > 100000])\n",
    "      )\n",
    "     )"
   ]
  },
  {
   "cell_type": "markdown",
   "metadata": {
    "colab_type": "text",
    "id": "H3S-uHG2d9ph"
   },
   "source": [
    "- ¿Cuál es la segunda ciudad más poblada?"
   ]
  },
  {
   "cell_type": "code",
   "execution_count": 14,
   "metadata": {
    "colab": {
     "base_uri": "https://localhost:8080/",
     "height": 104
    },
    "colab_type": "code",
    "executionInfo": {
     "elapsed": 605,
     "status": "ok",
     "timestamp": 1544131407862,
     "user": {
      "displayName": "Gerardo de Miguel",
      "photoUrl": "https://lh3.googleusercontent.com/-LmFLfSn0ThU/AAAAAAAAAAI/AAAAAAAAAkg/xGe-_jxkcZA/s64/photo.jpg",
      "userId": "12735548512534412210"
     },
     "user_tz": -60
    },
    "id": "Wr-7N2DmPQ-v",
    "outputId": "58201e7c-0bff-4b4d-df9a-1b9a1567adbc"
   },
   "outputs": [
    {
     "name": "stdout",
     "output_type": "stream",
     "text": [
      "La segunda ciudad más poblada es: \n",
      "\n",
      "Localidad      Barcelona\n",
      "Poblacion    1.61934e+06\n",
      "Name: 623, dtype: object\n"
     ]
    }
   ],
   "source": [
    "#::GMG::Para obtener la segunda ciudad más poblada tenemos que obtener la lista ordenada de\n",
    "#       menor a  mayor de Poblaciones y Habitantes y seleccionar el segundo elemento por la cola\n",
    "#       de esa lista\n",
    "#ndp.sort_values('Habitantes').iloc[-2]\n",
    "print('La segunda ciudad más poblada es: \\n\\n{}'\n",
    "      .format(\n",
    "          ndp[['Localidad','Poblacion']].sort_values('Poblacion').iloc[-2]\n",
    "      )\n",
    "     )"
   ]
  },
  {
   "cell_type": "markdown",
   "metadata": {
    "colab_type": "text",
    "id": "-KrK8GJPeCaY"
   },
   "source": [
    "- ¿Qué posición ocupa Granada en el ranking de las más pobladas?"
   ]
  },
  {
   "cell_type": "code",
   "execution_count": 15,
   "metadata": {
    "colab": {
     "base_uri": "https://localhost:8080/",
     "height": 601
    },
    "colab_type": "code",
    "executionInfo": {
     "elapsed": 559,
     "status": "ok",
     "timestamp": 1544131464267,
     "user": {
      "displayName": "Gerardo de Miguel",
      "photoUrl": "https://lh3.googleusercontent.com/-LmFLfSn0ThU/AAAAAAAAAAI/AAAAAAAAAkg/xGe-_jxkcZA/s64/photo.jpg",
      "userId": "12735548512534412210"
     },
     "user_tz": -60
    },
    "id": "m3jmb87vPQ-y",
    "outputId": "3699a17b-e00c-40fc-d271-bef774f27ad5"
   },
   "outputs": [
    {
     "data": {
      "text/html": [
       "<div>\n",
       "<style scoped>\n",
       "    .dataframe tbody tr th:only-of-type {\n",
       "        vertical-align: middle;\n",
       "    }\n",
       "\n",
       "    .dataframe tbody tr th {\n",
       "        vertical-align: top;\n",
       "    }\n",
       "\n",
       "    .dataframe thead th {\n",
       "        text-align: right;\n",
       "    }\n",
       "</style>\n",
       "<table border=\"1\" class=\"dataframe\">\n",
       "  <thead>\n",
       "    <tr style=\"text-align: right;\">\n",
       "      <th></th>\n",
       "      <th>Localidad</th>\n",
       "      <th>Poblacion</th>\n",
       "    </tr>\n",
       "  </thead>\n",
       "  <tbody>\n",
       "    <tr>\n",
       "      <th>355</th>\n",
       "      <td>Madrid</td>\n",
       "      <td>3273049.0</td>\n",
       "    </tr>\n",
       "    <tr>\n",
       "      <th>623</th>\n",
       "      <td>Barcelona</td>\n",
       "      <td>1619337.0</td>\n",
       "    </tr>\n",
       "    <tr>\n",
       "      <th>561</th>\n",
       "      <td>Valencia</td>\n",
       "      <td>809267.0</td>\n",
       "    </tr>\n",
       "    <tr>\n",
       "      <th>492</th>\n",
       "      <td>Sevilla</td>\n",
       "      <td>704198.0</td>\n",
       "    </tr>\n",
       "    <tr>\n",
       "      <th>591</th>\n",
       "      <td>Zaragoza</td>\n",
       "      <td>675121.0</td>\n",
       "    </tr>\n",
       "    <tr>\n",
       "      <th>391</th>\n",
       "      <td>Málaga</td>\n",
       "      <td>568507.0</td>\n",
       "    </tr>\n",
       "    <tr>\n",
       "      <th>420</th>\n",
       "      <td>Murcia</td>\n",
       "      <td>441345.0</td>\n",
       "    </tr>\n",
       "    <tr>\n",
       "      <th>610</th>\n",
       "      <td>Palma</td>\n",
       "      <td>404681.0</td>\n",
       "    </tr>\n",
       "    <tr>\n",
       "      <th>9</th>\n",
       "      <td>Las Palmas de Gran Canaria</td>\n",
       "      <td>383308.0</td>\n",
       "    </tr>\n",
       "    <tr>\n",
       "      <th>571</th>\n",
       "      <td>Bilbao</td>\n",
       "      <td>353187.0</td>\n",
       "    </tr>\n",
       "    <tr>\n",
       "      <th>160</th>\n",
       "      <td>Alacant/Alicante</td>\n",
       "      <td>334418.0</td>\n",
       "    </tr>\n",
       "    <tr>\n",
       "      <th>254</th>\n",
       "      <td>Córdoba</td>\n",
       "      <td>328547.0</td>\n",
       "    </tr>\n",
       "    <tr>\n",
       "      <th>565</th>\n",
       "      <td>Valladolid</td>\n",
       "      <td>315522.0</td>\n",
       "    </tr>\n",
       "    <tr>\n",
       "      <th>135</th>\n",
       "      <td>Vigo</td>\n",
       "      <td>297124.0</td>\n",
       "    </tr>\n",
       "    <tr>\n",
       "      <th>446</th>\n",
       "      <td>Gijón/Xixón</td>\n",
       "      <td>277198.0</td>\n",
       "    </tr>\n",
       "    <tr>\n",
       "      <th>642</th>\n",
       "      <td>L'Hospitalet de Llobregat</td>\n",
       "      <td>258642.0</td>\n",
       "    </tr>\n",
       "    <tr>\n",
       "      <th>67</th>\n",
       "      <td>A Coruña</td>\n",
       "      <td>246047.0</td>\n",
       "    </tr>\n",
       "    <tr>\n",
       "      <th>272</th>\n",
       "      <td>Granada</td>\n",
       "      <td>239154.0</td>\n",
       "    </tr>\n",
       "  </tbody>\n",
       "</table>\n",
       "</div>"
      ],
      "text/plain": [
       "                      Localidad  Poblacion\n",
       "355                      Madrid  3273049.0\n",
       "623                   Barcelona  1619337.0\n",
       "561                    Valencia   809267.0\n",
       "492                     Sevilla   704198.0\n",
       "591                    Zaragoza   675121.0\n",
       "391                      Málaga   568507.0\n",
       "420                      Murcia   441345.0\n",
       "610                       Palma   404681.0\n",
       "9    Las Palmas de Gran Canaria   383308.0\n",
       "571                      Bilbao   353187.0\n",
       "160            Alacant/Alicante   334418.0\n",
       "254                     Córdoba   328547.0\n",
       "565                  Valladolid   315522.0\n",
       "135                        Vigo   297124.0\n",
       "446                 Gijón/Xixón   277198.0\n",
       "642   L'Hospitalet de Llobregat   258642.0\n",
       "67                     A Coruña   246047.0\n",
       "272                     Granada   239154.0"
      ]
     },
     "execution_count": 15,
     "metadata": {
      "tags": []
     },
     "output_type": "execute_result"
    }
   ],
   "source": [
    "#::GMG::Podemos sacar una lista ordenada hasta la posición de Granada \n",
    "mas_pobladas = ndp.sort_values(by='Poblacion', \n",
    "                               ascending=False)[['Localidad','Poblacion']]\n",
    "mas_pobladas.head(18)\n",
    "#::nota::vemos que granada está en la posición \"18\""
   ]
  },
  {
   "cell_type": "code",
   "execution_count": 16,
   "metadata": {
    "colab": {
     "base_uri": "https://localhost:8080/",
     "height": 79
    },
    "colab_type": "code",
    "executionInfo": {
     "elapsed": 576,
     "status": "ok",
     "timestamp": 1544131485928,
     "user": {
      "displayName": "Gerardo de Miguel",
      "photoUrl": "https://lh3.googleusercontent.com/-LmFLfSn0ThU/AAAAAAAAAAI/AAAAAAAAAkg/xGe-_jxkcZA/s64/photo.jpg",
      "userId": "12735548512534412210"
     },
     "user_tz": -60
    },
    "id": "JuDWHEvqxhlt",
    "outputId": "e66591d4-c001-45cf-db28-81cfff90dfa0"
   },
   "outputs": [
    {
     "data": {
      "text/html": [
       "<div>\n",
       "<style scoped>\n",
       "    .dataframe tbody tr th:only-of-type {\n",
       "        vertical-align: middle;\n",
       "    }\n",
       "\n",
       "    .dataframe tbody tr th {\n",
       "        vertical-align: top;\n",
       "    }\n",
       "\n",
       "    .dataframe thead th {\n",
       "        text-align: right;\n",
       "    }\n",
       "</style>\n",
       "<table border=\"1\" class=\"dataframe\">\n",
       "  <thead>\n",
       "    <tr style=\"text-align: right;\">\n",
       "      <th></th>\n",
       "      <th>Localidad</th>\n",
       "      <th>Poblacion</th>\n",
       "    </tr>\n",
       "  </thead>\n",
       "  <tbody>\n",
       "    <tr>\n",
       "      <th>272</th>\n",
       "      <td>Granada</td>\n",
       "      <td>239154.0</td>\n",
       "    </tr>\n",
       "  </tbody>\n",
       "</table>\n",
       "</div>"
      ],
      "text/plain": [
       "    Localidad  Poblacion\n",
       "272   Granada   239154.0"
      ]
     },
     "execution_count": 16,
     "metadata": {
      "tags": []
     },
     "output_type": "execute_result"
    }
   ],
   "source": [
    "#::GMG::Podemos localizar fácilmente Granada dentro del Dataframe de poblaciones\n",
    "#       ordenadas por número de habitantes.\n",
    "#       Vemos que \"Granada\" tiene un índice 272 en el Dataframe original\n",
    "mas_pobladas.loc[mas_pobladas['Localidad'] == 'Granada']"
   ]
  },
  {
   "cell_type": "code",
   "execution_count": 17,
   "metadata": {
    "colab": {
     "base_uri": "https://localhost:8080/",
     "height": 35
    },
    "colab_type": "code",
    "executionInfo": {
     "elapsed": 341,
     "status": "ok",
     "timestamp": 1544131498647,
     "user": {
      "displayName": "Gerardo de Miguel",
      "photoUrl": "https://lh3.googleusercontent.com/-LmFLfSn0ThU/AAAAAAAAAAI/AAAAAAAAAkg/xGe-_jxkcZA/s64/photo.jpg",
      "userId": "12735548512534412210"
     },
     "user_tz": -60
    },
    "id": "JZeW1k7q4i_c",
    "outputId": "f3d2a65f-6b4a-4d3b-ff86-e927fc06d2b1"
   },
   "outputs": [
    {
     "data": {
      "text/plain": [
       "272"
      ]
     },
     "execution_count": 17,
     "metadata": {
      "tags": []
     },
     "output_type": "execute_result"
    }
   ],
   "source": [
    "#::GMG::Para obtener el index label\n",
    "# https://stackoverflow.com/questions/21800169/python-pandas-get-index-of-rows-which-column-matches-certain-value\n",
    "mas_pobladas.index[mas_pobladas['Localidad'] == 'Granada'].tolist()[0]"
   ]
  },
  {
   "cell_type": "code",
   "execution_count": 0,
   "metadata": {
    "colab": {
     "base_uri": "https://localhost:8080/",
     "height": 85
    },
    "colab_type": "code",
    "executionInfo": {
     "elapsed": 666,
     "status": "ok",
     "timestamp": 1543837106147,
     "user": {
      "displayName": "Gerardo de Miguel",
      "photoUrl": "https://lh3.googleusercontent.com/-LmFLfSn0ThU/AAAAAAAAAAI/AAAAAAAAAkg/xGe-_jxkcZA/s64/photo.jpg",
      "userId": "12735548512534412210"
     },
     "user_tz": -60
    },
    "id": "wDrWzHWa0U4z",
    "outputId": "02018cd0-ca93-4975-bb6d-d0d55f80f996"
   },
   "outputs": [
    {
     "data": {
      "text/plain": [
       "Int64Index([355, 623, 561, 492, 591, 391, 420, 610,   9, 571,\n",
       "            ...\n",
       "            756, 841, 193, 503,  97, 525, 746, 168, 115, 307],\n",
       "           dtype='int64', length=852)"
      ]
     },
     "execution_count": 30,
     "metadata": {
      "tags": []
     },
     "output_type": "execute_result"
    }
   ],
   "source": [
    "#::GMG::La pregunta que tenemos que hacernos es, ¿podemos obtener la posición\n",
    "#       del índice de Granada dentro de los índices del nuevo Dataframe de\n",
    "#       poblaciones ordenadas?\n",
    "#       Este es el índice del que estamos hablando\n",
    "mas_pobladas.index"
   ]
  },
  {
   "cell_type": "code",
   "execution_count": 18,
   "metadata": {
    "colab": {
     "base_uri": "https://localhost:8080/",
     "height": 35
    },
    "colab_type": "code",
    "executionInfo": {
     "elapsed": 562,
     "status": "ok",
     "timestamp": 1544131511791,
     "user": {
      "displayName": "Gerardo de Miguel",
      "photoUrl": "https://lh3.googleusercontent.com/-LmFLfSn0ThU/AAAAAAAAAAI/AAAAAAAAAkg/xGe-_jxkcZA/s64/photo.jpg",
      "userId": "12735548512534412210"
     },
     "user_tz": -60
    },
    "id": "lyO8kwQw3My3",
    "outputId": "5e558f9a-60c6-415c-97f7-836aefe1b821"
   },
   "outputs": [
    {
     "data": {
      "text/plain": [
       "17"
      ]
     },
     "execution_count": 18,
     "metadata": {
      "tags": []
     },
     "output_type": "execute_result"
    }
   ],
   "source": [
    "#::GMG::Existe un método en pandas que nos permite localizar un índice concreto\n",
    "# https://pandas.pydata.org/pandas-docs/stable/generated/pandas.Index.get_loc.html\n",
    "#\n",
    "# ¿Cuál es la posición del índice de Granada?\n",
    "# \n",
    "mas_pobladas.index.get_loc(\n",
    "    mas_pobladas.index[mas_pobladas['Localidad'] == 'Granada'].tolist()[0])"
   ]
  },
  {
   "cell_type": "code",
   "execution_count": 19,
   "metadata": {
    "colab": {
     "base_uri": "https://localhost:8080/",
     "height": 35
    },
    "colab_type": "code",
    "executionInfo": {
     "elapsed": 556,
     "status": "ok",
     "timestamp": 1544131523636,
     "user": {
      "displayName": "Gerardo de Miguel",
      "photoUrl": "https://lh3.googleusercontent.com/-LmFLfSn0ThU/AAAAAAAAAAI/AAAAAAAAAkg/xGe-_jxkcZA/s64/photo.jpg",
      "userId": "12735548512534412210"
     },
     "user_tz": -60
    },
    "id": "hTQdGUVm3_q9",
    "outputId": "3b18cff4-70f1-438f-8668-a9590402f952"
   },
   "outputs": [
    {
     "name": "stdout",
     "output_type": "stream",
     "text": [
      "Granada está en la posición 18 de la lista de las más pobladas\n"
     ]
    }
   ],
   "source": [
    "#::GMG::Solamente tenemos que recordar que en Python los índices empiezan por 0\n",
    "#       por lo que la posición es índice + 1\n",
    "print('Granada está en la posición {} de la lista de las más pobladas'\n",
    "      .format(\n",
    "          mas_pobladas.index.get_loc(\n",
    "    mas_pobladas.index[mas_pobladas['Localidad'] == 'Granada'].tolist()[0]) + 1\n",
    "      )\n",
    "     )"
   ]
  },
  {
   "cell_type": "markdown",
   "metadata": {
    "colab_type": "text",
    "id": "njokXC44eSMB"
   },
   "source": [
    "### Ejercicio 2\n",
    "\n",
    "Escriba los nombres de los 10 municipios con menos población.\n"
   ]
  },
  {
   "cell_type": "code",
   "execution_count": 20,
   "metadata": {
    "colab": {
     "base_uri": "https://localhost:8080/",
     "height": 225
    },
    "colab_type": "code",
    "executionInfo": {
     "elapsed": 531,
     "status": "ok",
     "timestamp": 1544131583857,
     "user": {
      "displayName": "Gerardo de Miguel",
      "photoUrl": "https://lh3.googleusercontent.com/-LmFLfSn0ThU/AAAAAAAAAAI/AAAAAAAAAkg/xGe-_jxkcZA/s64/photo.jpg",
      "userId": "12735548512534412210"
     },
     "user_tz": -60
    },
    "id": "j0hWnd4p0__K",
    "outputId": "b0c2965b-2409-4c9c-ecf9-0585750552cf"
   },
   "outputs": [
    {
     "name": "stdout",
     "output_type": "stream",
     "text": [
      "                Poblacion\n",
      "Municipio                \n",
      "Zumarraga         10037.0\n",
      "Caldas de Reis    10045.0\n",
      "Amurrio           10050.0\n",
      "Premià de Dalt    10064.0\n",
      "Buñol             10077.0\n",
      "Bembibre          10097.0\n",
      "Ocaña             10098.0\n",
      "Sax               10099.0\n",
      "Xinzo de Limia    10245.0\n",
      "Reinosa           10277.0\n"
     ]
    }
   ],
   "source": [
    "#::GMG::Aquí hablamos de nuevo de 'municipios' por lo que hay necesidad de \n",
    "#       agrupamiento. Primero tenemos que obtener la lista ordenada de menor a \n",
    "#       mayor número de habitantes de los municipios y coger los 10 primeros\n",
    "# https://pandas.pydata.org/pandas-docs/stable/generated/pandas.DataFrame.head.html\n",
    "habitantes_municipios = ndp[\n",
    "    ['Municipio','Poblacion']\n",
    "].groupby('Municipio').sum()\n",
    "#habitantes_municipios.head()\n",
    "menos_mas_poblados = habitantes_municipios.sort_values(\n",
    "    by='Poblacion', ascending=True\n",
    ")\n",
    "print(menos_mas_poblados.head(10))"
   ]
  },
  {
   "cell_type": "code",
   "execution_count": 21,
   "metadata": {
    "colab": {
     "base_uri": "https://localhost:8080/",
     "height": 225
    },
    "colab_type": "code",
    "executionInfo": {
     "elapsed": 516,
     "status": "ok",
     "timestamp": 1544131596853,
     "user": {
      "displayName": "Gerardo de Miguel",
      "photoUrl": "https://lh3.googleusercontent.com/-LmFLfSn0ThU/AAAAAAAAAAI/AAAAAAAAAkg/xGe-_jxkcZA/s64/photo.jpg",
      "userId": "12735548512534412210"
     },
     "user_tz": -60
    },
    "id": "0jQbeXELYLC-",
    "outputId": "6d9463c3-0c04-47e5-f30f-cafee9d6589c"
   },
   "outputs": [
    {
     "data": {
      "text/plain": [
       "Municipio\n",
       "Zumarraga         10037.0\n",
       "Caldas de Reis    10045.0\n",
       "Amurrio           10050.0\n",
       "Premià de Dalt    10064.0\n",
       "Buñol             10077.0\n",
       "Bembibre          10097.0\n",
       "Ocaña             10098.0\n",
       "Sax               10099.0\n",
       "Xinzo de Limia    10245.0\n",
       "Reinosa           10277.0\n",
       "Name: Poblacion, dtype: float64"
      ]
     },
     "execution_count": 21,
     "metadata": {
      "tags": []
     },
     "output_type": "execute_result"
    }
   ],
   "source": [
    "#::GMG::Más compacto, 10 primeros elementos de la lista de habitantes por \n",
    "#municipio ordenada de menor a mayor\n",
    "ndp.groupby('Municipio').Poblacion.sum().sort_values().head(10)"
   ]
  },
  {
   "cell_type": "markdown",
   "metadata": {
    "colab_type": "text",
    "id": "6TuMMfCfXTda"
   },
   "source": [
    "### Ejercicio 3\n",
    "\n",
    "¿Cuántos municipios de León tienen más de 6000 habitantes?.\n"
   ]
  },
  {
   "cell_type": "code",
   "execution_count": 22,
   "metadata": {
    "colab": {
     "base_uri": "https://localhost:8080/",
     "height": 325
    },
    "colab_type": "code",
    "executionInfo": {
     "elapsed": 564,
     "status": "ok",
     "timestamp": 1544131666744,
     "user": {
      "displayName": "Gerardo de Miguel",
      "photoUrl": "https://lh3.googleusercontent.com/-LmFLfSn0ThU/AAAAAAAAAAI/AAAAAAAAAkg/xGe-_jxkcZA/s64/photo.jpg",
      "userId": "12735548512534412210"
     },
     "user_tz": -60
    },
    "id": "zWMew2f25QPE",
    "outputId": "c0fda4e5-c1d5-465f-a076-b18e68ae21bc"
   },
   "outputs": [
    {
     "data": {
      "text/html": [
       "<div>\n",
       "<style scoped>\n",
       "    .dataframe tbody tr th:only-of-type {\n",
       "        vertical-align: middle;\n",
       "    }\n",
       "\n",
       "    .dataframe tbody tr th {\n",
       "        vertical-align: top;\n",
       "    }\n",
       "\n",
       "    .dataframe thead th {\n",
       "        text-align: right;\n",
       "    }\n",
       "</style>\n",
       "<table border=\"1\" class=\"dataframe\">\n",
       "  <thead>\n",
       "    <tr style=\"text-align: right;\">\n",
       "      <th></th>\n",
       "      <th>Localidad</th>\n",
       "      <th>Municipio</th>\n",
       "      <th>Poblacion</th>\n",
       "    </tr>\n",
       "  </thead>\n",
       "  <tbody>\n",
       "    <tr>\n",
       "      <th>96</th>\n",
       "      <td>Astorga</td>\n",
       "      <td>Astorga</td>\n",
       "      <td>12015.0</td>\n",
       "    </tr>\n",
       "    <tr>\n",
       "      <th>97</th>\n",
       "      <td>Bembibre</td>\n",
       "      <td>Bembibre</td>\n",
       "      <td>10097.0</td>\n",
       "    </tr>\n",
       "    <tr>\n",
       "      <th>98</th>\n",
       "      <td>Ponferrada</td>\n",
       "      <td>Ponferrada</td>\n",
       "      <td>68767.0</td>\n",
       "    </tr>\n",
       "    <tr>\n",
       "      <th>99</th>\n",
       "      <td>Villablino</td>\n",
       "      <td>Villablino</td>\n",
       "      <td>10553.0</td>\n",
       "    </tr>\n",
       "    <tr>\n",
       "      <th>327</th>\n",
       "      <td>La Bañeza</td>\n",
       "      <td>La Bañeza</td>\n",
       "      <td>11050.0</td>\n",
       "    </tr>\n",
       "    <tr>\n",
       "      <th>328</th>\n",
       "      <td>León</td>\n",
       "      <td>León</td>\n",
       "      <td>134012.0</td>\n",
       "    </tr>\n",
       "    <tr>\n",
       "      <th>329</th>\n",
       "      <td>San Andrés del Rabanedo</td>\n",
       "      <td>San Andrés del Rabanedo</td>\n",
       "      <td>31306.0</td>\n",
       "    </tr>\n",
       "    <tr>\n",
       "      <th>330</th>\n",
       "      <td>Villaquilambre</td>\n",
       "      <td>Villaquilambre</td>\n",
       "      <td>17631.0</td>\n",
       "    </tr>\n",
       "    <tr>\n",
       "      <th>751</th>\n",
       "      <td>Trobajo del Camino</td>\n",
       "      <td>San Andrés del Rabanedo</td>\n",
       "      <td>21231.0</td>\n",
       "    </tr>\n",
       "  </tbody>\n",
       "</table>\n",
       "</div>"
      ],
      "text/plain": [
       "                   Localidad                Municipio  Poblacion\n",
       "96                   Astorga                  Astorga    12015.0\n",
       "97                  Bembibre                 Bembibre    10097.0\n",
       "98                Ponferrada               Ponferrada    68767.0\n",
       "99                Villablino               Villablino    10553.0\n",
       "327                La Bañeza                La Bañeza    11050.0\n",
       "328                     León                     León   134012.0\n",
       "329  San Andrés del Rabanedo  San Andrés del Rabanedo    31306.0\n",
       "330           Villaquilambre           Villaquilambre    17631.0\n",
       "751       Trobajo del Camino  San Andrés del Rabanedo    21231.0"
      ]
     },
     "execution_count": 22,
     "metadata": {
      "tags": []
     },
     "output_type": "execute_result"
    }
   ],
   "source": [
    "#::GMG::Aquí en primer lugar tenemos que seleccionar todos los municipios\n",
    "#       dentro de la provincia de León e indexarlos con un condicional\n",
    "#       sobre el número de sus habitantes\n",
    "poblaciones_leon = ndp[ndp['Provincia'] == 'León']\n",
    "#::GMG::Los municipios de León tienen una sola población por lo que no\n",
    "#       hace fakta hacer ninguna agregación\n",
    "poblaciones_leon.loc[:,['Localidad','Municipio', 'Poblacion']]"
   ]
  },
  {
   "cell_type": "code",
   "execution_count": 23,
   "metadata": {
    "colab": {
     "base_uri": "https://localhost:8080/",
     "height": 191
    },
    "colab_type": "code",
    "executionInfo": {
     "elapsed": 535,
     "status": "ok",
     "timestamp": 1544131689500,
     "user": {
      "displayName": "Gerardo de Miguel",
      "photoUrl": "https://lh3.googleusercontent.com/-LmFLfSn0ThU/AAAAAAAAAAI/AAAAAAAAAkg/xGe-_jxkcZA/s64/photo.jpg",
      "userId": "12735548512534412210"
     },
     "user_tz": -60
    },
    "id": "B_ZryFe7DVuj",
    "outputId": "917c48a6-1264-45c8-b0a6-ffe241ddf644"
   },
   "outputs": [
    {
     "name": "stdout",
     "output_type": "stream",
     "text": [
      "                   Municipio  Poblacion\n",
      "97                  Bembibre    10097.0\n",
      "99                Villablino    10553.0\n",
      "327                La Bañeza    11050.0\n",
      "96                   Astorga    12015.0\n",
      "330           Villaquilambre    17631.0\n",
      "751  San Andrés del Rabanedo    21231.0\n",
      "329  San Andrés del Rabanedo    31306.0\n",
      "98                Ponferrada    68767.0\n",
      "328                     León   134012.0\n"
     ]
    }
   ],
   "source": [
    "mas_de_6k = poblaciones_leon.loc[poblaciones_leon['Poblacion'] > 6000,\n",
    "                                 ['Municipio', 'Poblacion']\n",
    "                                ]\n",
    "print(mas_de_6k.sort_values(by='Poblacion', ascending=True))"
   ]
  },
  {
   "cell_type": "markdown",
   "metadata": {
    "colab_type": "text",
    "id": "P3kPn5GPXY5Z"
   },
   "source": [
    "### Ejercicio 4\n",
    "\n",
    "¿Cuál es el municipio situado más al Norte? (Usar el valor de la coordenada \"Y\" que representa la latitud en grados). Proporcione también la provincia a la que pertenece y su población.\n"
   ]
  },
  {
   "cell_type": "code",
   "execution_count": 26,
   "metadata": {
    "colab": {
     "base_uri": "https://localhost:8080/",
     "height": 79
    },
    "colab_type": "code",
    "executionInfo": {
     "elapsed": 616,
     "status": "ok",
     "timestamp": 1544131743258,
     "user": {
      "displayName": "Gerardo de Miguel",
      "photoUrl": "https://lh3.googleusercontent.com/-LmFLfSn0ThU/AAAAAAAAAAI/AAAAAAAAAkg/xGe-_jxkcZA/s64/photo.jpg",
      "userId": "12735548512534412210"
     },
     "user_tz": -60
    },
    "id": "dTUfQhtjIFZh",
    "outputId": "74061c9d-6b72-46e9-b3f9-c85d65d7c898"
   },
   "outputs": [
    {
     "data": {
      "text/html": [
       "<div>\n",
       "<style scoped>\n",
       "    .dataframe tbody tr th:only-of-type {\n",
       "        vertical-align: middle;\n",
       "    }\n",
       "\n",
       "    .dataframe tbody tr th {\n",
       "        vertical-align: top;\n",
       "    }\n",
       "\n",
       "    .dataframe thead th {\n",
       "        text-align: right;\n",
       "    }\n",
       "</style>\n",
       "<table border=\"1\" class=\"dataframe\">\n",
       "  <thead>\n",
       "    <tr style=\"text-align: right;\">\n",
       "      <th></th>\n",
       "      <th>Localidad</th>\n",
       "      <th>Municipio</th>\n",
       "      <th>Provincia</th>\n",
       "      <th>Poblacion</th>\n",
       "    </tr>\n",
       "  </thead>\n",
       "  <tbody>\n",
       "    <tr>\n",
       "      <th>104</th>\n",
       "      <td>Viveiro</td>\n",
       "      <td>Viveiro</td>\n",
       "      <td>Lugo</td>\n",
       "      <td>16211.0</td>\n",
       "    </tr>\n",
       "  </tbody>\n",
       "</table>\n",
       "</div>"
      ],
      "text/plain": [
       "    Localidad Municipio Provincia  Poblacion\n",
       "104   Viveiro   Viveiro      Lugo    16211.0"
      ]
     },
     "execution_count": 26,
     "metadata": {
      "tags": []
     },
     "output_type": "execute_result"
    }
   ],
   "source": [
    "#::GMG::Lo que queremos saber es cuál es el municipio que se encuentra\n",
    "#       más el norte, que será el que tenga la población que se encuentra\n",
    "#       más al norte, la que tenga la latitud más alta.\n",
    "#       Además queremos saber a qué provincia pertenece el municipio\n",
    "#       y el número de habitantes que tiene.  \n",
    "#\n",
    "#::GMG::La población que tiene la latitud más alta es\n",
    "ndp.loc[ndp.Latitud == ndp.Latitud.max(),\n",
    "        ['Localidad','Municipio', 'Provincia', 'Poblacion']\n",
    "       ]"
   ]
  },
  {
   "cell_type": "code",
   "execution_count": 35,
   "metadata": {
    "colab": {
     "base_uri": "https://localhost:8080/",
     "height": 52
    },
    "colab_type": "code",
    "executionInfo": {
     "elapsed": 626,
     "status": "ok",
     "timestamp": 1544132301618,
     "user": {
      "displayName": "Gerardo de Miguel",
      "photoUrl": "https://lh3.googleusercontent.com/-LmFLfSn0ThU/AAAAAAAAAAI/AAAAAAAAAkg/xGe-_jxkcZA/s64/photo.jpg",
      "userId": "12735548512534412210"
     },
     "user_tz": -60
    },
    "id": "V_DAcpvDee1Y",
    "outputId": "ca2a9698-bbad-4f2c-d9a8-02e52087b9a7"
   },
   "outputs": [
    {
     "name": "stdout",
     "output_type": "stream",
     "text": [
      "El municipio situado más al norte es Viveiro \n",
      "que pertenece a la provincia de Lugo y tiene 16211.0 habitantes.\n"
     ]
    }
   ],
   "source": [
    "#::GMG::A aprtir de aquí ya tenemos la respuesta\n",
    "municipio_mas_al_norte = ndp.loc[ndp.Latitud == ndp.Latitud.max(), \n",
    "                                 'Municipio'].iloc[0]\n",
    "print('''El municipio situado más al norte es {} \n",
    "que pertenece a la provincia de {} y tiene {} habitantes.'''.format(\n",
    "   municipio_mas_al_norte,\n",
    "   ndp[ndp.Municipio == municipio_mas_al_norte]['Provincia'].iloc[0],\n",
    "   ndp[ndp.Municipio == municipio_mas_al_norte].groupby(\n",
    "       'Municipio').sum()['Poblacion'].iloc[0]\n",
    "     )\n",
    ")"
   ]
  },
  {
   "cell_type": "markdown",
   "metadata": {
    "colab_type": "text",
    "id": "HcFbnv1bXeph"
   },
   "source": [
    "### Ejercicio 5\n",
    "\n",
    "¿Cual es el municipio de la provincia de Cantabria situado más al Este?. ¿Cual es el situado más al Oeste?.\n"
   ]
  },
  {
   "cell_type": "code",
   "execution_count": 29,
   "metadata": {
    "colab": {
     "base_uri": "https://localhost:8080/",
     "height": 277
    },
    "colab_type": "code",
    "executionInfo": {
     "elapsed": 524,
     "status": "ok",
     "timestamp": 1544131949075,
     "user": {
      "displayName": "Gerardo de Miguel",
      "photoUrl": "https://lh3.googleusercontent.com/-LmFLfSn0ThU/AAAAAAAAAAI/AAAAAAAAAkg/xGe-_jxkcZA/s64/photo.jpg",
      "userId": "12735548512534412210"
     },
     "user_tz": -60
    },
    "id": "xAaFryDLz0sk",
    "outputId": "ee327ab1-ded5-4199-ef4c-b9629da4e2c3"
   },
   "outputs": [
    {
     "name": "stdout",
     "output_type": "stream",
     "text": [
      "                  Localidad               Municipio    Latitud  Longitud\n",
      "462            El Astillero            El Astillero  43.400912 -3.817215\n",
      "463                Muriedas                 Camargo  43.407973 -3.884857\n",
      "464         Castro-Urdiales         Castro-Urdiales  43.384584 -3.216038\n",
      "465  Los Corrales de Buelna  Los Corrales de Buelna  43.260103 -4.062094\n",
      "466                  Laredo                  Laredo  43.410657 -3.417285\n",
      "467                  Renedo                Piélagos  43.353299 -3.950722\n",
      "468                 Reinosa                 Reinosa  43.002064 -4.138583\n",
      "469    Santa Cruz de Bezana    Santa Cruz de Bezana  43.443018 -3.904522\n",
      "470               Santander               Santander  43.462979 -3.804748\n",
      "471                 Santoña                 Santoña  43.444262 -3.455307\n",
      "472             Torrelavega             Torrelavega  43.351629 -4.047165\n",
      "810            Peñacastillo               Santander  43.448140 -3.863961\n",
      "811               San Román               Santander  43.470062 -3.858462\n",
      "812               Campuzano             Torrelavega  43.341213 -4.051823\n"
     ]
    }
   ],
   "source": [
    "#::GMG::Hagamos 'inventario' de las localidades y municipios de Cantabria ...\n",
    "poblaciones_cantabria = ndp.loc[ndp.Provincia == 'Cantabria',\n",
    "                               ['Localidad',\n",
    "                                'Municipio',\n",
    "                                'Latitud',\n",
    "                                'Longitud']\n",
    "                              ]\n",
    "print(poblaciones_cantabria)\n",
    "#::nota::nos damos cuenta de que NO están los 102 municipios de la 'provincia'\n",
    "#        de Cantabria ...\n",
    "# https://es.wikipedia.org/wiki/Cantabria#Municipios"
   ]
  },
  {
   "cell_type": "code",
   "execution_count": 30,
   "metadata": {
    "colab": {
     "base_uri": "https://localhost:8080/",
     "height": 52
    },
    "colab_type": "code",
    "executionInfo": {
     "elapsed": 554,
     "status": "ok",
     "timestamp": 1544131964284,
     "user": {
      "displayName": "Gerardo de Miguel",
      "photoUrl": "https://lh3.googleusercontent.com/-LmFLfSn0ThU/AAAAAAAAAAI/AAAAAAAAAkg/xGe-_jxkcZA/s64/photo.jpg",
      "userId": "12735548512534412210"
     },
     "user_tz": -60
    },
    "id": "6FVOmHD_4Pt0",
    "outputId": "a800964d-7d48-49e9-afa2-b68649fcb001"
   },
   "outputs": [
    {
     "name": "stdout",
     "output_type": "stream",
     "text": [
      "El municipio más oriental de Cantabria en el Dataframe es Castro-Urdiales\n",
      "y el municipio más occidental es Reinosa\n"
     ]
    }
   ],
   "source": [
    "#::GMG::Solamente podemos calcular los municipios que estén más al este (oeste)\n",
    "#       de los que tenemos en el Dataframe de Pandas :)\n",
    "#\n",
    "#       El parámetro a considerar aquí es la longitud. \n",
    "#       El municipio con la población que tenga la mayor longitud estará más\n",
    "#       al este y el que tenga la de menor longitud más al oeste\n",
    "#::nota::estamos operando con números negativos porque Cantabria está a la\n",
    "#        izda del meridiano de Greenwich\n",
    "print('''El municipio más oriental de Cantabria en el Dataframe es {}\n",
    "y el municipio más occidental es {}'''.format(\n",
    "       poblaciones_cantabria.loc[poblaciones_cantabria.Longitud == \\\n",
    "                          poblaciones_cantabria.Longitud.max(), \n",
    "                          'Municipio'].iloc[0],\n",
    "       poblaciones_cantabria.loc[poblaciones_cantabria.Longitud == \\\n",
    "                          poblaciones_cantabria.Longitud.min(), \n",
    "                          'Municipio'].iloc[0]\n",
    "     )\n",
    ")\n"
   ]
  },
  {
   "cell_type": "markdown",
   "metadata": {
    "colab_type": "text",
    "id": "CgnnswGwXjHR"
   },
   "source": [
    "### Ejercicio 6\n",
    "\n",
    "Dígame los nombres de los Municipios más cercano y más lejano a Madrid. Para ello debe calcular la distancia en todos ellos y Madrid. Por supuesto, Madrid no cuenta.\n"
   ]
  },
  {
   "cell_type": "code",
   "execution_count": 0,
   "metadata": {
    "colab": {},
    "colab_type": "code",
    "id": "TsL7Zuin54a0"
   },
   "outputs": [],
   "source": [
    "#::GMG::Los conceptos 'más cercano' y 'más lejano' tiene que basarse en una \n",
    "#       distancia y puesto que estamos hablando de latitudes y longitudes sobre\n",
    "#       un geoide que es la tierra lo propio es usar the 'haversine' formula:\n",
    "#\n",
    "# https://en.wikipedia.org/wiki/Haversine_formula\n",
    "#\n",
    "#::note::Hay una biblioteca en Pypi:\n",
    "#\n",
    "# https://pypi.org/project/haversine/ \n",
    "#\n",
    "# pero voy a usar una implementación con Numpy (eficiente):\n",
    "#\n",
    "# https://stackoverflow.com/questions/29545704/fast-haversine-approximation-python-pandas\n",
    "#\n",
    "def haversine_np(lon1, lat1, lon2, lat2):\n",
    "    \"\"\"\n",
    "    Calculate the great circle distance between two points\n",
    "    on the earth (specified in decimal degrees)\n",
    "\n",
    "    All args must be of equal length.    \n",
    "\n",
    "    \"\"\"\n",
    "    lon1, lat1, lon2, lat2 = map(np.radians, [lon1, lat1, lon2, lat2])\n",
    "\n",
    "    dlon = lon2 - lon1\n",
    "    dlat = lat2 - lat1\n",
    "\n",
    "    a = np.sin(dlat/2.0)**2 + np.cos(lat1) * np.cos(lat2) * np.sin(dlon/2.0)**2\n",
    "\n",
    "    c = 2 * np.arcsin(np.sqrt(a))\n",
    "    km = 6367 * c\n",
    "    return km"
   ]
  },
  {
   "cell_type": "code",
   "execution_count": 0,
   "metadata": {
    "colab": {},
    "colab_type": "code",
    "id": "Av-BMjNFPVh8"
   },
   "outputs": [],
   "source": [
    "#::GMG::Ahora tengo que pensar en aplicar a las filas del Dataframe, cuya\n",
    "#       granularidad es por población, la distancia con Lat,Long de Madrid\n",
    "#       y obtener la localidad más cercana (distancia más pequeña) o lejana\n",
    "#       (distancia más grande) y el correspondiente municipio al que \n",
    "#       pertenece\n",
    "#\n",
    "#::nota::estoy proponiendo como 'centro' del Municipio de Madrid, como\n",
    "#        referencia para la distancia, la Lat,Long de la población (ciudad) de \n",
    "#        Madrid\n",
    "#::duda::¿cuál es la Lat,Long que debo tomar para el resto de los municipios?\n",
    "#        Un criterio que se me ocurre es, en el caso de que haya más de una\n",
    "#        población en un municpio, tomar el 'más poblado' como centro. La\n",
    "#        intuición es que será la 'cabecera' del municipio, donde está el\n",
    "#        Ayuntamiento\n",
    "#  https://es.wikipedia.org/wiki/Municipio"
   ]
  },
  {
   "cell_type": "markdown",
   "metadata": {
    "colab_type": "text",
    "id": "KLgq9NxTXnTh"
   },
   "source": [
    "### Ejercicio 7\n",
    "\n",
    "¿Cuántos Municipios hay en un radio de 5 grados de la ciudad de Barcelona?.\n"
   ]
  },
  {
   "cell_type": "markdown",
   "metadata": {
    "colab_type": "text",
    "id": "kg9cKrj0Xq8Z"
   },
   "source": [
    "### Ejercicio 8\n",
    "\n",
    "Obtenga la media, mediana, desviación estándar, valor máximo y valor mínimo de la población de los municipios de la provincia de Cantabria.\n"
   ]
  },
  {
   "cell_type": "markdown",
   "metadata": {
    "colab_type": "text",
    "id": "LHkcst3KXvwq"
   },
   "source": [
    "### Ejercicio 9\n",
    "\n",
    "Usando los métodos de agregación, calcular las poblaciones de cada provincia.\n"
   ]
  },
  {
   "cell_type": "markdown",
   "metadata": {
    "colab_type": "text",
    "id": "fwNGG62rX1Ra"
   },
   "source": [
    "### Ejercicio 10\n",
    "\n",
    "Dibujar el valor de la población para las diferentes ciudades (usar las funciones vistas en MatPlotLib).\n",
    "\n"
   ]
  },
  {
   "cell_type": "markdown",
   "metadata": {
    "colab_type": "text",
    "id": "HoJXAslaX5Wa"
   },
   "source": [
    "### Ejercicio 11\n",
    "\n",
    "Hacer un gráfico equivalente pero para las diferentes provincias. Seleccionar un punto representativo de las ciudades incluidas en cada provincia."
   ]
  },
  {
   "cell_type": "markdown",
   "metadata": {
    "colab_type": "text",
    "id": "koRxR72JWzAH"
   },
   "source": [
    "## Series Temporales"
   ]
  },
  {
   "cell_type": "markdown",
   "metadata": {
    "colab_type": "text",
    "id": "_wOV_Yl_W2Vn"
   },
   "source": [
    "Los ficheros precip.csv y precip.stn contienen los datos de precipitación diaria de los años 2000-2010 para 86 estaciones meteorológicas distribuidas por Europa. Leer ambos ficheros utilizando las funciones correspondientes de PANDAS y realizar lo siguiente:"
   ]
  },
  {
   "cell_type": "markdown",
   "metadata": {
    "colab_type": "text",
    "id": "48sFBHVFYUt6"
   },
   "source": [
    "### Ejercicio 1\n",
    "\n",
    "Obtener y exportar en csv los datos asociados a las series mensuales, estacionales y anuales\n"
   ]
  },
  {
   "cell_type": "markdown",
   "metadata": {
    "colab_type": "text",
    "id": "SAof8n77YZnx"
   },
   "source": [
    "### Ejercicio 2\n",
    "\n",
    "Dibujar la serie temporal asociada al promedio espacial de los datos mensuales, estacionales y anuales.\n"
   ]
  },
  {
   "cell_type": "markdown",
   "metadata": {
    "colab_type": "text",
    "id": "TcPMsJ7dYcSi"
   },
   "source": [
    "### Ejercicio 3\n",
    "\n",
    "Dibujar la distribución espacial de las estaciones, así como los valores promedio y máximo.\n"
   ]
  },
  {
   "cell_type": "markdown",
   "metadata": {
    "colab_type": "text",
    "id": "eTSOMDwcYiVU"
   },
   "source": [
    "### Ejercicio 4\n",
    "\n",
    "Calcular la frecuencia de días con precipitaciones mayores (>) de 1 mm."
   ]
  }
 ],
 "metadata": {
  "colab": {
   "collapsed_sections": [
    "M7vSFF7jPQ-Y",
    "udWHOiRcPQ-q",
    "njokXC44eSMB",
    "6TuMMfCfXTda",
    "P3kPn5GPXY5Z",
    "HcFbnv1bXeph",
    "koRxR72JWzAH"
   ],
   "name": "TareaPandas.ipynb",
   "provenance": [],
   "version": "0.3.2"
  },
  "kernelspec": {
   "display_name": "Python 3",
   "language": "python",
   "name": "python3"
  }
 },
 "nbformat": 4,
 "nbformat_minor": 0
}
