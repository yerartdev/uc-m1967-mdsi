{
 "cells": [
  {
   "cell_type": "markdown",
   "metadata": {
    "colab_type": "text",
    "id": "j1Va7PsCPQ-Y"
   },
   "source": [
    "# Alumno: Gerardo de Miguel González"
   ]
  },
  {
   "cell_type": "markdown",
   "metadata": {
    "colab_type": "text",
    "id": "DVrjTRLtZf3j"
   },
   "source": [
    "## Bibliotecas Numpy, Pandas y Matplotlib"
   ]
  },
  {
   "cell_type": "code",
   "execution_count": 0,
   "metadata": {
    "colab": {},
    "colab_type": "code",
    "id": "A-56raITPQ-a"
   },
   "outputs": [],
   "source": [
    "#::GMG::Importamos lo necesario para hacer la práctica\n",
    "import numpy as np\n",
    "import pandas as pd\n",
    "import matplotlib.pyplot as plt\n",
    "#import requests\n",
    "#import io"
   ]
  },
  {
   "cell_type": "markdown",
   "metadata": {
    "colab_type": "text",
    "id": "jKrgm3nPWkPs"
   },
   "source": [
    "## Núcleos de  Población"
   ]
  },
  {
   "cell_type": "markdown",
   "metadata": {
    "colab_type": "text",
    "id": "M7vSFF7jPQ-Y"
   },
   "source": [
    "### Archivo CSV\n",
    "\n",
    "Descargue el fichero núcleos de población. Usando PANDAS, contestar en el notebook, a las siguientes preguntas:"
   ]
  },
  {
   "cell_type": "code",
   "execution_count": 0,
   "metadata": {
    "colab": {},
    "colab_type": "code",
    "id": "GABd2d0CPQ-d"
   },
   "outputs": [],
   "source": [
    "#::GMG::Importamos un fichero csv y lo llamamos ndp (núcleos de población)\n",
    "# https://stackoverflow.com/questions/32400867/pandas-read-csv-from-url\n",
    "#ndp = pd.read_csv(\n",
    "#    io.StringIO(\n",
    "#        requests.get(\n",
    "#            'https://raw.githubusercontent.com/yerartdev/uc-m1967-mdsi/master/d8/Centroides_NucleosPoblacion.csv'\n",
    "#        ).content.decode('utf-8'))\n",
    "#)\n",
    "ndp = pd.read_csv(\n",
    "    'https://raw.githubusercontent.com/yerartdev/uc-m1967-mdsi/master/d8/Centroides_NucleosPoblacion.csv'\n",
    ")"
   ]
  },
  {
   "cell_type": "code",
   "execution_count": 0,
   "metadata": {
    "colab": {},
    "colab_type": "code",
    "id": "pNuOJYlhPQ-e"
   },
   "outputs": [],
   "source": [
    "#::GMG::Estudiamos la estructura de los datos que hemos importado\n",
    "indice=ndp.index\n",
    "columnas=ndp.columns\n",
    "valores=ndp.values"
   ]
  },
  {
   "cell_type": "code",
   "execution_count": 4,
   "metadata": {
    "colab": {
     "base_uri": "https://localhost:8080/",
     "height": 312
    },
    "colab_type": "code",
    "executionInfo": {
     "elapsed": 516,
     "status": "ok",
     "timestamp": 1544943504791,
     "user": {
      "displayName": "Gerardo de Miguel",
      "photoUrl": "https://lh3.googleusercontent.com/-LmFLfSn0ThU/AAAAAAAAAAI/AAAAAAAAAkg/xGe-_jxkcZA/s64/photo.jpg",
      "userId": "12735548512534412210"
     },
     "user_tz": -60
    },
    "id": "CCXITCSQPQ-h",
    "outputId": "3867fe99-1d70-40c6-ca49-9b27934699fa"
   },
   "outputs": [
    {
     "name": "stdout",
     "output_type": "stream",
     "text": [
      "Indice: RangeIndex(start=0, stop=852, step=1) \n",
      "\n",
      "Columnas: Index(['FID', 'OBJECTID', 'Cod_INE', 'Texto', 'Poblacion', 'CodMun',\n",
      "       'Municipio', 'Cod_Provin', 'Provincia', 'X', 'Y'],\n",
      "      dtype='object') \n",
      "\n",
      "Valores: \n",
      "[[0 1 35002000101 'Agüimes' 29431.0 35002 'Agüimes' 35 'Las Palmas'\n",
      "  -15.446012264 27.9005418852]\n",
      " [1 2 35003000201 'Antigua' 10458.0 35003 'Antigua' 35 'Las Palmas'\n",
      "  -14.01330083 28.418966224200002]\n",
      " [2 3 35004000301 'Arrecife' 58156.0 35004 'Arrecife' 35 'Las Palmas'\n",
      "  -13.551451235 28.9606494152]\n",
      " [3 4 35006000202 'Arucas' 36745.0 35006 'Arucas' 35 'Las Palmas'\n",
      "  -15.521511534000002 28.1174962002]\n",
      " [4 5 35009000303 'Gáldar' 24473.0 35009 'Gáldar' 35 'Las Palmas'\n",
      "  -15.654110982999999 28.1438727542]]\n"
     ]
    }
   ],
   "source": [
    "print('Indice: {} \\n\\nColumnas: {} \\n\\nValores: \\n{}'.format(\n",
    "    indice, \n",
    "    columnas, \n",
    "    valores[:5]\n",
    "    )\n",
    ")"
   ]
  },
  {
   "cell_type": "code",
   "execution_count": 5,
   "metadata": {
    "colab": {
     "base_uri": "https://localhost:8080/",
     "height": 202
    },
    "colab_type": "code",
    "executionInfo": {
     "elapsed": 573,
     "status": "ok",
     "timestamp": 1544943512615,
     "user": {
      "displayName": "Gerardo de Miguel",
      "photoUrl": "https://lh3.googleusercontent.com/-LmFLfSn0ThU/AAAAAAAAAAI/AAAAAAAAAkg/xGe-_jxkcZA/s64/photo.jpg",
      "userId": "12735548512534412210"
     },
     "user_tz": -60
    },
    "id": "YAwXstirPQ-l",
    "outputId": "0edc828c-cf0a-45fe-b114-ebff082b9e84"
   },
   "outputs": [
    {
     "data": {
      "text/html": [
       "<div>\n",
       "<style scoped>\n",
       "    .dataframe tbody tr th:only-of-type {\n",
       "        vertical-align: middle;\n",
       "    }\n",
       "\n",
       "    .dataframe tbody tr th {\n",
       "        vertical-align: top;\n",
       "    }\n",
       "\n",
       "    .dataframe thead th {\n",
       "        text-align: right;\n",
       "    }\n",
       "</style>\n",
       "<table border=\"1\" class=\"dataframe\">\n",
       "  <thead>\n",
       "    <tr style=\"text-align: right;\">\n",
       "      <th></th>\n",
       "      <th>FID</th>\n",
       "      <th>OBJECTID</th>\n",
       "      <th>Cod_INE</th>\n",
       "      <th>Texto</th>\n",
       "      <th>Poblacion</th>\n",
       "      <th>CodMun</th>\n",
       "      <th>Municipio</th>\n",
       "      <th>Cod_Provin</th>\n",
       "      <th>Provincia</th>\n",
       "      <th>X</th>\n",
       "      <th>Y</th>\n",
       "    </tr>\n",
       "  </thead>\n",
       "  <tbody>\n",
       "    <tr>\n",
       "      <th>0</th>\n",
       "      <td>0</td>\n",
       "      <td>1</td>\n",
       "      <td>35002000101</td>\n",
       "      <td>Agüimes</td>\n",
       "      <td>29431.0</td>\n",
       "      <td>35002</td>\n",
       "      <td>Agüimes</td>\n",
       "      <td>35</td>\n",
       "      <td>Las Palmas</td>\n",
       "      <td>-15.446012</td>\n",
       "      <td>27.900542</td>\n",
       "    </tr>\n",
       "    <tr>\n",
       "      <th>1</th>\n",
       "      <td>1</td>\n",
       "      <td>2</td>\n",
       "      <td>35003000201</td>\n",
       "      <td>Antigua</td>\n",
       "      <td>10458.0</td>\n",
       "      <td>35003</td>\n",
       "      <td>Antigua</td>\n",
       "      <td>35</td>\n",
       "      <td>Las Palmas</td>\n",
       "      <td>-14.013301</td>\n",
       "      <td>28.418966</td>\n",
       "    </tr>\n",
       "    <tr>\n",
       "      <th>2</th>\n",
       "      <td>2</td>\n",
       "      <td>3</td>\n",
       "      <td>35004000301</td>\n",
       "      <td>Arrecife</td>\n",
       "      <td>58156.0</td>\n",
       "      <td>35004</td>\n",
       "      <td>Arrecife</td>\n",
       "      <td>35</td>\n",
       "      <td>Las Palmas</td>\n",
       "      <td>-13.551451</td>\n",
       "      <td>28.960649</td>\n",
       "    </tr>\n",
       "    <tr>\n",
       "      <th>3</th>\n",
       "      <td>3</td>\n",
       "      <td>4</td>\n",
       "      <td>35006000202</td>\n",
       "      <td>Arucas</td>\n",
       "      <td>36745.0</td>\n",
       "      <td>35006</td>\n",
       "      <td>Arucas</td>\n",
       "      <td>35</td>\n",
       "      <td>Las Palmas</td>\n",
       "      <td>-15.521512</td>\n",
       "      <td>28.117496</td>\n",
       "    </tr>\n",
       "    <tr>\n",
       "      <th>4</th>\n",
       "      <td>4</td>\n",
       "      <td>5</td>\n",
       "      <td>35009000303</td>\n",
       "      <td>Gáldar</td>\n",
       "      <td>24473.0</td>\n",
       "      <td>35009</td>\n",
       "      <td>Gáldar</td>\n",
       "      <td>35</td>\n",
       "      <td>Las Palmas</td>\n",
       "      <td>-15.654111</td>\n",
       "      <td>28.143873</td>\n",
       "    </tr>\n",
       "  </tbody>\n",
       "</table>\n",
       "</div>"
      ],
      "text/plain": [
       "   FID  OBJECTID      Cod_INE     Texto  Poblacion  CodMun Municipio  \\\n",
       "0    0         1  35002000101   Agüimes    29431.0   35002   Agüimes   \n",
       "1    1         2  35003000201   Antigua    10458.0   35003   Antigua   \n",
       "2    2         3  35004000301  Arrecife    58156.0   35004  Arrecife   \n",
       "3    3         4  35006000202    Arucas    36745.0   35006    Arucas   \n",
       "4    4         5  35009000303    Gáldar    24473.0   35009    Gáldar   \n",
       "\n",
       "   Cod_Provin   Provincia          X          Y  \n",
       "0          35  Las Palmas -15.446012  27.900542  \n",
       "1          35  Las Palmas -14.013301  28.418966  \n",
       "2          35  Las Palmas -13.551451  28.960649  \n",
       "3          35  Las Palmas -15.521512  28.117496  \n",
       "4          35  Las Palmas -15.654111  28.143873  "
      ]
     },
     "execution_count": 5,
     "metadata": {
      "tags": []
     },
     "output_type": "execute_result"
    }
   ],
   "source": [
    "ndp.head()"
   ]
  },
  {
   "cell_type": "code",
   "execution_count": 6,
   "metadata": {
    "colab": {
     "base_uri": "https://localhost:8080/",
     "height": 202
    },
    "colab_type": "code",
    "executionInfo": {
     "elapsed": 565,
     "status": "ok",
     "timestamp": 1544943563787,
     "user": {
      "displayName": "Gerardo de Miguel",
      "photoUrl": "https://lh3.googleusercontent.com/-LmFLfSn0ThU/AAAAAAAAAAI/AAAAAAAAAkg/xGe-_jxkcZA/s64/photo.jpg",
      "userId": "12735548512534412210"
     },
     "user_tz": -60
    },
    "id": "vI0CVrujPQ-o",
    "outputId": "3281dde9-a977-4780-9e8a-6b06b072f825"
   },
   "outputs": [
    {
     "data": {
      "text/html": [
       "<div>\n",
       "<style scoped>\n",
       "    .dataframe tbody tr th:only-of-type {\n",
       "        vertical-align: middle;\n",
       "    }\n",
       "\n",
       "    .dataframe tbody tr th {\n",
       "        vertical-align: top;\n",
       "    }\n",
       "\n",
       "    .dataframe thead th {\n",
       "        text-align: right;\n",
       "    }\n",
       "</style>\n",
       "<table border=\"1\" class=\"dataframe\">\n",
       "  <thead>\n",
       "    <tr style=\"text-align: right;\">\n",
       "      <th></th>\n",
       "      <th>FID</th>\n",
       "      <th>OBJECTID</th>\n",
       "      <th>Cod_INE</th>\n",
       "      <th>Localidad</th>\n",
       "      <th>Poblacion</th>\n",
       "      <th>CodMun</th>\n",
       "      <th>Municipio</th>\n",
       "      <th>Cod_Provin</th>\n",
       "      <th>Provincia</th>\n",
       "      <th>Longitud</th>\n",
       "      <th>Latitud</th>\n",
       "    </tr>\n",
       "  </thead>\n",
       "  <tbody>\n",
       "    <tr>\n",
       "      <th>0</th>\n",
       "      <td>0</td>\n",
       "      <td>1</td>\n",
       "      <td>35002000101</td>\n",
       "      <td>Agüimes</td>\n",
       "      <td>29431.0</td>\n",
       "      <td>35002</td>\n",
       "      <td>Agüimes</td>\n",
       "      <td>35</td>\n",
       "      <td>Las Palmas</td>\n",
       "      <td>-15.446012</td>\n",
       "      <td>27.900542</td>\n",
       "    </tr>\n",
       "    <tr>\n",
       "      <th>1</th>\n",
       "      <td>1</td>\n",
       "      <td>2</td>\n",
       "      <td>35003000201</td>\n",
       "      <td>Antigua</td>\n",
       "      <td>10458.0</td>\n",
       "      <td>35003</td>\n",
       "      <td>Antigua</td>\n",
       "      <td>35</td>\n",
       "      <td>Las Palmas</td>\n",
       "      <td>-14.013301</td>\n",
       "      <td>28.418966</td>\n",
       "    </tr>\n",
       "    <tr>\n",
       "      <th>2</th>\n",
       "      <td>2</td>\n",
       "      <td>3</td>\n",
       "      <td>35004000301</td>\n",
       "      <td>Arrecife</td>\n",
       "      <td>58156.0</td>\n",
       "      <td>35004</td>\n",
       "      <td>Arrecife</td>\n",
       "      <td>35</td>\n",
       "      <td>Las Palmas</td>\n",
       "      <td>-13.551451</td>\n",
       "      <td>28.960649</td>\n",
       "    </tr>\n",
       "    <tr>\n",
       "      <th>3</th>\n",
       "      <td>3</td>\n",
       "      <td>4</td>\n",
       "      <td>35006000202</td>\n",
       "      <td>Arucas</td>\n",
       "      <td>36745.0</td>\n",
       "      <td>35006</td>\n",
       "      <td>Arucas</td>\n",
       "      <td>35</td>\n",
       "      <td>Las Palmas</td>\n",
       "      <td>-15.521512</td>\n",
       "      <td>28.117496</td>\n",
       "    </tr>\n",
       "    <tr>\n",
       "      <th>4</th>\n",
       "      <td>4</td>\n",
       "      <td>5</td>\n",
       "      <td>35009000303</td>\n",
       "      <td>Gáldar</td>\n",
       "      <td>24473.0</td>\n",
       "      <td>35009</td>\n",
       "      <td>Gáldar</td>\n",
       "      <td>35</td>\n",
       "      <td>Las Palmas</td>\n",
       "      <td>-15.654111</td>\n",
       "      <td>28.143873</td>\n",
       "    </tr>\n",
       "  </tbody>\n",
       "</table>\n",
       "</div>"
      ],
      "text/plain": [
       "   FID  OBJECTID      Cod_INE Localidad  Poblacion  CodMun Municipio  \\\n",
       "0    0         1  35002000101   Agüimes    29431.0   35002   Agüimes   \n",
       "1    1         2  35003000201   Antigua    10458.0   35003   Antigua   \n",
       "2    2         3  35004000301  Arrecife    58156.0   35004  Arrecife   \n",
       "3    3         4  35006000202    Arucas    36745.0   35006    Arucas   \n",
       "4    4         5  35009000303    Gáldar    24473.0   35009    Gáldar   \n",
       "\n",
       "   Cod_Provin   Provincia   Longitud    Latitud  \n",
       "0          35  Las Palmas -15.446012  27.900542  \n",
       "1          35  Las Palmas -14.013301  28.418966  \n",
       "2          35  Las Palmas -13.551451  28.960649  \n",
       "3          35  Las Palmas -15.521512  28.117496  \n",
       "4          35  Las Palmas -15.654111  28.143873  "
      ]
     },
     "execution_count": 6,
     "metadata": {
      "tags": []
     },
     "output_type": "execute_result"
    }
   ],
   "source": [
    "#::GMG::Hay una columna que resulta ambigua en el dataset: Texto\n",
    "#       Voy a cambiarla por Localidad\n",
    "#\n",
    "#       https://stackoverflow.com/questions/11346283/renaming-columns-in-pandas\n",
    "#       https://es.wikipedia.org/wiki/Localidad\n",
    "#\n",
    "#       Otras dos, i.e. X e Y tampoco son informativas y las voy a cambiar por\n",
    "#       que corresponden a Longitud y Latitud\n",
    "#\n",
    "# https://journeynorth.org/tm/LongitudeIntro.html\n",
    "# https://latitude.to/articles-by-country/es/spain/140414/bay-of-santander\n",
    "ndp = ndp.rename(columns={'Texto': 'Localidad',\n",
    "                          'X': 'Longitud', \n",
    "                          'Y': 'Latitud'}\n",
    "                )\n",
    "ndp.head()"
   ]
  },
  {
   "cell_type": "code",
   "execution_count": 7,
   "metadata": {
    "colab": {
     "base_uri": "https://localhost:8080/",
     "height": 69
    },
    "colab_type": "code",
    "executionInfo": {
     "elapsed": 513,
     "status": "ok",
     "timestamp": 1544943572054,
     "user": {
      "displayName": "Gerardo de Miguel",
      "photoUrl": "https://lh3.googleusercontent.com/-LmFLfSn0ThU/AAAAAAAAAAI/AAAAAAAAAkg/xGe-_jxkcZA/s64/photo.jpg",
      "userId": "12735548512534412210"
     },
     "user_tz": -60
    },
    "id": "5U4D89VdeQxh",
    "outputId": "4a7413b8-f41c-4362-cf54-60e542ff0709"
   },
   "outputs": [
    {
     "data": {
      "text/plain": [
       "Index(['FID', 'OBJECTID', 'Cod_INE', 'Localidad', 'Poblacion', 'CodMun',\n",
       "       'Municipio', 'Cod_Provin', 'Provincia', 'Longitud', 'Latitud'],\n",
       "      dtype='object')"
      ]
     },
     "execution_count": 7,
     "metadata": {
      "tags": []
     },
     "output_type": "execute_result"
    }
   ],
   "source": [
    "#::GMG::Ahora las columnas finalmente son:\n",
    "ndp.columns"
   ]
  },
  {
   "cell_type": "code",
   "execution_count": 8,
   "metadata": {
    "colab": {
     "base_uri": "https://localhost:8080/",
     "height": 35
    },
    "colab_type": "code",
    "executionInfo": {
     "elapsed": 618,
     "status": "ok",
     "timestamp": 1544943576631,
     "user": {
      "displayName": "Gerardo de Miguel",
      "photoUrl": "https://lh3.googleusercontent.com/-LmFLfSn0ThU/AAAAAAAAAAI/AAAAAAAAAkg/xGe-_jxkcZA/s64/photo.jpg",
      "userId": "12735548512534412210"
     },
     "user_tz": -60
    },
    "id": "SPXiBYPIEHVe",
    "outputId": "26e5a5c8-fcda-47fe-f2d8-04ca6d586488"
   },
   "outputs": [
    {
     "data": {
      "text/plain": [
       "(852, 11)"
      ]
     },
     "execution_count": 8,
     "metadata": {
      "tags": []
     },
     "output_type": "execute_result"
    }
   ],
   "source": [
    "#::GMG::Una idea del tamaño del dataset que tenemos entre manos\n",
    "ndp.shape"
   ]
  },
  {
   "cell_type": "markdown",
   "metadata": {
    "colab_type": "text",
    "id": "udWHOiRcPQ-q"
   },
   "source": [
    "###  **Ejercicio 1** \n"
   ]
  },
  {
   "cell_type": "markdown",
   "metadata": {
    "colab_type": "text",
    "id": "-yhOmwFZW-jy"
   },
   "source": [
    "- ¿Cuántos Municipios tienen más de 100000 habitantes? "
   ]
  },
  {
   "cell_type": "code",
   "execution_count": 9,
   "metadata": {
    "colab": {
     "base_uri": "https://localhost:8080/",
     "height": 35
    },
    "colab_type": "code",
    "executionInfo": {
     "elapsed": 550,
     "status": "ok",
     "timestamp": 1544943624014,
     "user": {
      "displayName": "Gerardo de Miguel",
      "photoUrl": "https://lh3.googleusercontent.com/-LmFLfSn0ThU/AAAAAAAAAAI/AAAAAAAAAkg/xGe-_jxkcZA/s64/photo.jpg",
      "userId": "12735548512534412210"
     },
     "user_tz": -60
    },
    "id": "bpM_88H1PQ-r",
    "outputId": "6083fda9-50ae-4e5e-e1bc-87c1fda49c1c"
   },
   "outputs": [
    {
     "name": "stdout",
     "output_type": "stream",
     "text": [
      "Hay 62 poblaciones con más de 100k habitantes.\n"
     ]
    }
   ],
   "source": [
    "#::GMG::Usamos loc con selección condicional para seleccionar las localidades\n",
    "#\n",
    "# https://www.youtube.com/watch?v=xvpNA7bC8cs \n",
    "#\n",
    "#mas_de_100k = ndp[ndp.Poblacion > 100000].loc[:,['Localidad']]\n",
    "mas_de_100k = ndp.loc[ndp.Poblacion > 100000,['Localidad']]\n",
    "print('Hay {} poblaciones con más de 100k habitantes.'.format(\n",
    "    len(mas_de_100k['Localidad'])\n",
    "   )\n",
    ")\n",
    "#::GMG::Pero esto NO es lo que nos piden ... \n",
    "#       lo que hemos hecho es calcular las poblaciones de más de 100k habitantes (!!)"
   ]
  },
  {
   "cell_type": "code",
   "execution_count": 10,
   "metadata": {
    "colab": {
     "base_uri": "https://localhost:8080/",
     "height": 35
    },
    "colab_type": "code",
    "executionInfo": {
     "elapsed": 597,
     "status": "ok",
     "timestamp": 1544943639941,
     "user": {
      "displayName": "Gerardo de Miguel",
      "photoUrl": "https://lh3.googleusercontent.com/-LmFLfSn0ThU/AAAAAAAAAAI/AAAAAAAAAkg/xGe-_jxkcZA/s64/photo.jpg",
      "userId": "12735548512534412210"
     },
     "user_tz": -60
    },
    "id": "MiM8eE4yPQ-t",
    "outputId": "5609c4a2-136a-479b-ba32-dcb775ea1367"
   },
   "outputs": [
    {
     "name": "stdout",
     "output_type": "stream",
     "text": [
      "Hay 75 municipios con más de 100k habitantes.\n"
     ]
    }
   ],
   "source": [
    "#::GMG::Lo que hay que hacer agrupar por municipios las poblaciones (!!)\n",
    "#\n",
    "# https://www.youtube.com/watch?v=qy0fDqoMJx8\n",
    "#\n",
    "habitantes_municipios = ndp[['Municipio','Poblacion']].groupby('Municipio').sum()\n",
    "print('Hay {} municipios con más de 100k habitantes.'\n",
    "      .format(\n",
    "          len(habitantes_municipios[habitantes_municipios.Poblacion > 100000])\n",
    "      )\n",
    "     )"
   ]
  },
  {
   "cell_type": "markdown",
   "metadata": {
    "colab_type": "text",
    "id": "H3S-uHG2d9ph"
   },
   "source": [
    "- ¿Cuál es la segunda ciudad más poblada?"
   ]
  },
  {
   "cell_type": "code",
   "execution_count": 11,
   "metadata": {
    "colab": {
     "base_uri": "https://localhost:8080/",
     "height": 104
    },
    "colab_type": "code",
    "executionInfo": {
     "elapsed": 774,
     "status": "ok",
     "timestamp": 1544944038388,
     "user": {
      "displayName": "Gerardo de Miguel",
      "photoUrl": "https://lh3.googleusercontent.com/-LmFLfSn0ThU/AAAAAAAAAAI/AAAAAAAAAkg/xGe-_jxkcZA/s64/photo.jpg",
      "userId": "12735548512534412210"
     },
     "user_tz": -60
    },
    "id": "Wr-7N2DmPQ-v",
    "outputId": "220e00dd-d975-4ff1-e047-22313fd5fa51"
   },
   "outputs": [
    {
     "name": "stdout",
     "output_type": "stream",
     "text": [
      "La segunda ciudad más poblada es: \n",
      "\n",
      "Localidad      Barcelona\n",
      "Poblacion    1.61934e+06\n",
      "Name: 623, dtype: object\n"
     ]
    }
   ],
   "source": [
    "#::GMG::Para obtener la segunda ciudad más poblada tenemos que obtener la lista \n",
    "#       ordenada de menor a  mayor de Poblaciones y Habitantes y seleccionar el \n",
    "#       segundo elemento por la cola de esa lista\n",
    "#       ndp.sort_values('Habitantes').iloc[-2]\n",
    "print('La segunda ciudad más poblada es: \\n\\n{}'\n",
    "      .format(\n",
    "          ndp[['Localidad','Poblacion']].sort_values('Poblacion').iloc[-2]\n",
    "      )\n",
    "     )"
   ]
  },
  {
   "cell_type": "markdown",
   "metadata": {
    "colab_type": "text",
    "id": "-KrK8GJPeCaY"
   },
   "source": [
    "- ¿Qué posición ocupa Granada en el ranking de las más pobladas?"
   ]
  },
  {
   "cell_type": "code",
   "execution_count": 12,
   "metadata": {
    "colab": {
     "base_uri": "https://localhost:8080/",
     "height": 601
    },
    "colab_type": "code",
    "executionInfo": {
     "elapsed": 525,
     "status": "ok",
     "timestamp": 1544944145378,
     "user": {
      "displayName": "Gerardo de Miguel",
      "photoUrl": "https://lh3.googleusercontent.com/-LmFLfSn0ThU/AAAAAAAAAAI/AAAAAAAAAkg/xGe-_jxkcZA/s64/photo.jpg",
      "userId": "12735548512534412210"
     },
     "user_tz": -60
    },
    "id": "m3jmb87vPQ-y",
    "outputId": "4c853700-36e3-4ea1-8027-290c17c0bf41"
   },
   "outputs": [
    {
     "data": {
      "text/html": [
       "<div>\n",
       "<style scoped>\n",
       "    .dataframe tbody tr th:only-of-type {\n",
       "        vertical-align: middle;\n",
       "    }\n",
       "\n",
       "    .dataframe tbody tr th {\n",
       "        vertical-align: top;\n",
       "    }\n",
       "\n",
       "    .dataframe thead th {\n",
       "        text-align: right;\n",
       "    }\n",
       "</style>\n",
       "<table border=\"1\" class=\"dataframe\">\n",
       "  <thead>\n",
       "    <tr style=\"text-align: right;\">\n",
       "      <th></th>\n",
       "      <th>Localidad</th>\n",
       "      <th>Poblacion</th>\n",
       "    </tr>\n",
       "  </thead>\n",
       "  <tbody>\n",
       "    <tr>\n",
       "      <th>355</th>\n",
       "      <td>Madrid</td>\n",
       "      <td>3273049.0</td>\n",
       "    </tr>\n",
       "    <tr>\n",
       "      <th>623</th>\n",
       "      <td>Barcelona</td>\n",
       "      <td>1619337.0</td>\n",
       "    </tr>\n",
       "    <tr>\n",
       "      <th>561</th>\n",
       "      <td>Valencia</td>\n",
       "      <td>809267.0</td>\n",
       "    </tr>\n",
       "    <tr>\n",
       "      <th>492</th>\n",
       "      <td>Sevilla</td>\n",
       "      <td>704198.0</td>\n",
       "    </tr>\n",
       "    <tr>\n",
       "      <th>591</th>\n",
       "      <td>Zaragoza</td>\n",
       "      <td>675121.0</td>\n",
       "    </tr>\n",
       "    <tr>\n",
       "      <th>391</th>\n",
       "      <td>Málaga</td>\n",
       "      <td>568507.0</td>\n",
       "    </tr>\n",
       "    <tr>\n",
       "      <th>420</th>\n",
       "      <td>Murcia</td>\n",
       "      <td>441345.0</td>\n",
       "    </tr>\n",
       "    <tr>\n",
       "      <th>610</th>\n",
       "      <td>Palma</td>\n",
       "      <td>404681.0</td>\n",
       "    </tr>\n",
       "    <tr>\n",
       "      <th>9</th>\n",
       "      <td>Las Palmas de Gran Canaria</td>\n",
       "      <td>383308.0</td>\n",
       "    </tr>\n",
       "    <tr>\n",
       "      <th>571</th>\n",
       "      <td>Bilbao</td>\n",
       "      <td>353187.0</td>\n",
       "    </tr>\n",
       "    <tr>\n",
       "      <th>160</th>\n",
       "      <td>Alacant/Alicante</td>\n",
       "      <td>334418.0</td>\n",
       "    </tr>\n",
       "    <tr>\n",
       "      <th>254</th>\n",
       "      <td>Córdoba</td>\n",
       "      <td>328547.0</td>\n",
       "    </tr>\n",
       "    <tr>\n",
       "      <th>565</th>\n",
       "      <td>Valladolid</td>\n",
       "      <td>315522.0</td>\n",
       "    </tr>\n",
       "    <tr>\n",
       "      <th>135</th>\n",
       "      <td>Vigo</td>\n",
       "      <td>297124.0</td>\n",
       "    </tr>\n",
       "    <tr>\n",
       "      <th>446</th>\n",
       "      <td>Gijón/Xixón</td>\n",
       "      <td>277198.0</td>\n",
       "    </tr>\n",
       "    <tr>\n",
       "      <th>642</th>\n",
       "      <td>L'Hospitalet de Llobregat</td>\n",
       "      <td>258642.0</td>\n",
       "    </tr>\n",
       "    <tr>\n",
       "      <th>67</th>\n",
       "      <td>A Coruña</td>\n",
       "      <td>246047.0</td>\n",
       "    </tr>\n",
       "    <tr>\n",
       "      <th>272</th>\n",
       "      <td>Granada</td>\n",
       "      <td>239154.0</td>\n",
       "    </tr>\n",
       "  </tbody>\n",
       "</table>\n",
       "</div>"
      ],
      "text/plain": [
       "                      Localidad  Poblacion\n",
       "355                      Madrid  3273049.0\n",
       "623                   Barcelona  1619337.0\n",
       "561                    Valencia   809267.0\n",
       "492                     Sevilla   704198.0\n",
       "591                    Zaragoza   675121.0\n",
       "391                      Málaga   568507.0\n",
       "420                      Murcia   441345.0\n",
       "610                       Palma   404681.0\n",
       "9    Las Palmas de Gran Canaria   383308.0\n",
       "571                      Bilbao   353187.0\n",
       "160            Alacant/Alicante   334418.0\n",
       "254                     Córdoba   328547.0\n",
       "565                  Valladolid   315522.0\n",
       "135                        Vigo   297124.0\n",
       "446                 Gijón/Xixón   277198.0\n",
       "642   L'Hospitalet de Llobregat   258642.0\n",
       "67                     A Coruña   246047.0\n",
       "272                     Granada   239154.0"
      ]
     },
     "execution_count": 12,
     "metadata": {
      "tags": []
     },
     "output_type": "execute_result"
    }
   ],
   "source": [
    "#::GMG::Podemos sacar una lista ordenada hasta la posición de Granada \n",
    "mas_pobladas = ndp.sort_values(by='Poblacion', \n",
    "                               ascending=False)[['Localidad','Poblacion']]\n",
    "mas_pobladas.head(18)\n",
    "#::nota::vemos que granada está en la posición \"18\""
   ]
  },
  {
   "cell_type": "code",
   "execution_count": 13,
   "metadata": {
    "colab": {
     "base_uri": "https://localhost:8080/",
     "height": 79
    },
    "colab_type": "code",
    "executionInfo": {
     "elapsed": 509,
     "status": "ok",
     "timestamp": 1544944152593,
     "user": {
      "displayName": "Gerardo de Miguel",
      "photoUrl": "https://lh3.googleusercontent.com/-LmFLfSn0ThU/AAAAAAAAAAI/AAAAAAAAAkg/xGe-_jxkcZA/s64/photo.jpg",
      "userId": "12735548512534412210"
     },
     "user_tz": -60
    },
    "id": "JuDWHEvqxhlt",
    "outputId": "a91fe9c0-a6bd-4aec-8726-3c4093fa277d"
   },
   "outputs": [
    {
     "data": {
      "text/html": [
       "<div>\n",
       "<style scoped>\n",
       "    .dataframe tbody tr th:only-of-type {\n",
       "        vertical-align: middle;\n",
       "    }\n",
       "\n",
       "    .dataframe tbody tr th {\n",
       "        vertical-align: top;\n",
       "    }\n",
       "\n",
       "    .dataframe thead th {\n",
       "        text-align: right;\n",
       "    }\n",
       "</style>\n",
       "<table border=\"1\" class=\"dataframe\">\n",
       "  <thead>\n",
       "    <tr style=\"text-align: right;\">\n",
       "      <th></th>\n",
       "      <th>Localidad</th>\n",
       "      <th>Poblacion</th>\n",
       "    </tr>\n",
       "  </thead>\n",
       "  <tbody>\n",
       "    <tr>\n",
       "      <th>272</th>\n",
       "      <td>Granada</td>\n",
       "      <td>239154.0</td>\n",
       "    </tr>\n",
       "  </tbody>\n",
       "</table>\n",
       "</div>"
      ],
      "text/plain": [
       "    Localidad  Poblacion\n",
       "272   Granada   239154.0"
      ]
     },
     "execution_count": 13,
     "metadata": {
      "tags": []
     },
     "output_type": "execute_result"
    }
   ],
   "source": [
    "#::GMG::Podemos localizar fácilmente Granada dentro del Dataframe de poblaciones\n",
    "#       ordenadas por número de habitantes.\n",
    "#       Vemos que \"Granada\" tiene un índice 272 en el Dataframe original\n",
    "mas_pobladas.loc[mas_pobladas['Localidad'] == 'Granada']"
   ]
  },
  {
   "cell_type": "code",
   "execution_count": 14,
   "metadata": {
    "colab": {
     "base_uri": "https://localhost:8080/",
     "height": 35
    },
    "colab_type": "code",
    "executionInfo": {
     "elapsed": 521,
     "status": "ok",
     "timestamp": 1544944158971,
     "user": {
      "displayName": "Gerardo de Miguel",
      "photoUrl": "https://lh3.googleusercontent.com/-LmFLfSn0ThU/AAAAAAAAAAI/AAAAAAAAAkg/xGe-_jxkcZA/s64/photo.jpg",
      "userId": "12735548512534412210"
     },
     "user_tz": -60
    },
    "id": "JZeW1k7q4i_c",
    "outputId": "6c0e4815-8a2e-4fe2-a290-0c66faf0c453"
   },
   "outputs": [
    {
     "data": {
      "text/plain": [
       "272"
      ]
     },
     "execution_count": 14,
     "metadata": {
      "tags": []
     },
     "output_type": "execute_result"
    }
   ],
   "source": [
    "#::GMG::Para obtener el index label\n",
    "# https://stackoverflow.com/questions/21800169/python-pandas-get-index-of-rows-which-column-matches-certain-value\n",
    "mas_pobladas.index[mas_pobladas['Localidad'] == 'Granada'].tolist()[0]"
   ]
  },
  {
   "cell_type": "code",
   "execution_count": 15,
   "metadata": {
    "colab": {
     "base_uri": "https://localhost:8080/",
     "height": 87
    },
    "colab_type": "code",
    "executionInfo": {
     "elapsed": 552,
     "status": "ok",
     "timestamp": 1544944167053,
     "user": {
      "displayName": "Gerardo de Miguel",
      "photoUrl": "https://lh3.googleusercontent.com/-LmFLfSn0ThU/AAAAAAAAAAI/AAAAAAAAAkg/xGe-_jxkcZA/s64/photo.jpg",
      "userId": "12735548512534412210"
     },
     "user_tz": -60
    },
    "id": "wDrWzHWa0U4z",
    "outputId": "56016dbb-0c6c-4f48-c7f7-34bf205f6759"
   },
   "outputs": [
    {
     "data": {
      "text/plain": [
       "Int64Index([355, 623, 561, 492, 591, 391, 420, 610,   9, 571,\n",
       "            ...\n",
       "            756, 841, 193, 503,  97, 525, 746, 168, 115, 307],\n",
       "           dtype='int64', length=852)"
      ]
     },
     "execution_count": 15,
     "metadata": {
      "tags": []
     },
     "output_type": "execute_result"
    }
   ],
   "source": [
    "#::GMG::La pregunta que tenemos que hacernos es, ¿podemos obtener la posición\n",
    "#       del índice de Granada dentro de los índices del nuevo Dataframe de\n",
    "#       poblaciones ordenadas?\n",
    "#       Este es el índice del que estamos hablando\n",
    "mas_pobladas.index"
   ]
  },
  {
   "cell_type": "code",
   "execution_count": 16,
   "metadata": {
    "colab": {
     "base_uri": "https://localhost:8080/",
     "height": 35
    },
    "colab_type": "code",
    "executionInfo": {
     "elapsed": 515,
     "status": "ok",
     "timestamp": 1544944174102,
     "user": {
      "displayName": "Gerardo de Miguel",
      "photoUrl": "https://lh3.googleusercontent.com/-LmFLfSn0ThU/AAAAAAAAAAI/AAAAAAAAAkg/xGe-_jxkcZA/s64/photo.jpg",
      "userId": "12735548512534412210"
     },
     "user_tz": -60
    },
    "id": "lyO8kwQw3My3",
    "outputId": "ab044367-75f0-4650-ebd4-deaeca1ab6c8"
   },
   "outputs": [
    {
     "data": {
      "text/plain": [
       "17"
      ]
     },
     "execution_count": 16,
     "metadata": {
      "tags": []
     },
     "output_type": "execute_result"
    }
   ],
   "source": [
    "#::GMG::Existe un método en pandas que nos permite localizar un índice concreto\n",
    "# https://pandas.pydata.org/pandas-docs/stable/generated/pandas.Index.get_loc.html\n",
    "#\n",
    "# ¿Cuál es la posición del índice de Granada?\n",
    "# \n",
    "mas_pobladas.index.get_loc(\n",
    "    mas_pobladas.index[mas_pobladas['Localidad'] == 'Granada'].tolist()[0])"
   ]
  },
  {
   "cell_type": "code",
   "execution_count": 17,
   "metadata": {
    "colab": {
     "base_uri": "https://localhost:8080/",
     "height": 35
    },
    "colab_type": "code",
    "executionInfo": {
     "elapsed": 527,
     "status": "ok",
     "timestamp": 1544944180613,
     "user": {
      "displayName": "Gerardo de Miguel",
      "photoUrl": "https://lh3.googleusercontent.com/-LmFLfSn0ThU/AAAAAAAAAAI/AAAAAAAAAkg/xGe-_jxkcZA/s64/photo.jpg",
      "userId": "12735548512534412210"
     },
     "user_tz": -60
    },
    "id": "hTQdGUVm3_q9",
    "outputId": "40bbddb7-9754-4e23-c76b-789d1ea1f985"
   },
   "outputs": [
    {
     "name": "stdout",
     "output_type": "stream",
     "text": [
      "Granada está en la posición 18 de la lista de las más pobladas\n"
     ]
    }
   ],
   "source": [
    "#::GMG::Solamente tenemos que recordar que en Python los índices empiezan por 0\n",
    "#       por lo que la posición es índice + 1\n",
    "print('Granada está en la posición {} de la lista de las más pobladas'\n",
    "      .format(\n",
    "          mas_pobladas.index.get_loc(\n",
    "    mas_pobladas.index[mas_pobladas['Localidad'] == 'Granada'].tolist()[0]) + 1\n",
    "      )\n",
    "     )"
   ]
  },
  {
   "cell_type": "markdown",
   "metadata": {
    "colab_type": "text",
    "id": "njokXC44eSMB"
   },
   "source": [
    "### Ejercicio 2\n",
    "\n",
    "Escriba los nombres de los 10 municipios con menos población.\n"
   ]
  },
  {
   "cell_type": "code",
   "execution_count": 18,
   "metadata": {
    "colab": {
     "base_uri": "https://localhost:8080/",
     "height": 225
    },
    "colab_type": "code",
    "executionInfo": {
     "elapsed": 574,
     "status": "ok",
     "timestamp": 1544944216573,
     "user": {
      "displayName": "Gerardo de Miguel",
      "photoUrl": "https://lh3.googleusercontent.com/-LmFLfSn0ThU/AAAAAAAAAAI/AAAAAAAAAkg/xGe-_jxkcZA/s64/photo.jpg",
      "userId": "12735548512534412210"
     },
     "user_tz": -60
    },
    "id": "j0hWnd4p0__K",
    "outputId": "b04858fe-022a-41a0-c599-2c26d9cc334b"
   },
   "outputs": [
    {
     "name": "stdout",
     "output_type": "stream",
     "text": [
      "                Poblacion\n",
      "Municipio                \n",
      "Zumarraga         10037.0\n",
      "Caldas de Reis    10045.0\n",
      "Amurrio           10050.0\n",
      "Premià de Dalt    10064.0\n",
      "Buñol             10077.0\n",
      "Bembibre          10097.0\n",
      "Ocaña             10098.0\n",
      "Sax               10099.0\n",
      "Xinzo de Limia    10245.0\n",
      "Reinosa           10277.0\n"
     ]
    }
   ],
   "source": [
    "#::GMG::Aquí hablamos de nuevo de 'municipios' por lo que hay necesidad de \n",
    "#       agrupamiento. Primero tenemos que obtener la lista ordenada de menor a \n",
    "#       mayor número de habitantes de los municipios y coger los 10 primeros\n",
    "# https://pandas.pydata.org/pandas-docs/stable/generated/pandas.DataFrame.head.html\n",
    "habitantes_municipios = ndp[\n",
    "    ['Municipio','Poblacion']\n",
    "].groupby('Municipio').sum()\n",
    "#habitantes_municipios.head()\n",
    "menos_mas_poblados = habitantes_municipios.sort_values(\n",
    "    by='Poblacion', ascending=True\n",
    ")\n",
    "print(menos_mas_poblados.head(10))"
   ]
  },
  {
   "cell_type": "code",
   "execution_count": 19,
   "metadata": {
    "colab": {
     "base_uri": "https://localhost:8080/",
     "height": 225
    },
    "colab_type": "code",
    "executionInfo": {
     "elapsed": 542,
     "status": "ok",
     "timestamp": 1544944229277,
     "user": {
      "displayName": "Gerardo de Miguel",
      "photoUrl": "https://lh3.googleusercontent.com/-LmFLfSn0ThU/AAAAAAAAAAI/AAAAAAAAAkg/xGe-_jxkcZA/s64/photo.jpg",
      "userId": "12735548512534412210"
     },
     "user_tz": -60
    },
    "id": "0jQbeXELYLC-",
    "outputId": "cbf64ddb-0790-41e1-8ec4-0ada6394bc49"
   },
   "outputs": [
    {
     "data": {
      "text/plain": [
       "Municipio\n",
       "Zumarraga         10037.0\n",
       "Caldas de Reis    10045.0\n",
       "Amurrio           10050.0\n",
       "Premià de Dalt    10064.0\n",
       "Buñol             10077.0\n",
       "Bembibre          10097.0\n",
       "Ocaña             10098.0\n",
       "Sax               10099.0\n",
       "Xinzo de Limia    10245.0\n",
       "Reinosa           10277.0\n",
       "Name: Poblacion, dtype: float64"
      ]
     },
     "execution_count": 19,
     "metadata": {
      "tags": []
     },
     "output_type": "execute_result"
    }
   ],
   "source": [
    "#::GMG::Más compacto, 10 primeros elementos de la lista de habitantes por \n",
    "#municipio ordenada de menor a mayor\n",
    "ndp.groupby('Municipio').Poblacion.sum().sort_values().head(10)"
   ]
  },
  {
   "cell_type": "markdown",
   "metadata": {
    "colab_type": "text",
    "id": "6TuMMfCfXTda"
   },
   "source": [
    "### Ejercicio 3\n",
    "\n",
    "¿Cuántos municipios de León tienen más de 6000 habitantes?.\n"
   ]
  },
  {
   "cell_type": "code",
   "execution_count": 20,
   "metadata": {
    "colab": {
     "base_uri": "https://localhost:8080/",
     "height": 325
    },
    "colab_type": "code",
    "executionInfo": {
     "elapsed": 524,
     "status": "ok",
     "timestamp": 1544944301764,
     "user": {
      "displayName": "Gerardo de Miguel",
      "photoUrl": "https://lh3.googleusercontent.com/-LmFLfSn0ThU/AAAAAAAAAAI/AAAAAAAAAkg/xGe-_jxkcZA/s64/photo.jpg",
      "userId": "12735548512534412210"
     },
     "user_tz": -60
    },
    "id": "zWMew2f25QPE",
    "outputId": "248d6923-b9f5-428e-a2f0-561eed13a4a6"
   },
   "outputs": [
    {
     "data": {
      "text/html": [
       "<div>\n",
       "<style scoped>\n",
       "    .dataframe tbody tr th:only-of-type {\n",
       "        vertical-align: middle;\n",
       "    }\n",
       "\n",
       "    .dataframe tbody tr th {\n",
       "        vertical-align: top;\n",
       "    }\n",
       "\n",
       "    .dataframe thead th {\n",
       "        text-align: right;\n",
       "    }\n",
       "</style>\n",
       "<table border=\"1\" class=\"dataframe\">\n",
       "  <thead>\n",
       "    <tr style=\"text-align: right;\">\n",
       "      <th></th>\n",
       "      <th>Localidad</th>\n",
       "      <th>Municipio</th>\n",
       "      <th>Poblacion</th>\n",
       "    </tr>\n",
       "  </thead>\n",
       "  <tbody>\n",
       "    <tr>\n",
       "      <th>96</th>\n",
       "      <td>Astorga</td>\n",
       "      <td>Astorga</td>\n",
       "      <td>12015.0</td>\n",
       "    </tr>\n",
       "    <tr>\n",
       "      <th>97</th>\n",
       "      <td>Bembibre</td>\n",
       "      <td>Bembibre</td>\n",
       "      <td>10097.0</td>\n",
       "    </tr>\n",
       "    <tr>\n",
       "      <th>98</th>\n",
       "      <td>Ponferrada</td>\n",
       "      <td>Ponferrada</td>\n",
       "      <td>68767.0</td>\n",
       "    </tr>\n",
       "    <tr>\n",
       "      <th>99</th>\n",
       "      <td>Villablino</td>\n",
       "      <td>Villablino</td>\n",
       "      <td>10553.0</td>\n",
       "    </tr>\n",
       "    <tr>\n",
       "      <th>327</th>\n",
       "      <td>La Bañeza</td>\n",
       "      <td>La Bañeza</td>\n",
       "      <td>11050.0</td>\n",
       "    </tr>\n",
       "    <tr>\n",
       "      <th>328</th>\n",
       "      <td>León</td>\n",
       "      <td>León</td>\n",
       "      <td>134012.0</td>\n",
       "    </tr>\n",
       "    <tr>\n",
       "      <th>329</th>\n",
       "      <td>San Andrés del Rabanedo</td>\n",
       "      <td>San Andrés del Rabanedo</td>\n",
       "      <td>31306.0</td>\n",
       "    </tr>\n",
       "    <tr>\n",
       "      <th>330</th>\n",
       "      <td>Villaquilambre</td>\n",
       "      <td>Villaquilambre</td>\n",
       "      <td>17631.0</td>\n",
       "    </tr>\n",
       "    <tr>\n",
       "      <th>751</th>\n",
       "      <td>Trobajo del Camino</td>\n",
       "      <td>San Andrés del Rabanedo</td>\n",
       "      <td>21231.0</td>\n",
       "    </tr>\n",
       "  </tbody>\n",
       "</table>\n",
       "</div>"
      ],
      "text/plain": [
       "                   Localidad                Municipio  Poblacion\n",
       "96                   Astorga                  Astorga    12015.0\n",
       "97                  Bembibre                 Bembibre    10097.0\n",
       "98                Ponferrada               Ponferrada    68767.0\n",
       "99                Villablino               Villablino    10553.0\n",
       "327                La Bañeza                La Bañeza    11050.0\n",
       "328                     León                     León   134012.0\n",
       "329  San Andrés del Rabanedo  San Andrés del Rabanedo    31306.0\n",
       "330           Villaquilambre           Villaquilambre    17631.0\n",
       "751       Trobajo del Camino  San Andrés del Rabanedo    21231.0"
      ]
     },
     "execution_count": 20,
     "metadata": {
      "tags": []
     },
     "output_type": "execute_result"
    }
   ],
   "source": [
    "#::GMG::Aquí en primer lugar tenemos que seleccionar todos los municipios\n",
    "#       dentro de la provincia de León e indexarlos con un condicional\n",
    "#       sobre el número de sus habitantes\n",
    "poblaciones_leon = ndp[ndp['Provincia'] == 'León']\n",
    "#::GMG::Los municipios de León tienen una sola población por lo que no\n",
    "#       hace falta hacer ninguna agregación\n",
    "poblaciones_leon.loc[:,['Localidad','Municipio', 'Poblacion']]"
   ]
  },
  {
   "cell_type": "code",
   "execution_count": 21,
   "metadata": {
    "colab": {
     "base_uri": "https://localhost:8080/",
     "height": 191
    },
    "colab_type": "code",
    "executionInfo": {
     "elapsed": 628,
     "status": "ok",
     "timestamp": 1544944314444,
     "user": {
      "displayName": "Gerardo de Miguel",
      "photoUrl": "https://lh3.googleusercontent.com/-LmFLfSn0ThU/AAAAAAAAAAI/AAAAAAAAAkg/xGe-_jxkcZA/s64/photo.jpg",
      "userId": "12735548512534412210"
     },
     "user_tz": -60
    },
    "id": "B_ZryFe7DVuj",
    "outputId": "6228c58c-518d-4a46-a708-1632268ea590"
   },
   "outputs": [
    {
     "name": "stdout",
     "output_type": "stream",
     "text": [
      "                   Municipio  Poblacion\n",
      "97                  Bembibre    10097.0\n",
      "99                Villablino    10553.0\n",
      "327                La Bañeza    11050.0\n",
      "96                   Astorga    12015.0\n",
      "330           Villaquilambre    17631.0\n",
      "751  San Andrés del Rabanedo    21231.0\n",
      "329  San Andrés del Rabanedo    31306.0\n",
      "98                Ponferrada    68767.0\n",
      "328                     León   134012.0\n"
     ]
    }
   ],
   "source": [
    "mas_de_6k = poblaciones_leon.loc[poblaciones_leon['Poblacion'] > 6000,\n",
    "                                 ['Municipio', 'Poblacion']\n",
    "                                ]\n",
    "print(mas_de_6k.sort_values(by='Poblacion', ascending=True))"
   ]
  },
  {
   "cell_type": "markdown",
   "metadata": {
    "colab_type": "text",
    "id": "P3kPn5GPXY5Z"
   },
   "source": [
    "### Ejercicio 4\n",
    "\n",
    "¿Cuál es el municipio situado más al Norte? (Usar el valor de la coordenada \"Y\" que representa la latitud en grados). Proporcione también la provincia a la que pertenece y su población.\n"
   ]
  },
  {
   "cell_type": "code",
   "execution_count": 22,
   "metadata": {
    "colab": {
     "base_uri": "https://localhost:8080/",
     "height": 79
    },
    "colab_type": "code",
    "executionInfo": {
     "elapsed": 559,
     "status": "ok",
     "timestamp": 1544944361821,
     "user": {
      "displayName": "Gerardo de Miguel",
      "photoUrl": "https://lh3.googleusercontent.com/-LmFLfSn0ThU/AAAAAAAAAAI/AAAAAAAAAkg/xGe-_jxkcZA/s64/photo.jpg",
      "userId": "12735548512534412210"
     },
     "user_tz": -60
    },
    "id": "dTUfQhtjIFZh",
    "outputId": "29c29885-1259-4451-9937-faec0c77eb11"
   },
   "outputs": [
    {
     "data": {
      "text/html": [
       "<div>\n",
       "<style scoped>\n",
       "    .dataframe tbody tr th:only-of-type {\n",
       "        vertical-align: middle;\n",
       "    }\n",
       "\n",
       "    .dataframe tbody tr th {\n",
       "        vertical-align: top;\n",
       "    }\n",
       "\n",
       "    .dataframe thead th {\n",
       "        text-align: right;\n",
       "    }\n",
       "</style>\n",
       "<table border=\"1\" class=\"dataframe\">\n",
       "  <thead>\n",
       "    <tr style=\"text-align: right;\">\n",
       "      <th></th>\n",
       "      <th>Localidad</th>\n",
       "      <th>Municipio</th>\n",
       "      <th>Provincia</th>\n",
       "      <th>Poblacion</th>\n",
       "    </tr>\n",
       "  </thead>\n",
       "  <tbody>\n",
       "    <tr>\n",
       "      <th>104</th>\n",
       "      <td>Viveiro</td>\n",
       "      <td>Viveiro</td>\n",
       "      <td>Lugo</td>\n",
       "      <td>16211.0</td>\n",
       "    </tr>\n",
       "  </tbody>\n",
       "</table>\n",
       "</div>"
      ],
      "text/plain": [
       "    Localidad Municipio Provincia  Poblacion\n",
       "104   Viveiro   Viveiro      Lugo    16211.0"
      ]
     },
     "execution_count": 22,
     "metadata": {
      "tags": []
     },
     "output_type": "execute_result"
    }
   ],
   "source": [
    "#::GMG::Lo que queremos saber es cuál es el municipio que se encuentra\n",
    "#       más el norte, que será el que tenga la localidad que se encuentra\n",
    "#       más al norte, la que tenga la latitud más alta.\n",
    "#       Además queremos saber a qué provincia pertenece el municipio\n",
    "#       y el número de habitantes que tiene.  \n",
    "#\n",
    "#::GMG::La población que tiene la latitud más alta es\n",
    "ndp.loc[ndp.Latitud == ndp.Latitud.max(),\n",
    "        ['Localidad','Municipio', 'Provincia', 'Poblacion']\n",
    "       ]"
   ]
  },
  {
   "cell_type": "code",
   "execution_count": 23,
   "metadata": {
    "colab": {
     "base_uri": "https://localhost:8080/",
     "height": 52
    },
    "colab_type": "code",
    "executionInfo": {
     "elapsed": 564,
     "status": "ok",
     "timestamp": 1544944369536,
     "user": {
      "displayName": "Gerardo de Miguel",
      "photoUrl": "https://lh3.googleusercontent.com/-LmFLfSn0ThU/AAAAAAAAAAI/AAAAAAAAAkg/xGe-_jxkcZA/s64/photo.jpg",
      "userId": "12735548512534412210"
     },
     "user_tz": -60
    },
    "id": "V_DAcpvDee1Y",
    "outputId": "f8d8b5e3-780c-410b-cf50-91b85d75e334"
   },
   "outputs": [
    {
     "name": "stdout",
     "output_type": "stream",
     "text": [
      "El municipio situado más al norte es Viveiro \n",
      "que pertenece a la provincia de Lugo y tiene 16211.0 habitantes.\n"
     ]
    }
   ],
   "source": [
    "#::GMG::A aprtir de aquí ya tenemos la respuesta\n",
    "municipio_mas_al_norte = ndp.loc[ndp.Latitud == ndp.Latitud.max(), \n",
    "                                 'Municipio'].iloc[0]\n",
    "print('''El municipio situado más al norte es {} \n",
    "que pertenece a la provincia de {} y tiene {} habitantes.'''.format(\n",
    "   municipio_mas_al_norte,\n",
    "   ndp[ndp.Municipio == municipio_mas_al_norte]['Provincia'].iloc[0],\n",
    "   ndp[ndp.Municipio == municipio_mas_al_norte].groupby(\n",
    "       'Municipio').sum()['Poblacion'].iloc[0]\n",
    "     )\n",
    ")"
   ]
  },
  {
   "cell_type": "markdown",
   "metadata": {
    "colab_type": "text",
    "id": "HcFbnv1bXeph"
   },
   "source": [
    "### Ejercicio 5\n",
    "\n",
    "¿Cual es el municipio de la provincia de Cantabria situado más al Este?. ¿Cual es el situado más al Oeste?.\n"
   ]
  },
  {
   "cell_type": "code",
   "execution_count": 24,
   "metadata": {
    "colab": {
     "base_uri": "https://localhost:8080/",
     "height": 277
    },
    "colab_type": "code",
    "executionInfo": {
     "elapsed": 539,
     "status": "ok",
     "timestamp": 1544944384249,
     "user": {
      "displayName": "Gerardo de Miguel",
      "photoUrl": "https://lh3.googleusercontent.com/-LmFLfSn0ThU/AAAAAAAAAAI/AAAAAAAAAkg/xGe-_jxkcZA/s64/photo.jpg",
      "userId": "12735548512534412210"
     },
     "user_tz": -60
    },
    "id": "xAaFryDLz0sk",
    "outputId": "dac7d626-5533-43b2-9822-39ffed0caaac"
   },
   "outputs": [
    {
     "name": "stdout",
     "output_type": "stream",
     "text": [
      "                  Localidad               Municipio    Latitud  Longitud\n",
      "462            El Astillero            El Astillero  43.400912 -3.817215\n",
      "463                Muriedas                 Camargo  43.407973 -3.884857\n",
      "464         Castro-Urdiales         Castro-Urdiales  43.384584 -3.216038\n",
      "465  Los Corrales de Buelna  Los Corrales de Buelna  43.260103 -4.062094\n",
      "466                  Laredo                  Laredo  43.410657 -3.417285\n",
      "467                  Renedo                Piélagos  43.353299 -3.950722\n",
      "468                 Reinosa                 Reinosa  43.002064 -4.138583\n",
      "469    Santa Cruz de Bezana    Santa Cruz de Bezana  43.443018 -3.904522\n",
      "470               Santander               Santander  43.462979 -3.804748\n",
      "471                 Santoña                 Santoña  43.444262 -3.455307\n",
      "472             Torrelavega             Torrelavega  43.351629 -4.047165\n",
      "810            Peñacastillo               Santander  43.448140 -3.863961\n",
      "811               San Román               Santander  43.470062 -3.858462\n",
      "812               Campuzano             Torrelavega  43.341213 -4.051823\n"
     ]
    }
   ],
   "source": [
    "#::GMG::Hagamos 'inventario' de las localidades y municipios de Cantabria ...\n",
    "localidades_cantabria = ndp.loc[ndp.Provincia == 'Cantabria',\n",
    "                               ['Localidad',\n",
    "                                'Municipio',\n",
    "                                'Latitud',\n",
    "                                'Longitud']\n",
    "                              ]\n",
    "print(localidades_cantabria)\n",
    "#::nota::nos damos cuenta de que NO están los 102 municipios de la 'provincia'\n",
    "#        de Cantabria ...\n",
    "# https://es.wikipedia.org/wiki/Cantabria#Municipios"
   ]
  },
  {
   "cell_type": "code",
   "execution_count": 25,
   "metadata": {
    "colab": {
     "base_uri": "https://localhost:8080/",
     "height": 52
    },
    "colab_type": "code",
    "executionInfo": {
     "elapsed": 536,
     "status": "ok",
     "timestamp": 1544944406527,
     "user": {
      "displayName": "Gerardo de Miguel",
      "photoUrl": "https://lh3.googleusercontent.com/-LmFLfSn0ThU/AAAAAAAAAAI/AAAAAAAAAkg/xGe-_jxkcZA/s64/photo.jpg",
      "userId": "12735548512534412210"
     },
     "user_tz": -60
    },
    "id": "6FVOmHD_4Pt0",
    "outputId": "317be2e1-01c6-4e96-a80e-516445dc4dd3"
   },
   "outputs": [
    {
     "name": "stdout",
     "output_type": "stream",
     "text": [
      "El municipio más oriental de Cantabria en el Dataframe es Castro-Urdiales\n",
      "y el municipio más occidental es Reinosa\n"
     ]
    }
   ],
   "source": [
    "#::GMG::Solamente podemos calcular los municipios que estén más al este (oeste)\n",
    "#       de los que tenemos en el Dataframe de Pandas :)\n",
    "#\n",
    "#       El parámetro a considerar aquí es la longitud. \n",
    "#       El municipio con la población que tenga la mayor longitud estará más\n",
    "#       al este y el que tenga la de menor longitud más al oeste\n",
    "#::nota::estamos operando con números negativos porque Cantabria está a la\n",
    "#        izda del meridiano de Greenwich\n",
    "print('''El municipio más oriental de Cantabria en el Dataframe es {}\n",
    "y el municipio más occidental es {}'''.format(\n",
    "       localidades_cantabria.loc[localidades_cantabria.Longitud == \\\n",
    "                          localidades_cantabria.Longitud.max(), \n",
    "                          'Municipio'].iloc[0],\n",
    "       localidades_cantabria.loc[localidades_cantabria.Longitud == \\\n",
    "                          localidades_cantabria.Longitud.min(), \n",
    "                          'Municipio'].iloc[0]\n",
    "     )\n",
    ")\n"
   ]
  },
  {
   "cell_type": "markdown",
   "metadata": {
    "colab_type": "text",
    "id": "CgnnswGwXjHR"
   },
   "source": [
    "### Ejercicio 6\n",
    "\n",
    "Dígame los nombres de los Municipios más cercano y más lejano a Madrid. Para ello debe calcular la distancia en todos ellos y Madrid. Por supuesto, Madrid no cuenta.\n"
   ]
  },
  {
   "cell_type": "code",
   "execution_count": 0,
   "metadata": {
    "colab": {},
    "colab_type": "code",
    "id": "TsL7Zuin54a0"
   },
   "outputs": [],
   "source": [
    "#::GMG::Los conceptos 'más cercano' y 'más lejano' tiene que basarse en una \n",
    "#       distancia y puesto que estamos hablando de latitudes y longitudes sobre\n",
    "#       un geoide que es la tierra lo propio es usar la fórmula de 'haversine' :\n",
    "#\n",
    "# https://en.wikipedia.org/wiki/Haversine_formula\n",
    "#\n",
    "#::note::Hay una biblioteca en Pypi:\n",
    "#\n",
    "# https://pypi.org/project/haversine/ \n",
    "#\n",
    "# pero voy a usar una implementación con Numpy (eficiente):\n",
    "#\n",
    "# https://stackoverflow.com/questions/29545704/fast-haversine-approximation-python-pandas\n",
    "#\n",
    "# http://www.movable-type.co.uk/scripts/latlong.html\n",
    "#\n",
    "def haversine_np(lon1, lat1, lon2, lat2):\n",
    "    \"\"\"\n",
    "    Calculate the great circle distance between two points\n",
    "    on the earth (specified in decimal degrees)\n",
    "\n",
    "    All args must be of equal length.    \n",
    "\n",
    "    \"\"\"\n",
    "    lon1, lat1, lon2, lat2 = map(np.radians, [lon1, lat1, lon2, lat2])\n",
    "\n",
    "    dlon = lon2 - lon1\n",
    "    dlat = lat2 - lat1\n",
    "\n",
    "    a = np.sin(dlat/2.0)**2 + np.cos(lat1) * np.cos(lat2) * np.sin(dlon/2.0)**2\n",
    "\n",
    "    c = 2 * np.arcsin(np.sqrt(a))\n",
    "    km = 6367 * c\n",
    "    return km"
   ]
  },
  {
   "cell_type": "code",
   "execution_count": 27,
   "metadata": {
    "colab": {
     "base_uri": "https://localhost:8080/",
     "height": 79
    },
    "colab_type": "code",
    "executionInfo": {
     "elapsed": 586,
     "status": "ok",
     "timestamp": 1544944473131,
     "user": {
      "displayName": "Gerardo de Miguel",
      "photoUrl": "https://lh3.googleusercontent.com/-LmFLfSn0ThU/AAAAAAAAAAI/AAAAAAAAAkg/xGe-_jxkcZA/s64/photo.jpg",
      "userId": "12735548512534412210"
     },
     "user_tz": -60
    },
    "id": "Av-BMjNFPVh8",
    "outputId": "1cc08dcf-f205-4e3c-bf6c-92a49a836143"
   },
   "outputs": [
    {
     "data": {
      "text/html": [
       "<div>\n",
       "<style scoped>\n",
       "    .dataframe tbody tr th:only-of-type {\n",
       "        vertical-align: middle;\n",
       "    }\n",
       "\n",
       "    .dataframe tbody tr th {\n",
       "        vertical-align: top;\n",
       "    }\n",
       "\n",
       "    .dataframe thead th {\n",
       "        text-align: right;\n",
       "    }\n",
       "</style>\n",
       "<table border=\"1\" class=\"dataframe\">\n",
       "  <thead>\n",
       "    <tr style=\"text-align: right;\">\n",
       "      <th></th>\n",
       "      <th>FID</th>\n",
       "      <th>OBJECTID</th>\n",
       "      <th>Cod_INE</th>\n",
       "      <th>Localidad</th>\n",
       "      <th>Poblacion</th>\n",
       "      <th>CodMun</th>\n",
       "      <th>Municipio</th>\n",
       "      <th>Cod_Provin</th>\n",
       "      <th>Provincia</th>\n",
       "      <th>Longitud</th>\n",
       "      <th>Latitud</th>\n",
       "    </tr>\n",
       "  </thead>\n",
       "  <tbody>\n",
       "    <tr>\n",
       "      <th>355</th>\n",
       "      <td>355</td>\n",
       "      <td>356</td>\n",
       "      <td>28079000101</td>\n",
       "      <td>Madrid</td>\n",
       "      <td>3273049.0</td>\n",
       "      <td>28079</td>\n",
       "      <td>Madrid</td>\n",
       "      <td>28</td>\n",
       "      <td>Madrid</td>\n",
       "      <td>-3.703797</td>\n",
       "      <td>40.41663</td>\n",
       "    </tr>\n",
       "  </tbody>\n",
       "</table>\n",
       "</div>"
      ],
      "text/plain": [
       "     FID  OBJECTID      Cod_INE Localidad  Poblacion  CodMun Municipio  \\\n",
       "355  355       356  28079000101    Madrid  3273049.0   28079    Madrid   \n",
       "\n",
       "     Cod_Provin Provincia  Longitud   Latitud  \n",
       "355          28    Madrid -3.703797  40.41663  "
      ]
     },
     "execution_count": 27,
     "metadata": {
      "tags": []
     },
     "output_type": "execute_result"
    }
   ],
   "source": [
    "#::GMG:: En primer lugar el punto de referencia que tenemos para calcular la\n",
    "#        distancia es la localidad de Madrid\n",
    "#\n",
    "#  https://es.wikipedia.org/wiki/Municipio\n",
    "#referencia = ndp.loc[ndp['Localidad'] == 'Madrid',['Longitud','Latitud']]\n",
    "referencia = ndp.loc[ndp['Localidad'] == 'Madrid',:]\n",
    "referencia"
   ]
  },
  {
   "cell_type": "code",
   "execution_count": 28,
   "metadata": {
    "colab": {
     "base_uri": "https://localhost:8080/",
     "height": 35
    },
    "colab_type": "code",
    "executionInfo": {
     "elapsed": 548,
     "status": "ok",
     "timestamp": 1544944479400,
     "user": {
      "displayName": "Gerardo de Miguel",
      "photoUrl": "https://lh3.googleusercontent.com/-LmFLfSn0ThU/AAAAAAAAAAI/AAAAAAAAAkg/xGe-_jxkcZA/s64/photo.jpg",
      "userId": "12735548512534412210"
     },
     "user_tz": -60
    },
    "id": "qHMfc15UiSM3",
    "outputId": "eb3fbe02-5d48-4bf2-8f2f-0af6be04901f"
   },
   "outputs": [
    {
     "name": "stdout",
     "output_type": "stream",
     "text": [
      "El punto de referencia es Madrid [Lon: -3.7037970760000003, Lat: 40.4166300011]\n"
     ]
    }
   ],
   "source": [
    "print('El punto de referencia es {} [Lon: {}, Lat: {}]'.format(\n",
    "        referencia.Localidad.values[0],\n",
    "        referencia.Longitud.values[0],\n",
    "        referencia.Latitud.values[0],\n",
    "     )\n",
    ")"
   ]
  },
  {
   "cell_type": "code",
   "execution_count": 0,
   "metadata": {
    "colab": {},
    "colab_type": "code",
    "id": "Kb_T-bpy9LIZ"
   },
   "outputs": [],
   "source": [
    "#::GMG::nota::Otras maneras de obtener la longitud y latitud\n",
    "#referencia.iloc[:,-2:]\n",
    "#referencia.iloc[:,-2:].values\n",
    "#referencia.iloc[:,-2:].values.shape\n",
    "#referencia.iloc[:,-2:].values[0]\n",
    "#referencia.iloc[:,-2:].values[0,0]\n",
    "#referencia.iloc[:,-2:].values[0,1]\n",
    "#referencia.loc[:,['Longitud','Latitud']].values"
   ]
  },
  {
   "cell_type": "code",
   "execution_count": 29,
   "metadata": {
    "colab": {
     "base_uri": "https://localhost:8080/",
     "height": 202
    },
    "colab_type": "code",
    "executionInfo": {
     "elapsed": 521,
     "status": "ok",
     "timestamp": 1544944493142,
     "user": {
      "displayName": "Gerardo de Miguel",
      "photoUrl": "https://lh3.googleusercontent.com/-LmFLfSn0ThU/AAAAAAAAAAI/AAAAAAAAAkg/xGe-_jxkcZA/s64/photo.jpg",
      "userId": "12735548512534412210"
     },
     "user_tz": -60
    },
    "id": "c3ZB64irfh58",
    "outputId": "359fb569-05b9-45a0-89cc-8a53becf728a"
   },
   "outputs": [
    {
     "data": {
      "text/html": [
       "<div>\n",
       "<style scoped>\n",
       "    .dataframe tbody tr th:only-of-type {\n",
       "        vertical-align: middle;\n",
       "    }\n",
       "\n",
       "    .dataframe tbody tr th {\n",
       "        vertical-align: top;\n",
       "    }\n",
       "\n",
       "    .dataframe thead th {\n",
       "        text-align: right;\n",
       "    }\n",
       "</style>\n",
       "<table border=\"1\" class=\"dataframe\">\n",
       "  <thead>\n",
       "    <tr style=\"text-align: right;\">\n",
       "      <th></th>\n",
       "      <th>FID</th>\n",
       "      <th>OBJECTID</th>\n",
       "      <th>Cod_INE</th>\n",
       "      <th>Localidad</th>\n",
       "      <th>Poblacion</th>\n",
       "      <th>CodMun</th>\n",
       "      <th>Municipio</th>\n",
       "      <th>Cod_Provin</th>\n",
       "      <th>Provincia</th>\n",
       "      <th>Longitud</th>\n",
       "      <th>Latitud</th>\n",
       "    </tr>\n",
       "  </thead>\n",
       "  <tbody>\n",
       "    <tr>\n",
       "      <th>0</th>\n",
       "      <td>0</td>\n",
       "      <td>1</td>\n",
       "      <td>35002000101</td>\n",
       "      <td>Agüimes</td>\n",
       "      <td>29431.0</td>\n",
       "      <td>35002</td>\n",
       "      <td>Agüimes</td>\n",
       "      <td>35</td>\n",
       "      <td>Las Palmas</td>\n",
       "      <td>-15.446012</td>\n",
       "      <td>27.900542</td>\n",
       "    </tr>\n",
       "    <tr>\n",
       "      <th>1</th>\n",
       "      <td>1</td>\n",
       "      <td>2</td>\n",
       "      <td>35003000201</td>\n",
       "      <td>Antigua</td>\n",
       "      <td>10458.0</td>\n",
       "      <td>35003</td>\n",
       "      <td>Antigua</td>\n",
       "      <td>35</td>\n",
       "      <td>Las Palmas</td>\n",
       "      <td>-14.013301</td>\n",
       "      <td>28.418966</td>\n",
       "    </tr>\n",
       "    <tr>\n",
       "      <th>2</th>\n",
       "      <td>2</td>\n",
       "      <td>3</td>\n",
       "      <td>35004000301</td>\n",
       "      <td>Arrecife</td>\n",
       "      <td>58156.0</td>\n",
       "      <td>35004</td>\n",
       "      <td>Arrecife</td>\n",
       "      <td>35</td>\n",
       "      <td>Las Palmas</td>\n",
       "      <td>-13.551451</td>\n",
       "      <td>28.960649</td>\n",
       "    </tr>\n",
       "    <tr>\n",
       "      <th>3</th>\n",
       "      <td>3</td>\n",
       "      <td>4</td>\n",
       "      <td>35006000202</td>\n",
       "      <td>Arucas</td>\n",
       "      <td>36745.0</td>\n",
       "      <td>35006</td>\n",
       "      <td>Arucas</td>\n",
       "      <td>35</td>\n",
       "      <td>Las Palmas</td>\n",
       "      <td>-15.521512</td>\n",
       "      <td>28.117496</td>\n",
       "    </tr>\n",
       "    <tr>\n",
       "      <th>4</th>\n",
       "      <td>4</td>\n",
       "      <td>5</td>\n",
       "      <td>35009000303</td>\n",
       "      <td>Gáldar</td>\n",
       "      <td>24473.0</td>\n",
       "      <td>35009</td>\n",
       "      <td>Gáldar</td>\n",
       "      <td>35</td>\n",
       "      <td>Las Palmas</td>\n",
       "      <td>-15.654111</td>\n",
       "      <td>28.143873</td>\n",
       "    </tr>\n",
       "  </tbody>\n",
       "</table>\n",
       "</div>"
      ],
      "text/plain": [
       "   FID  OBJECTID      Cod_INE Localidad  Poblacion  CodMun Municipio  \\\n",
       "0    0         1  35002000101   Agüimes    29431.0   35002   Agüimes   \n",
       "1    1         2  35003000201   Antigua    10458.0   35003   Antigua   \n",
       "2    2         3  35004000301  Arrecife    58156.0   35004  Arrecife   \n",
       "3    3         4  35006000202    Arucas    36745.0   35006    Arucas   \n",
       "4    4         5  35009000303    Gáldar    24473.0   35009    Gáldar   \n",
       "\n",
       "   Cod_Provin   Provincia   Longitud    Latitud  \n",
       "0          35  Las Palmas -15.446012  27.900542  \n",
       "1          35  Las Palmas -14.013301  28.418966  \n",
       "2          35  Las Palmas -13.551451  28.960649  \n",
       "3          35  Las Palmas -15.521512  28.117496  \n",
       "4          35  Las Palmas -15.654111  28.143873  "
      ]
     },
     "execution_count": 29,
     "metadata": {
      "tags": []
     },
     "output_type": "execute_result"
    }
   ],
   "source": [
    "#::GMG::La lista de candidatos sobre la que tenemos que calcular la distancia\n",
    "#       son 'el resto' de las localidades del dataset\n",
    "candidatos = ndp.loc[ndp['Municipio'] != 'Madrid',:]\n",
    "candidatos.head()"
   ]
  },
  {
   "cell_type": "code",
   "execution_count": 30,
   "metadata": {
    "colab": {
     "base_uri": "https://localhost:8080/",
     "height": 35
    },
    "colab_type": "code",
    "executionInfo": {
     "elapsed": 529,
     "status": "ok",
     "timestamp": 1544944510124,
     "user": {
      "displayName": "Gerardo de Miguel",
      "photoUrl": "https://lh3.googleusercontent.com/-LmFLfSn0ThU/AAAAAAAAAAI/AAAAAAAAAkg/xGe-_jxkcZA/s64/photo.jpg",
      "userId": "12735548512534412210"
     },
     "user_tz": -60
    },
    "id": "wg_baayq_X8W",
    "outputId": "2e34f6e9-cb73-48aa-807d-113472c6b2b7"
   },
   "outputs": [
    {
     "name": "stdout",
     "output_type": "stream",
     "text": [
      "La distancia de Madrid a Santander es 338.6286092834457 km.\n"
     ]
    }
   ],
   "source": [
    "#::GMG::nota::ejemplo de cálculo de distancia a ... Santander\n",
    "santander = candidatos.loc[candidatos['Localidad'] == 'Santander',\n",
    "                           ['Longitud','Latitud']\n",
    "                          ]\n",
    "\n",
    "print('La distancia de Madrid a Santander es {} km.'.format(\n",
    "      haversine_np(\n",
    "            referencia.Longitud.values[0],\n",
    "            referencia.Latitud.values[0],\n",
    "            santander.Longitud.values[0],\n",
    "            santander.Latitud.values[0]\n",
    "         )        \n",
    "     )\n",
    ")"
   ]
  },
  {
   "cell_type": "code",
   "execution_count": 0,
   "metadata": {
    "colab": {},
    "colab_type": "code",
    "id": "jhrWbZS0D6Fw"
   },
   "outputs": [],
   "source": [
    "#::GMG::Ahora obtenemos la serie de distancias de los candidatos a Madrid\n",
    "#\n",
    "# https://www.youtube.com/watch?v=P_q0tkYqvSk\n",
    "#\n",
    "# https://stackoverflow.com/questions/25767596/vectorised-haversine-formula-with-a-pandas-dataframe\n",
    "#\n",
    "#::GMG::Vamos a seleccionar un DataFrame Longitud y Latitud de los candidatos\n",
    "#       y le vamos a aplicar la distancia con Madrid con haversine\n",
    "distancias = candidatos.loc[:,['Longitud','Latitud']].apply(\n",
    "    lambda x: haversine_np(\n",
    "           referencia.Longitud.values[0],\n",
    "           referencia.Latitud.values[0],\n",
    "           x.Longitud,\n",
    "           x.Latitud         \n",
    "        ), axis = 1\n",
    ") "
   ]
  },
  {
   "cell_type": "code",
   "execution_count": 32,
   "metadata": {
    "colab": {
     "base_uri": "https://localhost:8080/",
     "height": 35
    },
    "colab_type": "code",
    "executionInfo": {
     "elapsed": 763,
     "status": "ok",
     "timestamp": 1544944569342,
     "user": {
      "displayName": "Gerardo de Miguel",
      "photoUrl": "https://lh3.googleusercontent.com/-LmFLfSn0ThU/AAAAAAAAAAI/AAAAAAAAAkg/xGe-_jxkcZA/s64/photo.jpg",
      "userId": "12735548512534412210"
     },
     "user_tz": -60
    },
    "id": "wpVEqdc8wncQ",
    "outputId": "c6b4d8ca-c633-45c5-e2aa-8ce97cf41ec7"
   },
   "outputs": [
    {
     "name": "stdout",
     "output_type": "stream",
     "text": [
      "La distancia de Santander a Madrid es de 338.6286092834457 km.\n"
     ]
    }
   ],
   "source": [
    "#::GMG::La serie mantiene los índices de las localidades por lo que podemos\n",
    "#       comprobar que la operación se ha realizado correctamente\n",
    "#::nota::uso el hecho de que la columna FID del DataFrame proporciona el índice\n",
    "#        de una localidad (!)\n",
    "print('La distancia de Santander a Madrid es de {} km.'.format(\n",
    "         distancias[ndp.loc[ndp['Localidad'] == 'Santander','FID'].values[0]]\n",
    "     )\n",
    ")"
   ]
  },
  {
   "cell_type": "code",
   "execution_count": 33,
   "metadata": {
    "colab": {
     "base_uri": "https://localhost:8080/",
     "height": 35
    },
    "colab_type": "code",
    "executionInfo": {
     "elapsed": 578,
     "status": "ok",
     "timestamp": 1544944584316,
     "user": {
      "displayName": "Gerardo de Miguel",
      "photoUrl": "https://lh3.googleusercontent.com/-LmFLfSn0ThU/AAAAAAAAAAI/AAAAAAAAAkg/xGe-_jxkcZA/s64/photo.jpg",
      "userId": "12735548512534412210"
     },
     "user_tz": -60
    },
    "id": "fa3jCUzp1Rd9",
    "outputId": "5afb9f82-1307-49d0-df66-d8a0974ab0f0"
   },
   "outputs": [
    {
     "name": "stdout",
     "output_type": "stream",
     "text": [
      "El municipio más cercano a Madrid es Pozuelo de Alarcón y el más lejano Los Llanos de Aridane\n"
     ]
    }
   ],
   "source": [
    "#::GMG::Ahora hay que ordenar la Serie de menor a mayor, obtener el índice\n",
    "#       el primero (más cercano) y último (más lejano) y usarlo para \n",
    "#       conocer el municipio al que corresponde\n",
    "print('El municipio más cercano a Madrid es {} y el más lejano {}'.format(\n",
    "        ndp.Municipio.iloc[distancias.sort_values().index[0]],\n",
    "        ndp.Municipio.iloc[distancias.sort_values().index[-1]],\n",
    "     )\n",
    ")"
   ]
  },
  {
   "cell_type": "markdown",
   "metadata": {
    "colab_type": "text",
    "id": "KLgq9NxTXnTh"
   },
   "source": [
    "### Ejercicio 7\n",
    "\n",
    "¿Cuántos Municipios hay en un radio de 5 grados de la ciudad de Barcelona?.\n"
   ]
  },
  {
   "cell_type": "code",
   "execution_count": 34,
   "metadata": {
    "colab": {
     "base_uri": "https://localhost:8080/",
     "height": 79
    },
    "colab_type": "code",
    "executionInfo": {
     "elapsed": 526,
     "status": "ok",
     "timestamp": 1544944778768,
     "user": {
      "displayName": "Gerardo de Miguel",
      "photoUrl": "https://lh3.googleusercontent.com/-LmFLfSn0ThU/AAAAAAAAAAI/AAAAAAAAAkg/xGe-_jxkcZA/s64/photo.jpg",
      "userId": "12735548512534412210"
     },
     "user_tz": -60
    },
    "id": "MvYKgSfCGYyH",
    "outputId": "4b12d2ff-14b5-4292-8802-e9b45006b042"
   },
   "outputs": [
    {
     "data": {
      "text/html": [
       "<div>\n",
       "<style scoped>\n",
       "    .dataframe tbody tr th:only-of-type {\n",
       "        vertical-align: middle;\n",
       "    }\n",
       "\n",
       "    .dataframe tbody tr th {\n",
       "        vertical-align: top;\n",
       "    }\n",
       "\n",
       "    .dataframe thead th {\n",
       "        text-align: right;\n",
       "    }\n",
       "</style>\n",
       "<table border=\"1\" class=\"dataframe\">\n",
       "  <thead>\n",
       "    <tr style=\"text-align: right;\">\n",
       "      <th></th>\n",
       "      <th>FID</th>\n",
       "      <th>OBJECTID</th>\n",
       "      <th>Cod_INE</th>\n",
       "      <th>Localidad</th>\n",
       "      <th>Poblacion</th>\n",
       "      <th>CodMun</th>\n",
       "      <th>Municipio</th>\n",
       "      <th>Cod_Provin</th>\n",
       "      <th>Provincia</th>\n",
       "      <th>Longitud</th>\n",
       "      <th>Latitud</th>\n",
       "    </tr>\n",
       "  </thead>\n",
       "  <tbody>\n",
       "    <tr>\n",
       "      <th>623</th>\n",
       "      <td>623</td>\n",
       "      <td>624</td>\n",
       "      <td>8019000101</td>\n",
       "      <td>Barcelona</td>\n",
       "      <td>1619337.0</td>\n",
       "      <td>8019</td>\n",
       "      <td>Barcelona</td>\n",
       "      <td>8</td>\n",
       "      <td>Barcelona</td>\n",
       "      <td>2.176349</td>\n",
       "      <td>41.384247</td>\n",
       "    </tr>\n",
       "  </tbody>\n",
       "</table>\n",
       "</div>"
      ],
      "text/plain": [
       "     FID  OBJECTID     Cod_INE  Localidad  Poblacion  CodMun  Municipio  \\\n",
       "623  623       624  8019000101  Barcelona  1619337.0    8019  Barcelona   \n",
       "\n",
       "     Cod_Provin  Provincia  Longitud    Latitud  \n",
       "623           8  Barcelona  2.176349  41.384247  "
      ]
     },
     "execution_count": 34,
     "metadata": {
      "tags": []
     },
     "output_type": "execute_result"
    }
   ],
   "source": [
    "#::GMG::Obtengamos la ciudad (localidad) de Barcelona, el punto de partida\n",
    "barcelona = ndp.loc[ndp['Localidad'] == \"Barcelona\",:]\n",
    "barcelona"
   ]
  },
  {
   "cell_type": "code",
   "execution_count": 0,
   "metadata": {
    "colab": {},
    "colab_type": "code",
    "id": "ve7Zffq4_EHH"
   },
   "outputs": [],
   "source": [
    "#::GMG::Ahora vamos a calcular las distancias en km de todas las localidades \n",
    "#       a Barcelona (como hicimos con Mardrid en el ejercicio 6)\n",
    "candidatos = ndp.loc[ndp['Localidad'] != 'Barcelona',:]\n",
    "distancias = candidatos.loc[:,['Longitud','Latitud']].apply(\n",
    "    lambda x: haversine_np(\n",
    "           barcelona.Longitud.values[0],\n",
    "           barcelona.Latitud.values[0],\n",
    "           x.Longitud,\n",
    "           x.Latitud         \n",
    "        ), axis = 1\n",
    ") "
   ]
  },
  {
   "cell_type": "code",
   "execution_count": 37,
   "metadata": {
    "colab": {
     "base_uri": "https://localhost:8080/",
     "height": 35
    },
    "colab_type": "code",
    "executionInfo": {
     "elapsed": 601,
     "status": "ok",
     "timestamp": 1544946554930,
     "user": {
      "displayName": "Gerardo de Miguel",
      "photoUrl": "https://lh3.googleusercontent.com/-LmFLfSn0ThU/AAAAAAAAAAI/AAAAAAAAAkg/xGe-_jxkcZA/s64/photo.jpg",
      "userId": "12735548512534412210"
     },
     "user_tz": -60
    },
    "id": "H9D92jQ_ATdQ",
    "outputId": "ba09d8af-f2f5-4d97-fc19-bb18b9a7bb69"
   },
   "outputs": [
    {
     "name": "stdout",
     "output_type": "stream",
     "text": [
      "Tomamos 5 grados lon como 416.8240632061895 km.\n"
     ]
    }
   ],
   "source": [
    "#::GMG::Ahora tenemos que caluclar la distancia de 5 grados en km hacia el oeste \n",
    "#       y sacar cuántos municipios \"caen\" dentro de esa distancia\n",
    "distancia = haversine_np(\n",
    "    barcelona.Longitud.values[0],\n",
    "    barcelona.Latitud.values[0],\n",
    "    barcelona.Longitud.values[0] - 5,\n",
    "    barcelona.Latitud.values[0])        \n",
    "print('Tomamos 5 grados lon como {} km.'.format(distancia))"
   ]
  },
  {
   "cell_type": "code",
   "execution_count": 61,
   "metadata": {
    "colab": {
     "base_uri": "https://localhost:8080/",
     "height": 35
    },
    "colab_type": "code",
    "executionInfo": {
     "elapsed": 546,
     "status": "ok",
     "timestamp": 1544948537553,
     "user": {
      "displayName": "Gerardo de Miguel",
      "photoUrl": "https://lh3.googleusercontent.com/-LmFLfSn0ThU/AAAAAAAAAAI/AAAAAAAAAkg/xGe-_jxkcZA/s64/photo.jpg",
      "userId": "12735548512534412210"
     },
     "user_tz": -60
    },
    "id": "ef2_swlD_GRF",
    "outputId": "400be490-7807-48f6-e526-9f35dc6246b4"
   },
   "outputs": [
    {
     "name": "stdout",
     "output_type": "stream",
     "text": [
      "Hay 298 municipios a 416.8240632061895 km alrededor de Barcelona.\n"
     ]
    }
   ],
   "source": [
    "#::GMG::Y sacamos todos los índices de los candidatos que cumplen la condición\n",
    "#       de distancia para luego sacar el (numpy) array de municipios y los\n",
    "#       'contamos' con 'size'\n",
    "# https://docs.scipy.org/doc/numpy-1.15.0/reference/generated/numpy.ndarray.size.html\n",
    "lista_indices = distancias[distancias < distancia].index.tolist()\n",
    "print ('Hay {} municipios a {} km alrededor de Barcelona.'.format(\n",
    "        candidatos.loc[lista_indices,'Municipio'].values.size,\n",
    "        distancia\n",
    "    )\n",
    ")\n"
   ]
  },
  {
   "cell_type": "markdown",
   "metadata": {
    "colab_type": "text",
    "id": "kg9cKrj0Xq8Z"
   },
   "source": [
    "### Ejercicio 8\n",
    "\n",
    "Obtenga la media, mediana, desviación estándar, valor máximo y valor mínimo de la población de los municipios de la provincia de Cantabria.\n"
   ]
  },
  {
   "cell_type": "code",
   "execution_count": 62,
   "metadata": {
    "colab": {
     "base_uri": "https://localhost:8080/",
     "height": 417
    },
    "colab_type": "code",
    "executionInfo": {
     "elapsed": 779,
     "status": "ok",
     "timestamp": 1544949754635,
     "user": {
      "displayName": "Gerardo de Miguel",
      "photoUrl": "https://lh3.googleusercontent.com/-LmFLfSn0ThU/AAAAAAAAAAI/AAAAAAAAAkg/xGe-_jxkcZA/s64/photo.jpg",
      "userId": "12735548512534412210"
     },
     "user_tz": -60
    },
    "id": "QOv1m0RbKaAZ",
    "outputId": "e0ac685c-d685-4983-8886-bd6e99c238e7"
   },
   "outputs": [
    {
     "data": {
      "text/html": [
       "<div>\n",
       "<style scoped>\n",
       "    .dataframe tbody tr th:only-of-type {\n",
       "        vertical-align: middle;\n",
       "    }\n",
       "\n",
       "    .dataframe tbody tr th {\n",
       "        vertical-align: top;\n",
       "    }\n",
       "\n",
       "    .dataframe thead th {\n",
       "        text-align: right;\n",
       "    }\n",
       "</style>\n",
       "<table border=\"1\" class=\"dataframe\">\n",
       "  <thead>\n",
       "    <tr style=\"text-align: right;\">\n",
       "      <th></th>\n",
       "      <th>Poblacion</th>\n",
       "    </tr>\n",
       "    <tr>\n",
       "      <th>Municipio</th>\n",
       "      <th></th>\n",
       "    </tr>\n",
       "  </thead>\n",
       "  <tbody>\n",
       "    <tr>\n",
       "      <th>Camargo</th>\n",
       "      <td>31552.0</td>\n",
       "    </tr>\n",
       "    <tr>\n",
       "      <th>Castro-Urdiales</th>\n",
       "      <td>32258.0</td>\n",
       "    </tr>\n",
       "    <tr>\n",
       "      <th>El Astillero</th>\n",
       "      <td>17545.0</td>\n",
       "    </tr>\n",
       "    <tr>\n",
       "      <th>Laredo</th>\n",
       "      <td>12378.0</td>\n",
       "    </tr>\n",
       "    <tr>\n",
       "      <th>Los Corrales de Buelna</th>\n",
       "      <td>11622.0</td>\n",
       "    </tr>\n",
       "    <tr>\n",
       "      <th>Piélagos</th>\n",
       "      <td>21268.0</td>\n",
       "    </tr>\n",
       "    <tr>\n",
       "      <th>Reinosa</th>\n",
       "      <td>10277.0</td>\n",
       "    </tr>\n",
       "    <tr>\n",
       "      <th>Santa Cruz de Bezana</th>\n",
       "      <td>11607.0</td>\n",
       "    </tr>\n",
       "    <tr>\n",
       "      <th>Santander</th>\n",
       "      <td>210233.0</td>\n",
       "    </tr>\n",
       "    <tr>\n",
       "      <th>Santoña</th>\n",
       "      <td>11584.0</td>\n",
       "    </tr>\n",
       "    <tr>\n",
       "      <th>Torrelavega</th>\n",
       "      <td>67124.0</td>\n",
       "    </tr>\n",
       "  </tbody>\n",
       "</table>\n",
       "</div>"
      ],
      "text/plain": [
       "                        Poblacion\n",
       "Municipio                        \n",
       "Camargo                   31552.0\n",
       "Castro-Urdiales           32258.0\n",
       "El Astillero              17545.0\n",
       "Laredo                    12378.0\n",
       "Los Corrales de Buelna    11622.0\n",
       "Piélagos                  21268.0\n",
       "Reinosa                   10277.0\n",
       "Santa Cruz de Bezana      11607.0\n",
       "Santander                210233.0\n",
       "Santoña                   11584.0\n",
       "Torrelavega               67124.0"
      ]
     },
     "execution_count": 62,
     "metadata": {
      "tags": []
     },
     "output_type": "execute_result"
    }
   ],
   "source": [
    "#::GMG::Obtengamos en primer lugar la lista de los municipios de Cantabria y su\n",
    "#       población (tenemos que agregrar la población por municipio)\n",
    "municipios_cantabria = ndp.loc[ndp['Provincia'] == 'Cantabria',\n",
    "        ['Municipio','Poblacion']].groupby('Municipio').sum()\n",
    "municipios_cantabria"
   ]
  },
  {
   "cell_type": "code",
   "execution_count": 63,
   "metadata": {
    "colab": {
     "base_uri": "https://localhost:8080/",
     "height": 294
    },
    "colab_type": "code",
    "executionInfo": {
     "elapsed": 638,
     "status": "ok",
     "timestamp": 1544949765146,
     "user": {
      "displayName": "Gerardo de Miguel",
      "photoUrl": "https://lh3.googleusercontent.com/-LmFLfSn0ThU/AAAAAAAAAAI/AAAAAAAAAkg/xGe-_jxkcZA/s64/photo.jpg",
      "userId": "12735548512534412210"
     },
     "user_tz": -60
    },
    "id": "D_2NGlgpL4_n",
    "outputId": "ab0b0b17-2d82-4cc8-868e-35276a705e21"
   },
   "outputs": [
    {
     "data": {
      "text/html": [
       "<div>\n",
       "<style scoped>\n",
       "    .dataframe tbody tr th:only-of-type {\n",
       "        vertical-align: middle;\n",
       "    }\n",
       "\n",
       "    .dataframe tbody tr th {\n",
       "        vertical-align: top;\n",
       "    }\n",
       "\n",
       "    .dataframe thead th {\n",
       "        text-align: right;\n",
       "    }\n",
       "</style>\n",
       "<table border=\"1\" class=\"dataframe\">\n",
       "  <thead>\n",
       "    <tr style=\"text-align: right;\">\n",
       "      <th></th>\n",
       "      <th>Poblacion</th>\n",
       "    </tr>\n",
       "  </thead>\n",
       "  <tbody>\n",
       "    <tr>\n",
       "      <th>count</th>\n",
       "      <td>11.000000</td>\n",
       "    </tr>\n",
       "    <tr>\n",
       "      <th>mean</th>\n",
       "      <td>39768.000000</td>\n",
       "    </tr>\n",
       "    <tr>\n",
       "      <th>std</th>\n",
       "      <td>58962.860955</td>\n",
       "    </tr>\n",
       "    <tr>\n",
       "      <th>min</th>\n",
       "      <td>10277.000000</td>\n",
       "    </tr>\n",
       "    <tr>\n",
       "      <th>25%</th>\n",
       "      <td>11614.500000</td>\n",
       "    </tr>\n",
       "    <tr>\n",
       "      <th>50%</th>\n",
       "      <td>17545.000000</td>\n",
       "    </tr>\n",
       "    <tr>\n",
       "      <th>75%</th>\n",
       "      <td>31905.000000</td>\n",
       "    </tr>\n",
       "    <tr>\n",
       "      <th>max</th>\n",
       "      <td>210233.000000</td>\n",
       "    </tr>\n",
       "  </tbody>\n",
       "</table>\n",
       "</div>"
      ],
      "text/plain": [
       "           Poblacion\n",
       "count      11.000000\n",
       "mean    39768.000000\n",
       "std     58962.860955\n",
       "min     10277.000000\n",
       "25%     11614.500000\n",
       "50%     17545.000000\n",
       "75%     31905.000000\n",
       "max    210233.000000"
      ]
     },
     "execution_count": 63,
     "metadata": {
      "tags": []
     },
     "output_type": "execute_result"
    }
   ],
   "source": [
    "#::GMG::Existe una función llamada describe() que calcula todo los\n",
    "#       estadísticos solicitados de una sola vez\n",
    "#\n",
    "# https://pandas.pydata.org/pandas-docs/stable/generated/pandas.DataFrame.describe.html\n",
    "municipios_cantabria.describe()"
   ]
  },
  {
   "cell_type": "markdown",
   "metadata": {
    "colab_type": "text",
    "id": "LHkcst3KXvwq"
   },
   "source": [
    "### Ejercicio 9\n",
    "\n",
    "Usando los métodos de agregación, calcular las poblaciones de cada provincia.\n"
   ]
  },
  {
   "cell_type": "code",
   "execution_count": 64,
   "metadata": {
    "colab": {
     "base_uri": "https://localhost:8080/",
     "height": 1674
    },
    "colab_type": "code",
    "executionInfo": {
     "elapsed": 590,
     "status": "ok",
     "timestamp": 1544949790001,
     "user": {
      "displayName": "Gerardo de Miguel",
      "photoUrl": "https://lh3.googleusercontent.com/-LmFLfSn0ThU/AAAAAAAAAAI/AAAAAAAAAkg/xGe-_jxkcZA/s64/photo.jpg",
      "userId": "12735548512534412210"
     },
     "user_tz": -60
    },
    "id": "qSNsSh-fJv-2",
    "outputId": "d28d48ff-3d2c-4c82-af49-affa5870ea96"
   },
   "outputs": [
    {
     "data": {
      "text/html": [
       "<div>\n",
       "<style scoped>\n",
       "    .dataframe tbody tr th:only-of-type {\n",
       "        vertical-align: middle;\n",
       "    }\n",
       "\n",
       "    .dataframe tbody tr th {\n",
       "        vertical-align: top;\n",
       "    }\n",
       "\n",
       "    .dataframe thead th {\n",
       "        text-align: right;\n",
       "    }\n",
       "</style>\n",
       "<table border=\"1\" class=\"dataframe\">\n",
       "  <thead>\n",
       "    <tr style=\"text-align: right;\">\n",
       "      <th></th>\n",
       "      <th>Poblacion</th>\n",
       "    </tr>\n",
       "    <tr>\n",
       "      <th>Provincia</th>\n",
       "      <th></th>\n",
       "    </tr>\n",
       "  </thead>\n",
       "  <tbody>\n",
       "    <tr>\n",
       "      <th>A Coruña</th>\n",
       "      <td>818982.0</td>\n",
       "    </tr>\n",
       "    <tr>\n",
       "      <th>Alacant/Alicante</th>\n",
       "      <td>1804252.0</td>\n",
       "    </tr>\n",
       "    <tr>\n",
       "      <th>Albacete</th>\n",
       "      <td>280673.0</td>\n",
       "    </tr>\n",
       "    <tr>\n",
       "      <th>Almería</th>\n",
       "      <td>550604.0</td>\n",
       "    </tr>\n",
       "    <tr>\n",
       "      <th>Asturias</th>\n",
       "      <td>965777.0</td>\n",
       "    </tr>\n",
       "    <tr>\n",
       "      <th>Badajoz</th>\n",
       "      <td>361700.0</td>\n",
       "    </tr>\n",
       "    <tr>\n",
       "      <th>Barcelona</th>\n",
       "      <td>4934795.0</td>\n",
       "    </tr>\n",
       "    <tr>\n",
       "      <th>Burgos</th>\n",
       "      <td>250766.0</td>\n",
       "    </tr>\n",
       "    <tr>\n",
       "      <th>Cantabria</th>\n",
       "      <td>437448.0</td>\n",
       "    </tr>\n",
       "    <tr>\n",
       "      <th>Castelló/Castellón</th>\n",
       "      <td>476388.0</td>\n",
       "    </tr>\n",
       "    <tr>\n",
       "      <th>Ceuta</th>\n",
       "      <td>80579.0</td>\n",
       "    </tr>\n",
       "    <tr>\n",
       "      <th>Ciudad Real</th>\n",
       "      <td>348364.0</td>\n",
       "    </tr>\n",
       "    <tr>\n",
       "      <th>Cuenca</th>\n",
       "      <td>71921.0</td>\n",
       "    </tr>\n",
       "    <tr>\n",
       "      <th>Cáceres</th>\n",
       "      <td>176220.0</td>\n",
       "    </tr>\n",
       "    <tr>\n",
       "      <th>Cádiz</th>\n",
       "      <td>1166531.0</td>\n",
       "    </tr>\n",
       "    <tr>\n",
       "      <th>Córdoba</th>\n",
       "      <td>590503.0</td>\n",
       "    </tr>\n",
       "    <tr>\n",
       "      <th>Girona</th>\n",
       "      <td>474739.0</td>\n",
       "    </tr>\n",
       "    <tr>\n",
       "      <th>Granada</th>\n",
       "      <td>604357.0</td>\n",
       "    </tr>\n",
       "    <tr>\n",
       "      <th>Guadalajara</th>\n",
       "      <td>139373.0</td>\n",
       "    </tr>\n",
       "    <tr>\n",
       "      <th>Guipúzcoa</th>\n",
       "      <td>546141.0</td>\n",
       "    </tr>\n",
       "    <tr>\n",
       "      <th>Huelva</th>\n",
       "      <td>361777.0</td>\n",
       "    </tr>\n",
       "    <tr>\n",
       "      <th>Huesca</th>\n",
       "      <td>124838.0</td>\n",
       "    </tr>\n",
       "    <tr>\n",
       "      <th>Illes Balears</th>\n",
       "      <td>1041183.0</td>\n",
       "    </tr>\n",
       "    <tr>\n",
       "      <th>Jaén</th>\n",
       "      <td>426169.0</td>\n",
       "    </tr>\n",
       "    <tr>\n",
       "      <th>La Rioja</th>\n",
       "      <td>203911.0</td>\n",
       "    </tr>\n",
       "    <tr>\n",
       "      <th>Las Palmas</th>\n",
       "      <td>1220407.0</td>\n",
       "    </tr>\n",
       "    <tr>\n",
       "      <th>León</th>\n",
       "      <td>316662.0</td>\n",
       "    </tr>\n",
       "    <tr>\n",
       "      <th>Lleida</th>\n",
       "      <td>199135.0</td>\n",
       "    </tr>\n",
       "    <tr>\n",
       "      <th>Lugo</th>\n",
       "      <td>162422.0</td>\n",
       "    </tr>\n",
       "    <tr>\n",
       "      <th>Madrid</th>\n",
       "      <td>6315312.0</td>\n",
       "    </tr>\n",
       "    <tr>\n",
       "      <th>Melilla</th>\n",
       "      <td>76034.0</td>\n",
       "    </tr>\n",
       "    <tr>\n",
       "      <th>Murcia</th>\n",
       "      <td>1599339.0</td>\n",
       "    </tr>\n",
       "    <tr>\n",
       "      <th>Málaga</th>\n",
       "      <td>1702839.0</td>\n",
       "    </tr>\n",
       "    <tr>\n",
       "      <th>Navarra</th>\n",
       "      <td>440005.0</td>\n",
       "    </tr>\n",
       "    <tr>\n",
       "      <th>Ourense</th>\n",
       "      <td>161821.0</td>\n",
       "    </tr>\n",
       "    <tr>\n",
       "      <th>Palencia</th>\n",
       "      <td>82169.0</td>\n",
       "    </tr>\n",
       "    <tr>\n",
       "      <th>Pontevedra</th>\n",
       "      <td>794690.0</td>\n",
       "    </tr>\n",
       "    <tr>\n",
       "      <th>Salamanca</th>\n",
       "      <td>197780.0</td>\n",
       "    </tr>\n",
       "    <tr>\n",
       "      <th>Santa Cruz de Tenerife</th>\n",
       "      <td>989964.0</td>\n",
       "    </tr>\n",
       "    <tr>\n",
       "      <th>Segovia</th>\n",
       "      <td>55748.0</td>\n",
       "    </tr>\n",
       "    <tr>\n",
       "      <th>Sevilla</th>\n",
       "      <td>1671058.0</td>\n",
       "    </tr>\n",
       "    <tr>\n",
       "      <th>Soria</th>\n",
       "      <td>39838.0</td>\n",
       "    </tr>\n",
       "    <tr>\n",
       "      <th>Tarragona</th>\n",
       "      <td>598738.0</td>\n",
       "    </tr>\n",
       "    <tr>\n",
       "      <th>Teruel</th>\n",
       "      <td>51532.0</td>\n",
       "    </tr>\n",
       "    <tr>\n",
       "      <th>Toledo</th>\n",
       "      <td>332751.0</td>\n",
       "    </tr>\n",
       "    <tr>\n",
       "      <th>Valladolid</th>\n",
       "      <td>372022.0</td>\n",
       "    </tr>\n",
       "    <tr>\n",
       "      <th>València/Valencia</th>\n",
       "      <td>2189461.0</td>\n",
       "    </tr>\n",
       "    <tr>\n",
       "      <th>Vizcaya</th>\n",
       "      <td>984560.0</td>\n",
       "    </tr>\n",
       "    <tr>\n",
       "      <th>Zamora</th>\n",
       "      <td>85098.0</td>\n",
       "    </tr>\n",
       "    <tr>\n",
       "      <th>Zaragoza</th>\n",
       "      <td>743312.0</td>\n",
       "    </tr>\n",
       "    <tr>\n",
       "      <th>Álava</th>\n",
       "      <td>266717.0</td>\n",
       "    </tr>\n",
       "    <tr>\n",
       "      <th>Ávila</th>\n",
       "      <td>58245.0</td>\n",
       "    </tr>\n",
       "  </tbody>\n",
       "</table>\n",
       "</div>"
      ],
      "text/plain": [
       "                        Poblacion\n",
       "Provincia                        \n",
       "A Coruña                 818982.0\n",
       "Alacant/Alicante        1804252.0\n",
       "Albacete                 280673.0\n",
       "Almería                  550604.0\n",
       "Asturias                 965777.0\n",
       "Badajoz                  361700.0\n",
       "Barcelona               4934795.0\n",
       "Burgos                   250766.0\n",
       "Cantabria                437448.0\n",
       "Castelló/Castellón       476388.0\n",
       "Ceuta                     80579.0\n",
       "Ciudad Real              348364.0\n",
       "Cuenca                    71921.0\n",
       "Cáceres                  176220.0\n",
       "Cádiz                   1166531.0\n",
       "Córdoba                  590503.0\n",
       "Girona                   474739.0\n",
       "Granada                  604357.0\n",
       "Guadalajara              139373.0\n",
       "Guipúzcoa                546141.0\n",
       "Huelva                   361777.0\n",
       "Huesca                   124838.0\n",
       "Illes Balears           1041183.0\n",
       "Jaén                     426169.0\n",
       "La Rioja                 203911.0\n",
       "Las Palmas              1220407.0\n",
       "León                     316662.0\n",
       "Lleida                   199135.0\n",
       "Lugo                     162422.0\n",
       "Madrid                  6315312.0\n",
       "Melilla                   76034.0\n",
       "Murcia                  1599339.0\n",
       "Málaga                  1702839.0\n",
       "Navarra                  440005.0\n",
       "Ourense                  161821.0\n",
       "Palencia                  82169.0\n",
       "Pontevedra               794690.0\n",
       "Salamanca                197780.0\n",
       "Santa Cruz de Tenerife   989964.0\n",
       "Segovia                   55748.0\n",
       "Sevilla                 1671058.0\n",
       "Soria                     39838.0\n",
       "Tarragona                598738.0\n",
       "Teruel                    51532.0\n",
       "Toledo                   332751.0\n",
       "Valladolid               372022.0\n",
       "València/Valencia       2189461.0\n",
       "Vizcaya                  984560.0\n",
       "Zamora                    85098.0\n",
       "Zaragoza                 743312.0\n",
       "Álava                    266717.0\n",
       "Ávila                     58245.0"
      ]
     },
     "execution_count": 64,
     "metadata": {
      "tags": []
     },
     "output_type": "execute_result"
    }
   ],
   "source": [
    "provincias = ndp.loc[:, ['Provincia','Poblacion']].groupby('Provincia').sum()\n",
    "provincias"
   ]
  },
  {
   "cell_type": "markdown",
   "metadata": {
    "colab_type": "text",
    "id": "fwNGG62rX1Ra"
   },
   "source": [
    "### Ejercicio 10\n",
    "\n",
    "Dibujar el valor de la población para las diferentes ciudades (usar las funciones vistas en MatPlotLib).\n",
    "\n"
   ]
  },
  {
   "cell_type": "markdown",
   "metadata": {
    "colab_type": "text",
    "id": "HoJXAslaX5Wa"
   },
   "source": [
    "### Ejercicio 11\n",
    "\n",
    "Hacer un gráfico equivalente pero para las diferentes provincias. Seleccionar un punto representativo de las ciudades incluidas en cada provincia."
   ]
  },
  {
   "cell_type": "code",
   "execution_count": 70,
   "metadata": {
    "colab": {
     "base_uri": "https://localhost:8080/",
     "height": 455
    },
    "colab_type": "code",
    "executionInfo": {
     "elapsed": 1122,
     "status": "ok",
     "timestamp": 1544950098087,
     "user": {
      "displayName": "Gerardo de Miguel",
      "photoUrl": "https://lh3.googleusercontent.com/-LmFLfSn0ThU/AAAAAAAAAAI/AAAAAAAAAkg/xGe-_jxkcZA/s64/photo.jpg",
      "userId": "12735548512534412210"
     },
     "user_tz": -60
    },
    "id": "ckO6IJ-tLdIp",
    "outputId": "aca160d2-9bbc-4292-b9b0-0d1d2b5afcd0"
   },
   "outputs": [
    {
     "data": {
      "image/png": "[encoded data removed]",
      "text/plain": [
       "<matplotlib.figure.Figure at 0x7f12d6bd6160>"
      ]
     },
     "metadata": {
      "tags": []
     },
     "output_type": "display_data"
    }
   ],
   "source": [
    "#::GMG::Para visualizar la población por provincia usamos un barplot\n",
    "ax = provincias.Poblacion.sort_values(ascending=False).plot(kind='bar')"
   ]
  },
  {
   "cell_type": "markdown",
   "metadata": {
    "colab_type": "text",
    "id": "koRxR72JWzAH"
   },
   "source": [
    "## Series Temporales"
   ]
  },
  {
   "cell_type": "markdown",
   "metadata": {
    "colab_type": "text",
    "id": "_wOV_Yl_W2Vn"
   },
   "source": [
    "Los ficheros precip.csv y precip.stn contienen los datos de precipitación diaria de los años 2000-2010 para 86 estaciones meteorológicas distribuidas por Europa. \n"
   ]
  },
  {
   "cell_type": "markdown",
   "metadata": {
    "colab_type": "text",
    "id": "X0ZWbmn3Gv6W"
   },
   "source": [
    "### Ejercicio 0\n",
    "\n",
    "Leer ambos ficheros utilizando las funciones correspondientes de PANDAS."
   ]
  },
  {
   "cell_type": "markdown",
   "metadata": {
    "colab_type": "text",
    "id": "uX4cMOtlbZRs"
   },
   "source": [
    "#### Dataframe estaciones"
   ]
  },
  {
   "cell_type": "code",
   "execution_count": 0,
   "metadata": {
    "colab": {},
    "colab_type": "code",
    "id": "AcZZBjS_D5KT"
   },
   "outputs": [],
   "source": [
    "#::GMG::Leemmos el fichero de estaciones\n",
    "estaciones = pd.read_csv(\n",
    "    'https://raw.githubusercontent.com/yerartdev/uc-m1967-mdsi/master/d8/precip.stn'\n",
    ")"
   ]
  },
  {
   "cell_type": "code",
   "execution_count": 0,
   "metadata": {
    "colab": {
     "base_uri": "https://localhost:8080/",
     "height": 35
    },
    "colab_type": "code",
    "executionInfo": {
     "elapsed": 569,
     "status": "ok",
     "timestamp": 1544805612496,
     "user": {
      "displayName": "Gerardo de Miguel",
      "photoUrl": "https://lh3.googleusercontent.com/-LmFLfSn0ThU/AAAAAAAAAAI/AAAAAAAAAkg/xGe-_jxkcZA/s64/photo.jpg",
      "userId": "12735548512534412210"
     },
     "user_tz": -60
    },
    "id": "EpFGiXS9GRYN",
    "outputId": "df3fe2ce-9963-4f1e-9979-6a83e8f588c6"
   },
   "outputs": [
    {
     "data": {
      "text/plain": [
       "(86, 6)"
      ]
     },
     "execution_count": 87,
     "metadata": {
      "tags": []
     },
     "output_type": "execute_result"
    }
   ],
   "source": [
    "#::GMG::Una idea del tamaño del dataset que tenemos entre manos\n",
    "estaciones.shape"
   ]
  },
  {
   "cell_type": "code",
   "execution_count": 0,
   "metadata": {
    "colab": {
     "base_uri": "https://localhost:8080/",
     "height": 225
    },
    "colab_type": "code",
    "executionInfo": {
     "elapsed": 549,
     "status": "ok",
     "timestamp": 1544909206576,
     "user": {
      "displayName": "Gerardo de Miguel",
      "photoUrl": "https://lh3.googleusercontent.com/-LmFLfSn0ThU/AAAAAAAAAAI/AAAAAAAAAkg/xGe-_jxkcZA/s64/photo.jpg",
      "userId": "12735548512534412210"
     },
     "user_tz": -60
    },
    "id": "ZlgTLEeYGB1t",
    "outputId": "1d069171-588b-4334-912b-9ccceea096a8"
   },
   "outputs": [
    {
     "name": "stdout",
     "output_type": "stream",
     "text": [
      "Indice: RangeIndex(start=0, stop=86, step=1) \n",
      "\n",
      "Columnas: Index(['station_id', ' name', ' longitude', ' latitude', ' altitude',\n",
      "       ' source'],\n",
      "      dtype='object') \n",
      "\n",
      "Valores: \n",
      "[[12 ' GRAZ' 15.45 47.0831 366 ' ECA&D']\n",
      " [13 ' INNSBRUCK' 11.4 47.2667 577 ' ECA&D']\n",
      " [14 ' SALZBURG' 13.0 47.8 437 ' ECA&D']\n",
      " [15 ' SONNBLICK' 12.95 47.05 3106 ' ECA&D']\n",
      " [16 ' WIEN' 16.35 48.2331 198 ' ECA&D']]\n"
     ]
    }
   ],
   "source": [
    "#::GMG::Estudiamos la estructura de los datos que hemos importado\n",
    "print('Indice: {} \\n\\nColumnas: {} \\n\\nValores: \\n{}'.format(\n",
    "    estaciones.index, \n",
    "    estaciones.columns, \n",
    "    estaciones.values[:5]\n",
    "   )\n",
    ")"
   ]
  },
  {
   "cell_type": "code",
   "execution_count": 0,
   "metadata": {
    "colab": {
     "base_uri": "https://localhost:8080/",
     "height": 35
    },
    "colab_type": "code",
    "executionInfo": {
     "elapsed": 647,
     "status": "ok",
     "timestamp": 1544909209739,
     "user": {
      "displayName": "Gerardo de Miguel",
      "photoUrl": "https://lh3.googleusercontent.com/-LmFLfSn0ThU/AAAAAAAAAAI/AAAAAAAAAkg/xGe-_jxkcZA/s64/photo.jpg",
      "userId": "12735548512534412210"
     },
     "user_tz": -60
    },
    "id": "0WRvb7e7hwKu",
    "outputId": "6404c350-1c04-46ef-d3cc-e4f03e220fc0"
   },
   "outputs": [
    {
     "name": "stdout",
     "output_type": "stream",
     "text": [
      "Columnas: Index(['station_id', 'name', 'longitude', 'latitude', 'altitude', 'source'], dtype='object')\n"
     ]
    }
   ],
   "source": [
    "#::GMG::Los nombres de las columnas tienen espacios (!)\n",
    "# https://stackoverflow.com/questions/21606987/how-can-i-strip-the-whitespace-from-pandas-dataframe-headers\n",
    "estaciones.rename(columns=lambda x: x.strip(), inplace=True)\n",
    "print('Columnas: {}'.format(\n",
    "    estaciones.columns \n",
    "   )\n",
    ")"
   ]
  },
  {
   "cell_type": "code",
   "execution_count": 0,
   "metadata": {
    "colab": {},
    "colab_type": "code",
    "id": "trx2my6Gi_0S"
   },
   "outputs": [],
   "source": [
    "#::GMG::Y lo mismo pasa con los valores de las series 'name' y 'source'\n",
    "estaciones.name = estaciones.name.str.strip()\n",
    "estaciones.source = estaciones.source.str.strip()"
   ]
  },
  {
   "cell_type": "code",
   "execution_count": 0,
   "metadata": {
    "colab": {
     "base_uri": "https://localhost:8080/",
     "height": 121
    },
    "colab_type": "code",
    "executionInfo": {
     "elapsed": 579,
     "status": "ok",
     "timestamp": 1544805622199,
     "user": {
      "displayName": "Gerardo de Miguel",
      "photoUrl": "https://lh3.googleusercontent.com/-LmFLfSn0ThU/AAAAAAAAAAI/AAAAAAAAAkg/xGe-_jxkcZA/s64/photo.jpg",
      "userId": "12735548512534412210"
     },
     "user_tz": -60
    },
    "id": "UfcErPLFkgTv",
    "outputId": "2e4cc246-5752-412f-b970-23b64adb149e"
   },
   "outputs": [
    {
     "name": "stdout",
     "output_type": "stream",
     "text": [
      "Valores: \n",
      "[[12 'GRAZ' 15.45 47.0831 366 'ECA&D']\n",
      " [13 'INNSBRUCK' 11.4 47.2667 577 'ECA&D']\n",
      " [14 'SALZBURG' 13.0 47.8 437 'ECA&D']\n",
      " [15 'SONNBLICK' 12.95 47.05 3106 'ECA&D']\n",
      " [16 'WIEN' 16.35 48.2331 198 'ECA&D']]\n"
     ]
    }
   ],
   "source": [
    "print('Valores: \\n{}'.format(\n",
    "    estaciones.values[:5]\n",
    "   )\n",
    ")"
   ]
  },
  {
   "cell_type": "code",
   "execution_count": 0,
   "metadata": {
    "colab": {
     "base_uri": "https://localhost:8080/",
     "height": 139
    },
    "colab_type": "code",
    "executionInfo": {
     "elapsed": 539,
     "status": "ok",
     "timestamp": 1544821972182,
     "user": {
      "displayName": "Gerardo de Miguel",
      "photoUrl": "https://lh3.googleusercontent.com/-LmFLfSn0ThU/AAAAAAAAAAI/AAAAAAAAAkg/xGe-_jxkcZA/s64/photo.jpg",
      "userId": "12735548512534412210"
     },
     "user_tz": -60
    },
    "id": "-JtA-M77ksC0",
    "outputId": "522fac4c-feac-4473-90eb-601d6fcc1602"
   },
   "outputs": [
    {
     "data": {
      "text/plain": [
       "station_id      int64\n",
       "name           object\n",
       "longitude     float64\n",
       "latitude      float64\n",
       "altitude        int64\n",
       "source         object\n",
       "dtype: object"
      ]
     },
     "execution_count": 5,
     "metadata": {
      "tags": []
     },
     "output_type": "execute_result"
    }
   ],
   "source": [
    "#::GMG::Tipos del dataframe\n",
    "#::nota::tengo dudas sobre los tipos object e int64 ...\n",
    "estaciones.dtypes"
   ]
  },
  {
   "cell_type": "code",
   "execution_count": 0,
   "metadata": {
    "colab": {
     "base_uri": "https://localhost:8080/",
     "height": 35
    },
    "colab_type": "code",
    "executionInfo": {
     "elapsed": 531,
     "status": "ok",
     "timestamp": 1544822023250,
     "user": {
      "displayName": "Gerardo de Miguel",
      "photoUrl": "https://lh3.googleusercontent.com/-LmFLfSn0ThU/AAAAAAAAAAI/AAAAAAAAAkg/xGe-_jxkcZA/s64/photo.jpg",
      "userId": "12735548512534412210"
     },
     "user_tz": -60
    },
    "id": "843M6pcgcAkb",
    "outputId": "efde76ec-8397-4efb-c6db-7051fdcc09ca"
   },
   "outputs": [
    {
     "data": {
      "text/plain": [
       "False"
      ]
     },
     "execution_count": 6,
     "metadata": {
      "tags": []
     },
     "output_type": "execute_result"
    }
   ],
   "source": [
    "#::GMG::Compruebo si el dataframe está ´limpio'\n",
    "# https://stackoverflow.com/questions/29530232/how-to-check-if-any-value-is-nan-in-a-pandas-dataframe\n",
    "estaciones.isnull().any().any()"
   ]
  },
  {
   "cell_type": "code",
   "execution_count": 0,
   "metadata": {
    "colab": {
     "base_uri": "https://localhost:8080/",
     "height": 202
    },
    "colab_type": "code",
    "executionInfo": {
     "elapsed": 562,
     "status": "ok",
     "timestamp": 1544822053390,
     "user": {
      "displayName": "Gerardo de Miguel",
      "photoUrl": "https://lh3.googleusercontent.com/-LmFLfSn0ThU/AAAAAAAAAAI/AAAAAAAAAkg/xGe-_jxkcZA/s64/photo.jpg",
      "userId": "12735548512534412210"
     },
     "user_tz": -60
    },
    "id": "aK7-KU3wGDXh",
    "outputId": "b716192a-6563-404e-f970-148e21d323c3"
   },
   "outputs": [
    {
     "data": {
      "text/html": [
       "<div>\n",
       "<style scoped>\n",
       "    .dataframe tbody tr th:only-of-type {\n",
       "        vertical-align: middle;\n",
       "    }\n",
       "\n",
       "    .dataframe tbody tr th {\n",
       "        vertical-align: top;\n",
       "    }\n",
       "\n",
       "    .dataframe thead th {\n",
       "        text-align: right;\n",
       "    }\n",
       "</style>\n",
       "<table border=\"1\" class=\"dataframe\">\n",
       "  <thead>\n",
       "    <tr style=\"text-align: right;\">\n",
       "      <th></th>\n",
       "      <th>station_id</th>\n",
       "      <th>name</th>\n",
       "      <th>longitude</th>\n",
       "      <th>latitude</th>\n",
       "      <th>altitude</th>\n",
       "      <th>source</th>\n",
       "    </tr>\n",
       "  </thead>\n",
       "  <tbody>\n",
       "    <tr>\n",
       "      <th>0</th>\n",
       "      <td>12</td>\n",
       "      <td>GRAZ</td>\n",
       "      <td>15.45</td>\n",
       "      <td>47.0831</td>\n",
       "      <td>366</td>\n",
       "      <td>ECA&amp;D</td>\n",
       "    </tr>\n",
       "    <tr>\n",
       "      <th>1</th>\n",
       "      <td>13</td>\n",
       "      <td>INNSBRUCK</td>\n",
       "      <td>11.40</td>\n",
       "      <td>47.2667</td>\n",
       "      <td>577</td>\n",
       "      <td>ECA&amp;D</td>\n",
       "    </tr>\n",
       "    <tr>\n",
       "      <th>2</th>\n",
       "      <td>14</td>\n",
       "      <td>SALZBURG</td>\n",
       "      <td>13.00</td>\n",
       "      <td>47.8000</td>\n",
       "      <td>437</td>\n",
       "      <td>ECA&amp;D</td>\n",
       "    </tr>\n",
       "    <tr>\n",
       "      <th>3</th>\n",
       "      <td>15</td>\n",
       "      <td>SONNBLICK</td>\n",
       "      <td>12.95</td>\n",
       "      <td>47.0500</td>\n",
       "      <td>3106</td>\n",
       "      <td>ECA&amp;D</td>\n",
       "    </tr>\n",
       "    <tr>\n",
       "      <th>4</th>\n",
       "      <td>16</td>\n",
       "      <td>WIEN</td>\n",
       "      <td>16.35</td>\n",
       "      <td>48.2331</td>\n",
       "      <td>198</td>\n",
       "      <td>ECA&amp;D</td>\n",
       "    </tr>\n",
       "  </tbody>\n",
       "</table>\n",
       "</div>"
      ],
      "text/plain": [
       "   station_id       name  longitude  latitude  altitude source\n",
       "0          12       GRAZ      15.45   47.0831       366  ECA&D\n",
       "1          13  INNSBRUCK      11.40   47.2667       577  ECA&D\n",
       "2          14   SALZBURG      13.00   47.8000       437  ECA&D\n",
       "3          15  SONNBLICK      12.95   47.0500      3106  ECA&D\n",
       "4          16       WIEN      16.35   48.2331       198  ECA&D"
      ]
     },
     "execution_count": 7,
     "metadata": {
      "tags": []
     },
     "output_type": "execute_result"
    }
   ],
   "source": [
    "#::GMG::Resultado final\n",
    "estaciones.head()"
   ]
  },
  {
   "cell_type": "code",
   "execution_count": 0,
   "metadata": {
    "colab": {
     "base_uri": "https://localhost:8080/",
     "height": 202
    },
    "colab_type": "code",
    "executionInfo": {
     "elapsed": 577,
     "status": "ok",
     "timestamp": 1544822055534,
     "user": {
      "displayName": "Gerardo de Miguel",
      "photoUrl": "https://lh3.googleusercontent.com/-LmFLfSn0ThU/AAAAAAAAAAI/AAAAAAAAAkg/xGe-_jxkcZA/s64/photo.jpg",
      "userId": "12735548512534412210"
     },
     "user_tz": -60
    },
    "id": "sZw6wDhliswo",
    "outputId": "299d036b-b466-4eb7-b0db-2f3c6792be63"
   },
   "outputs": [
    {
     "data": {
      "text/html": [
       "<div>\n",
       "<style scoped>\n",
       "    .dataframe tbody tr th:only-of-type {\n",
       "        vertical-align: middle;\n",
       "    }\n",
       "\n",
       "    .dataframe tbody tr th {\n",
       "        vertical-align: top;\n",
       "    }\n",
       "\n",
       "    .dataframe thead th {\n",
       "        text-align: right;\n",
       "    }\n",
       "</style>\n",
       "<table border=\"1\" class=\"dataframe\">\n",
       "  <thead>\n",
       "    <tr style=\"text-align: right;\">\n",
       "      <th></th>\n",
       "      <th>station_id</th>\n",
       "      <th>name</th>\n",
       "      <th>longitude</th>\n",
       "      <th>latitude</th>\n",
       "      <th>altitude</th>\n",
       "      <th>source</th>\n",
       "    </tr>\n",
       "  </thead>\n",
       "  <tbody>\n",
       "    <tr>\n",
       "      <th>81</th>\n",
       "      <td>3994</td>\n",
       "      <td>ARKONA</td>\n",
       "      <td>13.4367</td>\n",
       "      <td>54.6817</td>\n",
       "      <td>42</td>\n",
       "      <td>ECA&amp;D</td>\n",
       "    </tr>\n",
       "    <tr>\n",
       "      <th>82</th>\n",
       "      <td>4002</td>\n",
       "      <td>OBERSTDORF</td>\n",
       "      <td>10.2767</td>\n",
       "      <td>47.3989</td>\n",
       "      <td>806</td>\n",
       "      <td>ECA&amp;D</td>\n",
       "    </tr>\n",
       "    <tr>\n",
       "      <th>83</th>\n",
       "      <td>4004</td>\n",
       "      <td>REGENSBURG</td>\n",
       "      <td>12.1031</td>\n",
       "      <td>49.0433</td>\n",
       "      <td>365</td>\n",
       "      <td>ECA&amp;D</td>\n",
       "    </tr>\n",
       "    <tr>\n",
       "      <th>84</th>\n",
       "      <td>5585</td>\n",
       "      <td>SALEN</td>\n",
       "      <td>13.2600</td>\n",
       "      <td>61.1700</td>\n",
       "      <td>360</td>\n",
       "      <td>ECA&amp;D</td>\n",
       "    </tr>\n",
       "    <tr>\n",
       "      <th>85</th>\n",
       "      <td>7682</td>\n",
       "      <td>SIIKAJOKI-REVONLAHTI</td>\n",
       "      <td>25.0925</td>\n",
       "      <td>64.6833</td>\n",
       "      <td>48</td>\n",
       "      <td>ECA&amp;D</td>\n",
       "    </tr>\n",
       "  </tbody>\n",
       "</table>\n",
       "</div>"
      ],
      "text/plain": [
       "    station_id                  name  longitude  latitude  altitude source\n",
       "81        3994                ARKONA    13.4367   54.6817        42  ECA&D\n",
       "82        4002            OBERSTDORF    10.2767   47.3989       806  ECA&D\n",
       "83        4004            REGENSBURG    12.1031   49.0433       365  ECA&D\n",
       "84        5585                 SALEN    13.2600   61.1700       360  ECA&D\n",
       "85        7682  SIIKAJOKI-REVONLAHTI    25.0925   64.6833        48  ECA&D"
      ]
     },
     "execution_count": 8,
     "metadata": {
      "tags": []
     },
     "output_type": "execute_result"
    }
   ],
   "source": [
    "estaciones.tail()"
   ]
  },
  {
   "cell_type": "markdown",
   "metadata": {
    "colab_type": "text",
    "id": "Or4TCPe4cM7J"
   },
   "source": [
    "#### Dataframe precipitaciones"
   ]
  },
  {
   "cell_type": "code",
   "execution_count": 0,
   "metadata": {
    "colab": {},
    "colab_type": "code",
    "id": "x355rS_BHHWh"
   },
   "outputs": [],
   "source": [
    "#::GMG::Leemos la series de precipitaciones\n",
    "precipitaciones = pd.read_csv(\n",
    "    'https://raw.githubusercontent.com/yerartdev/uc-m1967-mdsi/master/d8/precip.csv'\n",
    ")"
   ]
  },
  {
   "cell_type": "code",
   "execution_count": 0,
   "metadata": {
    "colab": {
     "base_uri": "https://localhost:8080/",
     "height": 35
    },
    "colab_type": "code",
    "executionInfo": {
     "elapsed": 596,
     "status": "ok",
     "timestamp": 1544805675403,
     "user": {
      "displayName": "Gerardo de Miguel",
      "photoUrl": "https://lh3.googleusercontent.com/-LmFLfSn0ThU/AAAAAAAAAAI/AAAAAAAAAkg/xGe-_jxkcZA/s64/photo.jpg",
      "userId": "12735548512534412210"
     },
     "user_tz": -60
    },
    "id": "uQSoRlbocbyo",
    "outputId": "ee402d54-c28f-4b61-ce12-3bbf7889b868"
   },
   "outputs": [
    {
     "data": {
      "text/plain": [
       "(4018, 87)"
      ]
     },
     "execution_count": 97,
     "metadata": {
      "tags": []
     },
     "output_type": "execute_result"
    }
   ],
   "source": [
    "#Una idea del dataset que tenemos entre manos\n",
    "precipitaciones.shape"
   ]
  },
  {
   "cell_type": "code",
   "execution_count": 0,
   "metadata": {
    "colab": {
     "base_uri": "https://localhost:8080/",
     "height": 971
    },
    "colab_type": "code",
    "executionInfo": {
     "elapsed": 590,
     "status": "ok",
     "timestamp": 1544806292542,
     "user": {
      "displayName": "Gerardo de Miguel",
      "photoUrl": "https://lh3.googleusercontent.com/-LmFLfSn0ThU/AAAAAAAAAAI/AAAAAAAAAkg/xGe-_jxkcZA/s64/photo.jpg",
      "userId": "12735548512534412210"
     },
     "user_tz": -60
    },
    "id": "46fepQnPHpRj",
    "outputId": "1d7d5f58-3123-4faf-e453-09be3d0911c2"
   },
   "outputs": [
    {
     "name": "stdout",
     "output_type": "stream",
     "text": [
      "Indice: RangeIndex(start=0, stop=4018, step=1) \n",
      "\n",
      "Columnas: Index(['YYYYMMDD', ' 000012', ' 000013', ' 000014', ' 000015', ' 000016',\n",
      "       ' 000017', ' 000021', ' 000028', ' 000029', ' 000030', ' 000032',\n",
      "       ' 000038', ' 000039', ' 000042', ' 000048', ' 000054', ' 000058',\n",
      "       ' 000059', ' 000062', ' 000063', ' 000107', ' 000113', ' 000173',\n",
      "       ' 000175', ' 000176', ' 000177', ' 000190', ' 000191', ' 000192',\n",
      "       ' 000194', ' 000195', ' 000200', ' 000201', ' 000212', ' 000214',\n",
      "       ' 000217', ' 000219', ' 000229', ' 000231', ' 000232', ' 000234',\n",
      "       ' 000236', ' 000239', ' 000242', ' 000243', ' 000244', ' 000272',\n",
      "       ' 000274', ' 000275', ' 000322', ' 000330', ' 000332', ' 000333',\n",
      "       ' 000339', ' 000349', ' 000350', ' 000351', ' 000355', ' 000450',\n",
      "       ' 000462', ' 000465', ' 000468', ' 000483', ' 000708', ' 000800',\n",
      "       ' 000951', ' 001009', ' 001020', ' 001051', ' 001394', ' 001427',\n",
      "       ' 001662', ' 001684', ' 001686', ' 001687', ' 002006', ' 002062',\n",
      "       ' 002762', ' 003919', ' 003946', ' 003991', ' 003994', ' 004002',\n",
      "       ' 004004', ' 005585', ' 007682'],\n",
      "      dtype='object') \n",
      "\n",
      "Valores: \n",
      "[['2000-01-01' ' 0' ' 3.8' 3.7 ' 13.4' ' 7.3' ' 1' 0.0 3.1 0.1 0.7 ' 1'\n",
      "  0.0 ' 0' 1.3 2.4 1.8 22.3 ' 0' ' 0' ' 0.2' 0.7 ' 2.8' ' 0' ' 0' ' 0'\n",
      "  ' 0' ' 0' ' 0.7' ' 4.2' ' 2.5' ' 0' ' 0.1' ' 1.1' ' 0' 0.0 ' 0' ' 13.3'\n",
      "  0.0 0.0 0.0 0.7 0.0 0.3 ' 0' ' 0.1' 1.4 0.8 ' 0' ' 5.4' ' 2.5' ' 3.8'\n",
      "  ' 0.5' ' 1.5' 0.2 ' 20' 0.0 0.0 ' 0.8' ' 8.3' 7.1 1.5 0.5 3.2 1.0 ' 3'\n",
      "  1.4 ' 0.2' ' 0.8' 5.1 0.0 2.0 ' 0' 0.0 0.0 ' 0.2' 3.7 27.5 2.6 0.0 0.0\n",
      "  0.9 1.2 1.5 1.1 ' 4.8' 0.4]\n",
      " ['2000-01-02' ' 0' ' 0' 0.0 ' 3.9' ' 1.6' ' 0.8' 0.8 6.6 4.4 3.6 ' 0.4'\n",
      "  0.0 ' 0' 0.0 0.0 0.0 0.0 ' 0' ' 0' ' 1.1' 0.9 ' 0.5' ' 0' ' 0' ' 0'\n",
      "  ' 0' ' 0.9' ' 0.3' ' 0.5' ' 5.6' ' 0.1' ' 1.2' ' 0' ' 0' 0.0 ' 0' ' 0'\n",
      "  0.0 0.0 0.0 0.8 0.0 0.0 ' 0' ' 0' 0.0 15.4 ' 0' ' 5.6' ' 0.1' ' 0.4'\n",
      "  ' 1' ' 0' 12.4 ' 11' 3.0 1.0 ' 0' ' 1.8' 0.6 1.5 0.1 0.0 3.4 ' 0' 0.0\n",
      "  ' 4.2' ' 0.9' 18.9 0.0 3.5 ' 0' 0.0 0.0 ' 0.5' 2.1 0.0 0.0 0.0 0.0 0.0\n",
      "  0.0 0.1 0.0 ' 5' 7.8]\n",
      " ['2000-01-03' ' 0' ' 0' 0.0 ' 0' ' 0' ' 0' 0.0 0.1 1.8 0.7 ' 0' 0.4 ' 0'\n",
      "  5.2 0.0 0.0 0.0 ' 0' ' 0' ' 0' 2.4 ' 0.4' ' 0' ' 0' ' NaN' ' 0' ' 0'\n",
      "  ' 1.3' ' 1.3' ' 4' ' 0.2' ' 1.3' ' 1.8' ' 0' 0.0 ' 0.2' ' 0' 0.0 0.0\n",
      "  0.0 0.0 0.0 0.0 ' 0' ' 0' 0.0 1.6 ' 8' ' 1.5' ' 2.2' ' 0.9' ' 1' ' 1'\n",
      "  2.5 ' 3' 3.0 0.0 ' 0' ' 1.1' 2.8 0.6 4.5 0.0 0.1 ' 0' 1.1 ' 2.6' ' 0.3'\n",
      "  32.1 1.8 4.8 ' 0' 0.0 0.0 ' 0' 7.1 0.0 0.0 0.0 0.0 0.1 8.1 0.0 0.0\n",
      "  ' 1.6' 2.1]\n",
      " ['2000-01-04' ' 0' ' 0' 2.0 ' 1.1' ' 0.4' ' 10.9' 0.0 1.7 7.6 4.4 ' 0.8'\n",
      "  1.6 ' 0' 2.5 0.2 3.5 7.9 ' 0' ' 0' ' 0' 2.5 ' 1.8' ' 0' ' 0' ' 0' ' 0'\n",
      "  ' 0.1' ' 0.1' ' 0' ' 3.2' ' 0.3' ' 1.6' ' 2' ' 0' 0.0 ' 0' ' 0' 0.0 0.0\n",
      "  0.0 0.0 0.0 3.5 ' 0' ' 10.8' 2.7 14.2 ' 0.2' ' 1' ' 4' ' 0.1' ' 4.8'\n",
      "  ' 0.6' 7.2 ' 14' 9.0 0.0 ' 0' ' 0.7' 0.0 0.5 1.8 2.2 2.5 ' 0.2' 0.5\n",
      "  ' 3.1' ' 2.5' 7.1 0.2 0.0 ' 0' 0.0 0.0 ' 0' 12.1 0.7 0.2 0.0 0.0 3.2\n",
      "  4.6 6.5 2.3 ' 0' 0.4]\n",
      " ['2000-01-05' ' 0' ' 0' 1.3 ' 1.7' ' 0' ' 0' 0.0 0.1 0.3 0.1 ' 0.2' 0.0\n",
      "  ' 0' 0.0 1.4 0.0 2.3 ' 0' ' 0' ' 0' 0.4 ' 0' ' 0' ' 0' ' 0' ' 0' ' 0.4'\n",
      "  ' 0.1' ' 0.3' ' 4.1' ' 0.4' ' 1.9' ' 0.3' ' 0' 1.0 ' 0' ' 0' 0.7 0.0\n",
      "  0.0 0.0 0.0 0.7 ' 0' ' 5.8' 0.1 8.8 ' 1' ' 1.8' ' 0' ' 0.3' ' 6.6'\n",
      "  ' 2.5' 0.3 ' 21' 2.0 0.0 ' 0' ' 0.1' 0.2 0.0 0.0 0.0 0.0 ' 0' 0.0 ' 0'\n",
      "  ' 4.4' 0.1 1.7 0.0 ' 0' 0.0 0.0 ' 0' 0.5 0.0 0.0 0.0 0.0 0.0 0.0 3.5\n",
      "  0.2 ' 1.3' 0.1]]\n"
     ]
    }
   ],
   "source": [
    "#::GMG::Estudiamos la estructura de los datos que hemos importado\n",
    "print('Indice: {} \\n\\nColumnas: {} \\n\\nValores: \\n{}'.format(\n",
    "    precipitaciones.index, \n",
    "    precipitaciones.columns, \n",
    "    precipitaciones.values[:5]\n",
    "   )\n",
    ")"
   ]
  },
  {
   "cell_type": "code",
   "execution_count": 0,
   "metadata": {
    "colab": {
     "base_uri": "https://localhost:8080/",
     "height": 936
    },
    "colab_type": "code",
    "executionInfo": {
     "elapsed": 1054,
     "status": "ok",
     "timestamp": 1544894119456,
     "user": {
      "displayName": "Gerardo de Miguel",
      "photoUrl": "https://lh3.googleusercontent.com/-LmFLfSn0ThU/AAAAAAAAAAI/AAAAAAAAAkg/xGe-_jxkcZA/s64/photo.jpg",
      "userId": "12735548512534412210"
     },
     "user_tz": -60
    },
    "id": "Rie7sI12mUo-",
    "outputId": "db1a8a02-85b4-4d9f-96cb-f4fbd624de5c"
   },
   "outputs": [
    {
     "name": "stdout",
     "output_type": "stream",
     "text": [
      "Indice: DatetimeIndex(['2000-01-01', '2000-01-02', '2000-01-03', '2000-01-04',\n",
      "               '2000-01-05', '2000-01-06', '2000-01-07', '2000-01-08',\n",
      "               '2000-01-09', '2000-01-10',\n",
      "               ...\n",
      "               '2010-12-22', '2010-12-23', '2010-12-24', '2010-12-25',\n",
      "               '2010-12-26', '2010-12-27', '2010-12-28', '2010-12-29',\n",
      "               '2010-12-30', '2010-12-31'],\n",
      "              dtype='datetime64[ns]', name=0, length=4018, freq=None) \n",
      "\n",
      "Columnas: Int64Index([ 1,  2,  3,  4,  5,  6,  7,  8,  9, 10, 11, 12, 13, 14, 15, 16, 17,\n",
      "            18, 19, 20, 21, 22, 23, 24, 25, 26, 27, 28, 29, 30, 31, 32, 33, 34,\n",
      "            35, 36, 37, 38, 39, 40, 41, 42, 43, 44, 45, 46, 47, 48, 49, 50, 51,\n",
      "            52, 53, 54, 55, 56, 57, 58, 59, 60, 61, 62, 63, 64, 65, 66, 67, 68,\n",
      "            69, 70, 71, 72, 73, 74, 75, 76, 77, 78, 79, 80, 81, 82, 83, 84, 85,\n",
      "            86],\n",
      "           dtype='int64') \n",
      "\n",
      "Valores: \n",
      "[[ 0.   3.8  3.7 13.4  7.3  1.   0.   3.1  0.1  0.7  1.   0.   0.   1.3\n",
      "   2.4  1.8 22.3  0.   0.   0.2  0.7  2.8  0.   0.   0.   0.   0.   0.7\n",
      "   4.2  2.5  0.   0.1  1.1  0.   0.   0.  13.3  0.   0.   0.   0.7  0.\n",
      "   0.3  0.   0.1  1.4  0.8  0.   5.4  2.5  3.8  0.5  1.5  0.2 20.   0.\n",
      "   0.   0.8  8.3  7.1  1.5  0.5  3.2  1.   3.   1.4  0.2  0.8  5.1  0.\n",
      "   2.   0.   0.   0.   0.2  3.7 27.5  2.6  0.   0.   0.9  1.2  1.5  1.1\n",
      "   4.8  0.4]\n",
      " [ 0.   0.   0.   3.9  1.6  0.8  0.8  6.6  4.4  3.6  0.4  0.   0.   0.\n",
      "   0.   0.   0.   0.   0.   1.1  0.9  0.5  0.   0.   0.   0.   0.9  0.3\n",
      "   0.5  5.6  0.1  1.2  0.   0.   0.   0.   0.   0.   0.   0.   0.8  0.\n",
      "   0.   0.   0.   0.  15.4  0.   5.6  0.1  0.4  1.   0.  12.4 11.   3.\n",
      "   1.   0.   1.8  0.6  1.5  0.1  0.   3.4  0.   0.   4.2  0.9 18.9  0.\n",
      "   3.5  0.   0.   0.   0.5  2.1  0.   0.   0.   0.   0.   0.   0.1  0.\n",
      "   5.   7.8]\n",
      " [ 0.   0.   0.   0.   0.   0.   0.   0.1  1.8  0.7  0.   0.4  0.   5.2\n",
      "   0.   0.   0.   0.   0.   0.   2.4  0.4  0.   0.   nan  0.   0.   1.3\n",
      "   1.3  4.   0.2  1.3  1.8  0.   0.   0.2  0.   0.   0.   0.   0.   0.\n",
      "   0.   0.   0.   0.   1.6  8.   1.5  2.2  0.9  1.   1.   2.5  3.   3.\n",
      "   0.   0.   1.1  2.8  0.6  4.5  0.   0.1  0.   1.1  2.6  0.3 32.1  1.8\n",
      "   4.8  0.   0.   0.   0.   7.1  0.   0.   0.   0.   0.1  8.1  0.   0.\n",
      "   1.6  2.1]\n",
      " [ 0.   0.   2.   1.1  0.4 10.9  0.   1.7  7.6  4.4  0.8  1.6  0.   2.5\n",
      "   0.2  3.5  7.9  0.   0.   0.   2.5  1.8  0.   0.   0.   0.   0.1  0.1\n",
      "   0.   3.2  0.3  1.6  2.   0.   0.   0.   0.   0.   0.   0.   0.   0.\n",
      "   3.5  0.  10.8  2.7 14.2  0.2  1.   4.   0.1  4.8  0.6  7.2 14.   9.\n",
      "   0.   0.   0.7  0.   0.5  1.8  2.2  2.5  0.2  0.5  3.1  2.5  7.1  0.2\n",
      "   0.   0.   0.   0.   0.  12.1  0.7  0.2  0.   0.   3.2  4.6  6.5  2.3\n",
      "   0.   0.4]\n",
      " [ 0.   0.   1.3  1.7  0.   0.   0.   0.1  0.3  0.1  0.2  0.   0.   0.\n",
      "   1.4  0.   2.3  0.   0.   0.   0.4  0.   0.   0.   0.   0.   0.4  0.1\n",
      "   0.3  4.1  0.4  1.9  0.3  0.   1.   0.   0.   0.7  0.   0.   0.   0.\n",
      "   0.7  0.   5.8  0.1  8.8  1.   1.8  0.   0.3  6.6  2.5  0.3 21.   2.\n",
      "   0.   0.   0.1  0.2  0.   0.   0.   0.   0.   0.   0.   4.4  0.1  1.7\n",
      "   0.   0.   0.   0.   0.   0.5  0.   0.   0.   0.   0.   0.   3.5  0.2\n",
      "   1.3  0.1]]\n"
     ]
    }
   ],
   "source": [
    "#::GMG::No hemos logrado cargar correctamente los valores de las estaciones\n",
    "#      - Algunos se han cargado como string (object) y otros numéricos (float64)\n",
    "#      - Las cabeceras no son nada informativas\n",
    "#  Hemos dejado que read_csv tome muchas decisiones por sí mismo :)\n",
    "# https://pandas.pydata.org/pandas-docs/stable/generated/pandas.read_csv.html\n",
    "# \n",
    "precipitaciones = pd.read_csv(\n",
    "    'https://raw.githubusercontent.com/yerartdev/uc-m1967-mdsi/master/d8/precip.csv',\n",
    "    skiprows = 1,\n",
    "    header = None,\n",
    "    na_values=' NaN',\n",
    "    parse_dates = True,\n",
    "    index_col = 0\n",
    ")\n",
    "print('Indice: {} \\n\\nColumnas: {} \\n\\nValores: \\n{}'.format(\n",
    "    precipitaciones.index, \n",
    "    precipitaciones.columns, \n",
    "    precipitaciones.values[:5]\n",
    "   )\n",
    ")"
   ]
  },
  {
   "cell_type": "code",
   "execution_count": 0,
   "metadata": {
    "colab": {
     "base_uri": "https://localhost:8080/",
     "height": 173
    },
    "colab_type": "code",
    "executionInfo": {
     "elapsed": 544,
     "status": "ok",
     "timestamp": 1544894128520,
     "user": {
      "displayName": "Gerardo de Miguel",
      "photoUrl": "https://lh3.googleusercontent.com/-LmFLfSn0ThU/AAAAAAAAAAI/AAAAAAAAAkg/xGe-_jxkcZA/s64/photo.jpg",
      "userId": "12735548512534412210"
     },
     "user_tz": -60
    },
    "id": "kNSXXgX-KeXS",
    "outputId": "c430ab72-598a-4ea8-9b83-ee6a3376e495"
   },
   "outputs": [
    {
     "name": "stdout",
     "output_type": "stream",
     "text": [
      "Int64Index([  12,   13,   14,   15,   16,   17,   21,   28,   29,   30,   32,\n",
      "              38,   39,   42,   48,   54,   58,   59,   62,   63,  107,  113,\n",
      "             173,  175,  176,  177,  190,  191,  192,  194,  195,  200,  201,\n",
      "             212,  214,  217,  219,  229,  231,  232,  234,  236,  239,  242,\n",
      "             243,  244,  272,  274,  275,  322,  330,  332,  333,  339,  349,\n",
      "             350,  351,  355,  450,  462,  465,  468,  483,  708,  800,  951,\n",
      "            1009, 1020, 1051, 1394, 1427, 1662, 1684, 1686, 1687, 2006, 2062,\n",
      "            2762, 3919, 3946, 3991, 3994, 4002, 4004, 5585, 7682],\n",
      "           dtype='int64')\n"
     ]
    }
   ],
   "source": [
    "#::GMG::Hay que adecuar los nombres de las columnas\n",
    "# https://developmentality.wordpress.com/2012/03/30/three-ways-of-creating-dictionaries-in-python/\n",
    "# http://cmdlinetips.com/2018/03/how-to-change-column-names-and-row-indexes-in-pandas/\n",
    "# http://cmdlinetips.com/2018/09/how-to-convert-a-column-to-row-name-index-in-pandas/\n",
    "precipitaciones.rename(\n",
    "    columns= dict(\n",
    "        zip(\n",
    "            precipitaciones.columns.tolist(),\n",
    "            #estaciones.station_id.to_dict().values()\n",
    "            estaciones.station_id.tolist()\n",
    "        )\n",
    "    ),\n",
    "    inplace = True\n",
    ")\n",
    "print(precipitaciones.columns)"
   ]
  },
  {
   "cell_type": "code",
   "execution_count": 0,
   "metadata": {
    "colab": {
     "base_uri": "https://localhost:8080/",
     "height": 156
    },
    "colab_type": "code",
    "executionInfo": {
     "elapsed": 535,
     "status": "ok",
     "timestamp": 1544894131784,
     "user": {
      "displayName": "Gerardo de Miguel",
      "photoUrl": "https://lh3.googleusercontent.com/-LmFLfSn0ThU/AAAAAAAAAAI/AAAAAAAAAkg/xGe-_jxkcZA/s64/photo.jpg",
      "userId": "12735548512534412210"
     },
     "user_tz": -60
    },
    "id": "C3Zo1uupkmVA",
    "outputId": "234b1227-94a9-4b4f-8856-6a1daba280d6"
   },
   "outputs": [
    {
     "name": "stdout",
     "output_type": "stream",
     "text": [
      "DatetimeIndex(['2000-01-01', '2000-01-02', '2000-01-03', '2000-01-04',\n",
      "               '2000-01-05', '2000-01-06', '2000-01-07', '2000-01-08',\n",
      "               '2000-01-09', '2000-01-10',\n",
      "               ...\n",
      "               '2010-12-22', '2010-12-23', '2010-12-24', '2010-12-25',\n",
      "               '2010-12-26', '2010-12-27', '2010-12-28', '2010-12-29',\n",
      "               '2010-12-30', '2010-12-31'],\n",
      "              dtype='datetime64[ns]', name='date', length=4018, freq=None)\n"
     ]
    }
   ],
   "source": [
    "#::GMG::Y el índice temporal \n",
    "# https://pandas.pydata.org/pandas-docs/stable/generated/pandas.Index.rename.html\n",
    "precipitaciones.index.rename('date', inplace=True)\n",
    "print(precipitaciones.index)"
   ]
  },
  {
   "cell_type": "code",
   "execution_count": 0,
   "metadata": {
    "colab": {
     "base_uri": "https://localhost:8080/",
     "height": 262
    },
    "colab_type": "code",
    "executionInfo": {
     "elapsed": 563,
     "status": "ok",
     "timestamp": 1544870740315,
     "user": {
      "displayName": "Gerardo de Miguel",
      "photoUrl": "https://lh3.googleusercontent.com/-LmFLfSn0ThU/AAAAAAAAAAI/AAAAAAAAAkg/xGe-_jxkcZA/s64/photo.jpg",
      "userId": "12735548512534412210"
     },
     "user_tz": -60
    },
    "id": "aA8rPrIhafLs",
    "outputId": "31d630a5-c02a-4aaa-cea5-d085cbffe00e"
   },
   "outputs": [
    {
     "data": {
      "text/html": [
       "<div>\n",
       "<style scoped>\n",
       "    .dataframe tbody tr th:only-of-type {\n",
       "        vertical-align: middle;\n",
       "    }\n",
       "\n",
       "    .dataframe tbody tr th {\n",
       "        vertical-align: top;\n",
       "    }\n",
       "\n",
       "    .dataframe thead th {\n",
       "        text-align: right;\n",
       "    }\n",
       "</style>\n",
       "<table border=\"1\" class=\"dataframe\">\n",
       "  <thead>\n",
       "    <tr style=\"text-align: right;\">\n",
       "      <th></th>\n",
       "      <th>12</th>\n",
       "      <th>13</th>\n",
       "      <th>14</th>\n",
       "      <th>15</th>\n",
       "      <th>16</th>\n",
       "      <th>17</th>\n",
       "      <th>21</th>\n",
       "      <th>28</th>\n",
       "      <th>29</th>\n",
       "      <th>30</th>\n",
       "      <th>...</th>\n",
       "      <th>2062</th>\n",
       "      <th>2762</th>\n",
       "      <th>3919</th>\n",
       "      <th>3946</th>\n",
       "      <th>3991</th>\n",
       "      <th>3994</th>\n",
       "      <th>4002</th>\n",
       "      <th>4004</th>\n",
       "      <th>5585</th>\n",
       "      <th>7682</th>\n",
       "    </tr>\n",
       "    <tr>\n",
       "      <th>date</th>\n",
       "      <th></th>\n",
       "      <th></th>\n",
       "      <th></th>\n",
       "      <th></th>\n",
       "      <th></th>\n",
       "      <th></th>\n",
       "      <th></th>\n",
       "      <th></th>\n",
       "      <th></th>\n",
       "      <th></th>\n",
       "      <th></th>\n",
       "      <th></th>\n",
       "      <th></th>\n",
       "      <th></th>\n",
       "      <th></th>\n",
       "      <th></th>\n",
       "      <th></th>\n",
       "      <th></th>\n",
       "      <th></th>\n",
       "      <th></th>\n",
       "      <th></th>\n",
       "    </tr>\n",
       "  </thead>\n",
       "  <tbody>\n",
       "    <tr>\n",
       "      <th>2000-01-01</th>\n",
       "      <td>0.0</td>\n",
       "      <td>3.8</td>\n",
       "      <td>3.7</td>\n",
       "      <td>13.4</td>\n",
       "      <td>7.3</td>\n",
       "      <td>1.0</td>\n",
       "      <td>0.0</td>\n",
       "      <td>3.1</td>\n",
       "      <td>0.1</td>\n",
       "      <td>0.7</td>\n",
       "      <td>...</td>\n",
       "      <td>27.5</td>\n",
       "      <td>2.6</td>\n",
       "      <td>0.0</td>\n",
       "      <td>0.0</td>\n",
       "      <td>0.9</td>\n",
       "      <td>1.2</td>\n",
       "      <td>1.5</td>\n",
       "      <td>1.1</td>\n",
       "      <td>4.8</td>\n",
       "      <td>0.4</td>\n",
       "    </tr>\n",
       "    <tr>\n",
       "      <th>2000-01-02</th>\n",
       "      <td>0.0</td>\n",
       "      <td>0.0</td>\n",
       "      <td>0.0</td>\n",
       "      <td>3.9</td>\n",
       "      <td>1.6</td>\n",
       "      <td>0.8</td>\n",
       "      <td>0.8</td>\n",
       "      <td>6.6</td>\n",
       "      <td>4.4</td>\n",
       "      <td>3.6</td>\n",
       "      <td>...</td>\n",
       "      <td>0.0</td>\n",
       "      <td>0.0</td>\n",
       "      <td>0.0</td>\n",
       "      <td>0.0</td>\n",
       "      <td>0.0</td>\n",
       "      <td>0.0</td>\n",
       "      <td>0.1</td>\n",
       "      <td>0.0</td>\n",
       "      <td>5.0</td>\n",
       "      <td>7.8</td>\n",
       "    </tr>\n",
       "    <tr>\n",
       "      <th>2000-01-03</th>\n",
       "      <td>0.0</td>\n",
       "      <td>0.0</td>\n",
       "      <td>0.0</td>\n",
       "      <td>0.0</td>\n",
       "      <td>0.0</td>\n",
       "      <td>0.0</td>\n",
       "      <td>0.0</td>\n",
       "      <td>0.1</td>\n",
       "      <td>1.8</td>\n",
       "      <td>0.7</td>\n",
       "      <td>...</td>\n",
       "      <td>0.0</td>\n",
       "      <td>0.0</td>\n",
       "      <td>0.0</td>\n",
       "      <td>0.0</td>\n",
       "      <td>0.1</td>\n",
       "      <td>8.1</td>\n",
       "      <td>0.0</td>\n",
       "      <td>0.0</td>\n",
       "      <td>1.6</td>\n",
       "      <td>2.1</td>\n",
       "    </tr>\n",
       "    <tr>\n",
       "      <th>2000-01-04</th>\n",
       "      <td>0.0</td>\n",
       "      <td>0.0</td>\n",
       "      <td>2.0</td>\n",
       "      <td>1.1</td>\n",
       "      <td>0.4</td>\n",
       "      <td>10.9</td>\n",
       "      <td>0.0</td>\n",
       "      <td>1.7</td>\n",
       "      <td>7.6</td>\n",
       "      <td>4.4</td>\n",
       "      <td>...</td>\n",
       "      <td>0.7</td>\n",
       "      <td>0.2</td>\n",
       "      <td>0.0</td>\n",
       "      <td>0.0</td>\n",
       "      <td>3.2</td>\n",
       "      <td>4.6</td>\n",
       "      <td>6.5</td>\n",
       "      <td>2.3</td>\n",
       "      <td>0.0</td>\n",
       "      <td>0.4</td>\n",
       "    </tr>\n",
       "    <tr>\n",
       "      <th>2000-01-05</th>\n",
       "      <td>0.0</td>\n",
       "      <td>0.0</td>\n",
       "      <td>1.3</td>\n",
       "      <td>1.7</td>\n",
       "      <td>0.0</td>\n",
       "      <td>0.0</td>\n",
       "      <td>0.0</td>\n",
       "      <td>0.1</td>\n",
       "      <td>0.3</td>\n",
       "      <td>0.1</td>\n",
       "      <td>...</td>\n",
       "      <td>0.0</td>\n",
       "      <td>0.0</td>\n",
       "      <td>0.0</td>\n",
       "      <td>0.0</td>\n",
       "      <td>0.0</td>\n",
       "      <td>0.0</td>\n",
       "      <td>3.5</td>\n",
       "      <td>0.2</td>\n",
       "      <td>1.3</td>\n",
       "      <td>0.1</td>\n",
       "    </tr>\n",
       "  </tbody>\n",
       "</table>\n",
       "<p>5 rows × 86 columns</p>\n",
       "</div>"
      ],
      "text/plain": [
       "            12    13    14    15    16    17    21    28    29    30    ...   \\\n",
       "date                                                                    ...    \n",
       "2000-01-01   0.0   3.8   3.7  13.4   7.3   1.0   0.0   3.1   0.1   0.7  ...    \n",
       "2000-01-02   0.0   0.0   0.0   3.9   1.6   0.8   0.8   6.6   4.4   3.6  ...    \n",
       "2000-01-03   0.0   0.0   0.0   0.0   0.0   0.0   0.0   0.1   1.8   0.7  ...    \n",
       "2000-01-04   0.0   0.0   2.0   1.1   0.4  10.9   0.0   1.7   7.6   4.4  ...    \n",
       "2000-01-05   0.0   0.0   1.3   1.7   0.0   0.0   0.0   0.1   0.3   0.1  ...    \n",
       "\n",
       "            2062  2762  3919  3946  3991  3994  4002  4004  5585  7682  \n",
       "date                                                                    \n",
       "2000-01-01  27.5   2.6   0.0   0.0   0.9   1.2   1.5   1.1   4.8   0.4  \n",
       "2000-01-02   0.0   0.0   0.0   0.0   0.0   0.0   0.1   0.0   5.0   7.8  \n",
       "2000-01-03   0.0   0.0   0.0   0.0   0.1   8.1   0.0   0.0   1.6   2.1  \n",
       "2000-01-04   0.7   0.2   0.0   0.0   3.2   4.6   6.5   2.3   0.0   0.4  \n",
       "2000-01-05   0.0   0.0   0.0   0.0   0.0   0.0   3.5   0.2   1.3   0.1  \n",
       "\n",
       "[5 rows x 86 columns]"
      ]
     },
     "execution_count": 13,
     "metadata": {
      "tags": []
     },
     "output_type": "execute_result"
    }
   ],
   "source": [
    "precipitaciones.head()"
   ]
  },
  {
   "cell_type": "code",
   "execution_count": 0,
   "metadata": {
    "colab": {
     "base_uri": "https://localhost:8080/",
     "height": 262
    },
    "colab_type": "code",
    "executionInfo": {
     "elapsed": 793,
     "status": "ok",
     "timestamp": 1544870746328,
     "user": {
      "displayName": "Gerardo de Miguel",
      "photoUrl": "https://lh3.googleusercontent.com/-LmFLfSn0ThU/AAAAAAAAAAI/AAAAAAAAAkg/xGe-_jxkcZA/s64/photo.jpg",
      "userId": "12735548512534412210"
     },
     "user_tz": -60
    },
    "id": "oC5LSo_DmubR",
    "outputId": "7f84ea8a-8127-42cb-8822-9c5a0709dd1f"
   },
   "outputs": [
    {
     "data": {
      "text/html": [
       "<div>\n",
       "<style scoped>\n",
       "    .dataframe tbody tr th:only-of-type {\n",
       "        vertical-align: middle;\n",
       "    }\n",
       "\n",
       "    .dataframe tbody tr th {\n",
       "        vertical-align: top;\n",
       "    }\n",
       "\n",
       "    .dataframe thead th {\n",
       "        text-align: right;\n",
       "    }\n",
       "</style>\n",
       "<table border=\"1\" class=\"dataframe\">\n",
       "  <thead>\n",
       "    <tr style=\"text-align: right;\">\n",
       "      <th></th>\n",
       "      <th>12</th>\n",
       "      <th>13</th>\n",
       "      <th>14</th>\n",
       "      <th>15</th>\n",
       "      <th>16</th>\n",
       "      <th>17</th>\n",
       "      <th>21</th>\n",
       "      <th>28</th>\n",
       "      <th>29</th>\n",
       "      <th>30</th>\n",
       "      <th>...</th>\n",
       "      <th>2062</th>\n",
       "      <th>2762</th>\n",
       "      <th>3919</th>\n",
       "      <th>3946</th>\n",
       "      <th>3991</th>\n",
       "      <th>3994</th>\n",
       "      <th>4002</th>\n",
       "      <th>4004</th>\n",
       "      <th>5585</th>\n",
       "      <th>7682</th>\n",
       "    </tr>\n",
       "    <tr>\n",
       "      <th>date</th>\n",
       "      <th></th>\n",
       "      <th></th>\n",
       "      <th></th>\n",
       "      <th></th>\n",
       "      <th></th>\n",
       "      <th></th>\n",
       "      <th></th>\n",
       "      <th></th>\n",
       "      <th></th>\n",
       "      <th></th>\n",
       "      <th></th>\n",
       "      <th></th>\n",
       "      <th></th>\n",
       "      <th></th>\n",
       "      <th></th>\n",
       "      <th></th>\n",
       "      <th></th>\n",
       "      <th></th>\n",
       "      <th></th>\n",
       "      <th></th>\n",
       "      <th></th>\n",
       "    </tr>\n",
       "  </thead>\n",
       "  <tbody>\n",
       "    <tr>\n",
       "      <th>2010-12-27</th>\n",
       "      <td>0.0</td>\n",
       "      <td>0.0</td>\n",
       "      <td>0.0</td>\n",
       "      <td>0.0</td>\n",
       "      <td>0.0</td>\n",
       "      <td>0.0</td>\n",
       "      <td>0.0</td>\n",
       "      <td>0.2</td>\n",
       "      <td>1.1</td>\n",
       "      <td>0.0</td>\n",
       "      <td>...</td>\n",
       "      <td>15.0</td>\n",
       "      <td>0.0</td>\n",
       "      <td>0.0</td>\n",
       "      <td>0.0</td>\n",
       "      <td>0.0</td>\n",
       "      <td>1.4</td>\n",
       "      <td>0.0</td>\n",
       "      <td>0.0</td>\n",
       "      <td>NaN</td>\n",
       "      <td>0.0</td>\n",
       "    </tr>\n",
       "    <tr>\n",
       "      <th>2010-12-28</th>\n",
       "      <td>0.0</td>\n",
       "      <td>4.1</td>\n",
       "      <td>0.0</td>\n",
       "      <td>3.5</td>\n",
       "      <td>0.0</td>\n",
       "      <td>0.3</td>\n",
       "      <td>0.0</td>\n",
       "      <td>0.0</td>\n",
       "      <td>0.1</td>\n",
       "      <td>0.0</td>\n",
       "      <td>...</td>\n",
       "      <td>0.2</td>\n",
       "      <td>1.1</td>\n",
       "      <td>0.0</td>\n",
       "      <td>0.0</td>\n",
       "      <td>0.0</td>\n",
       "      <td>0.0</td>\n",
       "      <td>8.6</td>\n",
       "      <td>0.0</td>\n",
       "      <td>NaN</td>\n",
       "      <td>0.0</td>\n",
       "    </tr>\n",
       "    <tr>\n",
       "      <th>2010-12-29</th>\n",
       "      <td>0.0</td>\n",
       "      <td>0.0</td>\n",
       "      <td>1.5</td>\n",
       "      <td>3.7</td>\n",
       "      <td>0.0</td>\n",
       "      <td>0.0</td>\n",
       "      <td>0.0</td>\n",
       "      <td>0.0</td>\n",
       "      <td>0.0</td>\n",
       "      <td>0.0</td>\n",
       "      <td>...</td>\n",
       "      <td>0.0</td>\n",
       "      <td>0.0</td>\n",
       "      <td>0.0</td>\n",
       "      <td>0.0</td>\n",
       "      <td>0.0</td>\n",
       "      <td>0.0</td>\n",
       "      <td>0.2</td>\n",
       "      <td>0.0</td>\n",
       "      <td>NaN</td>\n",
       "      <td>0.0</td>\n",
       "    </tr>\n",
       "    <tr>\n",
       "      <th>2010-12-30</th>\n",
       "      <td>0.0</td>\n",
       "      <td>0.0</td>\n",
       "      <td>0.0</td>\n",
       "      <td>0.0</td>\n",
       "      <td>0.0</td>\n",
       "      <td>0.0</td>\n",
       "      <td>0.0</td>\n",
       "      <td>6.9</td>\n",
       "      <td>3.1</td>\n",
       "      <td>0.4</td>\n",
       "      <td>...</td>\n",
       "      <td>0.0</td>\n",
       "      <td>0.0</td>\n",
       "      <td>0.0</td>\n",
       "      <td>3.1</td>\n",
       "      <td>0.0</td>\n",
       "      <td>0.5</td>\n",
       "      <td>0.0</td>\n",
       "      <td>0.0</td>\n",
       "      <td>NaN</td>\n",
       "      <td>3.0</td>\n",
       "    </tr>\n",
       "    <tr>\n",
       "      <th>2010-12-31</th>\n",
       "      <td>0.0</td>\n",
       "      <td>0.0</td>\n",
       "      <td>0.0</td>\n",
       "      <td>0.0</td>\n",
       "      <td>0.0</td>\n",
       "      <td>0.0</td>\n",
       "      <td>0.0</td>\n",
       "      <td>0.6</td>\n",
       "      <td>1.5</td>\n",
       "      <td>0.3</td>\n",
       "      <td>...</td>\n",
       "      <td>0.0</td>\n",
       "      <td>0.0</td>\n",
       "      <td>0.3</td>\n",
       "      <td>0.0</td>\n",
       "      <td>0.0</td>\n",
       "      <td>0.0</td>\n",
       "      <td>0.0</td>\n",
       "      <td>0.2</td>\n",
       "      <td>NaN</td>\n",
       "      <td>0.0</td>\n",
       "    </tr>\n",
       "  </tbody>\n",
       "</table>\n",
       "<p>5 rows × 86 columns</p>\n",
       "</div>"
      ],
      "text/plain": [
       "            12    13    14    15    16    17    21    28    29    30    ...   \\\n",
       "date                                                                    ...    \n",
       "2010-12-27   0.0   0.0   0.0   0.0   0.0   0.0   0.0   0.2   1.1   0.0  ...    \n",
       "2010-12-28   0.0   4.1   0.0   3.5   0.0   0.3   0.0   0.0   0.1   0.0  ...    \n",
       "2010-12-29   0.0   0.0   1.5   3.7   0.0   0.0   0.0   0.0   0.0   0.0  ...    \n",
       "2010-12-30   0.0   0.0   0.0   0.0   0.0   0.0   0.0   6.9   3.1   0.4  ...    \n",
       "2010-12-31   0.0   0.0   0.0   0.0   0.0   0.0   0.0   0.6   1.5   0.3  ...    \n",
       "\n",
       "            2062  2762  3919  3946  3991  3994  4002  4004  5585  7682  \n",
       "date                                                                    \n",
       "2010-12-27  15.0   0.0   0.0   0.0   0.0   1.4   0.0   0.0   NaN   0.0  \n",
       "2010-12-28   0.2   1.1   0.0   0.0   0.0   0.0   8.6   0.0   NaN   0.0  \n",
       "2010-12-29   0.0   0.0   0.0   0.0   0.0   0.0   0.2   0.0   NaN   0.0  \n",
       "2010-12-30   0.0   0.0   0.0   3.1   0.0   0.5   0.0   0.0   NaN   3.0  \n",
       "2010-12-31   0.0   0.0   0.3   0.0   0.0   0.0   0.0   0.2   NaN   0.0  \n",
       "\n",
       "[5 rows x 86 columns]"
      ]
     },
     "execution_count": 14,
     "metadata": {
      "tags": []
     },
     "output_type": "execute_result"
    }
   ],
   "source": [
    "precipitaciones.tail()"
   ]
  },
  {
   "cell_type": "code",
   "execution_count": 0,
   "metadata": {
    "colab": {
     "base_uri": "https://localhost:8080/",
     "height": 35
    },
    "colab_type": "code",
    "executionInfo": {
     "elapsed": 598,
     "status": "ok",
     "timestamp": 1544823085881,
     "user": {
      "displayName": "Gerardo de Miguel",
      "photoUrl": "https://lh3.googleusercontent.com/-LmFLfSn0ThU/AAAAAAAAAAI/AAAAAAAAAkg/xGe-_jxkcZA/s64/photo.jpg",
      "userId": "12735548512534412210"
     },
     "user_tz": -60
    },
    "id": "g5eW3j-pIde7",
    "outputId": "a524957a-731c-4c47-9038-adac98c41ad5"
   },
   "outputs": [
    {
     "data": {
      "text/plain": [
       "(4018, 86)"
      ]
     },
     "execution_count": 26,
     "metadata": {
      "tags": []
     },
     "output_type": "execute_result"
    }
   ],
   "source": [
    "#::GMG::Una idea del tamaño del dataset que tenemos entre manos\n",
    "precipitaciones.shape"
   ]
  },
  {
   "cell_type": "markdown",
   "metadata": {
    "colab_type": "text",
    "id": "wOvuA3hWtIDv"
   },
   "source": [
    "#### Missing Values (NaN)"
   ]
  },
  {
   "cell_type": "code",
   "execution_count": 0,
   "metadata": {
    "colab": {
     "base_uri": "https://localhost:8080/",
     "height": 35
    },
    "colab_type": "code",
    "executionInfo": {
     "elapsed": 675,
     "status": "ok",
     "timestamp": 1544823136552,
     "user": {
      "displayName": "Gerardo de Miguel",
      "photoUrl": "https://lh3.googleusercontent.com/-LmFLfSn0ThU/AAAAAAAAAAI/AAAAAAAAAkg/xGe-_jxkcZA/s64/photo.jpg",
      "userId": "12735548512534412210"
     },
     "user_tz": -60
    },
    "id": "yki5RBGEoaV1",
    "outputId": "7e4a972f-4da5-4362-a390-e7d7c139d7d5"
   },
   "outputs": [
    {
     "data": {
      "text/plain": [
       "True"
      ]
     },
     "execution_count": 27,
     "metadata": {
      "tags": []
     },
     "output_type": "execute_result"
    }
   ],
   "source": [
    "#::GMG::Compruebo si el dataframe está ´limpio' ... ya hemos visto con head() y\n",
    "#       tail() que hay NaNs; hay otra manera de confirmarlo:\n",
    "# https://stackoverflow.com/questions/29530232/how-to-check-if-any-value-is-nan-in-a-pandas-dataframe\n",
    "precipitaciones.isnull().any().any()"
   ]
  },
  {
   "cell_type": "code",
   "execution_count": 0,
   "metadata": {
    "colab": {
     "base_uri": "https://localhost:8080/",
     "height": 763
    },
    "colab_type": "code",
    "executionInfo": {
     "elapsed": 569,
     "status": "ok",
     "timestamp": 1544824577154,
     "user": {
      "displayName": "Gerardo de Miguel",
      "photoUrl": "https://lh3.googleusercontent.com/-LmFLfSn0ThU/AAAAAAAAAAI/AAAAAAAAAkg/xGe-_jxkcZA/s64/photo.jpg",
      "userId": "12735548512534412210"
     },
     "user_tz": -60
    },
    "id": "GjPeZ55_tq6Z",
    "outputId": "31b76b91-92b2-49ca-f73b-fbb2c380fe0c"
   },
   "outputs": [
    {
     "name": "stdout",
     "output_type": "stream",
     "text": [
      "12       10\n",
      "13        3\n",
      "15        3\n",
      "16        1\n",
      "17      384\n",
      "32        1\n",
      "39       54\n",
      "59       60\n",
      "62       98\n",
      "63       94\n",
      "113      21\n",
      "173      50\n",
      "175       8\n",
      "176     631\n",
      "177      25\n",
      "190     303\n",
      "191      25\n",
      "192     236\n",
      "194      86\n",
      "195       4\n",
      "200       2\n",
      "201       3\n",
      "212     178\n",
      "217       4\n",
      "219       2\n",
      "242       1\n",
      "243       8\n",
      "274      10\n",
      "275      63\n",
      "322       4\n",
      "330       1\n",
      "332      13\n",
      "333       8\n",
      "349       6\n",
      "355      29\n",
      "450       2\n",
      "800       2\n",
      "1009      5\n",
      "1020    365\n",
      "1662     11\n",
      "1687     64\n",
      "5585    640\n",
      "dtype: int64\n"
     ]
    }
   ],
   "source": [
    "#::GMG::Y aún otra manera de verlo\n",
    "print(precipitaciones.isnull().sum()[precipitaciones.isnull().sum() != 0])"
   ]
  },
  {
   "cell_type": "code",
   "execution_count": 0,
   "metadata": {
    "colab": {
     "base_uri": "https://localhost:8080/",
     "height": 35
    },
    "colab_type": "code",
    "executionInfo": {
     "elapsed": 545,
     "status": "ok",
     "timestamp": 1544823833207,
     "user": {
      "displayName": "Gerardo de Miguel",
      "photoUrl": "https://lh3.googleusercontent.com/-LmFLfSn0ThU/AAAAAAAAAAI/AAAAAAAAAkg/xGe-_jxkcZA/s64/photo.jpg",
      "userId": "12735548512534412210"
     },
     "user_tz": -60
    },
    "id": "JgIJMZwNonib",
    "outputId": "def3fbaa-4bdd-4809-f0ff-fd24bc082c85"
   },
   "outputs": [
    {
     "data": {
      "text/plain": [
       "(2253, 86)"
      ]
     },
     "execution_count": 28,
     "metadata": {
      "tags": []
     },
     "output_type": "execute_result"
    }
   ],
   "source": [
    "#::GMG::¿Qué hago con los NaNs?\n",
    "# https://machinelearningmastery.com/handle-missing-data-python/\n",
    "# Primero adoptamos la estrategia más simple que es elimiinar las filas que\n",
    "# contengan los NaN\n",
    "# https://pandas.pydata.org/pandas-docs/stable/generated/pandas.DataFrame.fillna.html\n",
    "precipitaciones_cleaned = precipitaciones.dropna()\n",
    "precipitaciones_cleaned.shape"
   ]
  },
  {
   "cell_type": "code",
   "execution_count": 0,
   "metadata": {
    "colab": {
     "base_uri": "https://localhost:8080/",
     "height": 35
    },
    "colab_type": "code",
    "executionInfo": {
     "elapsed": 567,
     "status": "ok",
     "timestamp": 1544824164512,
     "user": {
      "displayName": "Gerardo de Miguel",
      "photoUrl": "https://lh3.googleusercontent.com/-LmFLfSn0ThU/AAAAAAAAAAI/AAAAAAAAAkg/xGe-_jxkcZA/s64/photo.jpg",
      "userId": "12735548512534412210"
     },
     "user_tz": -60
    },
    "id": "aR-Dh8shsZv7",
    "outputId": "c00f793b-ba04-4e59-db52-173e9c021989"
   },
   "outputs": [
    {
     "data": {
      "text/plain": [
       "False"
      ]
     },
     "execution_count": 35,
     "metadata": {
      "tags": []
     },
     "output_type": "execute_result"
    }
   ],
   "source": [
    "precipitaciones_cleaned.isnull().any().any()"
   ]
  },
  {
   "cell_type": "code",
   "execution_count": 0,
   "metadata": {
    "colab": {
     "base_uri": "https://localhost:8080/",
     "height": 35
    },
    "colab_type": "code",
    "executionInfo": {
     "elapsed": 550,
     "status": "ok",
     "timestamp": 1544824126081,
     "user": {
      "displayName": "Gerardo de Miguel",
      "photoUrl": "https://lh3.googleusercontent.com/-LmFLfSn0ThU/AAAAAAAAAAI/AAAAAAAAAkg/xGe-_jxkcZA/s64/photo.jpg",
      "userId": "12735548512534412210"
     },
     "user_tz": -60
    },
    "id": "STC6H74rrS6Z",
    "outputId": "b1aa9632-b089-4923-d3d8-b36b0e50ac00"
   },
   "outputs": [
    {
     "name": "stdout",
     "output_type": "stream",
     "text": [
      "Nos cargamos un 43.93% de las filas (!)\n"
     ]
    }
   ],
   "source": [
    "print('Nos cargamos un {0:.2f}% de las filas (!)'.format(\n",
    "        100*(1 - precipitaciones_cleaned.shape[0]/precipitaciones.shape[0])\n",
    "     )\n",
    ")"
   ]
  },
  {
   "cell_type": "code",
   "execution_count": 0,
   "metadata": {
    "colab": {
     "base_uri": "https://localhost:8080/",
     "height": 35
    },
    "colab_type": "code",
    "executionInfo": {
     "elapsed": 550,
     "status": "ok",
     "timestamp": 1544825154674,
     "user": {
      "displayName": "Gerardo de Miguel",
      "photoUrl": "https://lh3.googleusercontent.com/-LmFLfSn0ThU/AAAAAAAAAAI/AAAAAAAAAkg/xGe-_jxkcZA/s64/photo.jpg",
      "userId": "12735548512534412210"
     },
     "user_tz": -60
    },
    "id": "yA8FzhpzvVzn",
    "outputId": "a42f0f16-ec40-4f05-b078-6fd345fec027"
   },
   "outputs": [
    {
     "data": {
      "text/plain": [
       "(4018, 44)"
      ]
     },
     "execution_count": 38,
     "metadata": {
      "tags": []
     },
     "output_type": "execute_result"
    }
   ],
   "source": [
    "#::GMG::tal vez podríamos también eliminar estaciones y así aumentar el \n",
    "#       número de filas limpias\n",
    "precipitaciones_cleaned_col = precipitaciones.dropna(axis = 1)\n",
    "precipitaciones_cleaned_col.shape"
   ]
  },
  {
   "cell_type": "code",
   "execution_count": 0,
   "metadata": {
    "colab": {
     "base_uri": "https://localhost:8080/",
     "height": 35
    },
    "colab_type": "code",
    "executionInfo": {
     "elapsed": 685,
     "status": "ok",
     "timestamp": 1544825232144,
     "user": {
      "displayName": "Gerardo de Miguel",
      "photoUrl": "https://lh3.googleusercontent.com/-LmFLfSn0ThU/AAAAAAAAAAI/AAAAAAAAAkg/xGe-_jxkcZA/s64/photo.jpg",
      "userId": "12735548512534412210"
     },
     "user_tz": -60
    },
    "id": "9ndJRkXzwV2w",
    "outputId": "1f4bf209-c476-4b1d-ada6-b98bb17fa188"
   },
   "outputs": [
    {
     "name": "stdout",
     "output_type": "stream",
     "text": [
      "Nos cargamos un 48.84% de las estaciones (!)\n"
     ]
    }
   ],
   "source": [
    "#::GMG::Ahora mantenemos el número de filas pero ...\n",
    "print('Nos cargamos un {0:.2f}% de las estaciones (!)'.format(\n",
    "        100*(1 - precipitaciones_cleaned_col.shape[1]/precipitaciones.shape[1])\n",
    "     )\n",
    ")"
   ]
  },
  {
   "cell_type": "code",
   "execution_count": 0,
   "metadata": {
    "colab": {
     "base_uri": "https://localhost:8080/",
     "height": 35
    },
    "colab_type": "code",
    "executionInfo": {
     "elapsed": 572,
     "status": "ok",
     "timestamp": 1544826210063,
     "user": {
      "displayName": "Gerardo de Miguel",
      "photoUrl": "https://lh3.googleusercontent.com/-LmFLfSn0ThU/AAAAAAAAAAI/AAAAAAAAAkg/xGe-_jxkcZA/s64/photo.jpg",
      "userId": "12735548512534412210"
     },
     "user_tz": -60
    },
    "id": "BSLRg-OYtD_H",
    "outputId": "33f65801-fd14-4ef4-e1c2-ad8ec1677b70"
   },
   "outputs": [
    {
     "data": {
      "text/plain": [
       "False"
      ]
     },
     "execution_count": 41,
     "metadata": {
      "tags": []
     },
     "output_type": "execute_result"
    }
   ],
   "source": [
    "#::GMG::Otra opción es \"imputar\" valores (con sentido) en las celdas con NaN\n",
    "#       por ejemplo, con la media de cada columna (no sé si esto es muy correcto\n",
    "#       en el caso de una serie de precipitación ...)\n",
    "precipitaciones_completo = precipitaciones.fillna(\n",
    "    precipitaciones.mean()\n",
    ")\n",
    "# count the number of NaN values in each column\n",
    "#print(precipitaciones_completo.isnull().sum())\n",
    "precipitaciones_cleaned.isnull().any().any()"
   ]
  },
  {
   "cell_type": "markdown",
   "metadata": {
    "colab_type": "text",
    "id": "48sFBHVFYUt6"
   },
   "source": [
    "### Ejercicio 1\n",
    "\n",
    "Obtener y exportar en csv los datos asociados a las series mensuales, estacionales y anuales\n"
   ]
  },
  {
   "cell_type": "markdown",
   "metadata": {
    "colab_type": "text",
    "id": "nZvdxyYe2i5Z"
   },
   "source": [
    "#### Obtención de Series"
   ]
  },
  {
   "cell_type": "code",
   "execution_count": 0,
   "metadata": {
    "colab": {
     "base_uri": "https://localhost:8080/",
     "height": 243
    },
    "colab_type": "code",
    "executionInfo": {
     "elapsed": 552,
     "status": "ok",
     "timestamp": 1544894162459,
     "user": {
      "displayName": "Gerardo de Miguel",
      "photoUrl": "https://lh3.googleusercontent.com/-LmFLfSn0ThU/AAAAAAAAAAI/AAAAAAAAAkg/xGe-_jxkcZA/s64/photo.jpg",
      "userId": "12735548512534412210"
     },
     "user_tz": -60
    },
    "id": "72_wgbMR_QqU",
    "outputId": "c0122e65-a55c-44a6-ff74-c34c30a16076"
   },
   "outputs": [
    {
     "data": {
      "text/plain": [
       "date\n",
       "2000-12-31    909.527406\n",
       "2001-12-31    900.078687\n",
       "2002-12-31    945.123719\n",
       "2003-12-31    750.272342\n",
       "2004-12-31    860.771211\n",
       "2005-12-31    813.368896\n",
       "2006-12-31    827.502063\n",
       "2007-12-31    873.403397\n",
       "2008-12-31    906.058700\n",
       "2009-12-31    882.383212\n",
       "2010-12-31    920.406924\n",
       "Freq: A-DEC, dtype: float64"
      ]
     },
     "execution_count": 8,
     "metadata": {
      "tags": []
     },
     "output_type": "execute_result"
    }
   ],
   "source": [
    "#::GMG::Dado el tratamiento de NaNs por parte de las operaciones de agregación \n",
    "#       y groupby según:\n",
    "#       https://pandas.pydata.org/pandas-docs/stable/missing_data.html\n",
    "#       voy a emplear el dataframe 'sucio' :)\n",
    "#::GMG::Lo que se nos pide es que obtengamos las series agregadas mensuales,\n",
    "#       trimensuales (Northern Meteorological Seasons) y anuales\n",
    "#       https://www.timeanddate.com/calendar/aboutseasons.html\n",
    "#\n",
    "#::GMG::Voy a usar resample() como equivalente a groupby 'temporal' \n",
    "#       https://pandas.pydata.org/pandas-docs/stable/generated/pandas.DataFrame.resample.html\n",
    "#\n",
    "#::GMG::Según aclaración del equipo docente en el foro de alumnos del moodle:\n",
    "# --> \"El dato a calcular es la suma mensual, estacional o anual, de la media \n",
    "# espacial (media de todas las estaciones).\"\n",
    "#\n",
    "#::nota:: 'A' --> Annual\n",
    "media_espacial = precipitaciones.mean(axis = 1, skipna = True)\n",
    "sumario_anual = media_espacial.resample('A').sum()\n",
    "sumario_anual\n"
   ]
  },
  {
   "cell_type": "code",
   "execution_count": 0,
   "metadata": {
    "colab": {},
    "colab_type": "code",
    "id": "sVtoFNekpFVs"
   },
   "outputs": [],
   "source": [
    "sumario_mensual = media_espacial.resample('M').sum()"
   ]
  },
  {
   "cell_type": "markdown",
   "metadata": {
    "colab_type": "text",
    "id": "aejAYT2Ws5MV"
   },
   "source": [
    "::GMG::[Referencia](https://www.timeanddate.com/calendar/aboutseasons.html)\n",
    "\n",
    "**Northern Meteorological Seasons**\n",
    "\n",
    "According to the meteorological definition, the seasons begin on the first day of the months that include the equinoxes and solstices:\n",
    "\n",
    "- *Spring* runs from March 1 to May 31;\n",
    "- *Summer* runs from June 1 to August 31;\n",
    "- *Fall (autumn)* runs from September 1 to November 30; and\n",
    "- *Winter* runs from December 1 to February 28 (February 29 in a leap year).\n"
   ]
  },
  {
   "cell_type": "code",
   "execution_count": 0,
   "metadata": {
    "colab": {
     "base_uri": "https://localhost:8080/",
     "height": 832
    },
    "colab_type": "code",
    "executionInfo": {
     "elapsed": 570,
     "status": "ok",
     "timestamp": 1544894171072,
     "user": {
      "displayName": "Gerardo de Miguel",
      "photoUrl": "https://lh3.googleusercontent.com/-LmFLfSn0ThU/AAAAAAAAAAI/AAAAAAAAAkg/xGe-_jxkcZA/s64/photo.jpg",
      "userId": "12735548512534412210"
     },
     "user_tz": -60
    },
    "id": "S5VQz_qVt2Ad",
    "outputId": "786c1cd4-404d-409b-969b-3e7d2c8ccf68"
   },
   "outputs": [
    {
     "data": {
      "text/plain": [
       "date\n",
       "2000-02-29    115.477948\n",
       "2000-05-31    212.526659\n",
       "2000-08-31    209.213908\n",
       "2000-11-30    279.954036\n",
       "2001-02-28    234.341491\n",
       "2001-05-31    222.360333\n",
       "2001-08-31    218.233260\n",
       "2001-11-30    258.764396\n",
       "2002-02-28    189.887235\n",
       "2002-05-31    187.676552\n",
       "2002-08-31    252.068665\n",
       "2002-11-30    291.981471\n",
       "2003-02-28    200.062202\n",
       "2003-05-31    147.554729\n",
       "2003-08-31    158.504900\n",
       "2003-11-30    241.900457\n",
       "2004-02-29    235.906579\n",
       "2004-05-31    182.958208\n",
       "2004-08-31    229.967719\n",
       "2004-11-30    230.725186\n",
       "2005-02-28    186.624436\n",
       "2005-05-31    173.621046\n",
       "2005-08-31    220.244432\n",
       "2005-11-30    221.938007\n",
       "2006-02-28    178.233614\n",
       "2006-05-31    209.353899\n",
       "2006-08-31    195.914522\n",
       "2006-11-30    251.966353\n",
       "2007-02-28    216.167743\n",
       "2007-05-31    189.303184\n",
       "2007-08-31    249.055238\n",
       "2007-11-30    219.450666\n",
       "2008-02-29    194.477798\n",
       "2008-05-31    230.273447\n",
       "2008-08-31    226.933789\n",
       "2008-11-30    239.136621\n",
       "2009-02-28    218.508331\n",
       "2009-05-31    175.616427\n",
       "2009-08-31    230.528604\n",
       "2009-11-30    243.022910\n",
       "2010-02-28    241.928509\n",
       "2010-05-31    194.687736\n",
       "2010-08-31    241.746605\n",
       "2010-11-30    253.844481\n",
       "2011-02-28     86.252223\n",
       "Freq: Q-NOV, dtype: float64"
      ]
     },
     "execution_count": 10,
     "metadata": {
      "tags": []
     },
     "output_type": "execute_result"
    }
   ],
   "source": [
    "sumario_estacional = media_espacial.resample('Q-NOV').sum()\n",
    "sumario_estacional"
   ]
  },
  {
   "cell_type": "markdown",
   "metadata": {
    "colab_type": "text",
    "id": "RSW05V0F2pPs"
   },
   "source": [
    "#### Exportación a CSV"
   ]
  },
  {
   "cell_type": "code",
   "execution_count": 0,
   "metadata": {
    "colab": {},
    "colab_type": "code",
    "id": "Hsu3G--yx2ox"
   },
   "outputs": [],
   "source": [
    "#::GMG::La exportación a csv la hacemos con la correspondiente función de\n",
    "#       pandas\n",
    "# https://pandas.pydata.org/pandas-docs/stable/generated/pandas.DataFrame.to_csv.html\n",
    "#::nota::hay que prestar cierta atención a los detalles (no lo he hecho en\n",
    "#        primera instancia), como: poner una cabecera, etc.\n",
    "sumario_mensual.to_csv('sumario_mensual.csv', encoding='utf-8')\n",
    "sumario_estacional.to_csv('sumario_estacional.csv', encoding='utf-8')\n",
    "sumario_anual.to_csv('sumario_anual.csv', encoding='utf-8')"
   ]
  },
  {
   "cell_type": "markdown",
   "metadata": {
    "colab_type": "text",
    "id": "SAof8n77YZnx"
   },
   "source": [
    "### Ejercicio 2\n",
    "\n",
    "Dibujar la serie temporal asociada al promedio espacial de los datos mensuales, estacionales y anuales.\n"
   ]
  },
  {
   "cell_type": "markdown",
   "metadata": {
    "colab_type": "text",
    "id": "zmhHmpvK24jC"
   },
   "source": [
    "#### Anual"
   ]
  },
  {
   "cell_type": "code",
   "execution_count": 0,
   "metadata": {
    "colab": {
     "base_uri": "https://localhost:8080/",
     "height": 352
    },
    "colab_type": "code",
    "executionInfo": {
     "elapsed": 864,
     "status": "ok",
     "timestamp": 1544894196845,
     "user": {
      "displayName": "Gerardo de Miguel",
      "photoUrl": "https://lh3.googleusercontent.com/-LmFLfSn0ThU/AAAAAAAAAAI/AAAAAAAAAkg/xGe-_jxkcZA/s64/photo.jpg",
      "userId": "12735548512534412210"
     },
     "user_tz": -60
    },
    "id": "qsic8-8g2YnL",
    "outputId": "80088cf3-a246-4506-d37e-a32b4a8ae67c"
   },
   "outputs": [
    {
     "data": {
      "text/plain": [
       "<matplotlib.axes._subplots.AxesSubplot at 0x7f7bfea88a20>"
      ]
     },
     "execution_count": 11,
     "metadata": {
      "tags": []
     },
     "output_type": "execute_result"
    },
    {
     "data": {
      "image/png": "[encoded data removed]",
      "text/plain": [
       "<matplotlib.figure.Figure at 0x7f7bfeae80f0>"
      ]
     },
     "metadata": {
      "tags": []
     },
     "output_type": "display_data"
    }
   ],
   "source": [
    "#::GMG::Dibujamos con MatPlotLib\n",
    "sumario_anual.plot(figsize=(8,5))"
   ]
  },
  {
   "cell_type": "markdown",
   "metadata": {
    "colab_type": "text",
    "id": "KziNVb7t28RW"
   },
   "source": [
    "#### Mensual"
   ]
  },
  {
   "cell_type": "code",
   "execution_count": 0,
   "metadata": {
    "colab": {
     "base_uri": "https://localhost:8080/",
     "height": 354
    },
    "colab_type": "code",
    "executionInfo": {
     "elapsed": 782,
     "status": "ok",
     "timestamp": 1544894206339,
     "user": {
      "displayName": "Gerardo de Miguel",
      "photoUrl": "https://lh3.googleusercontent.com/-LmFLfSn0ThU/AAAAAAAAAAI/AAAAAAAAAkg/xGe-_jxkcZA/s64/photo.jpg",
      "userId": "12735548512534412210"
     },
     "user_tz": -60
    },
    "id": "F9TYKnYo4pdx",
    "outputId": "7bd86462-7929-4b9c-ab12-933d240107e8"
   },
   "outputs": [
    {
     "data": {
      "text/plain": [
       "<matplotlib.axes._subplots.AxesSubplot at 0x7f7bfe9dbd30>"
      ]
     },
     "execution_count": 12,
     "metadata": {
      "tags": []
     },
     "output_type": "execute_result"
    },
    {
     "data": {
      "image/png": "[encoded data removed]",
      "text/plain": [
       "<matplotlib.figure.Figure at 0x7f7bfe9e94e0>"
      ]
     },
     "metadata": {
      "tags": []
     },
     "output_type": "display_data"
    }
   ],
   "source": [
    "sumario_mensual.plot(figsize=(8,5))"
   ]
  },
  {
   "cell_type": "markdown",
   "metadata": {
    "colab_type": "text",
    "id": "AzDdLz7n3A0V"
   },
   "source": [
    "#### Estacional"
   ]
  },
  {
   "cell_type": "code",
   "execution_count": 0,
   "metadata": {
    "colab": {
     "base_uri": "https://localhost:8080/",
     "height": 352
    },
    "colab_type": "code",
    "executionInfo": {
     "elapsed": 705,
     "status": "ok",
     "timestamp": 1544894216202,
     "user": {
      "displayName": "Gerardo de Miguel",
      "photoUrl": "https://lh3.googleusercontent.com/-LmFLfSn0ThU/AAAAAAAAAAI/AAAAAAAAAkg/xGe-_jxkcZA/s64/photo.jpg",
      "userId": "12735548512534412210"
     },
     "user_tz": -60
    },
    "id": "r0V3BsVI5CrF",
    "outputId": "e269bc84-fb1a-44c6-def7-86b289ad4014"
   },
   "outputs": [
    {
     "data": {
      "text/plain": [
       "<matplotlib.axes._subplots.AxesSubplot at 0x7f7bfc154748>"
      ]
     },
     "execution_count": 13,
     "metadata": {
      "tags": []
     },
     "output_type": "execute_result"
    },
    {
     "data": {
      "image/png": "[encoded data removed]",
      "text/plain": [
       "<matplotlib.figure.Figure at 0x7f7bfc160dd8>"
      ]
     },
     "metadata": {
      "tags": []
     },
     "output_type": "display_data"
    }
   ],
   "source": [
    "#::GMG::Invierno\n",
    "#::nota::los inviernos acaban en febrero, es decir, en el mes 2\n",
    "#::nota::intuyo que hay un 'efecto frontera' de los años en los que no tenemos\n",
    "#        el invierno completo, i.e. 2000 y 2010 :)\n",
    "sumario_estacional[sumario_estacional.index.month==2].plot(figsize=(8,5))"
   ]
  },
  {
   "cell_type": "code",
   "execution_count": 0,
   "metadata": {
    "colab": {
     "base_uri": "https://localhost:8080/",
     "height": 352
    },
    "colab_type": "code",
    "executionInfo": {
     "elapsed": 689,
     "status": "ok",
     "timestamp": 1544894219185,
     "user": {
      "displayName": "Gerardo de Miguel",
      "photoUrl": "https://lh3.googleusercontent.com/-LmFLfSn0ThU/AAAAAAAAAAI/AAAAAAAAAkg/xGe-_jxkcZA/s64/photo.jpg",
      "userId": "12735548512534412210"
     },
     "user_tz": -60
    },
    "id": "OY35TbdF8LTt",
    "outputId": "e42b78d1-e400-4d3d-ff02-e3498897215c"
   },
   "outputs": [
    {
     "data": {
      "text/plain": [
       "<matplotlib.axes._subplots.AxesSubplot at 0x7f7bfc0fcf28>"
      ]
     },
     "execution_count": 14,
     "metadata": {
      "tags": []
     },
     "output_type": "execute_result"
    },
    {
     "data": {
      "image/png": "[encoded data removed]",
      "text/plain": [
       "<matplotlib.figure.Figure at 0x7f7bfc08e898>"
      ]
     },
     "metadata": {
      "tags": []
     },
     "output_type": "display_data"
    }
   ],
   "source": [
    "#::GMG::Podemos 'quitarlos'\n",
    "sumario_estacional[1:-1][\n",
    "    sumario_estacional[1:-1].index.month==2\n",
    "].plot(figsize=(8,5))"
   ]
  },
  {
   "cell_type": "code",
   "execution_count": 0,
   "metadata": {
    "colab": {
     "base_uri": "https://localhost:8080/",
     "height": 352
    },
    "colab_type": "code",
    "executionInfo": {
     "elapsed": 664,
     "status": "ok",
     "timestamp": 1544894222960,
     "user": {
      "displayName": "Gerardo de Miguel",
      "photoUrl": "https://lh3.googleusercontent.com/-LmFLfSn0ThU/AAAAAAAAAAI/AAAAAAAAAkg/xGe-_jxkcZA/s64/photo.jpg",
      "userId": "12735548512534412210"
     },
     "user_tz": -60
    },
    "id": "m-hSUN-366af",
    "outputId": "2f81274f-c8f8-4f96-9235-843d5fca140a"
   },
   "outputs": [
    {
     "data": {
      "text/plain": [
       "<matplotlib.axes._subplots.AxesSubplot at 0x7f7bfc056c50>"
      ]
     },
     "execution_count": 15,
     "metadata": {
      "tags": []
     },
     "output_type": "execute_result"
    },
    {
     "data": {
      "image/png": "[encoded data removed]",
      "text/plain": [
       "<matplotlib.figure.Figure at 0x7f7bfc07f630>"
      ]
     },
     "metadata": {
      "tags": []
     },
     "output_type": "display_data"
    }
   ],
   "source": [
    "#::GMG::Verano\n",
    "sumario_estacional[sumario_estacional.index.month==8].plot(figsize=(8,5))"
   ]
  },
  {
   "cell_type": "code",
   "execution_count": 0,
   "metadata": {
    "colab": {
     "base_uri": "https://localhost:8080/",
     "height": 352
    },
    "colab_type": "code",
    "executionInfo": {
     "elapsed": 722,
     "status": "ok",
     "timestamp": 1544894226058,
     "user": {
      "displayName": "Gerardo de Miguel",
      "photoUrl": "https://lh3.googleusercontent.com/-LmFLfSn0ThU/AAAAAAAAAAI/AAAAAAAAAkg/xGe-_jxkcZA/s64/photo.jpg",
      "userId": "12735548512534412210"
     },
     "user_tz": -60
    },
    "id": "jy6wfXY1B7gN",
    "outputId": "8b7e0fa6-6125-4426-8276-ffd0dabb5a31"
   },
   "outputs": [
    {
     "data": {
      "text/plain": [
       "<matplotlib.axes._subplots.AxesSubplot at 0x7f7bfc044470>"
      ]
     },
     "execution_count": 16,
     "metadata": {
      "tags": []
     },
     "output_type": "execute_result"
    },
    {
     "data": {
      "image/png": "[encoded data removed]",
      "text/plain": [
       "<matplotlib.figure.Figure at 0x7f7bfbfd5160>"
      ]
     },
     "metadata": {
      "tags": []
     },
     "output_type": "display_data"
    }
   ],
   "source": [
    "#::GMG::Primavera\n",
    "sumario_estacional[sumario_estacional.index.month==5].plot(figsize=(8,5))"
   ]
  },
  {
   "cell_type": "code",
   "execution_count": 0,
   "metadata": {
    "colab": {
     "base_uri": "https://localhost:8080/",
     "height": 352
    },
    "colab_type": "code",
    "executionInfo": {
     "elapsed": 857,
     "status": "ok",
     "timestamp": 1544894232399,
     "user": {
      "displayName": "Gerardo de Miguel",
      "photoUrl": "https://lh3.googleusercontent.com/-LmFLfSn0ThU/AAAAAAAAAAI/AAAAAAAAAkg/xGe-_jxkcZA/s64/photo.jpg",
      "userId": "12735548512534412210"
     },
     "user_tz": -60
    },
    "id": "70Fb2qEAB7Ln",
    "outputId": "fd1b0285-46c4-4dbf-f408-6a9f28d2fc59"
   },
   "outputs": [
    {
     "data": {
      "text/plain": [
       "<matplotlib.axes._subplots.AxesSubplot at 0x7f7bfbfb32e8>"
      ]
     },
     "execution_count": 17,
     "metadata": {
      "tags": []
     },
     "output_type": "execute_result"
    },
    {
     "data": {
      "image/png": "[encoded data removed]",
      "text/plain": [
       "<matplotlib.figure.Figure at 0x7f7bfbf640f0>"
      ]
     },
     "metadata": {
      "tags": []
     },
     "output_type": "display_data"
    }
   ],
   "source": [
    "#::GMG::Otoño\n",
    "sumario_estacional[sumario_estacional.index.month==11].plot(figsize=(8,5))"
   ]
  },
  {
   "cell_type": "markdown",
   "metadata": {
    "colab_type": "text",
    "id": "TcPMsJ7dYcSi"
   },
   "source": [
    "### Ejercicio 3\n",
    "\n",
    "Dibujar la distribución espacial de las estaciones, así como los valores promedio y máximo.\n"
   ]
  },
  {
   "cell_type": "markdown",
   "metadata": {
    "colab_type": "text",
    "id": "pFHtbUTjwnuN"
   },
   "source": [
    "#### Basemap\n",
    "\n",
    "Para la distribución espacial voy a usar [Basemap](https://matplotlib.org/basemap/users/examples.html) de MatplotLib. No está instalada ni en DataScienceHub ni en Colaboratory.\n"
   ]
  },
  {
   "cell_type": "markdown",
   "metadata": {
    "colab_type": "text",
    "id": "zaP8LqNUdXcG"
   },
   "source": [
    "La instalación en DataScienceHub se hace en teoría con:\n",
    "\n",
    "```bash\n",
    "conda install basemap\n",
    "```\n",
    "\n",
    "pero da un error:\n",
    "\n",
    "```bash\n",
    "Preparing transaction: done\n",
    "Verifying transaction: done\n",
    "Executing transaction: failed\n",
    "ERROR conda.core.link:_execute(502): An error occurred while installing package 'defaults::numpy-base-1.15.0-py36h3dfced4_0'.\n",
    "PermissionError(13, 'Permission denied')\n",
    "Attempting to roll back.\n",
    "\n",
    "Rolling back transaction: done\n",
    "\n",
    "PermissionError(13, 'Permission denied')\n",
    "```\n",
    "En colaboratory se instala sin problemas siguiendo las siguientes instrucciones:\n",
    "\n",
    "::GMG::[Instalación en Google Colaboratory](https://colab.research.google.com/drive/1_Xw_MEIriI0leP-v8vlmhUj6BLJLKmoV)\n",
    "\n",
    "**nota**: he intentado usar la misma instrucción `pip` de Colaboratory en DataScienceHub pero también da un error de permisos al final y no se puede instalar:\n",
    "\n",
    "```bash\n",
    "Could not install packages due to an EnvironmentError: [Errno 13] Permission denied: '/opt/conda/lib/python3.6/site-packages/mpl_toolkits/basemap'\n",
    "Consider using the `--user` option or check the permissions.\n",
    "```\n",
    "\n",
    "Siguendo el consejo de usar la opción `--user` finalmente se consigue la instalación:\n",
    "\n",
    "```bash\n",
    "Building wheels for collected packages: basemap\n",
    "  Running setup.py bdist_wheel for basemap ... done\n",
    "  Stored in directory: /tmp/pip-ephem-wheel-cache-itt1qcga/wheels/6c/c2/bd/d6fb8f2660e0591d357352aba1b117b3211d016994d933d792\n",
    "Successfully built basemap\n",
    "Installing collected packages: basemap\n",
    "Successfully installed basemap-1.1.0\n",
    "```\n",
    "\n",
    "Pero no sirve de nada porque al intentar importar las biblotecas en Jupyter da un error:\n",
    "\n",
    "```python\n",
    "from mpl_toolkits.basemap import Basemap\n",
    "import matplotlib.pyplot as plt\n",
    "\n",
    "---------------------------------------------------------------------------\n",
    "ImportError                               Traceback (most recent call last)\n",
    "<ipython-input-2-ef13e59edbda> in <module>()\n",
    "----> 1 import mpl_toolkits.basemap as mtb\n",
    "      2 import matplotlib.pyplot as plt\n",
    "\n",
    "~/.local/lib/python3.6/site-packages/mpl_toolkits/basemap/__init__.py in <module>()\n",
    "     15 from distutils.version import LooseVersion\n",
    "     16 from matplotlib import __version__ as _matplotlib_version\n",
    "---> 17 from matplotlib.cbook import is_scalar, dedent\n",
    "     18 # check to make sure matplotlib is not too old.\n",
    "     19 _matplotlib_version = LooseVersion(_matplotlib_version)\n",
    "\n",
    "ImportError: cannot import name 'is_scalar'\n",
    "```\n",
    "\n",
    "Lo **he dejado por imposible**."
   ]
  },
  {
   "cell_type": "code",
   "execution_count": 0,
   "metadata": {
    "colab": {
     "base_uri": "https://localhost:8080/",
     "height": 503
    },
    "colab_type": "code",
    "executionInfo": {
     "elapsed": 9220,
     "status": "ok",
     "timestamp": 1544905282623,
     "user": {
      "displayName": "Gerardo de Miguel",
      "photoUrl": "https://lh3.googleusercontent.com/-LmFLfSn0ThU/AAAAAAAAAAI/AAAAAAAAAkg/xGe-_jxkcZA/s64/photo.jpg",
      "userId": "12735548512534412210"
     },
     "user_tz": -60
    },
    "id": "tNIyxUgNdZ2o",
    "outputId": "a07a1bda-b6cf-4edd-a936-bba7bf7c3635"
   },
   "outputs": [
    {
     "name": "stdout",
     "output_type": "stream",
     "text": [
      "Reading package lists... Done\n",
      "Building dependency tree       \n",
      "Reading state information... Done\n",
      "Suggested packages:\n",
      "  libgdal-doc\n",
      "The following NEW packages will be installed:\n",
      "  libgeos-dev libproj-dev proj-bin\n",
      "0 upgraded, 3 newly installed, 0 to remove and 8 not upgraded.\n",
      "Need to get 305 kB of archives.\n",
      "After this operation, 1,706 kB of additional disk space will be used.\n",
      "Get:1 http://archive.ubuntu.com/ubuntu bionic/universe amd64 libgeos-dev amd64 3.6.2-1build2 [73.1 kB]\n",
      "Get:2 http://archive.ubuntu.com/ubuntu bionic/universe amd64 libproj-dev amd64 4.9.3-2 [199 kB]\n",
      "Get:3 http://archive.ubuntu.com/ubuntu bionic/universe amd64 proj-bin amd64 4.9.3-2 [32.3 kB]\n",
      "Fetched 305 kB in 1s (438 kB/s)\n",
      "Selecting previously unselected package libgeos-dev.\n",
      "(Reading database ... 110377 files and directories currently installed.)\n",
      "Preparing to unpack .../libgeos-dev_3.6.2-1build2_amd64.deb ...\n",
      "Unpacking libgeos-dev (3.6.2-1build2) ...\n",
      "Selecting previously unselected package libproj-dev:amd64.\n",
      "Preparing to unpack .../libproj-dev_4.9.3-2_amd64.deb ...\n",
      "Unpacking libproj-dev:amd64 (4.9.3-2) ...\n",
      "Selecting previously unselected package proj-bin.\n",
      "Preparing to unpack .../proj-bin_4.9.3-2_amd64.deb ...\n",
      "Unpacking proj-bin (4.9.3-2) ...\n",
      "Setting up libproj-dev:amd64 (4.9.3-2) ...\n",
      "Setting up libgeos-dev (3.6.2-1build2) ...\n",
      "Setting up proj-bin (4.9.3-2) ...\n",
      "Processing triggers for man-db (2.8.3-2ubuntu0.1) ...\n"
     ]
    }
   ],
   "source": [
    "#!apt install proj-bin libproj-dev libgeos-dev"
   ]
  },
  {
   "cell_type": "code",
   "execution_count": 0,
   "metadata": {
    "colab": {
     "base_uri": "https://localhost:8080/",
     "height": 488
    },
    "colab_type": "code",
    "executionInfo": {
     "elapsed": 63991,
     "status": "ok",
     "timestamp": 1544905359161,
     "user": {
      "displayName": "Gerardo de Miguel",
      "photoUrl": "https://lh3.googleusercontent.com/-LmFLfSn0ThU/AAAAAAAAAAI/AAAAAAAAAkg/xGe-_jxkcZA/s64/photo.jpg",
      "userId": "12735548512534412210"
     },
     "user_tz": -60
    },
    "id": "Mnqhhrcpg6_I",
    "outputId": "9e194a19-d79c-4e0c-a008-1135878a7497"
   },
   "outputs": [
    {
     "name": "stdout",
     "output_type": "stream",
     "text": [
      "Collecting https://github.com/matplotlib/basemap/archive/v1.1.0.tar.gz\n",
      "\u001b[?25l  Downloading https://github.com/matplotlib/basemap/archive/v1.1.0.tar.gz (132.4MB)\n",
      "\u001b[K    100% |████████████████████████████████| 132.4MB 123kB/s \n",
      "\u001b[?25hRequirement already satisfied: numpy>=1.2.1 in /usr/local/lib/python3.6/dist-packages (from basemap==1.1.0) (1.14.6)\n",
      "Requirement already satisfied: matplotlib>=1.0.0 in /usr/local/lib/python3.6/dist-packages (from basemap==1.1.0) (2.1.2)\n",
      "Collecting pyproj>=1.9.3 (from basemap==1.1.0)\n",
      "\u001b[?25l  Downloading https://files.pythonhosted.org/packages/29/72/5c1888c4948a0c7b736d10e0f0f69966e7c0874a660222ed0a2c2c6daa9f/pyproj-1.9.5.1.tar.gz (4.4MB)\n",
      "\u001b[K    100% |████████████████████████████████| 4.4MB 5.9MB/s \n",
      "\u001b[?25hCollecting pyshp>=1.2.0 (from basemap==1.1.0)\n",
      "\u001b[?25l  Downloading https://files.pythonhosted.org/packages/08/3e/3bda7dfdbee0d7a22d38443f5cc8d154ff6d4701e615f4c07bf1ed003563/pyshp-2.0.1.tar.gz (214kB)\n",
      "\u001b[K    100% |████████████████████████████████| 215kB 14.5MB/s \n",
      "\u001b[?25hRequirement already satisfied: python-dateutil>=2.1 in /usr/local/lib/python3.6/dist-packages (from matplotlib>=1.0.0->basemap==1.1.0) (2.5.3)\n",
      "Requirement already satisfied: pytz in /usr/local/lib/python3.6/dist-packages (from matplotlib>=1.0.0->basemap==1.1.0) (2018.7)\n",
      "Requirement already satisfied: six>=1.10 in /usr/local/lib/python3.6/dist-packages (from matplotlib>=1.0.0->basemap==1.1.0) (1.11.0)\n",
      "Requirement already satisfied: cycler>=0.10 in /usr/local/lib/python3.6/dist-packages (from matplotlib>=1.0.0->basemap==1.1.0) (0.10.0)\n",
      "Requirement already satisfied: pyparsing!=2.0.4,!=2.1.2,!=2.1.6,>=2.0.1 in /usr/local/lib/python3.6/dist-packages (from matplotlib>=1.0.0->basemap==1.1.0) (2.3.0)\n",
      "Building wheels for collected packages: basemap, pyproj, pyshp\n",
      "  Running setup.py bdist_wheel for basemap ... \u001b[?25l-\b \b\\\b \b|\b \b/\b \b-\b \b\\\b \b|\b \b/\b \b-\b \b\\\b \b|\b \b/\b \b-\b \b\\\b \b|\b \b/\b \b-\b \b\\\b \b|\b \b/\b \b-\b \b\\\b \b|\b \b/\b \b-\b \b\\\b \b|\b \b/\b \b-\b \b\\\b \b|\b \bdone\n",
      "\u001b[?25h  Stored in directory: /tmp/pip-ephem-wheel-cache-taerw_en/wheels/6c/c2/bd/d6fb8f2660e0591d357352aba1b117b3211d016994d933d792\n",
      "  Running setup.py bdist_wheel for pyproj ... \u001b[?25l-\b \b\\\b \b|\b \b/\b \b-\b \b\\\b \b|\b \b/\b \b-\b \b\\\b \b|\b \b/\b \b-\b \b\\\b \b|\b \b/\b \b-\b \b\\\b \b|\b \b/\b \b-\b \b\\\b \b|\b \b/\b \b-\b \b\\\b \b|\b \b/\b \b-\b \b\\\b \b|\b \b/\b \b-\b \b\\\b \b|\b \b/\b \b-\b \b\\\b \b|\b \b/\b \b-\b \b\\\b \b|\b \b/\b \b-\b \b\\\b \b|\b \b/\b \b-\b \b\\\b \b|\b \b/\b \b-\b \b\\\b \b|\b \b/\b \b-\b \b\\\b \b|\b \b/\b \b-\b \b\\\b \b|\b \b/\b \b-\b \b\\\b \b|\b \b/\b \b-\b \b\\\b \b|\b \b/\b \b-\b \b\\\b \b|\b \b/\b \b-\b \b\\\b \b|\b \b/\b \b-\b \b\\\b \b|\b \b/\b \b-\b \b\\\b \b|\b \b/\b \b-\b \b\\\b \b|\b \b/\b \b-\b \b\\\b \b|\b \b/\b \b-\b \b\\\b \bdone\n",
      "\u001b[?25h  Stored in directory: /root/.cache/pip/wheels/89/77/ec/a537585d1022dafde0317dd19d33c4a30d4ee61e19f25ebd8e\n",
      "  Running setup.py bdist_wheel for pyshp ... \u001b[?25l-\b \bdone\n",
      "\u001b[?25h  Stored in directory: /root/.cache/pip/wheels/cc/e8/7c/f00fc95ae2a16ed41be9defdd647213a334fd12e03b1452c26\n",
      "Successfully built basemap pyproj pyshp\n",
      "Installing collected packages: pyproj, pyshp, basemap\n",
      "Successfully installed basemap-1.1.0 pyproj-1.9.5.1 pyshp-2.0.1\n"
     ]
    }
   ],
   "source": [
    "#!pip install https://github.com/matplotlib/basemap/archive/v1.1.0.tar.gz"
   ]
  },
  {
   "cell_type": "code",
   "execution_count": 0,
   "metadata": {
    "colab": {},
    "colab_type": "code",
    "id": "3pvUcmoscXcE"
   },
   "outputs": [],
   "source": [
    "from mpl_toolkits.basemap import Basemap"
   ]
  },
  {
   "cell_type": "code",
   "execution_count": 0,
   "metadata": {
    "colab": {},
    "colab_type": "code",
    "id": "qY40SStSH_QL"
   },
   "outputs": [],
   "source": [
    "#::GMG::Stop ugly warnings :)\n",
    "# https://stackoverflow.com/questions/33572118/stop-jupyter-notebook-from-printing-warnings-status-updates-to-terminal?lq=1\n",
    "import warnings; warnings.simplefilter('ignore')"
   ]
  },
  {
   "cell_type": "markdown",
   "metadata": {
    "colab_type": "text",
    "id": "r3WGOw2liY48"
   },
   "source": [
    "#### Basemap Europe"
   ]
  },
  {
   "cell_type": "code",
   "execution_count": 0,
   "metadata": {
    "colab": {},
    "colab_type": "code",
    "id": "tpV5b-YCid9w"
   },
   "outputs": [],
   "source": [
    "#::GMG::Referencia\n",
    "#       https://www.mapsofworld.com/lat_long/europe.html\n",
    "m = Basemap(projection = 'mill',\n",
    "            llcrnrlat =30, urcrnrlat =75,\n",
    "            llcrnrlon =-25, urcrnrlon =45,\n",
    "            resolution = 'c')"
   ]
  },
  {
   "cell_type": "code",
   "execution_count": 0,
   "metadata": {
    "colab": {
     "base_uri": "https://localhost:8080/",
     "height": 345
    },
    "colab_type": "code",
    "executionInfo": {
     "elapsed": 1052,
     "status": "ok",
     "timestamp": 1544915290488,
     "user": {
      "displayName": "Gerardo de Miguel",
      "photoUrl": "https://lh3.googleusercontent.com/-LmFLfSn0ThU/AAAAAAAAAAI/AAAAAAAAAkg/xGe-_jxkcZA/s64/photo.jpg",
      "userId": "12735548512534412210"
     },
     "user_tz": -60
    },
    "id": "eK8DMqnM0-Ti",
    "outputId": "fb7af0e9-c4f5-4904-f6f3-36ef80732e2e"
   },
   "outputs": [
    {
     "data": {
      "image/png": "[encoded data removed]",
      "text/plain": [
       "<matplotlib.figure.Figure at 0x7f7bf6ea1f60>"
      ]
     },
     "metadata": {
      "tags": []
     },
     "output_type": "display_data"
    }
   ],
   "source": [
    "#::GMG::costa y países con colores\n",
    "m.drawcoastlines()\n",
    "m.drawcountries()\n",
    "m.drawmapboundary(fill_color='aqua')\n",
    "m.fillcontinents(color='coral',lake_color='aqua')\n",
    "#::GMG::Scatter\n",
    "# https://basemaptutorial.readthedocs.io/en/latest/plotting_data.html?highlight=scatter#scatter\n",
    "lons = estaciones.longitude.tolist()\n",
    "lats = estaciones.latitude.tolist()\n",
    "x,y = m(lons,lats)\n",
    "#x,y = map(lons,lats)\n",
    "#::GMG::Conversión de coordenadas a proyección\n",
    "#m.scatter(x, y, marker='o',color='b')\n",
    "m.plot(x,y,'bo',markersize=10, alpha=.5)\n",
    "plt.title('Europa')\n",
    "plt.show()"
   ]
  },
  {
   "cell_type": "markdown",
   "metadata": {
    "colab_type": "text",
    "id": "eTSOMDwcYiVU"
   },
   "source": [
    "### Ejercicio 4\n",
    "\n",
    "Calcular la frecuencia de días con precipitaciones mayores (>) de 1 mm."
   ]
  },
  {
   "cell_type": "code",
   "execution_count": 0,
   "metadata": {
    "colab": {
     "base_uri": "https://localhost:8080/",
     "height": 589
    },
    "colab_type": "code",
    "executionInfo": {
     "elapsed": 552,
     "status": "ok",
     "timestamp": 1544898628806,
     "user": {
      "displayName": "Gerardo de Miguel",
      "photoUrl": "https://lh3.googleusercontent.com/-LmFLfSn0ThU/AAAAAAAAAAI/AAAAAAAAAkg/xGe-_jxkcZA/s64/photo.jpg",
      "userId": "12735548512534412210"
     },
     "user_tz": -60
    },
    "id": "pILOLkyFCHah",
    "outputId": "274d11d2-7ddd-43e8-a890-b27948eeac93"
   },
   "outputs": [
    {
     "data": {
      "text/plain": [
       "date\n",
       "2000-01-01    0.0\n",
       "2000-01-02    0.0\n",
       "2000-01-03    0.0\n",
       "2000-01-04    0.0\n",
       "2000-01-05    0.0\n",
       "2000-01-06    0.0\n",
       "2000-01-07    0.0\n",
       "2000-01-08    0.0\n",
       "2000-01-09    0.0\n",
       "2000-01-10    0.0\n",
       "2000-01-11    0.0\n",
       "2000-01-12    0.0\n",
       "2000-01-13    0.0\n",
       "2000-01-14    0.0\n",
       "2000-01-15    0.0\n",
       "2000-01-16    0.0\n",
       "2000-01-17    0.0\n",
       "2000-01-18    5.5\n",
       "2000-01-19    0.0\n",
       "2000-01-20    0.0\n",
       "2000-01-21    0.7\n",
       "2000-01-22    0.4\n",
       "2000-01-23    0.1\n",
       "2000-01-24    0.0\n",
       "2000-01-25    0.0\n",
       "2000-01-26    0.0\n",
       "2000-01-27    0.0\n",
       "2000-01-28    0.0\n",
       "2000-01-29    0.1\n",
       "2000-01-30    2.4\n",
       "2000-01-31    0.0\n",
       "Name: 12, dtype: float64"
      ]
     },
     "execution_count": 63,
     "metadata": {
      "tags": []
     },
     "output_type": "execute_result"
    }
   ],
   "source": [
    "#::GMG::Como prueba de concepto vamos a calcular el valor para la primera\n",
    "#       estación (12) en el primer mes del año 2000\n",
    "#::nota::supongo que las unidades de cada estación están escaladas a mm\n",
    "precipitaciones.loc['2000-01',12]"
   ]
  },
  {
   "cell_type": "code",
   "execution_count": 0,
   "metadata": {
    "colab": {
     "base_uri": "https://localhost:8080/",
     "height": 35
    },
    "colab_type": "code",
    "executionInfo": {
     "elapsed": 535,
     "status": "ok",
     "timestamp": 1544900009009,
     "user": {
      "displayName": "Gerardo de Miguel",
      "photoUrl": "https://lh3.googleusercontent.com/-LmFLfSn0ThU/AAAAAAAAAAI/AAAAAAAAAkg/xGe-_jxkcZA/s64/photo.jpg",
      "userId": "12735548512534412210"
     },
     "user_tz": -60
    },
    "id": "gvONCcGd4zQa",
    "outputId": "7c7e5b08-88b1-4108-cc3f-8974df37ccee"
   },
   "outputs": [
    {
     "data": {
      "text/plain": [
       "2"
      ]
     },
     "execution_count": 81,
     "metadata": {
      "tags": []
     },
     "output_type": "execute_result"
    }
   ],
   "source": [
    "#::GMG::Tenemos dos valores por encima de 1, ¿cómo los cuento?\n",
    "precipitaciones.loc['2000-01',12][\n",
    "    precipitaciones.loc['2000-01',12]  > 1\n",
    "].count()"
   ]
  },
  {
   "cell_type": "code",
   "execution_count": 0,
   "metadata": {
    "colab": {
     "base_uri": "https://localhost:8080/",
     "height": 589
    },
    "colab_type": "code",
    "executionInfo": {
     "elapsed": 815,
     "status": "ok",
     "timestamp": 1544898698875,
     "user": {
      "displayName": "Gerardo de Miguel",
      "photoUrl": "https://lh3.googleusercontent.com/-LmFLfSn0ThU/AAAAAAAAAAI/AAAAAAAAAkg/xGe-_jxkcZA/s64/photo.jpg",
      "userId": "12735548512534412210"
     },
     "user_tz": -60
    },
    "id": "Y6pGINEwIm4m",
    "outputId": "4f6b9a2b-7db9-43b0-8539-701af7a6caa4"
   },
   "outputs": [
    {
     "data": {
      "text/plain": [
       "date\n",
       "2003-01-01    0.0\n",
       "2003-01-02    0.0\n",
       "2003-01-03    0.0\n",
       "2003-01-04    4.2\n",
       "2003-01-05    0.4\n",
       "2003-01-06    7.0\n",
       "2003-01-07    1.8\n",
       "2003-01-08    0.8\n",
       "2003-01-09    8.3\n",
       "2003-01-10    0.2\n",
       "2003-01-11    0.0\n",
       "2003-01-12    0.0\n",
       "2003-01-13    0.0\n",
       "2003-01-14    0.0\n",
       "2003-01-15    0.0\n",
       "2003-01-16    0.0\n",
       "2003-01-17    0.0\n",
       "2003-01-18    0.0\n",
       "2003-01-19    0.0\n",
       "2003-01-20    0.0\n",
       "2003-01-21    0.0\n",
       "2003-01-22    3.8\n",
       "2003-01-23    0.0\n",
       "2003-01-24    0.0\n",
       "2003-01-25    0.0\n",
       "2003-01-26    0.0\n",
       "2003-01-27    NaN\n",
       "2003-01-28    0.1\n",
       "2003-01-29    NaN\n",
       "2003-01-30    0.2\n",
       "2003-01-31    0.5\n",
       "Name: 12, dtype: float64"
      ]
     },
     "execution_count": 64,
     "metadata": {
      "tags": []
     },
     "output_type": "execute_result"
    }
   ],
   "source": [
    "#::GMG::Me pregunto si funciona con la presencia de NaN .... hagamos el experimento\n",
    "precipitaciones.loc['2003-01',12]"
   ]
  },
  {
   "cell_type": "code",
   "execution_count": 0,
   "metadata": {
    "colab": {
     "base_uri": "https://localhost:8080/",
     "height": 35
    },
    "colab_type": "code",
    "executionInfo": {
     "elapsed": 930,
     "status": "ok",
     "timestamp": 1544898770539,
     "user": {
      "displayName": "Gerardo de Miguel",
      "photoUrl": "https://lh3.googleusercontent.com/-LmFLfSn0ThU/AAAAAAAAAAI/AAAAAAAAAkg/xGe-_jxkcZA/s64/photo.jpg",
      "userId": "12735548512534412210"
     },
     "user_tz": -60
    },
    "id": "cgApSNq2I6gO",
    "outputId": "54324236-9f3a-4681-e30a-e403245127d7"
   },
   "outputs": [
    {
     "data": {
      "text/plain": [
       "5"
      ]
     },
     "execution_count": 65,
     "metadata": {
      "tags": []
     },
     "output_type": "execute_result"
    }
   ],
   "source": [
    "#::GMG:: ---> OK (!)\n",
    "precipitaciones.loc['2003-01',12][precipitaciones.loc['2003-01',12]  > 1].count()"
   ]
  },
  {
   "cell_type": "code",
   "execution_count": 0,
   "metadata": {
    "colab": {
     "base_uri": "https://localhost:8080/",
     "height": 35
    },
    "colab_type": "code",
    "executionInfo": {
     "elapsed": 565,
     "status": "ok",
     "timestamp": 1544898845107,
     "user": {
      "displayName": "Gerardo de Miguel",
      "photoUrl": "https://lh3.googleusercontent.com/-LmFLfSn0ThU/AAAAAAAAAAI/AAAAAAAAAkg/xGe-_jxkcZA/s64/photo.jpg",
      "userId": "12735548512534412210"
     },
     "user_tz": -60
    },
    "id": "sNATx9lTJUt1",
    "outputId": "8561e0e5-c23e-490a-dfaa-9a51bc2120b4"
   },
   "outputs": [
    {
     "data": {
      "text/plain": [
       "29"
      ]
     },
     "execution_count": 66,
     "metadata": {
      "tags": []
     },
     "output_type": "execute_result"
    }
   ],
   "source": [
    "#::GMG::La cuenta total TAMPOCO tiene en cuenta los NAN (!!)\n",
    "precipitaciones.loc['2003-01',12].count()"
   ]
  },
  {
   "cell_type": "code",
   "execution_count": 0,
   "metadata": {
    "colab": {
     "base_uri": "https://localhost:8080/",
     "height": 35
    },
    "colab_type": "code",
    "executionInfo": {
     "elapsed": 590,
     "status": "ok",
     "timestamp": 1544898988923,
     "user": {
      "displayName": "Gerardo de Miguel",
      "photoUrl": "https://lh3.googleusercontent.com/-LmFLfSn0ThU/AAAAAAAAAAI/AAAAAAAAAkg/xGe-_jxkcZA/s64/photo.jpg",
      "userId": "12735548512534412210"
     },
     "user_tz": -60
    },
    "id": "SwsVsfcKJwL6",
    "outputId": "21a7dbb0-1404-43ce-9b12-4ae884f8c26f"
   },
   "outputs": [
    {
     "data": {
      "text/plain": [
       "31"
      ]
     },
     "execution_count": 67,
     "metadata": {
      "tags": []
     },
     "output_type": "execute_result"
    }
   ],
   "source": [
    "#::GMG::Se puede hacer un workaround con len()\n",
    "len(precipitaciones.loc['2003-01',12])"
   ]
  },
  {
   "cell_type": "code",
   "execution_count": 0,
   "metadata": {
    "colab": {
     "base_uri": "https://localhost:8080/",
     "height": 35
    },
    "colab_type": "code",
    "executionInfo": {
     "elapsed": 561,
     "status": "ok",
     "timestamp": 1544900151134,
     "user": {
      "displayName": "Gerardo de Miguel",
      "photoUrl": "https://lh3.googleusercontent.com/-LmFLfSn0ThU/AAAAAAAAAAI/AAAAAAAAAkg/xGe-_jxkcZA/s64/photo.jpg",
      "userId": "12735548512534412210"
     },
     "user_tz": -60
    },
    "id": "tu1h10FXN55j",
    "outputId": "7238f1e5-6df4-41cb-dcce-d59c0eb39370"
   },
   "outputs": [
    {
     "data": {
      "text/plain": [
       "2"
      ]
     },
     "execution_count": 85,
     "metadata": {
      "tags": []
     },
     "output_type": "execute_result"
    }
   ],
   "source": [
    "#::GMG::Teniendo en cuenta que count() no cuenta los NaN podemos simplificar\n",
    "#       la cuenta\n",
    "precipitaciones[precipitaciones  > 1].loc['2000-01',12].count()"
   ]
  },
  {
   "cell_type": "code",
   "execution_count": 0,
   "metadata": {
    "colab": {
     "base_uri": "https://localhost:8080/",
     "height": 1092
    },
    "colab_type": "code",
    "executionInfo": {
     "elapsed": 567,
     "status": "ok",
     "timestamp": 1544900213951,
     "user": {
      "displayName": "Gerardo de Miguel",
      "photoUrl": "https://lh3.googleusercontent.com/-LmFLfSn0ThU/AAAAAAAAAAI/AAAAAAAAAkg/xGe-_jxkcZA/s64/photo.jpg",
      "userId": "12735548512534412210"
     },
     "user_tz": -60
    },
    "id": "U6vp8MXHOZ4k",
    "outputId": "4b0f7a26-5ea1-48e1-b25d-a6ae27553fd5"
   },
   "outputs": [
    {
     "data": {
      "text/plain": [
       "12       2\n",
       "13       6\n",
       "14       9\n",
       "15      15\n",
       "16       8\n",
       "17      10\n",
       "21       1\n",
       "28      11\n",
       "29      12\n",
       "30      12\n",
       "32       2\n",
       "38       6\n",
       "39       1\n",
       "42      10\n",
       "48       8\n",
       "54      11\n",
       "58      12\n",
       "59       4\n",
       "62       1\n",
       "63      10\n",
       "107     13\n",
       "113      9\n",
       "173      1\n",
       "175      2\n",
       "176      0\n",
       "177      0\n",
       "190      7\n",
       "191     13\n",
       "192     10\n",
       "194     18\n",
       "        ..\n",
       "351      3\n",
       "355      5\n",
       "450      7\n",
       "462      9\n",
       "465      7\n",
       "468     10\n",
       "483     11\n",
       "708      9\n",
       "800      2\n",
       "951     10\n",
       "1009    12\n",
       "1020    11\n",
       "1051    25\n",
       "1394     7\n",
       "1427    14\n",
       "1662     2\n",
       "1684     6\n",
       "1686     4\n",
       "1687     7\n",
       "2006    21\n",
       "2062     3\n",
       "2762     8\n",
       "3919     5\n",
       "3946     4\n",
       "3991     5\n",
       "3994     9\n",
       "4002    10\n",
       "4004     9\n",
       "5585    10\n",
       "7682     9\n",
       "Length: 86, dtype: int64"
      ]
     },
     "execution_count": 86,
     "metadata": {
      "tags": []
     },
     "output_type": "execute_result"
    }
   ],
   "source": [
    "#::GMG::Y podemos extenderlo a todas las estaciones :)\n",
    "precipitaciones[precipitaciones  > 1].loc['2000-01',:].count()"
   ]
  },
  {
   "cell_type": "code",
   "execution_count": 0,
   "metadata": {
    "colab": {
     "base_uri": "https://localhost:8080/",
     "height": 104
    },
    "colab_type": "code",
    "executionInfo": {
     "elapsed": 633,
     "status": "ok",
     "timestamp": 1544901324437,
     "user": {
      "displayName": "Gerardo de Miguel",
      "photoUrl": "https://lh3.googleusercontent.com/-LmFLfSn0ThU/AAAAAAAAAAI/AAAAAAAAAkg/xGe-_jxkcZA/s64/photo.jpg",
      "userId": "12735548512534412210"
     },
     "user_tz": -60
    },
    "id": "AsAj9NVuRdCE",
    "outputId": "a17d835b-05a3-400d-98f6-aaef99c872b0"
   },
   "outputs": [
    {
     "name": "stdout",
     "output_type": "stream",
     "text": [
      "Estacion 12: Año 2000\n",
      "\n",
      "Mes Ene: 2\n",
      "Mes Feb: 0\n",
      "Mes Mar: 7\n"
     ]
    }
   ],
   "source": [
    "print('Estacion 12: Año 2000\\n\\nMes Ene: {}\\nMes Feb: {}\\nMes Mar: {}'.format(\n",
    "        precipitaciones[precipitaciones  > 1].loc['2000-01',12].count(),\n",
    "        precipitaciones[precipitaciones  > 1].loc['2000-02',12].count(),\n",
    "        precipitaciones[precipitaciones  > 1].loc['2000-03',12].count()\n",
    "    )\n",
    ")\n"
   ]
  },
  {
   "cell_type": "code",
   "execution_count": 0,
   "metadata": {
    "colab": {
     "base_uri": "https://localhost:8080/",
     "height": 35
    },
    "colab_type": "code",
    "executionInfo": {
     "elapsed": 540,
     "status": "ok",
     "timestamp": 1544900949402,
     "user": {
      "displayName": "Gerardo de Miguel",
      "photoUrl": "https://lh3.googleusercontent.com/-LmFLfSn0ThU/AAAAAAAAAAI/AAAAAAAAAkg/xGe-_jxkcZA/s64/photo.jpg",
      "userId": "12735548512534412210"
     },
     "user_tz": -60
    },
    "id": "1LCzwUmgQjaB",
    "outputId": "0086486c-2cbe-4a50-f8fe-09979b294068"
   },
   "outputs": [
    {
     "data": {
      "text/plain": [
       "9"
      ]
     },
     "execution_count": 88,
     "metadata": {
      "tags": []
     },
     "output_type": "execute_result"
    }
   ],
   "source": [
    "#::GMG::Y para todas las series? --> OK (!)\n",
    "#       Voy a ver que pasa con la estación '12' si cuento los tres primeros\n",
    "#       meses\n",
    "\n",
    "precipitaciones[precipitaciones  > 1].loc['2000-01':'2000-03',12].count()"
   ]
  },
  {
   "cell_type": "code",
   "execution_count": 0,
   "metadata": {
    "colab": {
     "base_uri": "https://localhost:8080/",
     "height": 35
    },
    "colab_type": "code",
    "executionInfo": {
     "elapsed": 548,
     "status": "ok",
     "timestamp": 1544901451162,
     "user": {
      "displayName": "Gerardo de Miguel",
      "photoUrl": "https://lh3.googleusercontent.com/-LmFLfSn0ThU/AAAAAAAAAAI/AAAAAAAAAkg/xGe-_jxkcZA/s64/photo.jpg",
      "userId": "12735548512534412210"
     },
     "user_tz": -60
    },
    "id": "XyU87QAqTOiF",
    "outputId": "4c80af6f-cabc-4f8f-9b46-2b0c891da01d"
   },
   "outputs": [
    {
     "data": {
      "text/plain": [
       "999"
      ]
     },
     "execution_count": 98,
     "metadata": {
      "tags": []
     },
     "output_type": "execute_result"
    }
   ],
   "source": [
    "#::GMG::El total sería ....\n",
    "precipitaciones[precipitaciones  > 1].loc[:,12].count()"
   ]
  },
  {
   "cell_type": "code",
   "execution_count": 0,
   "metadata": {
    "colab": {
     "base_uri": "https://localhost:8080/",
     "height": 35
    },
    "colab_type": "code",
    "executionInfo": {
     "elapsed": 735,
     "status": "ok",
     "timestamp": 1544901646588,
     "user": {
      "displayName": "Gerardo de Miguel",
      "photoUrl": "https://lh3.googleusercontent.com/-LmFLfSn0ThU/AAAAAAAAAAI/AAAAAAAAAkg/xGe-_jxkcZA/s64/photo.jpg",
      "userId": "12735548512534412210"
     },
     "user_tz": -60
    },
    "id": "LKiHk9tyTYvf",
    "outputId": "a14d1d0a-649c-448b-d8f7-4c3ecef4fd64"
   },
   "outputs": [
    {
     "data": {
      "text/plain": [
       "0.24863115978098557"
      ]
     },
     "execution_count": 101,
     "metadata": {
      "tags": []
     },
     "output_type": "execute_result"
    }
   ],
   "source": [
    "#::GMG::Y la frecuencia relativa\n",
    "precipitaciones[precipitaciones  > 1].loc[:,12].count()/len(precipitaciones[precipitaciones  > 1].loc[:,12])"
   ]
  },
  {
   "cell_type": "code",
   "execution_count": 0,
   "metadata": {
    "colab": {
     "base_uri": "https://localhost:8080/",
     "height": 35
    },
    "colab_type": "code",
    "executionInfo": {
     "elapsed": 562,
     "status": "ok",
     "timestamp": 1544901716460,
     "user": {
      "displayName": "Gerardo de Miguel",
      "photoUrl": "https://lh3.googleusercontent.com/-LmFLfSn0ThU/AAAAAAAAAAI/AAAAAAAAAkg/xGe-_jxkcZA/s64/photo.jpg",
      "userId": "12735548512534412210"
     },
     "user_tz": -60
    },
    "id": "OW1c2JyMUJW-",
    "outputId": "bedcf152-90f8-409e-ff05-3c259eee34a8"
   },
   "outputs": [
    {
     "data": {
      "text/plain": [
       "0.24863115978098557"
      ]
     },
     "execution_count": 102,
     "metadata": {
      "tags": []
     },
     "output_type": "execute_result"
    }
   ],
   "source": [
    "#::GMG::Todas las series tienen la misma longitud, la del dataframe (!!)\n",
    "precipitaciones[precipitaciones  > 1].loc[:,12].count()/precipitaciones.shape[0]"
   ]
  },
  {
   "cell_type": "code",
   "execution_count": 0,
   "metadata": {
    "colab": {
     "base_uri": "https://localhost:8080/",
     "height": 1092
    },
    "colab_type": "code",
    "executionInfo": {
     "elapsed": 546,
     "status": "ok",
     "timestamp": 1544901829361,
     "user": {
      "displayName": "Gerardo de Miguel",
      "photoUrl": "https://lh3.googleusercontent.com/-LmFLfSn0ThU/AAAAAAAAAAI/AAAAAAAAAkg/xGe-_jxkcZA/s64/photo.jpg",
      "userId": "12735548512534412210"
     },
     "user_tz": -60
    },
    "id": "NoZ9LXlkEfmm",
    "outputId": "e69e1d52-2261-404a-99f7-62f875fdcdb3"
   },
   "outputs": [
    {
     "data": {
      "text/plain": [
       "12      0.248631\n",
       "13      0.319313\n",
       "14      0.373071\n",
       "15      0.544301\n",
       "16      0.264062\n",
       "17      0.314335\n",
       "21      0.260080\n",
       "28      0.288950\n",
       "29      0.302140\n",
       "30      0.283474\n",
       "32      0.298905\n",
       "38      0.277252\n",
       "39      0.127675\n",
       "42      0.331508\n",
       "48      0.382529\n",
       "54      0.287954\n",
       "58      0.486809\n",
       "59      0.198357\n",
       "62      0.143853\n",
       "63      0.172474\n",
       "107     0.346939\n",
       "113     0.274017\n",
       "173     0.209308\n",
       "175     0.151319\n",
       "176     0.170483\n",
       "177     0.198855\n",
       "190     0.211299\n",
       "191     0.232205\n",
       "192     0.284221\n",
       "194     0.448731\n",
       "          ...   \n",
       "351     0.290443\n",
       "355     0.298905\n",
       "450     0.239423\n",
       "462     0.343206\n",
       "465     0.263315\n",
       "468     0.353907\n",
       "483     0.302638\n",
       "708     0.294176\n",
       "800     0.233201\n",
       "951     0.196864\n",
       "1009    0.314833\n",
       "1020    0.279243\n",
       "1051    0.341215\n",
       "1394    0.365107\n",
       "1427    0.300398\n",
       "1662    0.204828\n",
       "1684    0.294176\n",
       "1686    0.200100\n",
       "1687    0.338228\n",
       "2006    0.539074\n",
       "2062    0.154555\n",
       "2762    0.320557\n",
       "3919    0.141364\n",
       "3946    0.148581\n",
       "3991    0.301145\n",
       "3994    0.275510\n",
       "4002    0.430811\n",
       "4004    0.318318\n",
       "5585    0.290194\n",
       "7682    0.275261\n",
       "Length: 86, dtype: float64"
      ]
     },
     "execution_count": 103,
     "metadata": {
      "tags": []
     },
     "output_type": "execute_result"
    }
   ],
   "source": [
    "#::GMG::Tras la prueba de concepto solamente nos queda seleccionar todos los \n",
    "#       días en los que la precipitación es mayor que 1, contarlos y dividirlos \n",
    "#       entre el número de días, por cada estación del dataframe\n",
    "precipitaciones[precipitaciones  > 1].loc[:,:].count()/precipitaciones.shape[0]"
   ]
  }
 ],
 "metadata": {
  "colab": {
   "collapsed_sections": [
    "DVrjTRLtZf3j",
    "jKrgm3nPWkPs",
    "M7vSFF7jPQ-Y",
    "udWHOiRcPQ-q",
    "njokXC44eSMB",
    "6TuMMfCfXTda",
    "P3kPn5GPXY5Z",
    "HcFbnv1bXeph",
    "CgnnswGwXjHR",
    "KLgq9NxTXnTh",
    "kg9cKrj0Xq8Z",
    "LHkcst3KXvwq",
    "HoJXAslaX5Wa",
    "X0ZWbmn3Gv6W",
    "uX4cMOtlbZRs",
    "Or4TCPe4cM7J",
    "wOvuA3hWtIDv",
    "48sFBHVFYUt6",
    "nZvdxyYe2i5Z",
    "RSW05V0F2pPs",
    "SAof8n77YZnx",
    "zmhHmpvK24jC",
    "KziNVb7t28RW",
    "AzDdLz7n3A0V",
    "pFHtbUTjwnuN",
    "eTSOMDwcYiVU"
   ],
   "name": "TareaPandas.ipynb",
   "provenance": [],
   "version": "0.3.2"
  },
  "kernelspec": {
   "display_name": "Python 3",
   "language": "python",
   "name": "python3"
  }
 },
 "nbformat": 4,
 "nbformat_minor": 0
}
