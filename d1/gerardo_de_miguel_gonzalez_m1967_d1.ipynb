{
  "nbformat": 4,
  "nbformat_minor": 0,
  "metadata": {
    "colab": {
      "name": "gerardo-de-miguel-gonzalez-m1967-d1.ipynb",
      "version": "0.3.2",
      "provenance": [],
      "collapsed_sections": [
        "UQpDarCAVJpL"
      ]
    },
    "kernelspec": {
      "name": "python3",
      "display_name": "Python 3"
    }
  },
  "cells": [
    {
      "metadata": {
        "id": "sxcckLLDL00L",
        "colab_type": "text"
      },
      "cell_type": "markdown",
      "source": [
        "# Gerardo de Miguel González\n",
        "\n",
        "---\n",
        "\n",
        "## Assignment I: Exercises on Introduction to Python\n",
        "\n",
        "### Exercise 1: Follow the basic examples from SciPy Lectures\n",
        "\n",
        "Reproduce and comment the basic examples from the Python Language intro of SciPy Lectures [1] for Basic Types, Control Flow and Defining Functions [2][3][4].\n",
        "\n",
        "### References\n",
        "\n",
        "[1] [SciPy Lectures Python Language Intro](http://www.scipy-lectures.org/intro/language/python_language.html)\n",
        "\n",
        "[2] [Basic Types](http://www.scipy-lectures.org/intro/language/python_language.html)\n",
        "\n",
        "[3] [Control Flow](http://www.scipy-lectures.org/intro/language/control_flow.html)\n",
        "\n",
        "[4] [Defining Functions](http://www.scipy-lectures.org/intro/language/functions.html)\n"
      ]
    },
    {
      "metadata": {
        "id": "RGM5GoYkLlB8",
        "colab_type": "text"
      },
      "cell_type": "markdown",
      "source": [
        ""
      ]
    },
    {
      "metadata": {
        "id": "-RbIaH6FUqR_",
        "colab_type": "text"
      },
      "cell_type": "markdown",
      "source": [
        "### ::[GMG]::Basic Types\n",
        "\n"
      ]
    },
    {
      "metadata": {
        "id": "UQpDarCAVJpL",
        "colab_type": "text"
      },
      "cell_type": "markdown",
      "source": [
        "#### Numerical types\n",
        "\n",
        "scalar types (numerical): \n",
        "\n",
        "* integer\n",
        "* float\n",
        "* complex\n",
        "* boolean\n",
        "\n",
        "operations (+, -, *, /, //, **, %, <, >, ==, ...)\n",
        "\n",
        "casting\n",
        "\n",
        "::GMG:: checking types, references, attributes, methods (id(), is, isinstance, dir, ...) see stackoveflow [What's the canonical way for check for type in Python?](https://stackoverflow.com/questions/152580/whats-the-canonical-way-to-check-for-type-in-python#) and [Determine the type of an object?](https://stackoverflow.com/questions/2225038/determine-the-type-of-an-object). I think it will come in handy if I need to do defensive programming (yap, thinking ahead ...)\n",
        "\n",
        "NOTE: paragraphs marked as ::GMG:: are my own notes besides Scipy lectures notes ;)\n"
      ]
    },
    {
      "metadata": {
        "id": "vYX_hl02jGea",
        "colab_type": "code",
        "colab": {}
      },
      "cell_type": "code",
      "source": [
        "#::GMG::Integer\n",
        "print(type(1))\n",
        "print(\"(a, reference, type, check type)\")\n",
        "a = 2\n",
        "display((a, id(a), type(a), type(a) is int))\n",
        "#::GMG::Float\n",
        "print(type(1.))\n",
        "print(\"(b, reference, type, check type)\")\n",
        "b = 3.\n",
        "display((b, id(b), type(b), type(b) is float))\n",
        "#::GMG::Complex\n",
        "print(type(1. + 0j))\n",
        "print(\"(c, reference, type, check type)\")\n",
        "c = 2 + 3.4j\n",
        "display((c, id(c), type(c), type(c) is complex))\n",
        "print(\"parte real, parte imaginaria, conjugado\")\n",
        "display((c.real, c.imag, c.conjugate()))\n",
        "#::GMG::Boolean\n",
        "print(type(3>4)) #::GMG::ERROR en Jupyter, NO en iPython\n",
        "print(\"(d, reference, type, check type)\")\n",
        "d = (3>4)\n",
        "display((d,id(d), type(d), type(d) is bool))\n",
        "#::GMG::operators\n",
        "display((1 + 2, 1. + 2))\n",
        "#::GMG::change of reference and type(!!)\n",
        "print(\"(b, reference, type) before ...\")\n",
        "display((b,id(b),type(b))) \n",
        "b = 3 \n",
        "print(\"... (b, reference, type) after\")\n",
        "display((b,id(b),type(b))) \n",
        "print(\"(b, a, +, -, *, **, %, ==, >, <)\")\n",
        "display((b, a, b + a, b - a, a * b, b ** a, b % a, a == b, b > a, b < a))\n",
        "#::GMG::integer division\n",
        "print(\"(b, a, /, //)\")\n",
        "display((b, a, b/a, b//a))\n",
        "#::GMG::type casting\n",
        "#::GMG:: mind the casting behaviour: returns a NEW object with the new type\n",
        "print(\"(b, type, id) before ...\")\n",
        "display((b, type(b), id(b)))\n",
        "print(float(b))\n",
        "print(\" ... (b, type, id) after\")\n",
        "display((b, type(b), id(b)))\n",
        "print(\"(id(float(b)), id(b))\")\n",
        "display((id(float(b)), id(b)))"
      ],
      "execution_count": 0,
      "outputs": []
    },
    {
      "metadata": {
        "id": "5XJrtgEQsU_u",
        "colab_type": "code",
        "colab": {}
      },
      "cell_type": "code",
      "source": [
        "#::GMG::Everything is an object (!) ...\n",
        "b = float(b)\n",
        "print(\"is instance (a,b,c,d)\")\n",
        "display((isinstance(a,int), isinstance(b,float), \\\n",
        "         isinstance(c, complex), isinstance(d,bool)))\n",
        "print(\"(method, type)\")\n",
        "#::GMG::Without operator () you mean the attribute/method\n",
        "display((c.conjugate, type(c.conjugate)))\n",
        "#::GMG::... that may be changed in place (mind the reference b to a)...\n",
        "print(\"a is b before (b = a): \", a is b)\n",
        "b = a\n",
        "print(\"after (b = a) --> (a, b, reference a, reference b, type b, check identity)\")\n",
        "display((a, b, id(a), id(b), type(b), a is b))\n",
        "#::GMG::Float objects inside complex\n",
        "print(\"(c, id(c), c.real, type c.real, id c.real, c.imag, type c.imag, id c.imag)\")\n",
        "display((c, id(c), c.real, type(c.real), id(c.real), \\\n",
        "         c.imag, type(c.imag), id(c.imag)))\n",
        "#::GMG::Objects have attributes and methods (__ means hidden or private methods\n",
        "#       ... OOP stuff)\n",
        "#       see: https://stackoverflow.com/questions/2675028/list-attributes-of-an-object\n",
        "print(\"Methods/attributes of a complex object c\")\n",
        "dir(c)"
      ],
      "execution_count": 0,
      "outputs": []
    },
    {
      "metadata": {
        "id": "bwyWkiLWjs3d",
        "colab_type": "text"
      },
      "cell_type": "markdown",
      "source": [
        "#### Containers\n",
        "\n",
        "(mutable) List \n",
        "\n",
        "* indexing \n",
        "* slicing \n",
        "* multiple type element list\n",
        "* (mutable) ->  modifiyng methods: \n",
        "  - append, \n",
        "  - pop, \n",
        "  - slicing again, \n",
        "  - extend, \n",
        "  - reverse, \n",
        "  - concatenate ansd repeat n (integer) times, \n",
        "  - sort\n",
        "\n",
        "(immutable) String \n",
        "  * quotes,\n",
        "  * backslash, \n",
        "  * newline, tab, \n",
        "  * indexing, \n",
        "  * slicing, \n",
        "  * unicode, \n",
        "  * immutable, replace, \n",
        "  * looking for str methods (help)\n",
        "  * formatting\n",
        "\n",
        "(mutable) Dictionaries \n",
        "  * keys, \n",
        "  * values, \n",
        "  * inclusion (in operator)\n",
        "  * any type\n",
        "\n",
        "(immutable) Tuples \n",
        "  * limmutable list\n",
        "  * indexing, slicing\n",
        "  * inclusión (in operator)\n",
        "\n",
        "Sets \n",
        "  * unordered, \n",
        "  * unique elements, \n",
        "  * operations, \n",
        "  * in operator\n",
        "\n"
      ]
    },
    {
      "metadata": {
        "id": "-Nx-Fpe0UQTR",
        "colab_type": "code",
        "colab": {}
      },
      "cell_type": "code",
      "source": [
        "#::GMG::List\n",
        "colors = ['red', 'blue', 'green', 'black', 'white']\n",
        "print(\"(colors, type, id, check type)\")\n",
        "display((colors, type(colors), id(colors), isinstance(colors, list)))\n",
        "print(\"indexing -> (first, last, third)\")\n",
        "display((colors[0], colors[-1],colors[2]))\n",
        "print(\"slicing -> (second to third, last three, first two, all even)\")\n",
        "display((colors[1:3], colors[2:], colors[:-3], colors[::2]))\n",
        "#::GMG::Modifying in place lists (mutable object)\n",
        "colors[0] = 'yellow'\n",
        "colors[2:4] = ['gray', 'purple']\n",
        "print(\"yellow -> [0] and ['gray','purple'] -> [2:4] = [2] and [3]:\\n\", colors)\n",
        "#::GMG::Multiple type element list\n",
        "print(\"Several types element list\")\n",
        "colors = [5-3j, 'blue', -3, 2.0]\n",
        "display((colors, [type(i) for i in colors]))\n",
        "#::GMG::mutable modifying in place\n",
        "colors = ['red', 'blue', 'green', 'black', 'white']\n",
        "print(colors)\n",
        "colors.append('pink')\n",
        "print(\"Add pink color:\", colors)\n",
        "last = colors.pop()\n",
        "print(\"pop out last element:\", last)\n",
        "print(colors)\n",
        "print(\"Add a list of two elements: pink and purple\")\n",
        "colors.extend(['pink', 'purple'])\n",
        "print(colors)\n",
        "print(\"Remove the last two elements by slicing (new list object): pink and purple\")\n",
        "colors = colors[:-2]\n",
        "print(colors)\n",
        "print(\"Reverse the list slicing -> create a new list object\")\n",
        "rcolors = colors[::-1]\n",
        "print(\"(list, reversed [::-1] list)\")\n",
        "display((colors, rcolors))\n",
        "print(\"Reverse the list with method in place\")\n",
        "rcolors = list(colors) # create a new list object (copy from colors) \n",
        "rcolors.reverse()\n",
        "print(\"(list, reverse() list)\")\n",
        "display((colors, rcolors))\n",
        "#::GMG::operator + on lists = concatenate the lists\n",
        "print(\"list + reversed list:\", colors + rcolors)\n",
        "#::GMG::operator * on list and integer n = n replicate the list\n",
        "print(\"n*list = n times list (n integer):\", 2*colors)\n",
        "#::GMG::sort method (in place) and function (new object created)\n",
        "rcolors = list(colors)\n",
        "print(\"sorted() -> new list object: (rcolors, sorted(rcolors))\")\n",
        "display((rcolors, sorted(rcolors)))\n",
        "rcolors.sort()\n",
        "print(\".sort() -> in place object changed:\", rcolors)"
      ],
      "execution_count": 0,
      "outputs": []
    },
    {
      "metadata": {
        "id": "RCq5TheV-1gs",
        "colab_type": "code",
        "colab": {}
      },
      "cell_type": "code",
      "source": [
        "#::GMG::String (immutable)\n",
        "type('Hello World!')\n",
        "s = 'Hello, how are you?'\n",
        "print(\"(s, type, id, check type)\")\n",
        "display((s, type(s), id(s), isinstance(s, str)))\n",
        "#::GMG::String immutable\n",
        "#print('''s[0] = 'h'\n",
        "#---------------------------------------------------------------------------\n",
        "#TypeError                                 Traceback (most recent call last)\n",
        "#<ipython-input-44-4bf3e0e5a614> in <module>()\n",
        "#     26 print(\"\\N{GREEK CAPITAL LETTER DELTA}\")\n",
        "#---> 27 s[0] = 'h'\n",
        "#\n",
        "#TypeError: 'str' object does not support item assignment''')\n",
        "try:\n",
        "  s[0] = 'h'\n",
        "except TypeError:\n",
        "  print(\"s is a\", type(s), \"and it is immutable!!\")\n",
        "#::GMG::quotes: ' \" ''' newline \\n tab \\t\n",
        "s1 = 'Hello\\tman\\n'\n",
        "s2 = \"Wie geht's?\\nMir is gut, danke\"\n",
        "s3 = '''Wo shi Yerart,\n",
        "ni shi shemne mingzi?'''\n",
        "print(s1,s2)\n",
        "#::GMG::the ''' notation preserves new line \\n formatting\n",
        "print(s3)\n",
        "#::GMG::'' misuse\n",
        "print('''s1 = 'What's up?'\n",
        "File \"<ipython-input-34-8f4f1cfc4248>\", line 13\n",
        "    s1 = 'What's up?'\n",
        "               ^\n",
        "SyntaxError: invalid syntax''')\n",
        "#::GMG::Backslash '\\' helps here\n",
        "print('What\\'s up?')\n",
        "#::GMG::Indexing, Slicing: like Lists\n",
        "print(\"(s2[:], s2[0], s2[4:8], s2[:3], s2[12::2])\")\n",
        "display((s2[:], s2[0], s2[4:8], s2[:3], s2[12::2]))\n",
        "#::GMG::Unicode strings\n",
        "#       see https://docs.python.org/3/howto/unicode.html\n",
        "print(\"\\N{GREEK CAPITAL LETTER DELTA}\")\n",
        "#::GMG:: replace() create a new modified object\n",
        "print(s.replace('l','z',1))\n",
        "print(\"(replaced s, original s)\")\n",
        "display((id(s.replace('l','z',1)), id(s)))\n",
        "#::GMG::Formatting\n",
        "#       see https://docs.python.org/3/library/string.html#custom-string-formatting\n",
        "#\n",
        "#       see also https://pyformat.info/\n",
        "print('An integer: %i; a float: %.3f; a (truncated) string: %.4s' \\\n",
        "      % (1, 0.188345, 'statistics'))\n",
        "i = 102\n",
        "filename = 'processing_of_dataset_%d.txt' % i\n",
        "print(filename)\n",
        "#::GMG::Looking for str methods (help)\n",
        "#       see https://docs.python.org/3/library/stdtypes.html#string-methods\n",
        "help(str)"
      ],
      "execution_count": 0,
      "outputs": []
    },
    {
      "metadata": {
        "id": "28CFe4m7XYa9",
        "colab_type": "code",
        "colab": {}
      },
      "cell_type": "code",
      "source": [
        "#::GMG::Dictionaries (mutable)\n",
        "type({'emmanuelle': 5752, 'sebastian': 5578})\n",
        "tel = {'emmanuelle': 5752, 'sebastian': 5578}\n",
        "print(\"(tel, type, id, check type)\")\n",
        "display((tel, type(tel), id(tel), isinstance(tel, dict)))\n",
        "#::GMG::Mutable\n",
        "tel['francis'] = 5915\n",
        "tel['emmanuelle'] = 5009\n",
        "print(tel)\n",
        "#::GMG::Keys and Values\n",
        "display((tel.keys(), tel.values()))\n",
        "#::GMG::inclusion (in operator) and indexing by value\n",
        "print(\"Is francis in Tel?\", 'francis' in tel)\n",
        "print(\"The telephone number of francis is:\", tel['francis'])\n",
        "#::GMG::A dictionary can have keys (resp. values) with different types:\n",
        "d = {'a':1, 'b':2, 3:'hello'}\n",
        "print(\"Types in dict values:\",[type(i) for i in d.values()])\n",
        "print(\"Types in dict keys:\",[type(i) for i in d.keys()])\n"
      ],
      "execution_count": 0,
      "outputs": []
    },
    {
      "metadata": {
        "id": "JkXJMxvJdvsd",
        "colab_type": "code",
        "colab": {}
      },
      "cell_type": "code",
      "source": [
        "#::GMG::Tuples (immutable)\n",
        "print(type((12345, 54321, 'hello!')))\n",
        "t = 12345, 54321, 'hello!',3-5j\n",
        "try:\n",
        "  t[0] = 1\n",
        "except TypeError:\n",
        "  print(\"t is a\", type(t), \"and is immutable!!\")\n",
        "print(\"(t, type, id, check type)\")\n",
        "display((t, type(t), id(t), isinstance(t, tuple)))\n",
        "#::GMG::indexing, slicing\n",
        "print(\"indexing -> (first, last, third)\")\n",
        "display((t[0], t[-1],t[2]))\n",
        "print(\"slicing -> (second to third, last three, first two, all even)\")\n",
        "display((t[1:3], t[1:], t[:-2], t[::2]))\n",
        "#::GMG::inclusion (in operator) also works in tuples\n",
        "print(\"is hello! in t?\", 'hello!' in t)"
      ],
      "execution_count": 0,
      "outputs": []
    },
    {
      "metadata": {
        "id": "jUxHmHhyn5y9",
        "colab_type": "code",
        "colab": {}
      },
      "cell_type": "code",
      "source": [
        "#::GMG::Sets\n",
        "#::GMG::repeated elements are silently dropped! \n",
        "ss = set(('a', 'b', 'c', 'a'))\n",
        "print(\"(set, type, id, check type)\")\n",
        "display((ss, type(ss), id(ss), isinstance(ss, set)))\n",
        "#::GMG::Methods and attributes\n",
        "dir(ss)\n",
        "#::GMG::Operations\n",
        "print(\"set\\\\('a','b'):\",ss.difference(('a','b')))\n",
        "#::GMG:: see https://www.fileformat.info/info/unicode/char/2229/index.htm\n",
        "print(\"set \\N{INTERSECTION} ('a','d'):\",ss.intersection(('a','d')))"
      ],
      "execution_count": 0,
      "outputs": []
    },
    {
      "metadata": {
        "id": "G0UrVQKuUQ_P",
        "colab_type": "text"
      },
      "cell_type": "markdown",
      "source": [
        "#### Assignment operator\n",
        "\n",
        "(re)bind names to values (more than one bind, list indexing/slicing in-place changes, )\n",
        "\n",
        "modifiy attributes or items of mutable objects\n",
        "\n",
        "a single object can have several names bound to it\n",
        "\n",
        "to change a list in place, use indexing/slices\n"
      ]
    },
    {
      "metadata": {
        "id": "MsXpqQ2ZUSqd",
        "colab_type": "code",
        "colab": {}
      },
      "cell_type": "code",
      "source": [
        "#::GMG::a single object can have several names bound to it\n",
        "a = [1, 2, 3]\n",
        "print(\"(a, type, id, check type)\")\n",
        "display((a, type(a), id(a), isinstance(a, list)))\n",
        "b = a\n",
        "print(\"(b, type, id, check type)\")\n",
        "display((b, type(b), id(b), isinstance(b, list)))\n",
        "print(\"... so b and a are references to the list object\", a)\n",
        "print(\"and a is b:\", a is b)\n",
        "print(\"the object list is mutable so if we change b then we also change a!\")\n",
        "b[1] = 'hi!'\n",
        "print(\"(a,b) after b[1] -> 'hi'\")\n",
        "display((a,b))\n",
        "#::GMG::to change a list in place, use indexing/slices\n",
        "a = ['a', 'b', 'c'] # Creates another object.\n",
        "display(('new object', a, type(a), id(a), isinstance(a, list)))\n",
        "a[:] = [1, 2, 3] # Modifies object in place.\n",
        "display(('in place with slicing [:]', a, type(a), id(a), isinstance(a, list)))\n",
        "print('''takeaway: \n",
        "mutable objects can be changed in place \n",
        "and\n",
        "immutable objects cannot be modified once created''')"
      ],
      "execution_count": 0,
      "outputs": []
    },
    {
      "metadata": {
        "id": "5dPs-fDfyniJ",
        "colab_type": "text"
      },
      "cell_type": "markdown",
      "source": [
        "**See also**: A very good and detailed explanation of the above issues can be found in David M. Beazley’s article [Types and Objects in Python](http://www.informit.com/articles/article.aspx?p=453682). "
      ]
    }
  ]
}