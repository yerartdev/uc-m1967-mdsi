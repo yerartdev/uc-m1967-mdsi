{
  "nbformat": 4,
  "nbformat_minor": 0,
  "metadata": {
    "colab": {
      "name": "gerardo-de-miguel-gonzalez-m1967-d1.ipynb",
      "version": "0.3.2",
      "provenance": [],
      "collapsed_sections": []
    },
    "kernelspec": {
      "name": "python3",
      "display_name": "Python 3"
    }
  },
  "cells": [
    {
      "metadata": {
        "id": "sxcckLLDL00L",
        "colab_type": "text"
      },
      "cell_type": "markdown",
      "source": [
        "# Gerardo de Miguel González\n",
        "\n",
        "---\n",
        "\n",
        "## Assignment I: Exercises on Introduction to Python\n",
        "\n",
        "### Exercise 1: Follow the basic examples from SciPy Lectures\n",
        "\n",
        "Reproduce and comment the basic examples from the Python Language intro of SciPy Lectures [1] for Basic Types, Control Flow and Defining Functions [2][3][4].\n",
        "\n",
        "### References\n",
        "\n",
        "[1] [SciPy Lectures Python Language Intro](http://www.scipy-lectures.org/intro/language/python_language.html)\n",
        "\n",
        "[2] [Basic Types](http://www.scipy-lectures.org/intro/language/python_language.html)\n",
        "\n",
        "[3] [Control Flow](http://www.scipy-lectures.org/intro/language/control_flow.html)\n",
        "\n",
        "[4] [Defining Functions](http://www.scipy-lectures.org/intro/language/functions.html)\n"
      ]
    },
    {
      "metadata": {
        "id": "-RbIaH6FUqR_",
        "colab_type": "text"
      },
      "cell_type": "markdown",
      "source": [
        "### ::[GMG]::Basic Types\n",
        "\n"
      ]
    },
    {
      "metadata": {
        "id": "UQpDarCAVJpL",
        "colab_type": "text"
      },
      "cell_type": "markdown",
      "source": [
        "#### Numerical types\n",
        "\n",
        "scalar types (numerical): \n",
        "\n",
        "* integer\n",
        "* float\n",
        "* complex\n",
        "* boolean\n",
        "\n",
        "operations (+, -, *, /, //, **, %, <, >, ==, ...)\n",
        "\n",
        "casting\n",
        "\n",
        "::GMG:: checking types, references, attributes, methods (id(), is, isinstance, dir, ...) see stackoveflow [What's the canonical way for check for type in Python?](https://stackoverflow.com/questions/152580/whats-the-canonical-way-to-check-for-type-in-python#) and [Determine the type of an object?](https://stackoverflow.com/questions/2225038/determine-the-type-of-an-object). I think it will come in handy if I need to do defensive programming (yap, thinking ahead ...)\n",
        "\n",
        "NOTE: paragraphs marked as ::GMG:: are my own notes besides Scipy lectures notes ;)\n"
      ]
    },
    {
      "metadata": {
        "id": "vYX_hl02jGea",
        "colab_type": "code",
        "colab": {
          "base_uri": "https://localhost:8080/",
          "height": 537
        },
        "outputId": "abdfbd76-2992-4fe4-8956-489b50d5bdc7"
      },
      "cell_type": "code",
      "source": [
        "#::GMG::Integer\n",
        "print(type(1))\n",
        "print(\"(a, reference, type, check type)\")\n",
        "a = 2\n",
        "display((a, id(a), type(a), type(a) is int))\n",
        "#::GMG::Float\n",
        "print(type(1.))\n",
        "print(\"(b, reference, type, check type)\")\n",
        "b = 3.\n",
        "display((b, id(b), type(b), type(b) is float))\n",
        "#::GMG::Complex\n",
        "print(type(1. + 0j))\n",
        "print(\"(c, reference, type, check type)\")\n",
        "c = 2 + 3.4j\n",
        "display((c, id(c), type(c), type(c) is complex))\n",
        "print(\"parte real, parte imaginaria, conjugado\")\n",
        "display((c.real, c.imag, c.conjugate()))\n",
        "#::GMG::Boolean\n",
        "print(type(3>4)) #::GMG::ERROR en Jupyter, NO en iPython\n",
        "print(\"(d, reference, type, check type)\")\n",
        "d = (3>4)\n",
        "display((d,id(d), type(d), type(d) is bool))\n",
        "#::GMG::operators\n",
        "display((1 + 2, 1. + 2))\n",
        "#::GMG::change of reference and type(!!)\n",
        "print(\"(b, reference, type) before ...\")\n",
        "display((b,id(b),type(b))) \n",
        "b = 3 \n",
        "print(\"... (b, reference, type) after\")\n",
        "display((b,id(b),type(b))) \n",
        "print(\"(b, a, +, -, *, **, %, ==, >, <)\")\n",
        "display((b, a, b + a, b - a, a * b, b ** a, b % a, a == b, b > a, b < a))\n",
        "#::GMG::integer division\n",
        "print(\"(b, a, /, //)\")\n",
        "display((b, a, b/a, b//a))\n",
        "#::GMG::type casting\n",
        "#::GMG:: mind the casting behaviour: returns a NEW object with the new type\n",
        "print(\"(b, type, id) before ...\")\n",
        "display((b, type(b), id(b)))\n",
        "print(float(b))\n",
        "print(\" ... (b, type, id) after\")\n",
        "display((b, type(b), id(b)))\n",
        "print(\"(id(float(b)), id(b))\")\n",
        "display((id(float(b)), id(b)))"
      ],
      "execution_count": 1,
      "outputs": [
        {
          "output_type": "stream",
          "text": [
            "<class 'int'>\n",
            "(a, reference, type, check type)\n"
          ],
          "name": "stdout"
        },
        {
          "output_type": "display_data",
          "data": {
            "text/plain": [
              "(2, 10964928, int, True)"
            ]
          },
          "metadata": {
            "tags": []
          }
        },
        {
          "output_type": "stream",
          "text": [
            "<class 'float'>\n",
            "(b, reference, type, check type)\n"
          ],
          "name": "stdout"
        },
        {
          "output_type": "display_data",
          "data": {
            "text/plain": [
              "(3.0, 140386824173440, float, True)"
            ]
          },
          "metadata": {
            "tags": []
          }
        },
        {
          "output_type": "stream",
          "text": [
            "<class 'complex'>\n",
            "(c, reference, type, check type)\n"
          ],
          "name": "stdout"
        },
        {
          "output_type": "display_data",
          "data": {
            "text/plain": [
              "((2+3.4j), 140386818622064, complex, True)"
            ]
          },
          "metadata": {
            "tags": []
          }
        },
        {
          "output_type": "stream",
          "text": [
            "parte real, parte imaginaria, conjugado\n"
          ],
          "name": "stdout"
        },
        {
          "output_type": "display_data",
          "data": {
            "text/plain": [
              "(2.0, 3.4, (2-3.4j))"
            ]
          },
          "metadata": {
            "tags": []
          }
        },
        {
          "output_type": "stream",
          "text": [
            "<class 'bool'>\n",
            "(d, reference, type, check type)\n"
          ],
          "name": "stdout"
        },
        {
          "output_type": "display_data",
          "data": {
            "text/plain": [
              "(False, 10412320, bool, True)"
            ]
          },
          "metadata": {
            "tags": []
          }
        },
        {
          "output_type": "display_data",
          "data": {
            "text/plain": [
              "(3, 3.0)"
            ]
          },
          "metadata": {
            "tags": []
          }
        },
        {
          "output_type": "stream",
          "text": [
            "(b, reference, type) before ...\n"
          ],
          "name": "stdout"
        },
        {
          "output_type": "display_data",
          "data": {
            "text/plain": [
              "(3.0, 140386824173440, float)"
            ]
          },
          "metadata": {
            "tags": []
          }
        },
        {
          "output_type": "stream",
          "text": [
            "... (b, reference, type) after\n"
          ],
          "name": "stdout"
        },
        {
          "output_type": "display_data",
          "data": {
            "text/plain": [
              "(3, 10964960, int)"
            ]
          },
          "metadata": {
            "tags": []
          }
        },
        {
          "output_type": "stream",
          "text": [
            "(b, a, +, -, *, **, %, ==, >, <)\n"
          ],
          "name": "stdout"
        },
        {
          "output_type": "display_data",
          "data": {
            "text/plain": [
              "(3, 2, 5, 1, 6, 9, 1, False, True, False)"
            ]
          },
          "metadata": {
            "tags": []
          }
        },
        {
          "output_type": "stream",
          "text": [
            "(b, a, /, //)\n"
          ],
          "name": "stdout"
        },
        {
          "output_type": "display_data",
          "data": {
            "text/plain": [
              "(3, 2, 1.5, 1)"
            ]
          },
          "metadata": {
            "tags": []
          }
        },
        {
          "output_type": "stream",
          "text": [
            "(b, type, id) before ...\n"
          ],
          "name": "stdout"
        },
        {
          "output_type": "display_data",
          "data": {
            "text/plain": [
              "(3, int, 10964960)"
            ]
          },
          "metadata": {
            "tags": []
          }
        },
        {
          "output_type": "stream",
          "text": [
            "3.0\n",
            " ... (b, type, id) after\n"
          ],
          "name": "stdout"
        },
        {
          "output_type": "display_data",
          "data": {
            "text/plain": [
              "(3, int, 10964960)"
            ]
          },
          "metadata": {
            "tags": []
          }
        },
        {
          "output_type": "stream",
          "text": [
            "(id(float(b)), id(b))\n"
          ],
          "name": "stdout"
        },
        {
          "output_type": "display_data",
          "data": {
            "text/plain": [
              "(140386824175120, 10964960)"
            ]
          },
          "metadata": {
            "tags": []
          }
        }
      ]
    },
    {
      "metadata": {
        "id": "5XJrtgEQsU_u",
        "colab_type": "code",
        "colab": {
          "base_uri": "https://localhost:8080/",
          "height": 1161
        },
        "outputId": "022f6c17-3e5e-4c9e-dba6-f6fa910d925d"
      },
      "cell_type": "code",
      "source": [
        "#::GMG::Everything is an object (!) ...\n",
        "b = float(b)\n",
        "print(\"is instance (a,b,c,d)\")\n",
        "display((isinstance(a,int), isinstance(b,float), \\\n",
        "         isinstance(c, complex), isinstance(d,bool)))\n",
        "print(\"(method, type)\")\n",
        "#::GMG::Without operator () you mean the attribute/method\n",
        "display((c.conjugate, type(c.conjugate)))\n",
        "#::GMG::... that may be changed in place (mind the reference b to a)...\n",
        "print(\"a is b before (b = a): \", a is b)\n",
        "b = a\n",
        "print(\"after (b = a) --> (a, b, reference a, reference b, type b, check identity)\")\n",
        "display((a, b, id(a), id(b), type(b), a is b))\n",
        "#::GMG::Float objects inside complex\n",
        "print(\"(c, id(c), c.real, type c.real, id c.real, c.imag, type c.imag, id c.imag)\")\n",
        "display((c, id(c), c.real, type(c.real), id(c.real), \\\n",
        "         c.imag, type(c.imag), id(c.imag)))\n",
        "#::GMG::Objects have attributes and methods (__ means hidden or private methods\n",
        "#       ... OOP stuff)\n",
        "#       see: https://stackoverflow.com/questions/2675028/list-attributes-of-an-object\n",
        "print(\"Methods/attributes of a complex object c\")\n",
        "dir(c)"
      ],
      "execution_count": 2,
      "outputs": [
        {
          "output_type": "stream",
          "text": [
            "is instance (a,b,c,d)\n"
          ],
          "name": "stdout"
        },
        {
          "output_type": "display_data",
          "data": {
            "text/plain": [
              "(True, True, True, True)"
            ]
          },
          "metadata": {
            "tags": []
          }
        },
        {
          "output_type": "stream",
          "text": [
            "(method, type)\n"
          ],
          "name": "stdout"
        },
        {
          "output_type": "display_data",
          "data": {
            "text/plain": [
              "(<function complex.conjugate>, builtin_function_or_method)"
            ]
          },
          "metadata": {
            "tags": []
          }
        },
        {
          "output_type": "stream",
          "text": [
            "a is b before (b = a):  False\n",
            "after (b = a) --> (a, b, reference a, reference b, type b, check identity)\n"
          ],
          "name": "stdout"
        },
        {
          "output_type": "display_data",
          "data": {
            "text/plain": [
              "(2, 2, 10964928, 10964928, int, True)"
            ]
          },
          "metadata": {
            "tags": []
          }
        },
        {
          "output_type": "stream",
          "text": [
            "(c, id(c), c.real, type c.real, id c.real, c.imag, type c.imag, id c.imag)\n"
          ],
          "name": "stdout"
        },
        {
          "output_type": "display_data",
          "data": {
            "text/plain": [
              "((2+3.4j),\n",
              " 140386818622064,\n",
              " 2.0,\n",
              " float,\n",
              " 140386824175072,\n",
              " 3.4,\n",
              " float,\n",
              " 140386824174856)"
            ]
          },
          "metadata": {
            "tags": []
          }
        },
        {
          "output_type": "stream",
          "text": [
            "Methods/attributes of a complex object c\n"
          ],
          "name": "stdout"
        },
        {
          "output_type": "execute_result",
          "data": {
            "text/plain": [
              "['__abs__',\n",
              " '__add__',\n",
              " '__bool__',\n",
              " '__class__',\n",
              " '__delattr__',\n",
              " '__dir__',\n",
              " '__divmod__',\n",
              " '__doc__',\n",
              " '__eq__',\n",
              " '__float__',\n",
              " '__floordiv__',\n",
              " '__format__',\n",
              " '__ge__',\n",
              " '__getattribute__',\n",
              " '__getnewargs__',\n",
              " '__gt__',\n",
              " '__hash__',\n",
              " '__init__',\n",
              " '__init_subclass__',\n",
              " '__int__',\n",
              " '__le__',\n",
              " '__lt__',\n",
              " '__mod__',\n",
              " '__mul__',\n",
              " '__ne__',\n",
              " '__neg__',\n",
              " '__new__',\n",
              " '__pos__',\n",
              " '__pow__',\n",
              " '__radd__',\n",
              " '__rdivmod__',\n",
              " '__reduce__',\n",
              " '__reduce_ex__',\n",
              " '__repr__',\n",
              " '__rfloordiv__',\n",
              " '__rmod__',\n",
              " '__rmul__',\n",
              " '__rpow__',\n",
              " '__rsub__',\n",
              " '__rtruediv__',\n",
              " '__setattr__',\n",
              " '__sizeof__',\n",
              " '__str__',\n",
              " '__sub__',\n",
              " '__subclasshook__',\n",
              " '__truediv__',\n",
              " 'conjugate',\n",
              " 'imag',\n",
              " 'real']"
            ]
          },
          "metadata": {
            "tags": []
          },
          "execution_count": 2
        }
      ]
    },
    {
      "metadata": {
        "id": "bwyWkiLWjs3d",
        "colab_type": "text"
      },
      "cell_type": "markdown",
      "source": [
        "#### Containers\n",
        "\n",
        "(mutable) List \n",
        "\n",
        "* indexing \n",
        "* slicing \n",
        "* multiple type element list\n",
        "* (mutable) ->  modifiyng methods: \n",
        "  - append, \n",
        "  - pop, \n",
        "  - slicing again, \n",
        "  - extend, \n",
        "  - reverse, \n",
        "  - concatenate ansd repeat n (integer) times, \n",
        "  - sort\n",
        "\n",
        "(immutable) String \n",
        "  * quotes,\n",
        "  * backslash, \n",
        "  * newline, tab, \n",
        "  * indexing, \n",
        "  * slicing, \n",
        "  * unicode, \n",
        "  * immutable, replace, \n",
        "  * looking for str methods (help)\n",
        "  * formatting\n",
        "\n",
        "(mutable) Dictionaries \n",
        "  * keys, \n",
        "  * values, \n",
        "  * inclusion (in operator)\n",
        "  * any type\n",
        "\n",
        "(immutable) Tuples \n",
        "  * limmutable list\n",
        "  * indexing, slicing\n",
        "  * inclusión (in operator)\n",
        "\n",
        "Sets \n",
        "  * unordered, \n",
        "  * unique elements, \n",
        "  * operations, \n",
        "  * in operator\n",
        "\n"
      ]
    },
    {
      "metadata": {
        "id": "-Nx-Fpe0UQTR",
        "colab_type": "code",
        "colab": {
          "base_uri": "https://localhost:8080/",
          "height": 624
        },
        "outputId": "27d41385-a7c4-4cbe-9331-e2f54025279d"
      },
      "cell_type": "code",
      "source": [
        "#::GMG::List\n",
        "colors = ['red', 'blue', 'green', 'black', 'white']\n",
        "print(\"(colors, type, id, check type)\")\n",
        "display((colors, type(colors), id(colors), isinstance(colors, list)))\n",
        "print(\"indexing -> (first, last, third)\")\n",
        "display((colors[0], colors[-1],colors[2]))\n",
        "print(\"slicing -> (second to third, last three, first two, all even)\")\n",
        "display((colors[1:3], colors[2:], colors[:-3], colors[::2]))\n",
        "#::GMG::Modifying in place lists (mutable object)\n",
        "colors[0] = 'yellow'\n",
        "colors[2:4] = ['gray', 'purple']\n",
        "print(\"yellow -> [0] and ['gray','purple'] -> [2:4] = [2] and [3]:\\n\", colors)\n",
        "#::GMG::Multiple type element list\n",
        "print(\"Several types element list\")\n",
        "colors = [5-3j, 'blue', -3, 2.0]\n",
        "display((colors, [type(i) for i in colors]))\n",
        "#::GMG::mutable modifying in place\n",
        "colors = ['red', 'blue', 'green', 'black', 'white']\n",
        "print(colors)\n",
        "colors.append('pink')\n",
        "print(\"Add pink color:\", colors)\n",
        "last = colors.pop()\n",
        "print(\"pop out last element:\", last)\n",
        "print(colors)\n",
        "print(\"Add a list of two elements: pink and purple\")\n",
        "colors.extend(['pink', 'purple'])\n",
        "print(colors)\n",
        "print(\"Remove the last two elements by slicing (new list object): pink and purple\")\n",
        "colors = colors[:-2]\n",
        "print(colors)\n",
        "print(\"Reverse the list slicing -> create a new list object\")\n",
        "rcolors = colors[::-1]\n",
        "print(\"(list, reversed [::-1] list)\")\n",
        "display((colors, rcolors))\n",
        "print(\"Reverse the list with method in place\")\n",
        "rcolors = list(colors) # create a new list object (copy from colors) \n",
        "rcolors.reverse()\n",
        "print(\"(list, reverse() list)\")\n",
        "display((colors, rcolors))\n",
        "#::GMG::operator + on lists = concatenate the lists\n",
        "print(\"list + reversed list:\", colors + rcolors)\n",
        "#::GMG::operator * on list and integer n = n replicate the list\n",
        "print(\"n*list = n times list (n integer):\", 2*colors)\n",
        "#::GMG::sort method (in place) and function (new object created)\n",
        "rcolors = list(colors)\n",
        "print(\"sorted() -> new list object: (rcolors, sorted(rcolors))\")\n",
        "display((rcolors, sorted(rcolors)))\n",
        "rcolors.sort()\n",
        "print(\".sort() -> in place object changed:\", rcolors)"
      ],
      "execution_count": 3,
      "outputs": [
        {
          "output_type": "stream",
          "text": [
            "(colors, type, id, check type)\n"
          ],
          "name": "stdout"
        },
        {
          "output_type": "display_data",
          "data": {
            "text/plain": [
              "(['red', 'blue', 'green', 'black', 'white'], list, 140386818589640, True)"
            ]
          },
          "metadata": {
            "tags": []
          }
        },
        {
          "output_type": "stream",
          "text": [
            "indexing -> (first, last, third)\n"
          ],
          "name": "stdout"
        },
        {
          "output_type": "display_data",
          "data": {
            "text/plain": [
              "('red', 'white', 'green')"
            ]
          },
          "metadata": {
            "tags": []
          }
        },
        {
          "output_type": "stream",
          "text": [
            "slicing -> (second to third, last three, first two, all even)\n"
          ],
          "name": "stdout"
        },
        {
          "output_type": "display_data",
          "data": {
            "text/plain": [
              "(['blue', 'green'],\n",
              " ['green', 'black', 'white'],\n",
              " ['red', 'blue'],\n",
              " ['red', 'green', 'white'])"
            ]
          },
          "metadata": {
            "tags": []
          }
        },
        {
          "output_type": "stream",
          "text": [
            "yellow -> [0] and ['gray','purple'] -> [2:4] = [2] and [3]:\n",
            " ['yellow', 'blue', 'gray', 'purple', 'white']\n",
            "Several types element list\n"
          ],
          "name": "stdout"
        },
        {
          "output_type": "display_data",
          "data": {
            "text/plain": [
              "([(5-3j), 'blue', -3, 2.0], [complex, str, int, float])"
            ]
          },
          "metadata": {
            "tags": []
          }
        },
        {
          "output_type": "stream",
          "text": [
            "['red', 'blue', 'green', 'black', 'white']\n",
            "Add pink color: ['red', 'blue', 'green', 'black', 'white', 'pink']\n",
            "pop out last element: pink\n",
            "['red', 'blue', 'green', 'black', 'white']\n",
            "Add a list of two elements: pink and purple\n",
            "['red', 'blue', 'green', 'black', 'white', 'pink', 'purple']\n",
            "Remove the last two elements by slicing (new list object): pink and purple\n",
            "['red', 'blue', 'green', 'black', 'white']\n",
            "Reverse the list slicing -> create a new list object\n",
            "(list, reversed [::-1] list)\n"
          ],
          "name": "stdout"
        },
        {
          "output_type": "display_data",
          "data": {
            "text/plain": [
              "(['red', 'blue', 'green', 'black', 'white'],\n",
              " ['white', 'black', 'green', 'blue', 'red'])"
            ]
          },
          "metadata": {
            "tags": []
          }
        },
        {
          "output_type": "stream",
          "text": [
            "Reverse the list with method in place\n",
            "(list, reverse() list)\n"
          ],
          "name": "stdout"
        },
        {
          "output_type": "display_data",
          "data": {
            "text/plain": [
              "(['red', 'blue', 'green', 'black', 'white'],\n",
              " ['white', 'black', 'green', 'blue', 'red'])"
            ]
          },
          "metadata": {
            "tags": []
          }
        },
        {
          "output_type": "stream",
          "text": [
            "list + reversed list: ['red', 'blue', 'green', 'black', 'white', 'white', 'black', 'green', 'blue', 'red']\n",
            "n*list = n times list (n integer): ['red', 'blue', 'green', 'black', 'white', 'red', 'blue', 'green', 'black', 'white']\n",
            "sorted() -> new list object: (rcolors, sorted(rcolors))\n"
          ],
          "name": "stdout"
        },
        {
          "output_type": "display_data",
          "data": {
            "text/plain": [
              "(['red', 'blue', 'green', 'black', 'white'],\n",
              " ['black', 'blue', 'green', 'red', 'white'])"
            ]
          },
          "metadata": {
            "tags": []
          }
        },
        {
          "output_type": "stream",
          "text": [
            ".sort() -> in place object changed: ['black', 'blue', 'green', 'red', 'white']\n"
          ],
          "name": "stdout"
        }
      ]
    },
    {
      "metadata": {
        "id": "RCq5TheV-1gs",
        "colab_type": "code",
        "colab": {
          "base_uri": "https://localhost:8080/",
          "height": 7263
        },
        "outputId": "abbd74ea-f58b-45fd-f6dc-f8f18f712577"
      },
      "cell_type": "code",
      "source": [
        "#::GMG::String (immutable)\n",
        "type('Hello World!')\n",
        "s = 'Hello, how are you?'\n",
        "print(\"(s, type, id, check type)\")\n",
        "display((s, type(s), id(s), isinstance(s, str)))\n",
        "#::GMG::String immutable\n",
        "#print('''s[0] = 'h'\n",
        "#---------------------------------------------------------------------------\n",
        "#TypeError                                 Traceback (most recent call last)\n",
        "#<ipython-input-44-4bf3e0e5a614> in <module>()\n",
        "#     26 print(\"\\N{GREEK CAPITAL LETTER DELTA}\")\n",
        "#---> 27 s[0] = 'h'\n",
        "#\n",
        "#TypeError: 'str' object does not support item assignment''')\n",
        "try:\n",
        "  s[0] = 'h'\n",
        "except TypeError:\n",
        "  print(\"s is a\", type(s), \"and it is immutable!!\")\n",
        "#::GMG::quotes: ' \" ''' newline \\n tab \\t\n",
        "s1 = 'Hello\\tman\\n'\n",
        "s2 = \"Wie geht's?\\nMir is gut, danke\"\n",
        "s3 = '''Wo shi Yerart,\n",
        "ni shi shemne mingzi?'''\n",
        "print(s1,s2)\n",
        "#::GMG::the ''' notation preserves new line \\n formatting\n",
        "print(s3)\n",
        "#::GMG::'' misuse\n",
        "print('''s1 = 'What's up?'\n",
        "File \"<ipython-input-34-8f4f1cfc4248>\", line 13\n",
        "    s1 = 'What's up?'\n",
        "               ^\n",
        "SyntaxError: invalid syntax''')\n",
        "#::GMG::Backslash '\\' helps here\n",
        "print('What\\'s up?')\n",
        "#::GMG::Indexing, Slicing: like Lists\n",
        "print(\"(s2[:], s2[0], s2[4:8], s2[:3], s2[12::2])\")\n",
        "display((s2[:], s2[0], s2[4:8], s2[:3], s2[12::2]))\n",
        "#::GMG::Unicode strings\n",
        "#       see https://docs.python.org/3/howto/unicode.html\n",
        "print(\"\\N{GREEK CAPITAL LETTER DELTA}\")\n",
        "#::GMG:: replace() create a new modified object\n",
        "print(s.replace('l','z',1))\n",
        "print(\"(replaced s, original s)\")\n",
        "display((id(s.replace('l','z',1)), id(s)))\n",
        "#::GMG::Formatting\n",
        "#       see https://docs.python.org/3/library/string.html#custom-string-formatting\n",
        "#\n",
        "#       see also https://pyformat.info/\n",
        "print('An integer: %i; a float: %.3f; a (truncated) string: %.4s' \\\n",
        "      % (1, 0.188345, 'statistics'))\n",
        "i = 102\n",
        "filename = 'processing_of_dataset_%d.txt' % i\n",
        "print(filename)\n",
        "#::GMG::Looking for str methods (help)\n",
        "#       see https://docs.python.org/3/library/stdtypes.html#string-methods\n",
        "help(str)"
      ],
      "execution_count": 4,
      "outputs": [
        {
          "output_type": "stream",
          "text": [
            "(s, type, id, check type)\n"
          ],
          "name": "stdout"
        },
        {
          "output_type": "display_data",
          "data": {
            "text/plain": [
              "('Hello, how are you?', str, 140386821258816, True)"
            ]
          },
          "metadata": {
            "tags": []
          }
        },
        {
          "output_type": "stream",
          "text": [
            "s is a <class 'str'> and it is immutable!!\n",
            "Hello\tman\n",
            " Wie geht's?\n",
            "Mir is gut, danke\n",
            "Wo shi Yerart,\n",
            "ni shi shemne mingzi?\n",
            "s1 = 'What's up?'\n",
            "File \"<ipython-input-34-8f4f1cfc4248>\", line 13\n",
            "    s1 = 'What's up?'\n",
            "               ^\n",
            "SyntaxError: invalid syntax\n",
            "What's up?\n",
            "(s2[:], s2[0], s2[4:8], s2[:3], s2[12::2])\n"
          ],
          "name": "stdout"
        },
        {
          "output_type": "display_data",
          "data": {
            "text/plain": [
              "(\"Wie geht's?\\nMir is gut, danke\", 'W', 'geht', 'Wie', 'Mri u,dne')"
            ]
          },
          "metadata": {
            "tags": []
          }
        },
        {
          "output_type": "stream",
          "text": [
            "Δ\n",
            "Hezlo, how are you?\n",
            "(replaced s, original s)\n"
          ],
          "name": "stdout"
        },
        {
          "output_type": "display_data",
          "data": {
            "text/plain": [
              "(140386818560624, 140386821258816)"
            ]
          },
          "metadata": {
            "tags": []
          }
        },
        {
          "output_type": "stream",
          "text": [
            "An integer: 1; a float: 0.188; a (truncated) string: stat\n",
            "processing_of_dataset_102.txt\n",
            "Help on class str in module builtins:\n",
            "\n",
            "class str(object)\n",
            " |  str(object='') -> str\n",
            " |  str(bytes_or_buffer[, encoding[, errors]]) -> str\n",
            " |  \n",
            " |  Create a new string object from the given object. If encoding or\n",
            " |  errors is specified, then the object must expose a data buffer\n",
            " |  that will be decoded using the given encoding and error handler.\n",
            " |  Otherwise, returns the result of object.__str__() (if defined)\n",
            " |  or repr(object).\n",
            " |  encoding defaults to sys.getdefaultencoding().\n",
            " |  errors defaults to 'strict'.\n",
            " |  \n",
            " |  Methods defined here:\n",
            " |  \n",
            " |  __add__(self, value, /)\n",
            " |      Return self+value.\n",
            " |  \n",
            " |  __contains__(self, key, /)\n",
            " |      Return key in self.\n",
            " |  \n",
            " |  __eq__(self, value, /)\n",
            " |      Return self==value.\n",
            " |  \n",
            " |  __format__(...)\n",
            " |      S.__format__(format_spec) -> str\n",
            " |      \n",
            " |      Return a formatted version of S as described by format_spec.\n",
            " |  \n",
            " |  __ge__(self, value, /)\n",
            " |      Return self>=value.\n",
            " |  \n",
            " |  __getattribute__(self, name, /)\n",
            " |      Return getattr(self, name).\n",
            " |  \n",
            " |  __getitem__(self, key, /)\n",
            " |      Return self[key].\n",
            " |  \n",
            " |  __getnewargs__(...)\n",
            " |  \n",
            " |  __gt__(self, value, /)\n",
            " |      Return self>value.\n",
            " |  \n",
            " |  __hash__(self, /)\n",
            " |      Return hash(self).\n",
            " |  \n",
            " |  __iter__(self, /)\n",
            " |      Implement iter(self).\n",
            " |  \n",
            " |  __le__(self, value, /)\n",
            " |      Return self<=value.\n",
            " |  \n",
            " |  __len__(self, /)\n",
            " |      Return len(self).\n",
            " |  \n",
            " |  __lt__(self, value, /)\n",
            " |      Return self<value.\n",
            " |  \n",
            " |  __mod__(self, value, /)\n",
            " |      Return self%value.\n",
            " |  \n",
            " |  __mul__(self, value, /)\n",
            " |      Return self*value.\n",
            " |  \n",
            " |  __ne__(self, value, /)\n",
            " |      Return self!=value.\n",
            " |  \n",
            " |  __new__(*args, **kwargs) from builtins.type\n",
            " |      Create and return a new object.  See help(type) for accurate signature.\n",
            " |  \n",
            " |  __repr__(self, /)\n",
            " |      Return repr(self).\n",
            " |  \n",
            " |  __rmod__(self, value, /)\n",
            " |      Return value%self.\n",
            " |  \n",
            " |  __rmul__(self, value, /)\n",
            " |      Return value*self.\n",
            " |  \n",
            " |  __sizeof__(...)\n",
            " |      S.__sizeof__() -> size of S in memory, in bytes\n",
            " |  \n",
            " |  __str__(self, /)\n",
            " |      Return str(self).\n",
            " |  \n",
            " |  capitalize(...)\n",
            " |      S.capitalize() -> str\n",
            " |      \n",
            " |      Return a capitalized version of S, i.e. make the first character\n",
            " |      have upper case and the rest lower case.\n",
            " |  \n",
            " |  casefold(...)\n",
            " |      S.casefold() -> str\n",
            " |      \n",
            " |      Return a version of S suitable for caseless comparisons.\n",
            " |  \n",
            " |  center(...)\n",
            " |      S.center(width[, fillchar]) -> str\n",
            " |      \n",
            " |      Return S centered in a string of length width. Padding is\n",
            " |      done using the specified fill character (default is a space)\n",
            " |  \n",
            " |  count(...)\n",
            " |      S.count(sub[, start[, end]]) -> int\n",
            " |      \n",
            " |      Return the number of non-overlapping occurrences of substring sub in\n",
            " |      string S[start:end].  Optional arguments start and end are\n",
            " |      interpreted as in slice notation.\n",
            " |  \n",
            " |  encode(...)\n",
            " |      S.encode(encoding='utf-8', errors='strict') -> bytes\n",
            " |      \n",
            " |      Encode S using the codec registered for encoding. Default encoding\n",
            " |      is 'utf-8'. errors may be given to set a different error\n",
            " |      handling scheme. Default is 'strict' meaning that encoding errors raise\n",
            " |      a UnicodeEncodeError. Other possible values are 'ignore', 'replace' and\n",
            " |      'xmlcharrefreplace' as well as any other name registered with\n",
            " |      codecs.register_error that can handle UnicodeEncodeErrors.\n",
            " |  \n",
            " |  endswith(...)\n",
            " |      S.endswith(suffix[, start[, end]]) -> bool\n",
            " |      \n",
            " |      Return True if S ends with the specified suffix, False otherwise.\n",
            " |      With optional start, test S beginning at that position.\n",
            " |      With optional end, stop comparing S at that position.\n",
            " |      suffix can also be a tuple of strings to try.\n",
            " |  \n",
            " |  expandtabs(...)\n",
            " |      S.expandtabs(tabsize=8) -> str\n",
            " |      \n",
            " |      Return a copy of S where all tab characters are expanded using spaces.\n",
            " |      If tabsize is not given, a tab size of 8 characters is assumed.\n",
            " |  \n",
            " |  find(...)\n",
            " |      S.find(sub[, start[, end]]) -> int\n",
            " |      \n",
            " |      Return the lowest index in S where substring sub is found,\n",
            " |      such that sub is contained within S[start:end].  Optional\n",
            " |      arguments start and end are interpreted as in slice notation.\n",
            " |      \n",
            " |      Return -1 on failure.\n",
            " |  \n",
            " |  format(...)\n",
            " |      S.format(*args, **kwargs) -> str\n",
            " |      \n",
            " |      Return a formatted version of S, using substitutions from args and kwargs.\n",
            " |      The substitutions are identified by braces ('{' and '}').\n",
            " |  \n",
            " |  format_map(...)\n",
            " |      S.format_map(mapping) -> str\n",
            " |      \n",
            " |      Return a formatted version of S, using substitutions from mapping.\n",
            " |      The substitutions are identified by braces ('{' and '}').\n",
            " |  \n",
            " |  index(...)\n",
            " |      S.index(sub[, start[, end]]) -> int\n",
            " |      \n",
            " |      Return the lowest index in S where substring sub is found, \n",
            " |      such that sub is contained within S[start:end].  Optional\n",
            " |      arguments start and end are interpreted as in slice notation.\n",
            " |      \n",
            " |      Raises ValueError when the substring is not found.\n",
            " |  \n",
            " |  isalnum(...)\n",
            " |      S.isalnum() -> bool\n",
            " |      \n",
            " |      Return True if all characters in S are alphanumeric\n",
            " |      and there is at least one character in S, False otherwise.\n",
            " |  \n",
            " |  isalpha(...)\n",
            " |      S.isalpha() -> bool\n",
            " |      \n",
            " |      Return True if all characters in S are alphabetic\n",
            " |      and there is at least one character in S, False otherwise.\n",
            " |  \n",
            " |  isdecimal(...)\n",
            " |      S.isdecimal() -> bool\n",
            " |      \n",
            " |      Return True if there are only decimal characters in S,\n",
            " |      False otherwise.\n",
            " |  \n",
            " |  isdigit(...)\n",
            " |      S.isdigit() -> bool\n",
            " |      \n",
            " |      Return True if all characters in S are digits\n",
            " |      and there is at least one character in S, False otherwise.\n",
            " |  \n",
            " |  isidentifier(...)\n",
            " |      S.isidentifier() -> bool\n",
            " |      \n",
            " |      Return True if S is a valid identifier according\n",
            " |      to the language definition.\n",
            " |      \n",
            " |      Use keyword.iskeyword() to test for reserved identifiers\n",
            " |      such as \"def\" and \"class\".\n",
            " |  \n",
            " |  islower(...)\n",
            " |      S.islower() -> bool\n",
            " |      \n",
            " |      Return True if all cased characters in S are lowercase and there is\n",
            " |      at least one cased character in S, False otherwise.\n",
            " |  \n",
            " |  isnumeric(...)\n",
            " |      S.isnumeric() -> bool\n",
            " |      \n",
            " |      Return True if there are only numeric characters in S,\n",
            " |      False otherwise.\n",
            " |  \n",
            " |  isprintable(...)\n",
            " |      S.isprintable() -> bool\n",
            " |      \n",
            " |      Return True if all characters in S are considered\n",
            " |      printable in repr() or S is empty, False otherwise.\n",
            " |  \n",
            " |  isspace(...)\n",
            " |      S.isspace() -> bool\n",
            " |      \n",
            " |      Return True if all characters in S are whitespace\n",
            " |      and there is at least one character in S, False otherwise.\n",
            " |  \n",
            " |  istitle(...)\n",
            " |      S.istitle() -> bool\n",
            " |      \n",
            " |      Return True if S is a titlecased string and there is at least one\n",
            " |      character in S, i.e. upper- and titlecase characters may only\n",
            " |      follow uncased characters and lowercase characters only cased ones.\n",
            " |      Return False otherwise.\n",
            " |  \n",
            " |  isupper(...)\n",
            " |      S.isupper() -> bool\n",
            " |      \n",
            " |      Return True if all cased characters in S are uppercase and there is\n",
            " |      at least one cased character in S, False otherwise.\n",
            " |  \n",
            " |  join(...)\n",
            " |      S.join(iterable) -> str\n",
            " |      \n",
            " |      Return a string which is the concatenation of the strings in the\n",
            " |      iterable.  The separator between elements is S.\n",
            " |  \n",
            " |  ljust(...)\n",
            " |      S.ljust(width[, fillchar]) -> str\n",
            " |      \n",
            " |      Return S left-justified in a Unicode string of length width. Padding is\n",
            " |      done using the specified fill character (default is a space).\n",
            " |  \n",
            " |  lower(...)\n",
            " |      S.lower() -> str\n",
            " |      \n",
            " |      Return a copy of the string S converted to lowercase.\n",
            " |  \n",
            " |  lstrip(...)\n",
            " |      S.lstrip([chars]) -> str\n",
            " |      \n",
            " |      Return a copy of the string S with leading whitespace removed.\n",
            " |      If chars is given and not None, remove characters in chars instead.\n",
            " |  \n",
            " |  partition(...)\n",
            " |      S.partition(sep) -> (head, sep, tail)\n",
            " |      \n",
            " |      Search for the separator sep in S, and return the part before it,\n",
            " |      the separator itself, and the part after it.  If the separator is not\n",
            " |      found, return S and two empty strings.\n",
            " |  \n",
            " |  replace(...)\n",
            " |      S.replace(old, new[, count]) -> str\n",
            " |      \n",
            " |      Return a copy of S with all occurrences of substring\n",
            " |      old replaced by new.  If the optional argument count is\n",
            " |      given, only the first count occurrences are replaced.\n",
            " |  \n",
            " |  rfind(...)\n",
            " |      S.rfind(sub[, start[, end]]) -> int\n",
            " |      \n",
            " |      Return the highest index in S where substring sub is found,\n",
            " |      such that sub is contained within S[start:end].  Optional\n",
            " |      arguments start and end are interpreted as in slice notation.\n",
            " |      \n",
            " |      Return -1 on failure.\n",
            " |  \n",
            " |  rindex(...)\n",
            " |      S.rindex(sub[, start[, end]]) -> int\n",
            " |      \n",
            " |      Return the highest index in S where substring sub is found,\n",
            " |      such that sub is contained within S[start:end].  Optional\n",
            " |      arguments start and end are interpreted as in slice notation.\n",
            " |      \n",
            " |      Raises ValueError when the substring is not found.\n",
            " |  \n",
            " |  rjust(...)\n",
            " |      S.rjust(width[, fillchar]) -> str\n",
            " |      \n",
            " |      Return S right-justified in a string of length width. Padding is\n",
            " |      done using the specified fill character (default is a space).\n",
            " |  \n",
            " |  rpartition(...)\n",
            " |      S.rpartition(sep) -> (head, sep, tail)\n",
            " |      \n",
            " |      Search for the separator sep in S, starting at the end of S, and return\n",
            " |      the part before it, the separator itself, and the part after it.  If the\n",
            " |      separator is not found, return two empty strings and S.\n",
            " |  \n",
            " |  rsplit(...)\n",
            " |      S.rsplit(sep=None, maxsplit=-1) -> list of strings\n",
            " |      \n",
            " |      Return a list of the words in S, using sep as the\n",
            " |      delimiter string, starting at the end of the string and\n",
            " |      working to the front.  If maxsplit is given, at most maxsplit\n",
            " |      splits are done. If sep is not specified, any whitespace string\n",
            " |      is a separator.\n",
            " |  \n",
            " |  rstrip(...)\n",
            " |      S.rstrip([chars]) -> str\n",
            " |      \n",
            " |      Return a copy of the string S with trailing whitespace removed.\n",
            " |      If chars is given and not None, remove characters in chars instead.\n",
            " |  \n",
            " |  split(...)\n",
            " |      S.split(sep=None, maxsplit=-1) -> list of strings\n",
            " |      \n",
            " |      Return a list of the words in S, using sep as the\n",
            " |      delimiter string.  If maxsplit is given, at most maxsplit\n",
            " |      splits are done. If sep is not specified or is None, any\n",
            " |      whitespace string is a separator and empty strings are\n",
            " |      removed from the result.\n",
            " |  \n",
            " |  splitlines(...)\n",
            " |      S.splitlines([keepends]) -> list of strings\n",
            " |      \n",
            " |      Return a list of the lines in S, breaking at line boundaries.\n",
            " |      Line breaks are not included in the resulting list unless keepends\n",
            " |      is given and true.\n",
            " |  \n",
            " |  startswith(...)\n",
            " |      S.startswith(prefix[, start[, end]]) -> bool\n",
            " |      \n",
            " |      Return True if S starts with the specified prefix, False otherwise.\n",
            " |      With optional start, test S beginning at that position.\n",
            " |      With optional end, stop comparing S at that position.\n",
            " |      prefix can also be a tuple of strings to try.\n",
            " |  \n",
            " |  strip(...)\n",
            " |      S.strip([chars]) -> str\n",
            " |      \n",
            " |      Return a copy of the string S with leading and trailing\n",
            " |      whitespace removed.\n",
            " |      If chars is given and not None, remove characters in chars instead.\n",
            " |  \n",
            " |  swapcase(...)\n",
            " |      S.swapcase() -> str\n",
            " |      \n",
            " |      Return a copy of S with uppercase characters converted to lowercase\n",
            " |      and vice versa.\n",
            " |  \n",
            " |  title(...)\n",
            " |      S.title() -> str\n",
            " |      \n",
            " |      Return a titlecased version of S, i.e. words start with title case\n",
            " |      characters, all remaining cased characters have lower case.\n",
            " |  \n",
            " |  translate(...)\n",
            " |      S.translate(table) -> str\n",
            " |      \n",
            " |      Return a copy of the string S in which each character has been mapped\n",
            " |      through the given translation table. The table must implement\n",
            " |      lookup/indexing via __getitem__, for instance a dictionary or list,\n",
            " |      mapping Unicode ordinals to Unicode ordinals, strings, or None. If\n",
            " |      this operation raises LookupError, the character is left untouched.\n",
            " |      Characters mapped to None are deleted.\n",
            " |  \n",
            " |  upper(...)\n",
            " |      S.upper() -> str\n",
            " |      \n",
            " |      Return a copy of S converted to uppercase.\n",
            " |  \n",
            " |  zfill(...)\n",
            " |      S.zfill(width) -> str\n",
            " |      \n",
            " |      Pad a numeric string S with zeros on the left, to fill a field\n",
            " |      of the specified width. The string S is never truncated.\n",
            " |  \n",
            " |  ----------------------------------------------------------------------\n",
            " |  Static methods defined here:\n",
            " |  \n",
            " |  maketrans(x, y=None, z=None, /)\n",
            " |      Return a translation table usable for str.translate().\n",
            " |      \n",
            " |      If there is only one argument, it must be a dictionary mapping Unicode\n",
            " |      ordinals (integers) or characters to Unicode ordinals, strings or None.\n",
            " |      Character keys will be then converted to ordinals.\n",
            " |      If there are two arguments, they must be strings of equal length, and\n",
            " |      in the resulting dictionary, each character in x will be mapped to the\n",
            " |      character at the same position in y. If there is a third argument, it\n",
            " |      must be a string, whose characters will be mapped to None in the result.\n",
            "\n"
          ],
          "name": "stdout"
        }
      ]
    },
    {
      "metadata": {
        "id": "28CFe4m7XYa9",
        "colab_type": "code",
        "colab": {
          "base_uri": "https://localhost:8080/",
          "height": 173
        },
        "outputId": "839f6f4a-9c48-4ff4-8bec-6a8f06370244"
      },
      "cell_type": "code",
      "source": [
        "#::GMG::Dictionaries (mutable)\n",
        "type({'emmanuelle': 5752, 'sebastian': 5578})\n",
        "tel = {'emmanuelle': 5752, 'sebastian': 5578}\n",
        "print(\"(tel, type, id, check type)\")\n",
        "display((tel, type(tel), id(tel), isinstance(tel, dict)))\n",
        "#::GMG::Mutable\n",
        "tel['francis'] = 5915\n",
        "tel['emmanuelle'] = 5009\n",
        "print(tel)\n",
        "#::GMG::Keys and Values\n",
        "display((tel.keys(), tel.values()))\n",
        "#::GMG::inclusion (in operator) and indexing by value\n",
        "print(\"Is francis in Tel?\", 'francis' in tel)\n",
        "print(\"The telephone number of francis is:\", tel['francis'])\n",
        "#::GMG::A dictionary can have keys (resp. values) with different types:\n",
        "d = {'a':1, 'b':2, 3:'hello'}\n",
        "print(\"Types in dict values:\",[type(i) for i in d.values()])\n",
        "print(\"Types in dict keys:\",[type(i) for i in d.keys()])\n"
      ],
      "execution_count": 5,
      "outputs": [
        {
          "output_type": "stream",
          "text": [
            "(tel, type, id, check type)\n"
          ],
          "name": "stdout"
        },
        {
          "output_type": "display_data",
          "data": {
            "text/plain": [
              "({'emmanuelle': 5752, 'sebastian': 5578}, dict, 140386821455736, True)"
            ]
          },
          "metadata": {
            "tags": []
          }
        },
        {
          "output_type": "stream",
          "text": [
            "{'emmanuelle': 5009, 'sebastian': 5578, 'francis': 5915}\n"
          ],
          "name": "stdout"
        },
        {
          "output_type": "display_data",
          "data": {
            "text/plain": [
              "(dict_keys(['emmanuelle', 'sebastian', 'francis']),\n",
              " dict_values([5009, 5578, 5915]))"
            ]
          },
          "metadata": {
            "tags": []
          }
        },
        {
          "output_type": "stream",
          "text": [
            "Is francis in Tel? True\n",
            "The telephone number of francis is: 5915\n",
            "Types in dict values: [<class 'int'>, <class 'int'>, <class 'str'>]\n",
            "Types in dict keys: [<class 'str'>, <class 'str'>, <class 'int'>]\n"
          ],
          "name": "stdout"
        }
      ]
    },
    {
      "metadata": {
        "id": "JkXJMxvJdvsd",
        "colab_type": "code",
        "colab": {
          "base_uri": "https://localhost:8080/",
          "height": 225
        },
        "outputId": "5fa7aecc-c648-4798-93c0-e2d637256b30"
      },
      "cell_type": "code",
      "source": [
        "#::GMG::Tuples (immutable)\n",
        "print(type((12345, 54321, 'hello!')))\n",
        "t = 12345, 54321, 'hello!',3-5j\n",
        "try:\n",
        "  t[0] = 1\n",
        "except TypeError:\n",
        "  print(\"t is a\", type(t), \"and is immutable!!\")\n",
        "print(\"(t, type, id, check type)\")\n",
        "display((t, type(t), id(t), isinstance(t, tuple)))\n",
        "#::GMG::indexing, slicing\n",
        "print(\"indexing -> (first, last, third)\")\n",
        "display((t[0], t[-1],t[2]))\n",
        "print(\"slicing -> (second to third, last three, first two, all even)\")\n",
        "display((t[1:3], t[1:], t[:-2], t[::2]))\n",
        "#::GMG::inclusion (in operator) also works in tuples\n",
        "print(\"is hello! in t?\", 'hello!' in t)"
      ],
      "execution_count": 6,
      "outputs": [
        {
          "output_type": "stream",
          "text": [
            "<class 'tuple'>\n",
            "t is a <class 'tuple'> and is immutable!!\n",
            "(t, type, id, check type)\n"
          ],
          "name": "stdout"
        },
        {
          "output_type": "display_data",
          "data": {
            "text/plain": [
              "((12345, 54321, 'hello!', (3-5j)), tuple, 140386818717080, True)"
            ]
          },
          "metadata": {
            "tags": []
          }
        },
        {
          "output_type": "stream",
          "text": [
            "indexing -> (first, last, third)\n"
          ],
          "name": "stdout"
        },
        {
          "output_type": "display_data",
          "data": {
            "text/plain": [
              "(12345, (3-5j), 'hello!')"
            ]
          },
          "metadata": {
            "tags": []
          }
        },
        {
          "output_type": "stream",
          "text": [
            "slicing -> (second to third, last three, first two, all even)\n"
          ],
          "name": "stdout"
        },
        {
          "output_type": "display_data",
          "data": {
            "text/plain": [
              "((54321, 'hello!'),\n",
              " (54321, 'hello!', (3-5j)),\n",
              " (12345, 54321),\n",
              " (12345, 'hello!'))"
            ]
          },
          "metadata": {
            "tags": []
          }
        },
        {
          "output_type": "stream",
          "text": [
            "is hello! in t? True\n"
          ],
          "name": "stdout"
        }
      ]
    },
    {
      "metadata": {
        "id": "jUxHmHhyn5y9",
        "colab_type": "code",
        "colab": {
          "base_uri": "https://localhost:8080/",
          "height": 87
        },
        "outputId": "42bdeb75-e94a-494e-fc4a-a95223c209ad"
      },
      "cell_type": "code",
      "source": [
        "#::GMG::Sets\n",
        "#::GMG::repeated elements are silently dropped! \n",
        "ss = set(('a', 'b', 'c', 'a'))\n",
        "print(\"(set, type, id, check type)\")\n",
        "display((ss, type(ss), id(ss), isinstance(ss, set)))\n",
        "#::GMG::Methods and attributes\n",
        "dir(ss)\n",
        "#::GMG::Operations\n",
        "print(\"set\\\\('a','b'):\",ss.difference(('a','b')))\n",
        "#::GMG:: see https://www.fileformat.info/info/unicode/char/2229/index.htm\n",
        "print(\"set \\N{INTERSECTION} ('a','d'):\",ss.intersection(('a','d')))"
      ],
      "execution_count": 7,
      "outputs": [
        {
          "output_type": "stream",
          "text": [
            "(set, type, id, check type)\n"
          ],
          "name": "stdout"
        },
        {
          "output_type": "display_data",
          "data": {
            "text/plain": [
              "({'a', 'b', 'c'}, set, 140386818578472, True)"
            ]
          },
          "metadata": {
            "tags": []
          }
        },
        {
          "output_type": "stream",
          "text": [
            "set\\('a','b'): {'c'}\n",
            "set ∩ ('a','d'): {'a'}\n"
          ],
          "name": "stdout"
        }
      ]
    },
    {
      "metadata": {
        "id": "G0UrVQKuUQ_P",
        "colab_type": "text"
      },
      "cell_type": "markdown",
      "source": [
        "#### Assignment operator\n",
        "\n",
        "(re)bind names to values (more than one bind, list indexing/slicing in-place changes, )\n",
        "\n",
        "modifiy attributes or items of mutable objects\n",
        "\n",
        "a single object can have several names bound to it\n",
        "\n",
        "to change a list in place, use indexing/slices\n"
      ]
    },
    {
      "metadata": {
        "id": "MsXpqQ2ZUSqd",
        "colab_type": "code",
        "colab": {
          "base_uri": "https://localhost:8080/",
          "height": 277
        },
        "outputId": "3b253f7f-5791-430f-cbab-92d6aaed83c6"
      },
      "cell_type": "code",
      "source": [
        "#::GMG::a single object can have several names bound to it\n",
        "a = [1, 2, 3]\n",
        "print(\"(a, type, id, check type)\")\n",
        "display((a, type(a), id(a), isinstance(a, list)))\n",
        "b = a\n",
        "print(\"(b, type, id, check type)\")\n",
        "display((b, type(b), id(b), isinstance(b, list)))\n",
        "print(\"... so b and a are references to the list object\", a)\n",
        "print(\"and a is b:\", a is b)\n",
        "print(\"the object list is mutable so if we change b then we also change a!\")\n",
        "b[1] = 'hi!'\n",
        "print(\"(a,b) after b[1] -> 'hi'\")\n",
        "display((a,b))\n",
        "#::GMG::to change a list in place, use indexing/slices\n",
        "a = ['a', 'b', 'c'] # Creates another object.\n",
        "display(('new object', a, type(a), id(a), isinstance(a, list)))\n",
        "a[:] = [1, 2, 3] # Modifies object in place.\n",
        "display(('in place with slicing [:]', a, type(a), id(a), isinstance(a, list)))\n",
        "print('''takeaway: \n",
        "mutable objects can be changed in place \n",
        "and\n",
        "immutable objects cannot be modified once created''')"
      ],
      "execution_count": 8,
      "outputs": [
        {
          "output_type": "stream",
          "text": [
            "(a, type, id, check type)\n"
          ],
          "name": "stdout"
        },
        {
          "output_type": "display_data",
          "data": {
            "text/plain": [
              "([1, 2, 3], list, 140386818728840, True)"
            ]
          },
          "metadata": {
            "tags": []
          }
        },
        {
          "output_type": "stream",
          "text": [
            "(b, type, id, check type)\n"
          ],
          "name": "stdout"
        },
        {
          "output_type": "display_data",
          "data": {
            "text/plain": [
              "([1, 2, 3], list, 140386818728840, True)"
            ]
          },
          "metadata": {
            "tags": []
          }
        },
        {
          "output_type": "stream",
          "text": [
            "... so b and a are references to the list object [1, 2, 3]\n",
            "and a is b: True\n",
            "the object list is mutable so if we change b then we also change a!\n",
            "(a,b) after b[1] -> 'hi'\n"
          ],
          "name": "stdout"
        },
        {
          "output_type": "display_data",
          "data": {
            "text/plain": [
              "([1, 'hi!', 3], [1, 'hi!', 3])"
            ]
          },
          "metadata": {
            "tags": []
          }
        },
        {
          "output_type": "display_data",
          "data": {
            "text/plain": [
              "('new object', ['a', 'b', 'c'], list, 140386818592072, True)"
            ]
          },
          "metadata": {
            "tags": []
          }
        },
        {
          "output_type": "display_data",
          "data": {
            "text/plain": [
              "('in place with slicing [:]', [1, 2, 3], list, 140386818592072, True)"
            ]
          },
          "metadata": {
            "tags": []
          }
        },
        {
          "output_type": "stream",
          "text": [
            "takeaway: \n",
            "mutable objects can be changed in place \n",
            "and\n",
            "immutable objects cannot be modified once created\n"
          ],
          "name": "stdout"
        }
      ]
    },
    {
      "metadata": {
        "id": "5dPs-fDfyniJ",
        "colab_type": "text"
      },
      "cell_type": "markdown",
      "source": [
        "**See also**: A very good and detailed explanation of the above issues can be found in David M. Beazley’s article [Types and Objects in Python](http://www.informit.com/articles/article.aspx?p=453682). "
      ]
    },
    {
      "metadata": {
        "id": "IYvV8EcH2V1v",
        "colab_type": "text"
      },
      "cell_type": "markdown",
      "source": [
        "### ::[GMG]::Control Flow"
      ]
    },
    {
      "metadata": {
        "id": "w3q0ZniZ3jra",
        "colab_type": "text"
      },
      "cell_type": "markdown",
      "source": [
        "#### if/elif/else"
      ]
    },
    {
      "metadata": {
        "id": "XOx6AtTz3ta9",
        "colab_type": "code",
        "colab": {
          "base_uri": "https://localhost:8080/",
          "height": 52
        },
        "outputId": "07891d34-434f-4170-b2c6-167e28d58bc6"
      },
      "cell_type": "code",
      "source": [
        "#::GMG::Basics, identation\n",
        "if 2**2 == 4:\n",
        "    print('Obvious!')\n",
        "#::GMG::Blocks are delimited by indentation\n",
        "a = 10\n",
        "if a == 1:\n",
        "    print(1)\n",
        "elif a == 2:\n",
        "    print(2)\n",
        "else:\n",
        "    print('A lot')"
      ],
      "execution_count": 9,
      "outputs": [
        {
          "output_type": "stream",
          "text": [
            "Obvious!\n",
            "A lot\n"
          ],
          "name": "stdout"
        }
      ]
    },
    {
      "metadata": {
        "id": "5x6Ql_rX3UZ8",
        "colab_type": "text"
      },
      "cell_type": "markdown",
      "source": [
        "#### for/range"
      ]
    },
    {
      "metadata": {
        "id": "r_ebh30N4j8a",
        "colab_type": "code",
        "colab": {
          "base_uri": "https://localhost:8080/",
          "height": 139
        },
        "outputId": "feee2f1c-7830-43d7-c32c-448c80a56771"
      },
      "cell_type": "code",
      "source": [
        "#::GMG::Iterating with an index\n",
        "for i in range(4):\n",
        "    print(i)\n",
        "#::GMG::Pythonically iterate over values\n",
        "for word in ('cool', 'powerful', 'readable'):\n",
        "    print('Python is %s' % word)"
      ],
      "execution_count": 10,
      "outputs": [
        {
          "output_type": "stream",
          "text": [
            "0\n",
            "1\n",
            "2\n",
            "3\n",
            "Python is cool\n",
            "Python is powerful\n",
            "Python is readable\n"
          ],
          "name": "stdout"
        }
      ]
    },
    {
      "metadata": {
        "id": "7yduFnH03P0n",
        "colab_type": "text"
      },
      "cell_type": "markdown",
      "source": [
        "#### while/break/continue"
      ]
    },
    {
      "metadata": {
        "id": "jU8LURPV6RWP",
        "colab_type": "code",
        "colab": {
          "base_uri": "https://localhost:8080/",
          "height": 243
        },
        "outputId": "529a6563-f22e-4341-e605-b82808e138eb"
      },
      "cell_type": "code",
      "source": [
        "#::GMG::C-style while loop (Mandelbrot problem)\n",
        "#       see https://en.wikipedia.org/wiki/Mandelbrot_set\n",
        "count = 0\n",
        "z = 1 + 1j\n",
        "while abs(z) < 100:\n",
        "    z = z**2 + 1\n",
        "    count+=1\n",
        "    print(count, \":\", z)\n",
        "print(\"resultado:\",z)\n",
        "#::GMG::break feature\n",
        "count = 0\n",
        "z = 1 + 1j\n",
        "while abs(z) < 100:\n",
        "    if z.imag == 0:\n",
        "        break\n",
        "    z = z**2 + 1\n",
        "    count+=1\n",
        "    print(count, \":\", z)\n",
        "print(\"resultado:\",z)\n",
        "#::GMG::continue feaure (avoid exception)\n",
        "a = [1, 0, 2, 4]\n",
        "for element in a:\n",
        "    if element == 0:\n",
        "        continue\n",
        "    print(1. / element)"
      ],
      "execution_count": 11,
      "outputs": [
        {
          "output_type": "stream",
          "text": [
            "1 : (1+2j)\n",
            "2 : (-2+4j)\n",
            "3 : (-11-16j)\n",
            "4 : (-134+352j)\n",
            "resultado: (-134+352j)\n",
            "1 : (1+2j)\n",
            "2 : (-2+4j)\n",
            "3 : (-11-16j)\n",
            "4 : (-134+352j)\n",
            "resultado: (-134+352j)\n",
            "1.0\n",
            "0.5\n",
            "0.25\n"
          ],
          "name": "stdout"
        }
      ]
    },
    {
      "metadata": {
        "id": "SZsxVC-H3LIt",
        "colab_type": "text"
      },
      "cell_type": "markdown",
      "source": [
        "#### Conditional Expressions"
      ]
    },
    {
      "metadata": {
        "id": "O20y1hOf9l0S",
        "colab_type": "code",
        "colab": {
          "base_uri": "https://localhost:8080/",
          "height": 225
        },
        "outputId": "a9f26464-b873-46d1-81c2-b5ae07be6a5e"
      },
      "cell_type": "code",
      "source": [
        "#::GMG::False/True object evaluation (if object)\n",
        "#::GMG::Evaluates to False\n",
        "a = 0\n",
        "b = 0.\n",
        "c = 0+0j\n",
        "l = []\n",
        "t = ()\n",
        "d = {}\n",
        "s = set()\n",
        "ss = \"\"\n",
        "f = False\n",
        "n = None\n",
        "display((type(a), type(b), type(c), type(l), type(t), type(d), \\\n",
        "         type(s), type(ss), type(f), type(n)))\n",
        "if (a or b or c or l or t or d or s or f or n):\n",
        "  print(True)\n",
        "else:\n",
        "  print(False)\n",
        "  \n",
        "#::GMG::Test equality (==)\n",
        "print(\"Numeric Types, False, None\")\n",
        "g = False\n",
        "nn = None\n",
        "display((a == b, a == c, b == c, 1 == 1., f == g, n == nn, f == n))\n",
        "print(\"Collections, Containers\")\n",
        "tt=\"\"\n",
        "display((ss == tt, l == t, l == d, t == d, 1 == s, t == s, d == s))\n",
        "\n",
        "#::GMG::Test identity (is)\n",
        "print(\"Numeric Types, False, None\")\n",
        "display((a is b, a is c, b is c, 1 is 1., f is g, n is nn, f is n))\n",
        "print(\"Collections, Containers\")\n",
        "display((ss is tt, l is t, l is d, t is d, 1 is s, t is s, d is s))\n",
        "\n",
        "#::GMG::Test containment (in) collections and dictionaries\n",
        "#       a in b: For any collection b: b contains a\n",
        "ll = [1,2,3]\n",
        "display((type(ll), 1 in ll, 5 in ll))\n",
        "\n",
        "dd = {'a':1, 'b':2}\n",
        "display((type(dd), dd.keys(), dd.values(), 'a' in dd, 1 in dd))"
      ],
      "execution_count": 12,
      "outputs": [
        {
          "output_type": "display_data",
          "data": {
            "text/plain": [
              "(int, float, complex, list, tuple, dict, set, str, bool, NoneType)"
            ]
          },
          "metadata": {
            "tags": []
          }
        },
        {
          "output_type": "stream",
          "text": [
            "False\n",
            "Numeric Types, False, None\n"
          ],
          "name": "stdout"
        },
        {
          "output_type": "display_data",
          "data": {
            "text/plain": [
              "(True, True, True, True, True, True, False)"
            ]
          },
          "metadata": {
            "tags": []
          }
        },
        {
          "output_type": "stream",
          "text": [
            "Collections, Containers\n"
          ],
          "name": "stdout"
        },
        {
          "output_type": "display_data",
          "data": {
            "text/plain": [
              "(True, False, False, False, False, False, False)"
            ]
          },
          "metadata": {
            "tags": []
          }
        },
        {
          "output_type": "stream",
          "text": [
            "Numeric Types, False, None\n"
          ],
          "name": "stdout"
        },
        {
          "output_type": "display_data",
          "data": {
            "text/plain": [
              "(False, False, False, False, True, True, False)"
            ]
          },
          "metadata": {
            "tags": []
          }
        },
        {
          "output_type": "stream",
          "text": [
            "Collections, Containers\n"
          ],
          "name": "stdout"
        },
        {
          "output_type": "display_data",
          "data": {
            "text/plain": [
              "(True, False, False, False, False, False, False)"
            ]
          },
          "metadata": {
            "tags": []
          }
        },
        {
          "output_type": "display_data",
          "data": {
            "text/plain": [
              "(list, True, False)"
            ]
          },
          "metadata": {
            "tags": []
          }
        },
        {
          "output_type": "display_data",
          "data": {
            "text/plain": [
              "(dict, dict_keys(['a', 'b']), dict_values([1, 2]), True, False)"
            ]
          },
          "metadata": {
            "tags": []
          }
        }
      ]
    },
    {
      "metadata": {
        "id": "6zKYzEyE2_oi",
        "colab_type": "text"
      },
      "cell_type": "markdown",
      "source": [
        "#### Advanced iteration"
      ]
    },
    {
      "metadata": {
        "id": "0SRO-OdRgTja",
        "colab_type": "text"
      },
      "cell_type": "markdown",
      "source": [
        "With Python it is possible to loop exactly over the objects of interest without bothering with indices you often don’t care about. This feature can often be used to make code more readable. **BUT**  It's _not safe_ to __modify the sequence__ you are iterating over."
      ]
    },
    {
      "metadata": {
        "id": "PEy5vNHSerWS",
        "colab_type": "code",
        "colab": {
          "base_uri": "https://localhost:8080/",
          "height": 381
        },
        "outputId": "6a05978d-d609-47cf-b361-343616f57489"
      },
      "cell_type": "code",
      "source": [
        "#::GMG::Iterate over any sequence\n",
        "#       (string, list, keys in a dictionary, lines in a file, …)\n",
        "vowels = 'aeiouy'\n",
        "for i in 'powerful':\n",
        "    if i in vowels:\n",
        "        print(i)\n",
        "\n",
        "message = \"Hello how are you?\"\n",
        "print(\"Split a string into a list of words\")\n",
        "display((message, message.split()))\n",
        "for word in message.split():\n",
        "    print(word)\n",
        "\n",
        "#::GMG::Keeping track of enumeration number\n",
        "#       iterate over a sequence while keeping track of the item number:\n",
        "words = ('cool', 'powerful', 'readable')\n",
        "display((\"iterating\", type(words), words))\n",
        "for i in range(0, len(words)):\n",
        "  print((i, words[i]))\n",
        "#       Python provides a built-in function - enumerate - for this\n",
        "print(\"Pythonic way (built-in enumerate())...\")\n",
        "for index, item in enumerate(words):\n",
        "    print((index, item))\n",
        "    \n",
        "#::GMG::Looping over a dictionary with items()\n",
        "#       print string formatting example, old syle, as a bonus :)\n",
        "#       see: https://pyformat.info/\n",
        "d = {'a': 1, 'b':1.2, 'c':1j}\n",
        "display((\"iteraring items()\",type(d),d))\n",
        "for key, val in sorted(d.items()):\n",
        "  #print('Key: %s has value: %s' % (key, val)) #old syle\n",
        "  print('Key {0} has value: {1}'.format(key,val)) #new style\n"
      ],
      "execution_count": 13,
      "outputs": [
        {
          "output_type": "stream",
          "text": [
            "o\n",
            "e\n",
            "u\n",
            "Split a string into a list of words\n"
          ],
          "name": "stdout"
        },
        {
          "output_type": "display_data",
          "data": {
            "text/plain": [
              "('Hello how are you?', ['Hello', 'how', 'are', 'you?'])"
            ]
          },
          "metadata": {
            "tags": []
          }
        },
        {
          "output_type": "stream",
          "text": [
            "Hello\n",
            "how\n",
            "are\n",
            "you?\n"
          ],
          "name": "stdout"
        },
        {
          "output_type": "display_data",
          "data": {
            "text/plain": [
              "('iterating', tuple, ('cool', 'powerful', 'readable'))"
            ]
          },
          "metadata": {
            "tags": []
          }
        },
        {
          "output_type": "stream",
          "text": [
            "(0, 'cool')\n",
            "(1, 'powerful')\n",
            "(2, 'readable')\n",
            "Pythonic way (built-in enumerate())...\n",
            "(0, 'cool')\n",
            "(1, 'powerful')\n",
            "(2, 'readable')\n"
          ],
          "name": "stdout"
        },
        {
          "output_type": "display_data",
          "data": {
            "text/plain": [
              "('iteraring items()', dict, {'a': 1, 'b': 1.2, 'c': 1j})"
            ]
          },
          "metadata": {
            "tags": []
          }
        },
        {
          "output_type": "stream",
          "text": [
            "Key a has value: 1\n",
            "Key b has value: 1.2\n",
            "Key c has value: 1j\n"
          ],
          "name": "stdout"
        }
      ]
    },
    {
      "metadata": {
        "id": "grB1nP1ykcti",
        "colab_type": "text"
      },
      "cell_type": "markdown",
      "source": [
        "*NOTE*: The ordering of a dictionary is random, thus we use `sorted()` which will sort on the keys\n",
        "\n",
        "**::GMG::** More on [Loop better: A deeper look at iteration in Python](https://opensource.com/article/18/3/loop-better-deeper-look-iteration-python) at [OpenSource](https://opensource.com)"
      ]
    },
    {
      "metadata": {
        "id": "2U70llSG2gHA",
        "colab_type": "text"
      },
      "cell_type": "markdown",
      "source": [
        "#### List Comprehensions"
      ]
    },
    {
      "metadata": {
        "id": "-TEjMrv0o2lb",
        "colab_type": "code",
        "colab": {
          "base_uri": "https://localhost:8080/",
          "height": 35
        },
        "outputId": "940699a7-1045-4fc4-b044-4a6aa58aad17"
      },
      "cell_type": "code",
      "source": [
        "[i**2 for i in range(4)]"
      ],
      "execution_count": 14,
      "outputs": [
        {
          "output_type": "execute_result",
          "data": {
            "text/plain": [
              "[0, 1, 4, 9]"
            ]
          },
          "metadata": {
            "tags": []
          },
          "execution_count": 14
        }
      ]
    },
    {
      "metadata": {
        "id": "t7dDkRQ2stnZ",
        "colab_type": "text"
      },
      "cell_type": "markdown",
      "source": [
        "### ::[GMG]::Defining Functions"
      ]
    },
    {
      "metadata": {
        "id": "_eIuEl8ctycL",
        "colab_type": "text"
      },
      "cell_type": "markdown",
      "source": [
        "#### Function definition"
      ]
    },
    {
      "metadata": {
        "id": "6NgrXbMIt-N_",
        "colab_type": "code",
        "colab": {
          "base_uri": "https://localhost:8080/",
          "height": 87
        },
        "outputId": "45ce7664-b7c5-4bb1-9a57-a06d477adf81"
      },
      "cell_type": "code",
      "source": [
        "#::GMG::Mind the identation(!)\n",
        "def test():\n",
        "  print(\"in test function\")\n",
        "\n",
        "print(\"::GMG::test is a function object that returns None (NoneType)\")\n",
        "display((test, test(), type(test), type(test())))"
      ],
      "execution_count": 15,
      "outputs": [
        {
          "output_type": "stream",
          "text": [
            "::GMG::test is a function object that returns None (NoneType)\n",
            "in test function\n",
            "in test function\n"
          ],
          "name": "stdout"
        },
        {
          "output_type": "display_data",
          "data": {
            "text/plain": [
              "(<function __main__.test>, None, function, NoneType)"
            ]
          },
          "metadata": {
            "tags": []
          }
        }
      ]
    },
    {
      "metadata": {
        "id": "pF3ecJGmtudn",
        "colab_type": "text"
      },
      "cell_type": "markdown",
      "source": [
        "#### Return statement"
      ]
    },
    {
      "metadata": {
        "id": "KgQLMYS4wPZK",
        "colab_type": "text"
      },
      "cell_type": "markdown",
      "source": [
        "Functions can _optionally_ return values.  By default, functions return `None`. (See above)\n",
        "\n",
        "Note the syntax to define a function:\n",
        "\n",
        "  - the `def` keyword;\n",
        "  - is followed by the function’s **name**, then\n",
        "  - the arguments of the function are given between parentheses followed by a colon.\n",
        "  - the function body;\n",
        "  - and `return object` for optionally returning values."
      ]
    },
    {
      "metadata": {
        "id": "aYoh2Gn9vF6z",
        "colab_type": "code",
        "colab": {
          "base_uri": "https://localhost:8080/",
          "height": 35
        },
        "outputId": "50362be4-4587-4666-81bc-457a89895cd8"
      },
      "cell_type": "code",
      "source": [
        "#::GMG::A proper function with an argument and a return object\n",
        "def disk_area(radius):\n",
        "     return 3.14 * radius**2\n",
        "  \n",
        "display((disk_area, disk_area(1.5), type(disk_area), type(disk_area(1.5))))"
      ],
      "execution_count": 16,
      "outputs": [
        {
          "output_type": "display_data",
          "data": {
            "text/plain": [
              "(<function __main__.disk_area>, 7.065, function, float)"
            ]
          },
          "metadata": {
            "tags": []
          }
        }
      ]
    },
    {
      "metadata": {
        "id": "YKp1sT0Ttrgt",
        "colab_type": "text"
      },
      "cell_type": "markdown",
      "source": [
        "#### Parameters"
      ]
    },
    {
      "metadata": {
        "id": "gmhBVLt7yAWJ",
        "colab_type": "code",
        "colab": {
          "base_uri": "https://localhost:8080/",
          "height": 104
        },
        "outputId": "64d361df-a7e1-4758-c29f-32eff3ddd880"
      },
      "cell_type": "code",
      "source": [
        "#::GMG::Mandatory (positional arguments)\n",
        "def double_it(x):\n",
        "     return x * 2\n",
        "\n",
        "display((double_it, type(double_it), double_it(2), type(double_it(2))))\n",
        "\n",
        "print(\"Say, we call double_it(), i.e. without any argument ...\")\n",
        "try:\n",
        "  a = double_it()\n",
        "  print(a)\n",
        "except TypeError:\n",
        "  print(\"oops! Didn't tell me the number you want to double :)\")\n",
        "\n",
        "#::GMG::Optional parameters (keyword or named arguments) with default value\n",
        "def double_it(x=2):\n",
        "     return x * 2\n",
        "  \n",
        "try:\n",
        "  a = double_it()\n",
        "  print('double_it() returned %d' % a)\n",
        "  b = double_it(3)\n",
        "  print('double_it(3) returned %d' % b)\n",
        "except TypeError:\n",
        "  print(\"oops! Didn't tell me the number you want to double :)\")\n"
      ],
      "execution_count": 17,
      "outputs": [
        {
          "output_type": "display_data",
          "data": {
            "text/plain": [
              "(<function __main__.double_it>, function, 4, int)"
            ]
          },
          "metadata": {
            "tags": []
          }
        },
        {
          "output_type": "stream",
          "text": [
            "Say, we call double_it(), i.e. without any argument ...\n",
            "oops! Didn't tell me the number you want to double :)\n",
            "double_it() returned 4\n",
            "double_it(3) returned 6\n"
          ],
          "name": "stdout"
        }
      ]
    },
    {
      "metadata": {
        "id": "k0pQz8bO3pVf",
        "colab_type": "text"
      },
      "cell_type": "markdown",
      "source": [
        "Keyword arguments allow you to specify *default values*.\n",
        "\n",
        " Default values are evaluated **when the function is defined**, not when it is called. This can be problematic when using *mutable types* (e.g. dictionary or list) and modifying them in the function body, since the modifications **will be persistent across invocations** of the function"
      ]
    },
    {
      "metadata": {
        "id": "Lxtol5eO35J2",
        "colab_type": "code",
        "colab": {
          "base_uri": "https://localhost:8080/",
          "height": 35
        },
        "outputId": "b442152f-fab5-4435-a889-0a6f8d0e34b2"
      },
      "cell_type": "code",
      "source": [
        "#::GMG::Using an immutable type in a keyword argument\n",
        "bigx = 10\n",
        "\n",
        "def double_it(x=bigx):\n",
        "     return x * 2\n",
        "  \n",
        "bigx = 1e9  # Now really big\n",
        "\n",
        "display((bigx, double_it()))"
      ],
      "execution_count": 18,
      "outputs": [
        {
          "output_type": "display_data",
          "data": {
            "text/plain": [
              "(1000000000.0, 20)"
            ]
          },
          "metadata": {
            "tags": []
          }
        }
      ]
    },
    {
      "metadata": {
        "id": "Srl7pWgN4gqM",
        "colab_type": "code",
        "colab": {
          "base_uri": "https://localhost:8080/",
          "height": 87
        },
        "outputId": "11bb10c5-111d-43e4-bde6-111e61588d85"
      },
      "cell_type": "code",
      "source": [
        "#::GMG::Using an mutable type in a keyword argument (and modifying it inside the function body)\n",
        "def add_to_dict(args={'a': 1, 'b': 2}):\n",
        "     for i in args.keys():\n",
        "         args[i] += 1\n",
        "     return args\n",
        "\n",
        "print(\"Not a call:\", add_to_dict)\n",
        "print(\"1st call:\", add_to_dict())\n",
        "print(\"2nd call:\", add_to_dict())\n",
        "print(\"3rd call:\", add_to_dict())\n"
      ],
      "execution_count": 19,
      "outputs": [
        {
          "output_type": "stream",
          "text": [
            "Not a call: <function add_to_dict at 0x7fae5a7580d0>\n",
            "1st call: {'a': 2, 'b': 3}\n",
            "2nd call: {'a': 3, 'b': 4}\n",
            "3rd call: {'a': 4, 'b': 5}\n"
          ],
          "name": "stdout"
        }
      ]
    },
    {
      "metadata": {
        "id": "a3lReamy6ro1",
        "colab_type": "code",
        "colab": {
          "base_uri": "https://localhost:8080/",
          "height": 208
        },
        "outputId": "93ee480d-93d1-4530-9061-877ace541eff"
      },
      "cell_type": "code",
      "source": [
        "#::GMG::slicer example\n",
        "def slicer(seq, start=None, stop=None, step=None):\n",
        "  \"\"\"Implement the basic python slicer.\"\"\"\n",
        "  return seq[start:stop:step]\n",
        "\n",
        "rhyme = 'one fish, two fish, red fish, blue fish'.split()\n",
        "display((rhyme, slicer(rhyme), slicer(rhyme, step=2), \\\n",
        "         slicer(rhyme, 1, step=2), \\\n",
        "         slicer(rhyme, start=1, stop = 4, step=2)))\n",
        "#::GMG::The order of the keyword doesn't matter ... as ling as you name it!\n",
        "print(slicer(rhyme, step=2, start=1, stop = 4))\n",
        "#::GMG::The triple \" string is a Docstring and it's used like this\n",
        "help(slicer)"
      ],
      "execution_count": 20,
      "outputs": [
        {
          "output_type": "display_data",
          "data": {
            "text/plain": [
              "(['one', 'fish,', 'two', 'fish,', 'red', 'fish,', 'blue', 'fish'],\n",
              " ['one', 'fish,', 'two', 'fish,', 'red', 'fish,', 'blue', 'fish'],\n",
              " ['one', 'two', 'red', 'blue'],\n",
              " ['fish,', 'fish,', 'fish,', 'fish'],\n",
              " ['fish,', 'fish,'])"
            ]
          },
          "metadata": {
            "tags": []
          }
        },
        {
          "output_type": "stream",
          "text": [
            "['fish,', 'fish,']\n",
            "Help on function slicer in module __main__:\n",
            "\n",
            "slicer(seq, start=None, stop=None, step=None)\n",
            "    Implement the basic python slicer.\n",
            "\n"
          ],
          "name": "stdout"
        }
      ]
    },
    {
      "metadata": {
        "id": "6ldXzIL76dbx",
        "colab_type": "text"
      },
      "cell_type": "markdown",
      "source": [
        "*Keyword arguments* are a very convenient feature for defining functions with a **variable number of arguments**, especially when default values are to be used in most calls to the function."
      ]
    },
    {
      "metadata": {
        "id": "gq53GwwStgcQ",
        "colab_type": "text"
      },
      "cell_type": "markdown",
      "source": [
        "#### Passing by value"
      ]
    },
    {
      "metadata": {
        "id": "q6_zV-Nl-gcF",
        "colab_type": "text"
      },
      "cell_type": "markdown",
      "source": [
        "Parameters to functions are *references to objects*, which are passed by value. When you pass a variable to a function, python passes **the reference to the object** to which the variable refers (the value). Not the variable itself.\n",
        "\n",
        "If the value passed in a function is **immutable**, the function *does not modify* the caller’s variable. If the value is **mutable**, the function *may modify* the caller’s variable in-place.\n",
        "\n",
        "Functions have a local variable table called a *local namespace*.\n",
        "\n",
        "::GMG::See [What's the difference between globals(), locals(), and vars()?](https://stackoverflow.com/questions/7969949/whats-the-difference-between-globals-locals-and-vars)\n",
        "\n",
        "The variable x only exists *within* the function `try_to_modify`."
      ]
    },
    {
      "metadata": {
        "id": "2Yf24nF6-KTm",
        "colab_type": "code",
        "colab": {
          "base_uri": "https://localhost:8080/",
          "height": 104
        },
        "outputId": "ab2f8ff2-72c0-4118-beca-2cbf7eb8fd2a"
      },
      "cell_type": "code",
      "source": [
        "def try_to_modify(x, y, z):\n",
        "    print(\"Local namespace\", locals())\n",
        "    x = 23\n",
        "    y.append(42)\n",
        "    z = [99] # new reference\n",
        "    print(x)\n",
        "    print(y)\n",
        "    print(z)\n",
        "    \n",
        "    \n",
        "a = 27     #immutable\n",
        "b = [99]   #muttable\n",
        "c = 'hola' #immutable\n",
        "\n",
        "display((a, type(a), b, type(b), c, type(c)))\n",
        "\n",
        "try_to_modify(a,b,c)\n"
      ],
      "execution_count": 21,
      "outputs": [
        {
          "output_type": "display_data",
          "data": {
            "text/plain": [
              "(27, int, [99], list, 'hola', str)"
            ]
          },
          "metadata": {
            "tags": []
          }
        },
        {
          "output_type": "stream",
          "text": [
            "Local namespace {'z': 'hola', 'y': [99], 'x': 27}\n",
            "23\n",
            "[99, 42]\n",
            "[99]\n"
          ],
          "name": "stdout"
        }
      ]
    },
    {
      "metadata": {
        "id": "_qogLvbYtdni",
        "colab_type": "text"
      },
      "cell_type": "markdown",
      "source": [
        "#### Global variables"
      ]
    },
    {
      "metadata": {
        "id": "eD1_WVOeCmF1",
        "colab_type": "text"
      },
      "cell_type": "markdown",
      "source": [
        "Variables declared outside the function can be referenced within the function.\n",
        "\n",
        "But these “global” variables cannot be modified within the function, unless declared `globa`l in the function."
      ]
    },
    {
      "metadata": {
        "id": "l8S4MMuWCsQ1",
        "colab_type": "code",
        "colab": {
          "base_uri": "https://localhost:8080/",
          "height": 69
        },
        "outputId": "ef99dca0-dc9c-48dd-a6ce-43967986c839"
      },
      "cell_type": "code",
      "source": [
        "x = 5\n",
        "\n",
        "def addx(y):\n",
        "  return x + y\n",
        "\n",
        "display((x, addx(10)))\n",
        "\n",
        "def setx(y):\n",
        "  x = y\n",
        "  return 'x is %d' % x\n",
        "      \n",
        "display((setx(10),x))\n",
        "\n",
        "def setgx(y):\n",
        "  global x\n",
        "  x = y\n",
        "  return 'x is %d' % x\n",
        "\n",
        "display((setgx(10),x))\n"
      ],
      "execution_count": 22,
      "outputs": [
        {
          "output_type": "display_data",
          "data": {
            "text/plain": [
              "(5, 15)"
            ]
          },
          "metadata": {
            "tags": []
          }
        },
        {
          "output_type": "display_data",
          "data": {
            "text/plain": [
              "('x is 10', 5)"
            ]
          },
          "metadata": {
            "tags": []
          }
        },
        {
          "output_type": "display_data",
          "data": {
            "text/plain": [
              "('x is 10', 10)"
            ]
          },
          "metadata": {
            "tags": []
          }
        }
      ]
    },
    {
      "metadata": {
        "id": "dnGRtvu6tY4d",
        "colab_type": "text"
      },
      "cell_type": "markdown",
      "source": [
        "#### Variable number of parameters"
      ]
    },
    {
      "metadata": {
        "id": "RIwAt39YEzEC",
        "colab_type": "text"
      },
      "cell_type": "markdown",
      "source": [
        "Special forms of parameters:\n",
        "  - *args: any number of positional arguments packed into a tuple\n",
        "  - **kwargs: any number of keyword arguments packed into a dictionary"
      ]
    },
    {
      "metadata": {
        "id": "P9q1iDS1E7cr",
        "colab_type": "code",
        "colab": {
          "base_uri": "https://localhost:8080/",
          "height": 52
        },
        "outputId": "2ad9a2e1-a1e7-486c-d100-cfa11ebb15a1"
      },
      "cell_type": "code",
      "source": [
        "def variable_args(*args, **kwargs):\n",
        "  print ('args is', args)\n",
        "  print ('kwargs is', kwargs)\n",
        "      \n",
        "variable_args('one', 'two', x=1, y=2, z=3)\n",
        "\n"
      ],
      "execution_count": 23,
      "outputs": [
        {
          "output_type": "stream",
          "text": [
            "args is ('one', 'two')\n",
            "kwargs is {'x': 1, 'y': 2, 'z': 3}\n"
          ],
          "name": "stdout"
        }
      ]
    },
    {
      "metadata": {
        "id": "wwrmm8wktUPy",
        "colab_type": "text"
      },
      "cell_type": "markdown",
      "source": [
        "#### Docstrings"
      ]
    },
    {
      "metadata": {
        "id": "lXjIQwXAGNvN",
        "colab_type": "text"
      },
      "cell_type": "markdown",
      "source": [
        "**Note Docstring guidelines**\n",
        "\n",
        "For the sake of standardization, the [Docstring Conventions webpage](https://www.python.org/dev/peps/pep-0257) documents the semantics and conventions associated with Python docstrings.\n",
        "\n",
        "Also, the [Numpy](http://projects.scipy.org/numpy/wiki/CodingStyleGuidelines#docstring-standard) and [Scipy](http://projects.scipy.org/numpy/browser/trunk/doc/example.py#L37) modules have defined a precise standard for documenting scientific functions, that you may want to follow for your own functions, with a` Parameters` section, an `Examples` section, etc."
      ]
    },
    {
      "metadata": {
        "id": "JrGYFP_BFqiL",
        "colab_type": "code",
        "colab": {
          "base_uri": "https://localhost:8080/",
          "height": 139
        },
        "outputId": "f1cc0aff-4966-4856-8ce6-06b01c38691c"
      },
      "cell_type": "code",
      "source": [
        "def funcname(params):\n",
        "     \"\"\"Concise one-line sentence describing the function.\n",
        "\n",
        "     Extended summary which can contain multiple paragraphs.\n",
        "     \"\"\"\n",
        "     # function body\n",
        "     pass\n",
        "  \n",
        "funcname?\n",
        "help(funcname)"
      ],
      "execution_count": 24,
      "outputs": [
        {
          "output_type": "stream",
          "text": [
            "Help on function funcname in module __main__:\n",
            "\n",
            "funcname(params)\n",
            "    Concise one-line sentence describing the function.\n",
            "    \n",
            "    Extended summary which can contain multiple paragraphs.\n",
            "\n"
          ],
          "name": "stdout"
        }
      ]
    },
    {
      "metadata": {
        "id": "D9iK8_gQtQhm",
        "colab_type": "text"
      },
      "cell_type": "markdown",
      "source": [
        "#### Functions are objects"
      ]
    },
    {
      "metadata": {
        "id": "j6gHImMnG7_g",
        "colab_type": "text"
      },
      "cell_type": "markdown",
      "source": [
        "Functions are **first-class objects**, which means they can be:\n",
        "\n",
        "  - *assigned* to a variable\n",
        "  - an *item* in a list (or any collection)\n",
        "  - *passed as an argument* to another function."
      ]
    },
    {
      "metadata": {
        "id": "VjrIxrSeHP8v",
        "colab_type": "code",
        "colab": {
          "base_uri": "https://localhost:8080/",
          "height": 69
        },
        "outputId": "560678f8-93b7-4440-8582-687f90259369"
      },
      "cell_type": "code",
      "source": [
        "def variable_args(*args, **kwargs):\n",
        "  print ('args is', args)\n",
        "  print ('kwargs is', kwargs)\n",
        "\n",
        "display((variable_args, id(variable_args), type(variable_args)))\n",
        "\n",
        "va = variable_args\n",
        "va('three', x=1, y=2)"
      ],
      "execution_count": 25,
      "outputs": [
        {
          "output_type": "display_data",
          "data": {
            "text/plain": [
              "(<function __main__.variable_args>, 140386818690176, function)"
            ]
          },
          "metadata": {
            "tags": []
          }
        },
        {
          "output_type": "stream",
          "text": [
            "args is ('three',)\n",
            "kwargs is {'x': 1, 'y': 2}\n"
          ],
          "name": "stdout"
        }
      ]
    },
    {
      "metadata": {
        "id": "Mlb42eIxtGCC",
        "colab_type": "text"
      },
      "cell_type": "markdown",
      "source": [
        "#### Methods"
      ]
    },
    {
      "metadata": {
        "id": "HZn58ldCHzck",
        "colab_type": "text"
      },
      "cell_type": "markdown",
      "source": [
        "Methods are functions attached to objects. You’ve seen these in our examples on *lists, dictionaries, strings, etc…*"
      ]
    }
  ]
}