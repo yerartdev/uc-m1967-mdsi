{
  "nbformat": 4,
  "nbformat_minor": 0,
  "metadata": {
    "colab": {
      "name": "gerardo-de-miguel-gonzalez-m1967-d1.ipynb",
      "version": "0.3.2",
      "provenance": [],
      "collapsed_sections": [
        "-RbIaH6FUqR_",
        "UQpDarCAVJpL",
        "bwyWkiLWjs3d",
        "G0UrVQKuUQ_P",
        "IYvV8EcH2V1v",
        "w3q0ZniZ3jra",
        "5x6Ql_rX3UZ8",
        "7yduFnH03P0n",
        "SZsxVC-H3LIt",
        "6zKYzEyE2_oi",
        "2U70llSG2gHA",
        "t7dDkRQ2stnZ",
        "_eIuEl8ctycL",
        "pF3ecJGmtudn",
        "YKp1sT0Ttrgt",
        "gq53GwwStgcQ",
        "_qogLvbYtdni",
        "dnGRtvu6tY4d",
        "wwrmm8wktUPy",
        "D9iK8_gQtQhm",
        "Mlb42eIxtGCC"
      ]
    },
    "kernelspec": {
      "name": "python3",
      "display_name": "Python 3"
    }
  },
  "cells": [
    {
      "metadata": {
        "id": "sxcckLLDL00L",
        "colab_type": "text"
      },
      "cell_type": "markdown",
      "source": [
        "# Gerardo de Miguel González\n",
        "\n",
        "---\n",
        "\n",
        "## Assignment I: Exercises on Introduction to Python\n",
        "\n",
        "### Exercise 1: Follow the basic examples from SciPy Lectures\n",
        "\n",
        "Reproduce and comment the basic examples from the Python Language intro of SciPy Lectures [1] for Basic Types, Control Flow and Defining Functions [2][3][4].\n",
        "\n",
        "### References\n",
        "\n",
        "[1] [SciPy Lectures Python Language Intro](http://www.scipy-lectures.org/intro/language/python_language.html)\n",
        "\n",
        "[2] [Basic Types](http://www.scipy-lectures.org/intro/language/python_language.html)\n",
        "\n",
        "[3] [Control Flow](http://www.scipy-lectures.org/intro/language/control_flow.html)\n",
        "\n",
        "[4] [Defining Functions](http://www.scipy-lectures.org/intro/language/functions.html)\n"
      ]
    },
    {
      "metadata": {
        "id": "-RbIaH6FUqR_",
        "colab_type": "text"
      },
      "cell_type": "markdown",
      "source": [
        "### ::[GMG]::Basic Types\n",
        "\n"
      ]
    },
    {
      "metadata": {
        "id": "UQpDarCAVJpL",
        "colab_type": "text"
      },
      "cell_type": "markdown",
      "source": [
        "#### Numerical types\n",
        "\n",
        "scalar types (numerical): \n",
        "\n",
        "* integer\n",
        "* float\n",
        "* complex\n",
        "* boolean\n",
        "\n",
        "operations (+, -, *, /, //, **, %, <, >, ==, ...)\n",
        "\n",
        "casting\n",
        "\n",
        "::GMG:: checking types, references, attributes, methods (id(), is, isinstance, dir, ...) see stackoveflow [What's the canonical way for check for type in Python?](https://stackoverflow.com/questions/152580/whats-the-canonical-way-to-check-for-type-in-python#) and [Determine the type of an object?](https://stackoverflow.com/questions/2225038/determine-the-type-of-an-object). I think it will come in handy if I need to do defensive programming (yap, thinking ahead ...)\n",
        "\n",
        "NOTE: paragraphs marked as ::GMG:: are my own notes besides Scipy lectures notes ;)\n"
      ]
    },
    {
      "metadata": {
        "id": "vYX_hl02jGea",
        "colab_type": "code",
        "colab": {}
      },
      "cell_type": "code",
      "source": [
        "#::GMG::Integer\n",
        "print(type(1))\n",
        "print(\"(a, reference, type, check type)\")\n",
        "a = 2\n",
        "display((a, id(a), type(a), type(a) is int))\n",
        "#::GMG::Float\n",
        "print(type(1.))\n",
        "print(\"(b, reference, type, check type)\")\n",
        "b = 3.\n",
        "display((b, id(b), type(b), type(b) is float))\n",
        "#::GMG::Complex\n",
        "print(type(1. + 0j))\n",
        "print(\"(c, reference, type, check type)\")\n",
        "c = 2 + 3.4j\n",
        "display((c, id(c), type(c), type(c) is complex))\n",
        "print(\"parte real, parte imaginaria, conjugado\")\n",
        "display((c.real, c.imag, c.conjugate()))\n",
        "#::GMG::Boolean\n",
        "print(type(3>4)) #::GMG::ERROR en Jupyter, NO en iPython\n",
        "print(\"(d, reference, type, check type)\")\n",
        "d = (3>4)\n",
        "display((d,id(d), type(d), type(d) is bool))\n",
        "#::GMG::operators\n",
        "display((1 + 2, 1. + 2))\n",
        "#::GMG::change of reference and type(!!)\n",
        "print(\"(b, reference, type) before ...\")\n",
        "display((b,id(b),type(b))) \n",
        "b = 3 \n",
        "print(\"... (b, reference, type) after\")\n",
        "display((b,id(b),type(b))) \n",
        "print(\"(b, a, +, -, *, **, %, ==, >, <)\")\n",
        "display((b, a, b + a, b - a, a * b, b ** a, b % a, a == b, b > a, b < a))\n",
        "#::GMG::integer division\n",
        "print(\"(b, a, /, //)\")\n",
        "display((b, a, b/a, b//a))\n",
        "#::GMG::type casting\n",
        "#::GMG:: mind the casting behaviour: returns a NEW object with the new type\n",
        "print(\"(b, type, id) before ...\")\n",
        "display((b, type(b), id(b)))\n",
        "print(float(b))\n",
        "print(\" ... (b, type, id) after\")\n",
        "display((b, type(b), id(b)))\n",
        "print(\"(id(float(b)), id(b))\")\n",
        "display((id(float(b)), id(b)))"
      ],
      "execution_count": 0,
      "outputs": []
    },
    {
      "metadata": {
        "id": "5XJrtgEQsU_u",
        "colab_type": "code",
        "colab": {}
      },
      "cell_type": "code",
      "source": [
        "#::GMG::Everything is an object (!) ...\n",
        "b = float(b)\n",
        "print(\"is instance (a,b,c,d)\")\n",
        "display((isinstance(a,int), isinstance(b,float), \\\n",
        "         isinstance(c, complex), isinstance(d,bool)))\n",
        "print(\"(method, type)\")\n",
        "#::GMG::Without operator () you mean the attribute/method\n",
        "display((c.conjugate, type(c.conjugate)))\n",
        "#::GMG::... that may be changed in place (mind the reference b to a)...\n",
        "print(\"a is b before (b = a): \", a is b)\n",
        "b = a\n",
        "print(\"after (b = a) --> (a, b, reference a, reference b, type b, check identity)\")\n",
        "display((a, b, id(a), id(b), type(b), a is b))\n",
        "#::GMG::Float objects inside complex\n",
        "print(\"(c, id(c), c.real, type c.real, id c.real, c.imag, type c.imag, id c.imag)\")\n",
        "display((c, id(c), c.real, type(c.real), id(c.real), \\\n",
        "         c.imag, type(c.imag), id(c.imag)))\n",
        "#::GMG::Objects have attributes and methods (__ means hidden or private methods\n",
        "#       ... OOP stuff)\n",
        "#       see: https://stackoverflow.com/questions/2675028/list-attributes-of-an-object\n",
        "print(\"Methods/attributes of a complex object c\")\n",
        "dir(c)"
      ],
      "execution_count": 0,
      "outputs": []
    },
    {
      "metadata": {
        "id": "bwyWkiLWjs3d",
        "colab_type": "text"
      },
      "cell_type": "markdown",
      "source": [
        "#### Containers\n",
        "\n",
        "(mutable) List \n",
        "\n",
        "* indexing \n",
        "* slicing \n",
        "* multiple type element list\n",
        "* (mutable) ->  modifiyng methods: \n",
        "  - append, \n",
        "  - pop, \n",
        "  - slicing again, \n",
        "  - extend, \n",
        "  - reverse, \n",
        "  - concatenate ansd repeat n (integer) times, \n",
        "  - sort\n",
        "\n",
        "(immutable) String \n",
        "  * quotes,\n",
        "  * backslash, \n",
        "  * newline, tab, \n",
        "  * indexing, \n",
        "  * slicing, \n",
        "  * unicode, \n",
        "  * immutable, replace, \n",
        "  * looking for str methods (help)\n",
        "  * formatting\n",
        "\n",
        "(mutable) Dictionaries \n",
        "  * keys, \n",
        "  * values, \n",
        "  * inclusion (in operator)\n",
        "  * any type\n",
        "\n",
        "(immutable) Tuples \n",
        "  * limmutable list\n",
        "  * indexing, slicing\n",
        "  * inclusión (in operator)\n",
        "\n",
        "Sets \n",
        "  * unordered, \n",
        "  * unique elements, \n",
        "  * operations, \n",
        "  * in operator\n",
        "\n"
      ]
    },
    {
      "metadata": {
        "id": "-Nx-Fpe0UQTR",
        "colab_type": "code",
        "colab": {}
      },
      "cell_type": "code",
      "source": [
        "#::GMG::List\n",
        "colors = ['red', 'blue', 'green', 'black', 'white']\n",
        "print(\"(colors, type, id, check type)\")\n",
        "display((colors, type(colors), id(colors), isinstance(colors, list)))\n",
        "print(\"indexing -> (first, last, third)\")\n",
        "display((colors[0], colors[-1],colors[2]))\n",
        "print(\"slicing -> (second to third, last three, first two, all even)\")\n",
        "display((colors[1:3], colors[2:], colors[:-3], colors[::2]))\n",
        "#::GMG::Modifying in place lists (mutable object)\n",
        "colors[0] = 'yellow'\n",
        "colors[2:4] = ['gray', 'purple']\n",
        "print(\"yellow -> [0] and ['gray','purple'] -> [2:4] = [2] and [3]:\\n\", colors)\n",
        "#::GMG::Multiple type element list\n",
        "print(\"Several types element list\")\n",
        "colors = [5-3j, 'blue', -3, 2.0]\n",
        "display((colors, [type(i) for i in colors]))\n",
        "#::GMG::mutable modifying in place\n",
        "colors = ['red', 'blue', 'green', 'black', 'white']\n",
        "print(colors)\n",
        "colors.append('pink')\n",
        "print(\"Add pink color:\", colors)\n",
        "last = colors.pop()\n",
        "print(\"pop out last element:\", last)\n",
        "print(colors)\n",
        "print(\"Add a list of two elements: pink and purple\")\n",
        "colors.extend(['pink', 'purple'])\n",
        "print(colors)\n",
        "print(\"Remove the last two elements by slicing (new list object): pink and purple\")\n",
        "colors = colors[:-2]\n",
        "print(colors)\n",
        "print(\"Reverse the list slicing -> create a new list object\")\n",
        "rcolors = colors[::-1]\n",
        "print(\"(list, reversed [::-1] list)\")\n",
        "display((colors, rcolors))\n",
        "print(\"Reverse the list with method in place\")\n",
        "rcolors = list(colors) # create a new list object (copy from colors) \n",
        "rcolors.reverse()\n",
        "print(\"(list, reverse() list)\")\n",
        "display((colors, rcolors))\n",
        "#::GMG::operator + on lists = concatenate the lists\n",
        "print(\"list + reversed list:\", colors + rcolors)\n",
        "#::GMG::operator * on list and integer n = n replicate the list\n",
        "print(\"n*list = n times list (n integer):\", 2*colors)\n",
        "#::GMG::sort method (in place) and function (new object created)\n",
        "rcolors = list(colors)\n",
        "print(\"sorted() -> new list object: (rcolors, sorted(rcolors))\")\n",
        "display((rcolors, sorted(rcolors)))\n",
        "rcolors.sort()\n",
        "print(\".sort() -> in place object changed:\", rcolors)"
      ],
      "execution_count": 0,
      "outputs": []
    },
    {
      "metadata": {
        "id": "RCq5TheV-1gs",
        "colab_type": "code",
        "colab": {}
      },
      "cell_type": "code",
      "source": [
        "#::GMG::String (immutable)\n",
        "type('Hello World!')\n",
        "s = 'Hello, how are you?'\n",
        "print(\"(s, type, id, check type)\")\n",
        "display((s, type(s), id(s), isinstance(s, str)))\n",
        "#::GMG::String immutable\n",
        "#print('''s[0] = 'h'\n",
        "#---------------------------------------------------------------------------\n",
        "#TypeError                                 Traceback (most recent call last)\n",
        "#<ipython-input-44-4bf3e0e5a614> in <module>()\n",
        "#     26 print(\"\\N{GREEK CAPITAL LETTER DELTA}\")\n",
        "#---> 27 s[0] = 'h'\n",
        "#\n",
        "#TypeError: 'str' object does not support item assignment''')\n",
        "try:\n",
        "  s[0] = 'h'\n",
        "except TypeError:\n",
        "  print(\"s is a\", type(s), \"and it is immutable!!\")\n",
        "#::GMG::quotes: ' \" ''' newline \\n tab \\t\n",
        "s1 = 'Hello\\tman\\n'\n",
        "s2 = \"Wie geht's?\\nMir is gut, danke\"\n",
        "s3 = '''Wo shi Yerart,\n",
        "ni shi shemne mingzi?'''\n",
        "print(s1,s2)\n",
        "#::GMG::the ''' notation preserves new line \\n formatting\n",
        "print(s3)\n",
        "#::GMG::'' misuse\n",
        "print('''s1 = 'What's up?'\n",
        "File \"<ipython-input-34-8f4f1cfc4248>\", line 13\n",
        "    s1 = 'What's up?'\n",
        "               ^\n",
        "SyntaxError: invalid syntax''')\n",
        "#::GMG::Backslash '\\' helps here\n",
        "print('What\\'s up?')\n",
        "#::GMG::Indexing, Slicing: like Lists\n",
        "print(\"(s2[:], s2[0], s2[4:8], s2[:3], s2[12::2])\")\n",
        "display((s2[:], s2[0], s2[4:8], s2[:3], s2[12::2]))\n",
        "#::GMG::Unicode strings\n",
        "#       see https://docs.python.org/3/howto/unicode.html\n",
        "print(\"\\N{GREEK CAPITAL LETTER DELTA}\")\n",
        "#::GMG:: replace() create a new modified object\n",
        "print(s.replace('l','z',1))\n",
        "print(\"(replaced s, original s)\")\n",
        "display((id(s.replace('l','z',1)), id(s)))\n",
        "#::GMG::Formatting\n",
        "#       see https://docs.python.org/3/library/string.html#custom-string-formatting\n",
        "#\n",
        "#       see also https://pyformat.info/\n",
        "print('An integer: %i; a float: %.3f; a (truncated) string: %.4s' \\\n",
        "      % (1, 0.188345, 'statistics'))\n",
        "i = 102\n",
        "filename = 'processing_of_dataset_%d.txt' % i\n",
        "print(filename)\n",
        "#::GMG::Looking for str methods (help)\n",
        "#       see https://docs.python.org/3/library/stdtypes.html#string-methods\n",
        "help(str)"
      ],
      "execution_count": 0,
      "outputs": []
    },
    {
      "metadata": {
        "id": "28CFe4m7XYa9",
        "colab_type": "code",
        "colab": {}
      },
      "cell_type": "code",
      "source": [
        "#::GMG::Dictionaries (mutable)\n",
        "type({'emmanuelle': 5752, 'sebastian': 5578})\n",
        "tel = {'emmanuelle': 5752, 'sebastian': 5578}\n",
        "print(\"(tel, type, id, check type)\")\n",
        "display((tel, type(tel), id(tel), isinstance(tel, dict)))\n",
        "#::GMG::Mutable\n",
        "tel['francis'] = 5915\n",
        "tel['emmanuelle'] = 5009\n",
        "print(tel)\n",
        "#::GMG::Keys and Values\n",
        "display((tel.keys(), tel.values()))\n",
        "#::GMG::inclusion (in operator) and indexing by value\n",
        "print(\"Is francis in Tel?\", 'francis' in tel)\n",
        "print(\"The telephone number of francis is:\", tel['francis'])\n",
        "#::GMG::A dictionary can have keys (resp. values) with different types:\n",
        "d = {'a':1, 'b':2, 3:'hello'}\n",
        "print(\"Types in dict values:\",[type(i) for i in d.values()])\n",
        "print(\"Types in dict keys:\",[type(i) for i in d.keys()])\n"
      ],
      "execution_count": 0,
      "outputs": []
    },
    {
      "metadata": {
        "id": "JkXJMxvJdvsd",
        "colab_type": "code",
        "colab": {}
      },
      "cell_type": "code",
      "source": [
        "#::GMG::Tuples (immutable)\n",
        "print(type((12345, 54321, 'hello!')))\n",
        "t = 12345, 54321, 'hello!',3-5j\n",
        "try:\n",
        "  t[0] = 1\n",
        "except TypeError:\n",
        "  print(\"t is a\", type(t), \"and is immutable!!\")\n",
        "print(\"(t, type, id, check type)\")\n",
        "display((t, type(t), id(t), isinstance(t, tuple)))\n",
        "#::GMG::indexing, slicing\n",
        "print(\"indexing -> (first, last, third)\")\n",
        "display((t[0], t[-1],t[2]))\n",
        "print(\"slicing -> (second to third, last three, first two, all even)\")\n",
        "display((t[1:3], t[1:], t[:-2], t[::2]))\n",
        "#::GMG::inclusion (in operator) also works in tuples\n",
        "print(\"is hello! in t?\", 'hello!' in t)"
      ],
      "execution_count": 0,
      "outputs": []
    },
    {
      "metadata": {
        "id": "jUxHmHhyn5y9",
        "colab_type": "code",
        "colab": {}
      },
      "cell_type": "code",
      "source": [
        "#::GMG::Sets\n",
        "#::GMG::repeated elements are silently dropped! \n",
        "ss = set(('a', 'b', 'c', 'a'))\n",
        "print(\"(set, type, id, check type)\")\n",
        "display((ss, type(ss), id(ss), isinstance(ss, set)))\n",
        "#::GMG::Methods and attributes\n",
        "dir(ss)\n",
        "#::GMG::Operations\n",
        "print(\"set\\\\('a','b'):\",ss.difference(('a','b')))\n",
        "#::GMG:: see https://www.fileformat.info/info/unicode/char/2229/index.htm\n",
        "print(\"set \\N{INTERSECTION} ('a','d'):\",ss.intersection(('a','d')))"
      ],
      "execution_count": 0,
      "outputs": []
    },
    {
      "metadata": {
        "id": "G0UrVQKuUQ_P",
        "colab_type": "text"
      },
      "cell_type": "markdown",
      "source": [
        "#### Assignment operator\n",
        "\n",
        "(re)bind names to values (more than one bind, list indexing/slicing in-place changes, )\n",
        "\n",
        "modifiy attributes or items of mutable objects\n",
        "\n",
        "a single object can have several names bound to it\n",
        "\n",
        "to change a list in place, use indexing/slices\n"
      ]
    },
    {
      "metadata": {
        "id": "MsXpqQ2ZUSqd",
        "colab_type": "code",
        "colab": {}
      },
      "cell_type": "code",
      "source": [
        "#::GMG::a single object can have several names bound to it\n",
        "a = [1, 2, 3]\n",
        "print(\"(a, type, id, check type)\")\n",
        "display((a, type(a), id(a), isinstance(a, list)))\n",
        "b = a\n",
        "print(\"(b, type, id, check type)\")\n",
        "display((b, type(b), id(b), isinstance(b, list)))\n",
        "print(\"... so b and a are references to the list object\", a)\n",
        "print(\"and a is b:\", a is b)\n",
        "print(\"the object list is mutable so if we change b then we also change a!\")\n",
        "b[1] = 'hi!'\n",
        "print(\"(a,b) after b[1] -> 'hi'\")\n",
        "display((a,b))\n",
        "#::GMG::to change a list in place, use indexing/slices\n",
        "a = ['a', 'b', 'c'] # Creates another object.\n",
        "display(('new object', a, type(a), id(a), isinstance(a, list)))\n",
        "a[:] = [1, 2, 3] # Modifies object in place.\n",
        "display(('in place with slicing [:]', a, type(a), id(a), isinstance(a, list)))\n",
        "print('''takeaway: \n",
        "mutable objects can be changed in place \n",
        "and\n",
        "immutable objects cannot be modified once created''')"
      ],
      "execution_count": 0,
      "outputs": []
    },
    {
      "metadata": {
        "id": "5dPs-fDfyniJ",
        "colab_type": "text"
      },
      "cell_type": "markdown",
      "source": [
        "**See also**: A very good and detailed explanation of the above issues can be found in David M. Beazley’s article [Types and Objects in Python](http://www.informit.com/articles/article.aspx?p=453682). "
      ]
    },
    {
      "metadata": {
        "id": "IYvV8EcH2V1v",
        "colab_type": "text"
      },
      "cell_type": "markdown",
      "source": [
        "### ::[GMG]::Control Flow"
      ]
    },
    {
      "metadata": {
        "id": "w3q0ZniZ3jra",
        "colab_type": "text"
      },
      "cell_type": "markdown",
      "source": [
        "#### if/elif/else"
      ]
    },
    {
      "metadata": {
        "id": "XOx6AtTz3ta9",
        "colab_type": "code",
        "colab": {
          "base_uri": "https://localhost:8080/",
          "height": 54
        },
        "outputId": "7a06dc24-a8e8-44bb-affc-19168d8b11a3"
      },
      "cell_type": "code",
      "source": [
        "#::GMG::Basics, identation\n",
        "if 2**2 == 4:\n",
        "    print('Obvious!')\n",
        "#::GMG::Blocks are delimited by indentation\n",
        "a = 10\n",
        "if a == 1:\n",
        "    print(1)\n",
        "elif a == 2:\n",
        "    print(2)\n",
        "else:\n",
        "    print('A lot')"
      ],
      "execution_count": 92,
      "outputs": [
        {
          "output_type": "stream",
          "text": [
            "Obvious!\n",
            "A lot\n"
          ],
          "name": "stdout"
        }
      ]
    },
    {
      "metadata": {
        "id": "5x6Ql_rX3UZ8",
        "colab_type": "text"
      },
      "cell_type": "markdown",
      "source": [
        "#### for/range"
      ]
    },
    {
      "metadata": {
        "id": "r_ebh30N4j8a",
        "colab_type": "code",
        "colab": {
          "base_uri": "https://localhost:8080/",
          "height": 148
        },
        "outputId": "7396b4ff-1267-4d3c-ac51-4b2049dfd627"
      },
      "cell_type": "code",
      "source": [
        "#::GMG::Iterating with an index\n",
        "for i in range(4):\n",
        "    print(i)\n",
        "#::GMG::Pythonically iterate over values\n",
        "for word in ('cool', 'powerful', 'readable'):\n",
        "    print('Python is %s' % word)"
      ],
      "execution_count": 94,
      "outputs": [
        {
          "output_type": "stream",
          "text": [
            "0\n",
            "1\n",
            "2\n",
            "3\n",
            "Python is cool\n",
            "Python is powerful\n",
            "Python is readable\n"
          ],
          "name": "stdout"
        }
      ]
    },
    {
      "metadata": {
        "id": "7yduFnH03P0n",
        "colab_type": "text"
      },
      "cell_type": "markdown",
      "source": [
        "#### while/break/continue"
      ]
    },
    {
      "metadata": {
        "id": "jU8LURPV6RWP",
        "colab_type": "code",
        "colab": {
          "base_uri": "https://localhost:8080/",
          "height": 260
        },
        "outputId": "999b7f24-5601-44ff-a51b-37ed6bc71866"
      },
      "cell_type": "code",
      "source": [
        "#::GMG::C-style while loop (Mandelbrot problem)\n",
        "#       see https://en.wikipedia.org/wiki/Mandelbrot_set\n",
        "count = 0\n",
        "z = 1 + 1j\n",
        "while abs(z) < 100:\n",
        "    z = z**2 + 1\n",
        "    count+=1\n",
        "    print(count, \":\", z)\n",
        "print(\"resultado:\",z)\n",
        "#::GMG::break feature\n",
        "count = 0\n",
        "z = 1 + 1j\n",
        "while abs(z) < 100:\n",
        "    if z.imag == 0:\n",
        "        break\n",
        "    z = z**2 + 1\n",
        "    count+=1\n",
        "    print(count, \":\", z)\n",
        "print(\"resultado:\",z)\n",
        "#::GMG::continue feaure (avoid exception)\n",
        "a = [1, 0, 2, 4]\n",
        "for element in a:\n",
        "    if element == 0:\n",
        "        continue\n",
        "    print(1. / element)"
      ],
      "execution_count": 103,
      "outputs": [
        {
          "output_type": "stream",
          "text": [
            "1 : (1+2j)\n",
            "2 : (-2+4j)\n",
            "3 : (-11-16j)\n",
            "4 : (-134+352j)\n",
            "resultado: (-134+352j)\n",
            "1 : (1+2j)\n",
            "2 : (-2+4j)\n",
            "3 : (-11-16j)\n",
            "4 : (-134+352j)\n",
            "resultado: (-134+352j)\n",
            "1.0\n",
            "0.5\n",
            "0.25\n"
          ],
          "name": "stdout"
        }
      ]
    },
    {
      "metadata": {
        "id": "SZsxVC-H3LIt",
        "colab_type": "text"
      },
      "cell_type": "markdown",
      "source": [
        "#### Conditional Expressions"
      ]
    },
    {
      "metadata": {
        "id": "O20y1hOf9l0S",
        "colab_type": "code",
        "colab": {}
      },
      "cell_type": "code",
      "source": [
        "#::GMG::False/True object evaluation (if object)\n",
        "#::GMG::Evaluates to False\n",
        "a = 0\n",
        "b = 0.\n",
        "c = 0+0j\n",
        "l = []\n",
        "t = ()\n",
        "d = {}\n",
        "s = set()\n",
        "ss = \"\"\n",
        "f = False\n",
        "n = None\n",
        "display((type(a), type(b), type(c), type(l), type(t), type(d), \\\n",
        "         type(s), type(ss), type(f), type(n)))\n",
        "if (a or b or c or l or t or d or s or f or n):\n",
        "  print(True)\n",
        "else:\n",
        "  print(False)\n",
        "  \n",
        "#::GMG::Test equality (==)\n",
        "print(\"Numeric Types, False, None\")\n",
        "g = False\n",
        "nn = None\n",
        "display((a == b, a == c, b == c, 1 == 1., f == g, n == nn, f == n))\n",
        "print(\"Collections, Containers\")\n",
        "tt=\"\"\n",
        "display((ss == tt, l == t, l == d, t == d, 1 == s, t == s, d == s))\n",
        "\n",
        "#::GMG::Test identity (is)\n",
        "print(\"Numeric Types, False, None\")\n",
        "display((a is b, a is c, b is c, 1 is 1., f is g, n is nn, f is n))\n",
        "print(\"Collections, Containers\")\n",
        "display((ss is tt, l is t, l is d, t is d, 1 is s, t is s, d is s))\n",
        "\n",
        "#::GMG::Test containment (in) collections and dictionaries\n",
        "#       a in b: For any collection b: b contains a\n",
        "ll = [1,2,3]\n",
        "display((type(ll), 1 in ll, 5 in ll))\n",
        "\n",
        "dd = {'a':1, 'b':2}\n",
        "display((type(dd), dd.keys(), dd.values(), 'a' in dd, 1 in dd))"
      ],
      "execution_count": 0,
      "outputs": []
    },
    {
      "metadata": {
        "id": "6zKYzEyE2_oi",
        "colab_type": "text"
      },
      "cell_type": "markdown",
      "source": [
        "#### Advanced iteration"
      ]
    },
    {
      "metadata": {
        "id": "0SRO-OdRgTja",
        "colab_type": "text"
      },
      "cell_type": "markdown",
      "source": [
        "With Python it is possible to loop exactly over the objects of interest without bothering with indices you often don’t care about. This feature can often be used to make code more readable. **BUT**  It's _not safe_ to __modify the sequence__ you are iterating over."
      ]
    },
    {
      "metadata": {
        "id": "PEy5vNHSerWS",
        "colab_type": "code",
        "colab": {}
      },
      "cell_type": "code",
      "source": [
        "#::GMG::Iterate over any sequence\n",
        "#       (string, list, keys in a dictionary, lines in a file, …)\n",
        "vowels = 'aeiouy'\n",
        "for i in 'powerful':\n",
        "    if i in vowels:\n",
        "        print(i)\n",
        "\n",
        "message = \"Hello how are you?\"\n",
        "print(\"Split a string into a list of words\")\n",
        "display((message, message.split()))\n",
        "for word in message.split():\n",
        "    print(word)\n",
        "\n",
        "#::GMG::Keeping track of enumeration number\n",
        "#       iterate over a sequence while keeping track of the item number:\n",
        "words = ('cool', 'powerful', 'readable')\n",
        "display((\"iterating\", type(words), words))\n",
        "for i in range(0, len(words)):\n",
        "  print((i, words[i]))\n",
        "#       Python provides a built-in function - enumerate - for this\n",
        "print(\"Pythonic way (built-in enumerate())...\")\n",
        "for index, item in enumerate(words):\n",
        "    print((index, item))\n",
        "    \n",
        "#::GMG::Looping over a dictionary with items()\n",
        "#       print string formatting example, old syle, as a bonus :)\n",
        "#       see: https://pyformat.info/\n",
        "d = {'a': 1, 'b':1.2, 'c':1j}\n",
        "display((\"iteraring items()\",type(d),d))\n",
        "for key, val in sorted(d.items()):\n",
        "  #print('Key: %s has value: %s' % (key, val)) #old syle\n",
        "  print('Key {0} has value: {1}'.format(key,val)) #new style\n"
      ],
      "execution_count": 0,
      "outputs": []
    },
    {
      "metadata": {
        "id": "grB1nP1ykcti",
        "colab_type": "text"
      },
      "cell_type": "markdown",
      "source": [
        "*NOTE*: The ordering of a dictionary is random, thus we use `sorted()` which will sort on the keys\n",
        "\n",
        "**::GMG::** More on [Loop better: A deeper look at iteration in Python](https://opensource.com/article/18/3/loop-better-deeper-look-iteration-python) at [OpenSource](https://opensource.com)"
      ]
    },
    {
      "metadata": {
        "id": "2U70llSG2gHA",
        "colab_type": "text"
      },
      "cell_type": "markdown",
      "source": [
        "#### List Comprehensions"
      ]
    },
    {
      "metadata": {
        "id": "-TEjMrv0o2lb",
        "colab_type": "code",
        "colab": {}
      },
      "cell_type": "code",
      "source": [
        "[i**2 for i in range(4)]"
      ],
      "execution_count": 0,
      "outputs": []
    },
    {
      "metadata": {
        "id": "t7dDkRQ2stnZ",
        "colab_type": "text"
      },
      "cell_type": "markdown",
      "source": [
        "### ::[GMG]::Defining Functions"
      ]
    },
    {
      "metadata": {
        "id": "_eIuEl8ctycL",
        "colab_type": "text"
      },
      "cell_type": "markdown",
      "source": [
        "#### Function definition"
      ]
    },
    {
      "metadata": {
        "id": "6NgrXbMIt-N_",
        "colab_type": "code",
        "colab": {}
      },
      "cell_type": "code",
      "source": [
        "#::GMG::Mind the identation(!)\n",
        "def test():\n",
        "  print(\"in test function\")\n",
        "\n",
        "print(\"::GMG::test is a function object that returns None (NoneType)\")\n",
        "display((test, test(), type(test), type(test())))"
      ],
      "execution_count": 0,
      "outputs": []
    },
    {
      "metadata": {
        "id": "pF3ecJGmtudn",
        "colab_type": "text"
      },
      "cell_type": "markdown",
      "source": [
        "#### Return statement"
      ]
    },
    {
      "metadata": {
        "id": "KgQLMYS4wPZK",
        "colab_type": "text"
      },
      "cell_type": "markdown",
      "source": [
        "Functions can _optionally_ return values.  By default, functions return `None`. (See above)\n",
        "\n",
        "Note the syntax to define a function:\n",
        "\n",
        "  - the `def` keyword;\n",
        "  - is followed by the function’s **name**, then\n",
        "  - the arguments of the function are given between parentheses followed by a colon.\n",
        "  - the function body;\n",
        "  - and `return object` for optionally returning values."
      ]
    },
    {
      "metadata": {
        "id": "aYoh2Gn9vF6z",
        "colab_type": "code",
        "colab": {}
      },
      "cell_type": "code",
      "source": [
        "#::GMG::A proper function with an argument and a return object\n",
        "def disk_area(radius):\n",
        "     return 3.14 * radius**2\n",
        "  \n",
        "display((disk_area, disk_area(1.5), type(disk_area), type(disk_area(1.5))))"
      ],
      "execution_count": 0,
      "outputs": []
    },
    {
      "metadata": {
        "id": "YKp1sT0Ttrgt",
        "colab_type": "text"
      },
      "cell_type": "markdown",
      "source": [
        "#### Parameters"
      ]
    },
    {
      "metadata": {
        "id": "gmhBVLt7yAWJ",
        "colab_type": "code",
        "colab": {}
      },
      "cell_type": "code",
      "source": [
        "#::GMG::Mandatory (positional arguments)\n",
        "def double_it(x):\n",
        "     return x * 2\n",
        "\n",
        "display((double_it, type(double_it), double_it(2), type(double_it(2))))\n",
        "\n",
        "print(\"Say, we call double_it(), i.e. without any argument ...\")\n",
        "try:\n",
        "  a = double_it()\n",
        "  print(a)\n",
        "except TypeError:\n",
        "  print(\"oops! Didn't tell me the number you want to double :)\")\n",
        "\n",
        "#::GMG::Optional parameters (keyword or named arguments) with default value\n",
        "def double_it(x=2):\n",
        "     return x * 2\n",
        "  \n",
        "try:\n",
        "  a = double_it()\n",
        "  print('double_it() returned %d' % a)\n",
        "  b = double_it(3)\n",
        "  print('double_it(3) returned %d' % b)\n",
        "except TypeError:\n",
        "  print(\"oops! Didn't tell me the number you want to double :)\")\n"
      ],
      "execution_count": 0,
      "outputs": []
    },
    {
      "metadata": {
        "id": "k0pQz8bO3pVf",
        "colab_type": "text"
      },
      "cell_type": "markdown",
      "source": [
        "Keyword arguments allow you to specify *default values*.\n",
        "\n",
        " Default values are evaluated **when the function is defined**, not when it is called. This can be problematic when using *mutable types* (e.g. dictionary or list) and modifying them in the function body, since the modifications **will be persistent across invocations** of the function"
      ]
    },
    {
      "metadata": {
        "id": "Lxtol5eO35J2",
        "colab_type": "code",
        "colab": {
          "base_uri": "https://localhost:8080/",
          "height": 36
        },
        "outputId": "918589d9-76ca-4350-e064-1a2f9c4cd611"
      },
      "cell_type": "code",
      "source": [
        "#::GMG::Using an immutable type in a keyword argument\n",
        "bigx = 10\n",
        "\n",
        "def double_it(x=bigx):\n",
        "     return x * 2\n",
        "  \n",
        "bigx = 1e9  # Now really big\n",
        "\n",
        "display((bigx, double_it()))"
      ],
      "execution_count": 34,
      "outputs": [
        {
          "output_type": "display_data",
          "data": {
            "text/plain": [
              "(1000000000.0, 20)"
            ]
          },
          "metadata": {
            "tags": []
          }
        }
      ]
    },
    {
      "metadata": {
        "id": "Srl7pWgN4gqM",
        "colab_type": "code",
        "colab": {
          "base_uri": "https://localhost:8080/",
          "height": 92
        },
        "outputId": "7663da6d-47db-4315-9b61-d312e4a0759e"
      },
      "cell_type": "code",
      "source": [
        "#::GMG::Using an mutable type in a keyword argument (and modifying it inside the function body)\n",
        "def add_to_dict(args={'a': 1, 'b': 2}):\n",
        "     for i in args.keys():\n",
        "         args[i] += 1\n",
        "     return args\n",
        "\n",
        "print(\"Not a call:\", add_to_dict)\n",
        "print(\"1st call:\", add_to_dict())\n",
        "print(\"2nd call:\", add_to_dict())\n",
        "print(\"3rd call:\", add_to_dict())\n"
      ],
      "execution_count": 42,
      "outputs": [
        {
          "output_type": "stream",
          "text": [
            "Not a call: <function add_to_dict at 0x7f5bfb2dde18>\n",
            "1st call: {'a': 2, 'b': 3}\n",
            "2nd call: {'a': 3, 'b': 4}\n",
            "3rd call: {'a': 4, 'b': 5}\n"
          ],
          "name": "stdout"
        }
      ]
    },
    {
      "metadata": {
        "id": "a3lReamy6ro1",
        "colab_type": "code",
        "colab": {
          "base_uri": "https://localhost:8080/",
          "height": 223
        },
        "outputId": "cf5d1cd4-2fea-4f31-9a80-bd6fd9ba1764"
      },
      "cell_type": "code",
      "source": [
        "#::GMG::slicer example\n",
        "def slicer(seq, start=None, stop=None, step=None):\n",
        "  \"\"\"Implement the basic python slicer.\"\"\"\n",
        "  return seq[start:stop:step]\n",
        "\n",
        "rhyme = 'one fish, two fish, red fish, blue fish'.split()\n",
        "display((rhyme, slicer(rhyme), slicer(rhyme, step=2), \\\n",
        "         slicer(rhyme, 1, step=2), \\\n",
        "         slicer(rhyme, start=1, stop = 4, step=2)))\n",
        "#::GMG::The order of the keyword doesn't matter ... as ling as you name it!\n",
        "print(slicer(rhyme, step=2, start=1, stop = 4))\n",
        "#::GMG::The triple \" string is a Docstring and it's used like this\n",
        "help(slicer)"
      ],
      "execution_count": 49,
      "outputs": [
        {
          "output_type": "display_data",
          "data": {
            "text/plain": [
              "(['one', 'fish,', 'two', 'fish,', 'red', 'fish,', 'blue', 'fish'],\n",
              " ['one', 'fish,', 'two', 'fish,', 'red', 'fish,', 'blue', 'fish'],\n",
              " ['one', 'two', 'red', 'blue'],\n",
              " ['fish,', 'fish,', 'fish,', 'fish'],\n",
              " ['fish,', 'fish,'])"
            ]
          },
          "metadata": {
            "tags": []
          }
        },
        {
          "output_type": "stream",
          "text": [
            "['fish,', 'fish,']\n",
            "Help on function slicer in module __main__:\n",
            "\n",
            "slicer(seq, start=None, stop=None, step=None)\n",
            "    Implement the basic python slicer.\n",
            "\n"
          ],
          "name": "stdout"
        }
      ]
    },
    {
      "metadata": {
        "id": "6ldXzIL76dbx",
        "colab_type": "text"
      },
      "cell_type": "markdown",
      "source": [
        "*Keyword arguments* are a very convenient feature for defining functions with a **variable number of arguments**, especially when default values are to be used in most calls to the function."
      ]
    },
    {
      "metadata": {
        "id": "gq53GwwStgcQ",
        "colab_type": "text"
      },
      "cell_type": "markdown",
      "source": [
        "#### Passing by value"
      ]
    },
    {
      "metadata": {
        "id": "q6_zV-Nl-gcF",
        "colab_type": "text"
      },
      "cell_type": "markdown",
      "source": [
        "Parameters to functions are *references to objects*, which are passed by value. When you pass a variable to a function, python passes **the reference to the object** to which the variable refers (the value). Not the variable itself.\n",
        "\n",
        "If the value passed in a function is **immutable**, the function *does not modify* the caller’s variable. If the value is **mutable**, the function *may modify* the caller’s variable in-place.\n",
        "\n",
        "Functions have a local variable table called a *local namespace*.\n",
        "\n",
        "::GMG::See [What's the difference between globals(), locals(), and vars()?](https://stackoverflow.com/questions/7969949/whats-the-difference-between-globals-locals-and-vars)\n",
        "\n",
        "The variable x only exists *within* the function `try_to_modify`."
      ]
    },
    {
      "metadata": {
        "id": "2Yf24nF6-KTm",
        "colab_type": "code",
        "colab": {}
      },
      "cell_type": "code",
      "source": [
        "def try_to_modify(x, y, z):\n",
        "    print(\"Local namespace\", locals())\n",
        "    x = 23\n",
        "    y.append(42)\n",
        "    z = [99] # new reference\n",
        "    print(x)\n",
        "    print(y)\n",
        "    print(z)\n",
        "    \n",
        "    \n",
        "a = 27     #immutable\n",
        "b = [99]   #muttable\n",
        "c = 'hola' #immutable\n",
        "\n",
        "display((a, type(a), b, type(b), c, type(c)))\n",
        "\n",
        "try_to_modify(a,b,c)\n"
      ],
      "execution_count": 0,
      "outputs": []
    },
    {
      "metadata": {
        "id": "_qogLvbYtdni",
        "colab_type": "text"
      },
      "cell_type": "markdown",
      "source": [
        "#### Global variables"
      ]
    },
    {
      "metadata": {
        "id": "eD1_WVOeCmF1",
        "colab_type": "text"
      },
      "cell_type": "markdown",
      "source": [
        "Variables declared outside the function can be referenced within the function.\n",
        "\n",
        "But these “global” variables cannot be modified within the function, unless declared `globa`l in the function."
      ]
    },
    {
      "metadata": {
        "id": "l8S4MMuWCsQ1",
        "colab_type": "code",
        "colab": {}
      },
      "cell_type": "code",
      "source": [
        "x = 5\n",
        "\n",
        "def addx(y):\n",
        "  return x + y\n",
        "\n",
        "display((x, addx(10)))\n",
        "\n",
        "def setx(y):\n",
        "  x = y\n",
        "  return 'x is %d' % x\n",
        "      \n",
        "display((setx(10),x))\n",
        "\n",
        "def setgx(y):\n",
        "  global x\n",
        "  x = y\n",
        "  return 'x is %d' % x\n",
        "\n",
        "display((setgx(10),x))\n"
      ],
      "execution_count": 0,
      "outputs": []
    },
    {
      "metadata": {
        "id": "dnGRtvu6tY4d",
        "colab_type": "text"
      },
      "cell_type": "markdown",
      "source": [
        "#### Variable number of parameters"
      ]
    },
    {
      "metadata": {
        "id": "RIwAt39YEzEC",
        "colab_type": "text"
      },
      "cell_type": "markdown",
      "source": [
        "Special forms of parameters:\n",
        "  - *args: any number of positional arguments packed into a tuple\n",
        "  - **kwargs: any number of keyword arguments packed into a dictionary"
      ]
    },
    {
      "metadata": {
        "id": "P9q1iDS1E7cr",
        "colab_type": "code",
        "colab": {}
      },
      "cell_type": "code",
      "source": [
        "def variable_args(*args, **kwargs):\n",
        "  print ('args is', args)\n",
        "  print ('kwargs is', kwargs)\n",
        "      \n",
        "variable_args('one', 'two', x=1, y=2, z=3)\n",
        "\n"
      ],
      "execution_count": 0,
      "outputs": []
    },
    {
      "metadata": {
        "id": "wwrmm8wktUPy",
        "colab_type": "text"
      },
      "cell_type": "markdown",
      "source": [
        "#### Docstrings"
      ]
    },
    {
      "metadata": {
        "id": "lXjIQwXAGNvN",
        "colab_type": "text"
      },
      "cell_type": "markdown",
      "source": [
        "**Note Docstring guidelines**\n",
        "\n",
        "For the sake of standardization, the [Docstring Conventions webpage](https://www.python.org/dev/peps/pep-0257) documents the semantics and conventions associated with Python docstrings.\n",
        "\n",
        "Also, the [Numpy](http://projects.scipy.org/numpy/wiki/CodingStyleGuidelines#docstring-standard) and [Scipy](http://projects.scipy.org/numpy/browser/trunk/doc/example.py#L37) modules have defined a precise standard for documenting scientific functions, that you may want to follow for your own functions, with a` Parameters` section, an `Examples` section, etc."
      ]
    },
    {
      "metadata": {
        "id": "JrGYFP_BFqiL",
        "colab_type": "code",
        "colab": {}
      },
      "cell_type": "code",
      "source": [
        "def funcname(params):\n",
        "     \"\"\"Concise one-line sentence describing the function.\n",
        "\n",
        "     Extended summary which can contain multiple paragraphs.\n",
        "     \"\"\"\n",
        "     # function body\n",
        "     pass\n",
        "  \n",
        "funcname?\n",
        "help(funcname)"
      ],
      "execution_count": 0,
      "outputs": []
    },
    {
      "metadata": {
        "id": "D9iK8_gQtQhm",
        "colab_type": "text"
      },
      "cell_type": "markdown",
      "source": [
        "#### Functions are objects"
      ]
    },
    {
      "metadata": {
        "id": "j6gHImMnG7_g",
        "colab_type": "text"
      },
      "cell_type": "markdown",
      "source": [
        "Functions are **first-class objects**, which means they can be:\n",
        "\n",
        "  - *assigned* to a variable\n",
        "  - an *item* in a list (or any collection)\n",
        "  - *passed as an argument* to another function."
      ]
    },
    {
      "metadata": {
        "id": "VjrIxrSeHP8v",
        "colab_type": "code",
        "colab": {}
      },
      "cell_type": "code",
      "source": [
        "def variable_args(*args, **kwargs):\n",
        "  print ('args is', args)\n",
        "  print ('kwargs is', kwargs)\n",
        "\n",
        "display((variable_args, id(variable_args), type(variable_args)))\n",
        "\n",
        "va = variable_args\n",
        "va('three', x=1, y=2)"
      ],
      "execution_count": 0,
      "outputs": []
    },
    {
      "metadata": {
        "id": "Mlb42eIxtGCC",
        "colab_type": "text"
      },
      "cell_type": "markdown",
      "source": [
        "#### Methods"
      ]
    },
    {
      "metadata": {
        "id": "HZn58ldCHzck",
        "colab_type": "text"
      },
      "cell_type": "markdown",
      "source": [
        "Methods are functions attached to objects. You’ve seen these in our examples on *lists, dictionaries, strings, etc…*"
      ]
    }
  ]
}