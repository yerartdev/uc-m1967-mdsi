{
  "nbformat": 4,
  "nbformat_minor": 0,
  "metadata": {
    "colab": {
      "name": "gerardo-de-miguel-gonzalez-m1967-d1.ipynb",
      "version": "0.3.2",
      "provenance": [],
      "collapsed_sections": []
    },
    "kernelspec": {
      "name": "python3",
      "display_name": "Python 3"
    }
  },
  "cells": [
    {
      "metadata": {
        "id": "sxcckLLDL00L",
        "colab_type": "text"
      },
      "cell_type": "markdown",
      "source": [
        "# Gerardo de Miguel González\n",
        "\n",
        "---\n",
        "\n",
        "## Assignment I: Exercises on Introduction to Python\n",
        "\n",
        "### Exercise 1: Follow the basic examples from SciPy Lectures\n",
        "\n",
        "Reproduce and comment the basic examples from the Python Language intro of SciPy Lectures [1] for Basic Types, Control Flow and Defining Functions [2][3][4].\n",
        "\n",
        "### References\n",
        "\n",
        "[1] [SciPy Lectures Python Language Intro](http://www.scipy-lectures.org/intro/language/python_language.html)\n",
        "\n",
        "[2] [Basic Types](http://www.scipy-lectures.org/intro/language/python_language.html)\n",
        "\n",
        "[3] [Control Flow](http://www.scipy-lectures.org/intro/language/control_flow.html)\n",
        "\n",
        "[4] [Defining Functions](http://www.scipy-lectures.org/intro/language/functions.html)\n"
      ]
    },
    {
      "metadata": {
        "id": "RGM5GoYkLlB8",
        "colab_type": "text"
      },
      "cell_type": "markdown",
      "source": [
        ""
      ]
    },
    {
      "metadata": {
        "id": "UQpDarCAVJpL",
        "colab_type": "text"
      },
      "cell_type": "markdown",
      "source": [
        "### ::[GMG]::Basic Types\n",
        "\n",
        "\n",
        "#### Numerical types\n",
        "\n",
        "scalar types (numerical): \n",
        "\n",
        "* integer\n",
        "* float\n",
        "* complex\n",
        "* boolean\n",
        "\n",
        "operations (+, -, *, /, //, **, %, <, >, ==, ...)\n",
        "\n",
        "casting\n",
        "\n",
        "::GMG:: checking types, references, attributes, methods (id(), is, isinstance, dir, ...) see stackoveflow [What's the canonical way for check for type in Python?](https://stackoverflow.com/questions/152580/whats-the-canonical-way-to-check-for-type-in-python#) and [Determine the type of an object?](https://stackoverflow.com/questions/2225038/determine-the-type-of-an-object). I think it will come in handy if I need to do defensive programming (yap, thinking ahead ...)\n",
        "\n",
        "NOTE: paragraphs marked as ::GMG:: are my own notes besides Scipy lectures notes ;)\n"
      ]
    },
    {
      "metadata": {
        "id": "vYX_hl02jGea",
        "colab_type": "code",
        "colab": {
          "base_uri": "https://localhost:8080/",
          "height": 578
        },
        "outputId": "fc972821-533f-4ac3-a019-c293c6c10e51"
      },
      "cell_type": "code",
      "source": [
        "#::GMG::Integer\n",
        "print(type(1))\n",
        "print(\"(a, reference, type, check type)\")\n",
        "a = 2\n",
        "display((a, id(a), type(a), type(a) is int))\n",
        "#::GMG::Float\n",
        "print(type(1.))\n",
        "print(\"(b, reference, type, check type)\")\n",
        "b = 3.\n",
        "display((b, id(b), type(b), type(b) is float))\n",
        "#::GMG::Complex\n",
        "print(type(1. + 0j))\n",
        "print(\"(c, reference, type, check type)\")\n",
        "c = 2 + 3.4j\n",
        "display((c, id(c), type(c), type(c) is complex))\n",
        "print(\"parte real, parte imaginaria, conjugado\")\n",
        "display((c.real, c.imag, c.conjugate()))\n",
        "#::GMG::Boolean\n",
        "print(type(3>4)) #::GMG::ERROR en Jupyter, NO en iPython\n",
        "print(\"(d, reference, type, check type)\")\n",
        "d = (3>4)\n",
        "display((d,id(d), type(d), type(d) is bool))\n",
        "#::GMG::operators\n",
        "display((1 + 2, 1. + 2))\n",
        "#::GMG::change of reference and type(!!)\n",
        "print(\"(b, reference, type) before ...\")\n",
        "display((b,id(b),type(b))) \n",
        "b = 3 \n",
        "print(\"... (b, reference, type) after\")\n",
        "display((b,id(b),type(b))) \n",
        "print(\"(b, a, +, -, *, **, %, ==, >, <)\")\n",
        "display((b, a, b + a, b - a, a * b, b ** a, b % a, a == b, b > a, b < a))\n",
        "#::GMG::integer division\n",
        "print(\"(b, a, /, //)\")\n",
        "display((b, a, b/a, b//a))\n",
        "#::GMG::type casting\n",
        "#::GMG:: mind the casting behaviour: returns a NEW object with the new type\n",
        "print(\"(b, type, id) before ...\")\n",
        "display((b, type(b), id(b)))\n",
        "print(float(b))\n",
        "print(\" ... (b, type, id) after\")\n",
        "display((b, type(b), id(b)))\n",
        "print(\"(id(float(b)), id(b))\")\n",
        "display((id(float(b)), id(b)))"
      ],
      "execution_count": 22,
      "outputs": [
        {
          "output_type": "stream",
          "text": [
            "<class 'int'>\n",
            "(a, reference, type, check type)\n"
          ],
          "name": "stdout"
        },
        {
          "output_type": "display_data",
          "data": {
            "text/plain": [
              "(2, 10964928, int, True)"
            ]
          },
          "metadata": {
            "tags": []
          }
        },
        {
          "output_type": "stream",
          "text": [
            "<class 'float'>\n",
            "(b, reference, type, check type)\n"
          ],
          "name": "stdout"
        },
        {
          "output_type": "display_data",
          "data": {
            "text/plain": [
              "(3.0, 139852005696016, float, True)"
            ]
          },
          "metadata": {
            "tags": []
          }
        },
        {
          "output_type": "stream",
          "text": [
            "<class 'complex'>\n",
            "(c, reference, type, check type)\n"
          ],
          "name": "stdout"
        },
        {
          "output_type": "display_data",
          "data": {
            "text/plain": [
              "((2+3.4j), 139852005774096, complex, True)"
            ]
          },
          "metadata": {
            "tags": []
          }
        },
        {
          "output_type": "stream",
          "text": [
            "parte real, parte imaginaria, conjugado\n"
          ],
          "name": "stdout"
        },
        {
          "output_type": "display_data",
          "data": {
            "text/plain": [
              "(2.0, 3.4, (2-3.4j))"
            ]
          },
          "metadata": {
            "tags": []
          }
        },
        {
          "output_type": "stream",
          "text": [
            "<class 'bool'>\n",
            "(d, reference, type, check type)\n"
          ],
          "name": "stdout"
        },
        {
          "output_type": "display_data",
          "data": {
            "text/plain": [
              "(False, 10412320, bool, True)"
            ]
          },
          "metadata": {
            "tags": []
          }
        },
        {
          "output_type": "display_data",
          "data": {
            "text/plain": [
              "(3, 3.0)"
            ]
          },
          "metadata": {
            "tags": []
          }
        },
        {
          "output_type": "stream",
          "text": [
            "(b, reference, type) before ...\n"
          ],
          "name": "stdout"
        },
        {
          "output_type": "display_data",
          "data": {
            "text/plain": [
              "(3.0, 139852005696016, float)"
            ]
          },
          "metadata": {
            "tags": []
          }
        },
        {
          "output_type": "stream",
          "text": [
            "... (b, reference, type) after\n"
          ],
          "name": "stdout"
        },
        {
          "output_type": "display_data",
          "data": {
            "text/plain": [
              "(3, 10964960, int)"
            ]
          },
          "metadata": {
            "tags": []
          }
        },
        {
          "output_type": "stream",
          "text": [
            "(b, a, +, -, *, **, %, ==, >, <)\n"
          ],
          "name": "stdout"
        },
        {
          "output_type": "display_data",
          "data": {
            "text/plain": [
              "(3, 2, 5, 1, 6, 9, 1, False, True, False)"
            ]
          },
          "metadata": {
            "tags": []
          }
        },
        {
          "output_type": "stream",
          "text": [
            "(b, a, /, //)\n"
          ],
          "name": "stdout"
        },
        {
          "output_type": "display_data",
          "data": {
            "text/plain": [
              "(3, 2, 1.5, 1)"
            ]
          },
          "metadata": {
            "tags": []
          }
        },
        {
          "output_type": "stream",
          "text": [
            "(b, type, id) before ...\n"
          ],
          "name": "stdout"
        },
        {
          "output_type": "display_data",
          "data": {
            "text/plain": [
              "(3, int, 10964960)"
            ]
          },
          "metadata": {
            "tags": []
          }
        },
        {
          "output_type": "stream",
          "text": [
            "3.0\n",
            " ... (b, type, id) after\n"
          ],
          "name": "stdout"
        },
        {
          "output_type": "display_data",
          "data": {
            "text/plain": [
              "(3, int, 10964960)"
            ]
          },
          "metadata": {
            "tags": []
          }
        },
        {
          "output_type": "stream",
          "text": [
            "(id(float(b)), id(b))\n"
          ],
          "name": "stdout"
        },
        {
          "output_type": "display_data",
          "data": {
            "text/plain": [
              "(139852375423376, 10964960)"
            ]
          },
          "metadata": {
            "tags": []
          }
        }
      ]
    },
    {
      "metadata": {
        "id": "5XJrtgEQsU_u",
        "colab_type": "code",
        "colab": {
          "base_uri": "https://localhost:8080/",
          "height": 1251
        },
        "outputId": "9607e9ea-81e2-4c7f-a668-23a3e85ed5af"
      },
      "cell_type": "code",
      "source": [
        "#::GMG::Everything is an object (!) ...\n",
        "b = float(b)\n",
        "print(\"is instance (a,b,c,d)\")\n",
        "display((isinstance(a,int), isinstance(b,float), \\\n",
        "         isinstance(c, complex), isinstance(d,bool)))\n",
        "print(\"(method, type)\")\n",
        "#::GMG::Without operator () you mean the attribute/method\n",
        "display((c.conjugate, type(c.conjugate)))\n",
        "#::GMG::... that may be changed in place (mind the reference b to a)...\n",
        "print(\"a is b before (b = a): \", a is b)\n",
        "b = a\n",
        "print(\"after (b = a) --> (a, b, reference a, reference b, type b, check identity)\")\n",
        "display((a, b, id(a), id(b), type(b), a is b))\n",
        "#::GMG::Float objects inside complex\n",
        "print(\"(c, id(c), c.real, type c.real, id c.real, c.imag, type c.imag, id c.imag)\")\n",
        "display((c, id(c), c.real, type(c.real), id(c.real), \\\n",
        "         c.imag, type(c.imag), id(c.imag)))\n",
        "#::GMG::Objects have attributes and methods (__ means hidden or private methods\n",
        "#       ... OOP stuff)\n",
        "#       see: https://stackoverflow.com/questions/2675028/list-attributes-of-an-object\n",
        "print(\"Methods/attributes of a complex object c\")\n",
        "dir(c)"
      ],
      "execution_count": 23,
      "outputs": [
        {
          "output_type": "stream",
          "text": [
            "is instance (a,b,c,d)\n"
          ],
          "name": "stdout"
        },
        {
          "output_type": "display_data",
          "data": {
            "text/plain": [
              "(True, True, True, True)"
            ]
          },
          "metadata": {
            "tags": []
          }
        },
        {
          "output_type": "stream",
          "text": [
            "(method, type)\n"
          ],
          "name": "stdout"
        },
        {
          "output_type": "display_data",
          "data": {
            "text/plain": [
              "(<function complex.conjugate>, builtin_function_or_method)"
            ]
          },
          "metadata": {
            "tags": []
          }
        },
        {
          "output_type": "stream",
          "text": [
            "a is b before (b = a):  False\n",
            "after (b = a) --> (a, b, reference a, reference b, type b, check identity)\n"
          ],
          "name": "stdout"
        },
        {
          "output_type": "display_data",
          "data": {
            "text/plain": [
              "(2, 2, 10964928, 10964928, int, True)"
            ]
          },
          "metadata": {
            "tags": []
          }
        },
        {
          "output_type": "stream",
          "text": [
            "(c, id(c), c.real, type c.real, id c.real, c.imag, type c.imag, id c.imag)\n"
          ],
          "name": "stdout"
        },
        {
          "output_type": "display_data",
          "data": {
            "text/plain": [
              "((2+3.4j),\n",
              " 139852005774096,\n",
              " 2.0,\n",
              " float,\n",
              " 139852005695584,\n",
              " 3.4,\n",
              " float,\n",
              " 139852005695560)"
            ]
          },
          "metadata": {
            "tags": []
          }
        },
        {
          "output_type": "stream",
          "text": [
            "Methods/attributes of a complex object c\n"
          ],
          "name": "stdout"
        },
        {
          "output_type": "execute_result",
          "data": {
            "text/plain": [
              "['__abs__',\n",
              " '__add__',\n",
              " '__bool__',\n",
              " '__class__',\n",
              " '__delattr__',\n",
              " '__dir__',\n",
              " '__divmod__',\n",
              " '__doc__',\n",
              " '__eq__',\n",
              " '__float__',\n",
              " '__floordiv__',\n",
              " '__format__',\n",
              " '__ge__',\n",
              " '__getattribute__',\n",
              " '__getnewargs__',\n",
              " '__gt__',\n",
              " '__hash__',\n",
              " '__init__',\n",
              " '__init_subclass__',\n",
              " '__int__',\n",
              " '__le__',\n",
              " '__lt__',\n",
              " '__mod__',\n",
              " '__mul__',\n",
              " '__ne__',\n",
              " '__neg__',\n",
              " '__new__',\n",
              " '__pos__',\n",
              " '__pow__',\n",
              " '__radd__',\n",
              " '__rdivmod__',\n",
              " '__reduce__',\n",
              " '__reduce_ex__',\n",
              " '__repr__',\n",
              " '__rfloordiv__',\n",
              " '__rmod__',\n",
              " '__rmul__',\n",
              " '__rpow__',\n",
              " '__rsub__',\n",
              " '__rtruediv__',\n",
              " '__setattr__',\n",
              " '__sizeof__',\n",
              " '__str__',\n",
              " '__sub__',\n",
              " '__subclasshook__',\n",
              " '__truediv__',\n",
              " 'conjugate',\n",
              " 'imag',\n",
              " 'real']"
            ]
          },
          "metadata": {
            "tags": []
          },
          "execution_count": 23
        }
      ]
    },
    {
      "metadata": {
        "id": "bwyWkiLWjs3d",
        "colab_type": "text"
      },
      "cell_type": "markdown",
      "source": [
        "#### Containers\n",
        "\n",
        "List (indexing, counting, slicing, modifiyng methods:append, pop, slicing again,  extend, reverse, concatenate, sort, mutable)\n",
        "\n",
        "String (quotes, backslash, newline, tab, indexing, slicing, unicode, immutable, replace, manipulation, looking for patterns, formatting)\n",
        "\n",
        "Dictionaries (keys, values, any type, mutable)\n",
        "\n",
        "Tuples (immutable list, )\n",
        "\n",
        "Sets (unordered, unique, operations, in)\n",
        "\n",
        "Mutable {in place changable}/Immutable {unmodifiable}\n",
        "\n",
        "Object Tab method discovery\n",
        "\n",
        "#### Assignment operator\n",
        "\n",
        "(re)bind names to values (more than one bind, list indexing/slicing in-place changes, )\n",
        "\n",
        "modifiy attributes or items of mutable objects\n"
      ]
    }
  ]
}