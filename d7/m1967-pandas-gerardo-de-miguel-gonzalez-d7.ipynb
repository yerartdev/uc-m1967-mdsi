{
 "cells": [
  {
   "cell_type": "markdown",
   "metadata": {
    "colab_type": "text",
    "id": "2-NhDKkArAN_"
   },
   "source": [
    "# Alumno: Gerardo de Miguel González"
   ]
  },
  {
   "cell_type": "markdown",
   "metadata": {
    "colab_type": "text",
    "id": "Ncaaehe5qtzO"
   },
   "source": [
    "# Tarea de seguimiento Pandas\n",
    "\n",
    "## Ejercicios de seguimiento: PANDAS\n",
    "\n",
    "Crea un notebook de jupyter reproduciendo los ejemplos y comentarios del tutorial de 10 minutos PANDAS (1). El nombre del fichero para este notebook será TutorialPandas.ipynb. Subir también la versión HTML del notebok\n",
    "\n",
    "---\n",
    "\n",
    "\n",
    "\n",
    "(1) *Referencia*\n",
    "\n",
    " - [Tutorial 10min Pandas](http://pandas.pydata.org/pandas-docs/stable/10min.html)\n",
    "\n"
   ]
  },
  {
   "cell_type": "markdown",
   "metadata": {
    "colab_type": "text",
    "id": "MkkphTT8rNtn"
   },
   "source": [
    "### 10 Minutes to pandas\n",
    "\n",
    "You can see more complex recipes in the [Cookbook](http://pandas.pydata.org/pandas-docs/stable/cookbook.html#cookbook)."
   ]
  },
  {
   "cell_type": "code",
   "execution_count": 0,
   "metadata": {
    "colab": {},
    "colab_type": "code",
    "id": "NclVr4m8qgsu"
   },
   "outputs": [],
   "source": [
    "#::GMG::So the basic imports are ...\n",
    "import pandas as pd\n",
    "import numpy as np\n",
    "import matplotlib.pyplot as plt"
   ]
  },
  {
   "cell_type": "markdown",
   "metadata": {
    "colab_type": "text",
    "id": "CTOvqK0hsOma"
   },
   "source": [
    "#### Object Creation\n",
    "\n",
    "See the [Data Structure Intro section](http://pandas.pydata.org/pandas-docs/stable/dsintro.html#dsintro).\n",
    "\n",
    "Creating a `Series` by passing a list of values, letting pandas create a default integer index:"
   ]
  },
  {
   "cell_type": "code",
   "execution_count": 7,
   "metadata": {
    "colab": {
     "base_uri": "https://localhost:8080/",
     "height": 156
    },
    "colab_type": "code",
    "executionInfo": {
     "elapsed": 521,
     "status": "ok",
     "timestamp": 1542987617253,
     "user": {
      "displayName": "Gerardo de Miguel",
      "photoUrl": "https://lh3.googleusercontent.com/-LmFLfSn0ThU/AAAAAAAAAAI/AAAAAAAAAkg/xGe-_jxkcZA/s64/photo.jpg",
      "userId": "12735548512534412210"
     },
     "user_tz": -60
    },
    "id": "e4zk4PlZsqoL",
    "outputId": "5a6efbfe-74f5-4e29-b649-d5d5d8f43979"
   },
   "outputs": [
    {
     "name": "stdout",
     "output_type": "stream",
     "text": [
      "0    1.0\n",
      "1    3.0\n",
      "2    5.0\n",
      "3    NaN\n",
      "4    6.0\n",
      "5    8.0\n",
      "dtype: float64\n"
     ]
    },
    {
     "data": {
      "text/plain": [
       "pandas.core.series.Series"
      ]
     },
     "execution_count": 7,
     "metadata": {
      "tags": []
     },
     "output_type": "execute_result"
    }
   ],
   "source": [
    "s = pd.Series([1,3,5,np.nan,6,8])\n",
    "print(s)\n",
    "type(s)"
   ]
  },
  {
   "cell_type": "markdown",
   "metadata": {
    "colab_type": "text",
    "id": "yewj3YbZNHKe"
   },
   "source": [
    "Creating a `DataFrame` by passing a NumPy array, with a datetime index and labeled columns:"
   ]
  },
  {
   "cell_type": "code",
   "execution_count": 8,
   "metadata": {
    "colab": {
     "base_uri": "https://localhost:8080/",
     "height": 87
    },
    "colab_type": "code",
    "executionInfo": {
     "elapsed": 554,
     "status": "ok",
     "timestamp": 1542987640973,
     "user": {
      "displayName": "Gerardo de Miguel",
      "photoUrl": "https://lh3.googleusercontent.com/-LmFLfSn0ThU/AAAAAAAAAAI/AAAAAAAAAkg/xGe-_jxkcZA/s64/photo.jpg",
      "userId": "12735548512534412210"
     },
     "user_tz": -60
    },
    "id": "9yzzFGGoNMYt",
    "outputId": "71df7edd-f1d2-4be7-9633-3848f31cd643"
   },
   "outputs": [
    {
     "name": "stdout",
     "output_type": "stream",
     "text": [
      "DatetimeIndex(['2013-01-01', '2013-01-02', '2013-01-03', '2013-01-04',\n",
      "               '2013-01-05', '2013-01-06'],\n",
      "              dtype='datetime64[ns]', freq='D')\n"
     ]
    },
    {
     "data": {
      "text/plain": [
       "pandas.core.indexes.datetimes.DatetimeIndex"
      ]
     },
     "execution_count": 8,
     "metadata": {
      "tags": []
     },
     "output_type": "execute_result"
    }
   ],
   "source": [
    "dates = pd.date_range('20130101', periods=6)\n",
    "print(dates)\n",
    "type(dates)"
   ]
  },
  {
   "cell_type": "code",
   "execution_count": 9,
   "metadata": {
    "colab": {
     "base_uri": "https://localhost:8080/",
     "height": 156
    },
    "colab_type": "code",
    "executionInfo": {
     "elapsed": 533,
     "status": "ok",
     "timestamp": 1542987662159,
     "user": {
      "displayName": "Gerardo de Miguel",
      "photoUrl": "https://lh3.googleusercontent.com/-LmFLfSn0ThU/AAAAAAAAAAI/AAAAAAAAAkg/xGe-_jxkcZA/s64/photo.jpg",
      "userId": "12735548512534412210"
     },
     "user_tz": -60
    },
    "id": "gnr721g7NdH5",
    "outputId": "3a0255e0-ef38-4431-df00-b6eb5900e6e9"
   },
   "outputs": [
    {
     "name": "stdout",
     "output_type": "stream",
     "text": [
      "                   A         B         C         D\n",
      "2013-01-01 -0.326199 -0.344602 -0.695989  1.083588\n",
      "2013-01-02 -0.047375  0.084995 -0.631822  0.244230\n",
      "2013-01-03 -0.248123  0.176343  1.000584 -0.803270\n",
      "2013-01-04 -1.129952 -0.378938  1.561718  0.855326\n",
      "2013-01-05 -0.578888  0.266593 -0.075044  1.141016\n",
      "2013-01-06 -0.660654 -1.417122  0.141583 -0.688961\n"
     ]
    },
    {
     "data": {
      "text/plain": [
       "pandas.core.frame.DataFrame"
      ]
     },
     "execution_count": 9,
     "metadata": {
      "tags": []
     },
     "output_type": "execute_result"
    }
   ],
   "source": [
    "df = pd.DataFrame(np.random.randn(6,4), \n",
    "                  index=dates, \n",
    "                  columns=list('ABCD'))\n",
    "print(df)\n",
    "type(df)"
   ]
  },
  {
   "cell_type": "markdown",
   "metadata": {
    "colab_type": "text",
    "id": "0jMK7nUCNyPn"
   },
   "source": [
    "Creating a `DataFrame` by passing a `dict` of objects that can be converted to series-like."
   ]
  },
  {
   "cell_type": "code",
   "execution_count": 10,
   "metadata": {
    "colab": {
     "base_uri": "https://localhost:8080/",
     "height": 104
    },
    "colab_type": "code",
    "executionInfo": {
     "elapsed": 563,
     "status": "ok",
     "timestamp": 1542987689787,
     "user": {
      "displayName": "Gerardo de Miguel",
      "photoUrl": "https://lh3.googleusercontent.com/-LmFLfSn0ThU/AAAAAAAAAAI/AAAAAAAAAkg/xGe-_jxkcZA/s64/photo.jpg",
      "userId": "12735548512534412210"
     },
     "user_tz": -60
    },
    "id": "XHhdZ-vXOAzA",
    "outputId": "c8f747d6-c2b3-4ec3-e8ad-48f1a68267ca"
   },
   "outputs": [
    {
     "name": "stdout",
     "output_type": "stream",
     "text": [
      "     A          B    C  D      E    F\n",
      "0  1.0 2013-01-02  1.0  3   test  foo\n",
      "1  1.0 2013-01-02  1.0  3  train  foo\n",
      "2  1.0 2013-01-02  1.0  3   test  foo\n",
      "3  1.0 2013-01-02  1.0  3  train  foo\n"
     ]
    }
   ],
   "source": [
    "df2 = pd.DataFrame({ 'A' : 1.,\n",
    "                     'B' : pd.Timestamp('20130102'),\n",
    "                     'C' : pd.Series(1,index=list(range(4)),dtype='float32'),\n",
    "                     'D' : np.array([3] * 4,dtype='int32'),\n",
    "                     'E' : pd.Categorical([\"test\",\"train\",\"test\",\"train\"]),\n",
    "                     'F' : 'foo' })\n",
    "print(df2)"
   ]
  },
  {
   "cell_type": "markdown",
   "metadata": {
    "colab_type": "text",
    "id": "-9lpe0ioPFH4"
   },
   "source": [
    "The *columns* of the resulting `DataFrame` have different `dtypes`."
   ]
  },
  {
   "cell_type": "code",
   "execution_count": 11,
   "metadata": {
    "colab": {
     "base_uri": "https://localhost:8080/",
     "height": 139
    },
    "colab_type": "code",
    "executionInfo": {
     "elapsed": 594,
     "status": "ok",
     "timestamp": 1542987797387,
     "user": {
      "displayName": "Gerardo de Miguel",
      "photoUrl": "https://lh3.googleusercontent.com/-LmFLfSn0ThU/AAAAAAAAAAI/AAAAAAAAAkg/xGe-_jxkcZA/s64/photo.jpg",
      "userId": "12735548512534412210"
     },
     "user_tz": -60
    },
    "id": "d0mNqcqqPMie",
    "outputId": "4203dbd9-1c74-4020-e47e-86ad39aeb488"
   },
   "outputs": [
    {
     "data": {
      "text/plain": [
       "A           float64\n",
       "B    datetime64[ns]\n",
       "C           float32\n",
       "D             int32\n",
       "E          category\n",
       "F            object\n",
       "dtype: object"
      ]
     },
     "execution_count": 11,
     "metadata": {
      "tags": []
     },
     "output_type": "execute_result"
    }
   ],
   "source": [
    "df2.dtypes"
   ]
  },
  {
   "cell_type": "code",
   "execution_count": 12,
   "metadata": {
    "colab": {
     "base_uri": "https://localhost:8080/",
     "height": 104
    },
    "colab_type": "code",
    "executionInfo": {
     "elapsed": 569,
     "status": "ok",
     "timestamp": 1542987801655,
     "user": {
      "displayName": "Gerardo de Miguel",
      "photoUrl": "https://lh3.googleusercontent.com/-LmFLfSn0ThU/AAAAAAAAAAI/AAAAAAAAAkg/xGe-_jxkcZA/s64/photo.jpg",
      "userId": "12735548512534412210"
     },
     "user_tz": -60
    },
    "id": "VXdq3ciHPRaO",
    "outputId": "08fedeeb-73b9-49b1-95b9-500a463f6f74"
   },
   "outputs": [
    {
     "data": {
      "text/plain": [
       "A    float64\n",
       "B    float64\n",
       "C    float64\n",
       "D    float64\n",
       "dtype: object"
      ]
     },
     "execution_count": 12,
     "metadata": {
      "tags": []
     },
     "output_type": "execute_result"
    }
   ],
   "source": [
    "df.dtypes"
   ]
  },
  {
   "cell_type": "markdown",
   "metadata": {
    "colab_type": "text",
    "id": "1ktQ6-aePbSu"
   },
   "source": [
    "#### Viewing data\n",
    "\n",
    "See the [Basics section](http://pandas.pydata.org/pandas-docs/stable/basics.html#basics).\n",
    "\n",
    "Here is how to view the top and bottom rows of the frame:"
   ]
  },
  {
   "cell_type": "code",
   "execution_count": 13,
   "metadata": {
    "colab": {
     "base_uri": "https://localhost:8080/",
     "height": 202
    },
    "colab_type": "code",
    "executionInfo": {
     "elapsed": 558,
     "status": "ok",
     "timestamp": 1542988411446,
     "user": {
      "displayName": "Gerardo de Miguel",
      "photoUrl": "https://lh3.googleusercontent.com/-LmFLfSn0ThU/AAAAAAAAAAI/AAAAAAAAAkg/xGe-_jxkcZA/s64/photo.jpg",
      "userId": "12735548512534412210"
     },
     "user_tz": -60
    },
    "id": "Vqvn1pXURS_t",
    "outputId": "b0eaad3b-cc40-49b1-d161-8c0fac143db6"
   },
   "outputs": [
    {
     "data": {
      "text/html": [
       "<div>\n",
       "<style scoped>\n",
       "    .dataframe tbody tr th:only-of-type {\n",
       "        vertical-align: middle;\n",
       "    }\n",
       "\n",
       "    .dataframe tbody tr th {\n",
       "        vertical-align: top;\n",
       "    }\n",
       "\n",
       "    .dataframe thead th {\n",
       "        text-align: right;\n",
       "    }\n",
       "</style>\n",
       "<table border=\"1\" class=\"dataframe\">\n",
       "  <thead>\n",
       "    <tr style=\"text-align: right;\">\n",
       "      <th></th>\n",
       "      <th>A</th>\n",
       "      <th>B</th>\n",
       "      <th>C</th>\n",
       "      <th>D</th>\n",
       "    </tr>\n",
       "  </thead>\n",
       "  <tbody>\n",
       "    <tr>\n",
       "      <th>2013-01-01</th>\n",
       "      <td>-0.326199</td>\n",
       "      <td>-0.344602</td>\n",
       "      <td>-0.695989</td>\n",
       "      <td>1.083588</td>\n",
       "    </tr>\n",
       "    <tr>\n",
       "      <th>2013-01-02</th>\n",
       "      <td>-0.047375</td>\n",
       "      <td>0.084995</td>\n",
       "      <td>-0.631822</td>\n",
       "      <td>0.244230</td>\n",
       "    </tr>\n",
       "    <tr>\n",
       "      <th>2013-01-03</th>\n",
       "      <td>-0.248123</td>\n",
       "      <td>0.176343</td>\n",
       "      <td>1.000584</td>\n",
       "      <td>-0.803270</td>\n",
       "    </tr>\n",
       "    <tr>\n",
       "      <th>2013-01-04</th>\n",
       "      <td>-1.129952</td>\n",
       "      <td>-0.378938</td>\n",
       "      <td>1.561718</td>\n",
       "      <td>0.855326</td>\n",
       "    </tr>\n",
       "    <tr>\n",
       "      <th>2013-01-05</th>\n",
       "      <td>-0.578888</td>\n",
       "      <td>0.266593</td>\n",
       "      <td>-0.075044</td>\n",
       "      <td>1.141016</td>\n",
       "    </tr>\n",
       "  </tbody>\n",
       "</table>\n",
       "</div>"
      ],
      "text/plain": [
       "                   A         B         C         D\n",
       "2013-01-01 -0.326199 -0.344602 -0.695989  1.083588\n",
       "2013-01-02 -0.047375  0.084995 -0.631822  0.244230\n",
       "2013-01-03 -0.248123  0.176343  1.000584 -0.803270\n",
       "2013-01-04 -1.129952 -0.378938  1.561718  0.855326\n",
       "2013-01-05 -0.578888  0.266593 -0.075044  1.141016"
      ]
     },
     "execution_count": 13,
     "metadata": {
      "tags": []
     },
     "output_type": "execute_result"
    }
   ],
   "source": [
    "df.head()"
   ]
  },
  {
   "cell_type": "code",
   "execution_count": 14,
   "metadata": {
    "colab": {
     "base_uri": "https://localhost:8080/",
     "height": 141
    },
    "colab_type": "code",
    "executionInfo": {
     "elapsed": 656,
     "status": "ok",
     "timestamp": 1542988414801,
     "user": {
      "displayName": "Gerardo de Miguel",
      "photoUrl": "https://lh3.googleusercontent.com/-LmFLfSn0ThU/AAAAAAAAAAI/AAAAAAAAAkg/xGe-_jxkcZA/s64/photo.jpg",
      "userId": "12735548512534412210"
     },
     "user_tz": -60
    },
    "id": "3EKOGXdIRpLe",
    "outputId": "8f46586a-b2c7-4c3e-fa83-13b8da8dc810"
   },
   "outputs": [
    {
     "data": {
      "text/html": [
       "<div>\n",
       "<style scoped>\n",
       "    .dataframe tbody tr th:only-of-type {\n",
       "        vertical-align: middle;\n",
       "    }\n",
       "\n",
       "    .dataframe tbody tr th {\n",
       "        vertical-align: top;\n",
       "    }\n",
       "\n",
       "    .dataframe thead th {\n",
       "        text-align: right;\n",
       "    }\n",
       "</style>\n",
       "<table border=\"1\" class=\"dataframe\">\n",
       "  <thead>\n",
       "    <tr style=\"text-align: right;\">\n",
       "      <th></th>\n",
       "      <th>A</th>\n",
       "      <th>B</th>\n",
       "      <th>C</th>\n",
       "      <th>D</th>\n",
       "    </tr>\n",
       "  </thead>\n",
       "  <tbody>\n",
       "    <tr>\n",
       "      <th>2013-01-04</th>\n",
       "      <td>-1.129952</td>\n",
       "      <td>-0.378938</td>\n",
       "      <td>1.561718</td>\n",
       "      <td>0.855326</td>\n",
       "    </tr>\n",
       "    <tr>\n",
       "      <th>2013-01-05</th>\n",
       "      <td>-0.578888</td>\n",
       "      <td>0.266593</td>\n",
       "      <td>-0.075044</td>\n",
       "      <td>1.141016</td>\n",
       "    </tr>\n",
       "    <tr>\n",
       "      <th>2013-01-06</th>\n",
       "      <td>-0.660654</td>\n",
       "      <td>-1.417122</td>\n",
       "      <td>0.141583</td>\n",
       "      <td>-0.688961</td>\n",
       "    </tr>\n",
       "  </tbody>\n",
       "</table>\n",
       "</div>"
      ],
      "text/plain": [
       "                   A         B         C         D\n",
       "2013-01-04 -1.129952 -0.378938  1.561718  0.855326\n",
       "2013-01-05 -0.578888  0.266593 -0.075044  1.141016\n",
       "2013-01-06 -0.660654 -1.417122  0.141583 -0.688961"
      ]
     },
     "execution_count": 14,
     "metadata": {
      "tags": []
     },
     "output_type": "execute_result"
    }
   ],
   "source": [
    "df.tail(3)"
   ]
  },
  {
   "cell_type": "markdown",
   "metadata": {
    "colab_type": "text",
    "id": "0lUpiWQIRUk3"
   },
   "source": [
    "Display the index, columns, and the underlying NumPy data:"
   ]
  },
  {
   "cell_type": "code",
   "execution_count": 19,
   "metadata": {
    "colab": {
     "base_uri": "https://localhost:8080/",
     "height": 87
    },
    "colab_type": "code",
    "executionInfo": {
     "elapsed": 547,
     "status": "ok",
     "timestamp": 1542988576383,
     "user": {
      "displayName": "Gerardo de Miguel",
      "photoUrl": "https://lh3.googleusercontent.com/-LmFLfSn0ThU/AAAAAAAAAAI/AAAAAAAAAkg/xGe-_jxkcZA/s64/photo.jpg",
      "userId": "12735548512534412210"
     },
     "user_tz": -60
    },
    "id": "i-m1IPXbRu_K",
    "outputId": "e99bbad6-9a60-4a1e-8944-6be47e4636f2"
   },
   "outputs": [
    {
     "data": {
      "text/plain": [
       "DatetimeIndex(['2013-01-01', '2013-01-02', '2013-01-03', '2013-01-04',\n",
       "               '2013-01-05', '2013-01-06'],\n",
       "              dtype='datetime64[ns]', freq='D')"
      ]
     },
     "metadata": {
      "tags": []
     },
     "output_type": "display_data"
    },
    {
     "data": {
      "text/plain": [
       "Int64Index([0, 1, 2, 3], dtype='int64')"
      ]
     },
     "metadata": {
      "tags": []
     },
     "output_type": "display_data"
    }
   ],
   "source": [
    "display(df.index, df2.index)"
   ]
  },
  {
   "cell_type": "code",
   "execution_count": 20,
   "metadata": {
    "colab": {
     "base_uri": "https://localhost:8080/",
     "height": 52
    },
    "colab_type": "code",
    "executionInfo": {
     "elapsed": 542,
     "status": "ok",
     "timestamp": 1542988604018,
     "user": {
      "displayName": "Gerardo de Miguel",
      "photoUrl": "https://lh3.googleusercontent.com/-LmFLfSn0ThU/AAAAAAAAAAI/AAAAAAAAAkg/xGe-_jxkcZA/s64/photo.jpg",
      "userId": "12735548512534412210"
     },
     "user_tz": -60
    },
    "id": "KHwxbKtYRyJ2",
    "outputId": "256c4a64-e902-48a9-8467-5f577f702b74"
   },
   "outputs": [
    {
     "data": {
      "text/plain": [
       "Index(['A', 'B', 'C', 'D'], dtype='object')"
      ]
     },
     "metadata": {
      "tags": []
     },
     "output_type": "display_data"
    },
    {
     "data": {
      "text/plain": [
       "Index(['A', 'B', 'C', 'D', 'E', 'F'], dtype='object')"
      ]
     },
     "metadata": {
      "tags": []
     },
     "output_type": "display_data"
    }
   ],
   "source": [
    "display(df.columns, df2.columns)"
   ]
  },
  {
   "cell_type": "code",
   "execution_count": 21,
   "metadata": {
    "colab": {
     "base_uri": "https://localhost:8080/",
     "height": 208
    },
    "colab_type": "code",
    "executionInfo": {
     "elapsed": 510,
     "status": "ok",
     "timestamp": 1542988632592,
     "user": {
      "displayName": "Gerardo de Miguel",
      "photoUrl": "https://lh3.googleusercontent.com/-LmFLfSn0ThU/AAAAAAAAAAI/AAAAAAAAAkg/xGe-_jxkcZA/s64/photo.jpg",
      "userId": "12735548512534412210"
     },
     "user_tz": -60
    },
    "id": "fogWYgx5R0l1",
    "outputId": "1c5352b8-834c-46a3-ece0-2193c3d05615"
   },
   "outputs": [
    {
     "data": {
      "text/plain": [
       "array([[-0.32619948, -0.34460198, -0.69598933,  1.083588  ],\n",
       "       [-0.04737536,  0.08499546, -0.63182185,  0.24423033],\n",
       "       [-0.24812276,  0.17634263,  1.00058402, -0.80326973],\n",
       "       [-1.1299519 , -0.37893831,  1.56171824,  0.85532553],\n",
       "       [-0.57888782,  0.2665933 , -0.07504442,  1.14101602],\n",
       "       [-0.66065421, -1.41712208,  0.1415834 , -0.68896116]])"
      ]
     },
     "metadata": {
      "tags": []
     },
     "output_type": "display_data"
    },
    {
     "data": {
      "text/plain": [
       "array([[1.0, Timestamp('2013-01-02 00:00:00'), 1.0, 3, 'test', 'foo'],\n",
       "       [1.0, Timestamp('2013-01-02 00:00:00'), 1.0, 3, 'train', 'foo'],\n",
       "       [1.0, Timestamp('2013-01-02 00:00:00'), 1.0, 3, 'test', 'foo'],\n",
       "       [1.0, Timestamp('2013-01-02 00:00:00'), 1.0, 3, 'train', 'foo']],\n",
       "      dtype=object)"
      ]
     },
     "metadata": {
      "tags": []
     },
     "output_type": "display_data"
    }
   ],
   "source": [
    "display(df.values, df2.values)"
   ]
  },
  {
   "cell_type": "markdown",
   "metadata": {
    "colab_type": "text",
    "id": "ZPwwFS3MSnn1"
   },
   "source": [
    "[describe()](http://pandas.pydata.org/pandas-docs/stable/generated/pandas.DataFrame.describe.html#pandas.DataFrame.describe) shows a quick statistic summary of your data:"
   ]
  },
  {
   "cell_type": "code",
   "execution_count": 22,
   "metadata": {
    "colab": {
     "base_uri": "https://localhost:8080/",
     "height": 294
    },
    "colab_type": "code",
    "executionInfo": {
     "elapsed": 562,
     "status": "ok",
     "timestamp": 1542988730263,
     "user": {
      "displayName": "Gerardo de Miguel",
      "photoUrl": "https://lh3.googleusercontent.com/-LmFLfSn0ThU/AAAAAAAAAAI/AAAAAAAAAkg/xGe-_jxkcZA/s64/photo.jpg",
      "userId": "12735548512534412210"
     },
     "user_tz": -60
    },
    "id": "l_aQ5VkIS14S",
    "outputId": "4ec373f0-395d-4e96-b04e-c58c6c9af698"
   },
   "outputs": [
    {
     "data": {
      "text/html": [
       "<div>\n",
       "<style scoped>\n",
       "    .dataframe tbody tr th:only-of-type {\n",
       "        vertical-align: middle;\n",
       "    }\n",
       "\n",
       "    .dataframe tbody tr th {\n",
       "        vertical-align: top;\n",
       "    }\n",
       "\n",
       "    .dataframe thead th {\n",
       "        text-align: right;\n",
       "    }\n",
       "</style>\n",
       "<table border=\"1\" class=\"dataframe\">\n",
       "  <thead>\n",
       "    <tr style=\"text-align: right;\">\n",
       "      <th></th>\n",
       "      <th>A</th>\n",
       "      <th>B</th>\n",
       "      <th>C</th>\n",
       "      <th>D</th>\n",
       "    </tr>\n",
       "  </thead>\n",
       "  <tbody>\n",
       "    <tr>\n",
       "      <th>count</th>\n",
       "      <td>6.000000</td>\n",
       "      <td>6.000000</td>\n",
       "      <td>6.000000</td>\n",
       "      <td>6.000000</td>\n",
       "    </tr>\n",
       "    <tr>\n",
       "      <th>mean</th>\n",
       "      <td>-0.498532</td>\n",
       "      <td>-0.268788</td>\n",
       "      <td>0.216838</td>\n",
       "      <td>0.305321</td>\n",
       "    </tr>\n",
       "    <tr>\n",
       "      <th>std</th>\n",
       "      <td>0.381412</td>\n",
       "      <td>0.623937</td>\n",
       "      <td>0.901920</td>\n",
       "      <td>0.874974</td>\n",
       "    </tr>\n",
       "    <tr>\n",
       "      <th>min</th>\n",
       "      <td>-1.129952</td>\n",
       "      <td>-1.417122</td>\n",
       "      <td>-0.695989</td>\n",
       "      <td>-0.803270</td>\n",
       "    </tr>\n",
       "    <tr>\n",
       "      <th>25%</th>\n",
       "      <td>-0.640213</td>\n",
       "      <td>-0.370354</td>\n",
       "      <td>-0.492627</td>\n",
       "      <td>-0.455663</td>\n",
       "    </tr>\n",
       "    <tr>\n",
       "      <th>50%</th>\n",
       "      <td>-0.452544</td>\n",
       "      <td>-0.129803</td>\n",
       "      <td>0.033269</td>\n",
       "      <td>0.549778</td>\n",
       "    </tr>\n",
       "    <tr>\n",
       "      <th>75%</th>\n",
       "      <td>-0.267642</td>\n",
       "      <td>0.153506</td>\n",
       "      <td>0.785834</td>\n",
       "      <td>1.026522</td>\n",
       "    </tr>\n",
       "    <tr>\n",
       "      <th>max</th>\n",
       "      <td>-0.047375</td>\n",
       "      <td>0.266593</td>\n",
       "      <td>1.561718</td>\n",
       "      <td>1.141016</td>\n",
       "    </tr>\n",
       "  </tbody>\n",
       "</table>\n",
       "</div>"
      ],
      "text/plain": [
       "              A         B         C         D\n",
       "count  6.000000  6.000000  6.000000  6.000000\n",
       "mean  -0.498532 -0.268788  0.216838  0.305321\n",
       "std    0.381412  0.623937  0.901920  0.874974\n",
       "min   -1.129952 -1.417122 -0.695989 -0.803270\n",
       "25%   -0.640213 -0.370354 -0.492627 -0.455663\n",
       "50%   -0.452544 -0.129803  0.033269  0.549778\n",
       "75%   -0.267642  0.153506  0.785834  1.026522\n",
       "max   -0.047375  0.266593  1.561718  1.141016"
      ]
     },
     "execution_count": 22,
     "metadata": {
      "tags": []
     },
     "output_type": "execute_result"
    }
   ],
   "source": [
    "df.describe()"
   ]
  },
  {
   "cell_type": "markdown",
   "metadata": {
    "colab_type": "text",
    "id": "8j6UNur8THEj"
   },
   "source": [
    "Transposing your data:"
   ]
  },
  {
   "cell_type": "code",
   "execution_count": 24,
   "metadata": {
    "colab": {
     "base_uri": "https://localhost:8080/",
     "height": 173
    },
    "colab_type": "code",
    "executionInfo": {
     "elapsed": 517,
     "status": "ok",
     "timestamp": 1542988908217,
     "user": {
      "displayName": "Gerardo de Miguel",
      "photoUrl": "https://lh3.googleusercontent.com/-LmFLfSn0ThU/AAAAAAAAAAI/AAAAAAAAAkg/xGe-_jxkcZA/s64/photo.jpg",
      "userId": "12735548512534412210"
     },
     "user_tz": -60
    },
    "id": "6FxVtZfGTIou",
    "outputId": "03242f95-b734-4735-c417-6f0f03ba6eb9"
   },
   "outputs": [
    {
     "name": "stdout",
     "output_type": "stream",
     "text": [
      "   2013-01-01  2013-01-02  2013-01-03  2013-01-04  2013-01-05  2013-01-06\n",
      "A   -0.326199   -0.047375   -0.248123   -1.129952   -0.578888   -0.660654\n",
      "B   -0.344602    0.084995    0.176343   -0.378938    0.266593   -1.417122\n",
      "C   -0.695989   -0.631822    1.000584    1.561718   -0.075044    0.141583\n",
      "D    1.083588    0.244230   -0.803270    0.855326    1.141016   -0.688961\n",
      "DatetimeIndex(['2013-01-01', '2013-01-02', '2013-01-03', '2013-01-04',\n",
      "               '2013-01-05', '2013-01-06'],\n",
      "              dtype='datetime64[ns]', freq='D')\n",
      "Index(['A', 'B', 'C', 'D'], dtype='object')\n"
     ]
    }
   ],
   "source": [
    "print(df.T)\n",
    "#::GMG::no se cambia el objeto\n",
    "print(df.index)\n",
    "print(df.columns)"
   ]
  },
  {
   "cell_type": "code",
   "execution_count": 25,
   "metadata": {
    "colab": {
     "base_uri": "https://localhost:8080/",
     "height": 87
    },
    "colab_type": "code",
    "executionInfo": {
     "elapsed": 536,
     "status": "ok",
     "timestamp": 1542989002995,
     "user": {
      "displayName": "Gerardo de Miguel",
      "photoUrl": "https://lh3.googleusercontent.com/-LmFLfSn0ThU/AAAAAAAAAAI/AAAAAAAAAkg/xGe-_jxkcZA/s64/photo.jpg",
      "userId": "12735548512534412210"
     },
     "user_tz": -60
    },
    "id": "7YB8lZ7gTqN2",
    "outputId": "a2d4947c-305f-4110-9392-076c762a3e5c"
   },
   "outputs": [
    {
     "name": "stdout",
     "output_type": "stream",
     "text": [
      "Index(['A', 'B', 'C', 'D'], dtype='object')\n",
      "DatetimeIndex(['2013-01-01', '2013-01-02', '2013-01-03', '2013-01-04',\n",
      "               '2013-01-05', '2013-01-06'],\n",
      "              dtype='datetime64[ns]', freq='D')\n"
     ]
    }
   ],
   "source": [
    "#::GMG::Pero se puede ver que el traspuesto si cambia sus propiedades\n",
    "print(df.T.index)\n",
    "print(df.T.columns)"
   ]
  },
  {
   "cell_type": "markdown",
   "metadata": {
    "colab_type": "text",
    "id": "2QCmoxocUHdH"
   },
   "source": [
    "Sorting by an axis:"
   ]
  },
  {
   "cell_type": "code",
   "execution_count": 27,
   "metadata": {
    "colab": {
     "base_uri": "https://localhost:8080/",
     "height": 233
    },
    "colab_type": "code",
    "executionInfo": {
     "elapsed": 674,
     "status": "ok",
     "timestamp": 1542989115760,
     "user": {
      "displayName": "Gerardo de Miguel",
      "photoUrl": "https://lh3.googleusercontent.com/-LmFLfSn0ThU/AAAAAAAAAAI/AAAAAAAAAkg/xGe-_jxkcZA/s64/photo.jpg",
      "userId": "12735548512534412210"
     },
     "user_tz": -60
    },
    "id": "Ll5pXHjJUVkQ",
    "outputId": "d6a47530-9f7c-4bca-f767-7276edae1861"
   },
   "outputs": [
    {
     "data": {
      "text/html": [
       "<div>\n",
       "<style scoped>\n",
       "    .dataframe tbody tr th:only-of-type {\n",
       "        vertical-align: middle;\n",
       "    }\n",
       "\n",
       "    .dataframe tbody tr th {\n",
       "        vertical-align: top;\n",
       "    }\n",
       "\n",
       "    .dataframe thead th {\n",
       "        text-align: right;\n",
       "    }\n",
       "</style>\n",
       "<table border=\"1\" class=\"dataframe\">\n",
       "  <thead>\n",
       "    <tr style=\"text-align: right;\">\n",
       "      <th></th>\n",
       "      <th>A</th>\n",
       "      <th>B</th>\n",
       "      <th>C</th>\n",
       "      <th>D</th>\n",
       "    </tr>\n",
       "  </thead>\n",
       "  <tbody>\n",
       "    <tr>\n",
       "      <th>2013-01-01</th>\n",
       "      <td>-0.326199</td>\n",
       "      <td>-0.344602</td>\n",
       "      <td>-0.695989</td>\n",
       "      <td>1.083588</td>\n",
       "    </tr>\n",
       "    <tr>\n",
       "      <th>2013-01-02</th>\n",
       "      <td>-0.047375</td>\n",
       "      <td>0.084995</td>\n",
       "      <td>-0.631822</td>\n",
       "      <td>0.244230</td>\n",
       "    </tr>\n",
       "    <tr>\n",
       "      <th>2013-01-03</th>\n",
       "      <td>-0.248123</td>\n",
       "      <td>0.176343</td>\n",
       "      <td>1.000584</td>\n",
       "      <td>-0.803270</td>\n",
       "    </tr>\n",
       "    <tr>\n",
       "      <th>2013-01-04</th>\n",
       "      <td>-1.129952</td>\n",
       "      <td>-0.378938</td>\n",
       "      <td>1.561718</td>\n",
       "      <td>0.855326</td>\n",
       "    </tr>\n",
       "    <tr>\n",
       "      <th>2013-01-05</th>\n",
       "      <td>-0.578888</td>\n",
       "      <td>0.266593</td>\n",
       "      <td>-0.075044</td>\n",
       "      <td>1.141016</td>\n",
       "    </tr>\n",
       "    <tr>\n",
       "      <th>2013-01-06</th>\n",
       "      <td>-0.660654</td>\n",
       "      <td>-1.417122</td>\n",
       "      <td>0.141583</td>\n",
       "      <td>-0.688961</td>\n",
       "    </tr>\n",
       "  </tbody>\n",
       "</table>\n",
       "</div>"
      ],
      "text/plain": [
       "                   A         B         C         D\n",
       "2013-01-01 -0.326199 -0.344602 -0.695989  1.083588\n",
       "2013-01-02 -0.047375  0.084995 -0.631822  0.244230\n",
       "2013-01-03 -0.248123  0.176343  1.000584 -0.803270\n",
       "2013-01-04 -1.129952 -0.378938  1.561718  0.855326\n",
       "2013-01-05 -0.578888  0.266593 -0.075044  1.141016\n",
       "2013-01-06 -0.660654 -1.417122  0.141583 -0.688961"
      ]
     },
     "execution_count": 27,
     "metadata": {
      "tags": []
     },
     "output_type": "execute_result"
    }
   ],
   "source": [
    "df"
   ]
  },
  {
   "cell_type": "code",
   "execution_count": 31,
   "metadata": {
    "colab": {
     "base_uri": "https://localhost:8080/",
     "height": 233
    },
    "colab_type": "code",
    "executionInfo": {
     "elapsed": 517,
     "status": "ok",
     "timestamp": 1542989234009,
     "user": {
      "displayName": "Gerardo de Miguel",
      "photoUrl": "https://lh3.googleusercontent.com/-LmFLfSn0ThU/AAAAAAAAAAI/AAAAAAAAAkg/xGe-_jxkcZA/s64/photo.jpg",
      "userId": "12735548512534412210"
     },
     "user_tz": -60
    },
    "id": "j4NvlRlFUIXY",
    "outputId": "2739a6e4-409d-43c1-8c8d-d489951b88a9"
   },
   "outputs": [
    {
     "data": {
      "text/html": [
       "<div>\n",
       "<style scoped>\n",
       "    .dataframe tbody tr th:only-of-type {\n",
       "        vertical-align: middle;\n",
       "    }\n",
       "\n",
       "    .dataframe tbody tr th {\n",
       "        vertical-align: top;\n",
       "    }\n",
       "\n",
       "    .dataframe thead th {\n",
       "        text-align: right;\n",
       "    }\n",
       "</style>\n",
       "<table border=\"1\" class=\"dataframe\">\n",
       "  <thead>\n",
       "    <tr style=\"text-align: right;\">\n",
       "      <th></th>\n",
       "      <th>D</th>\n",
       "      <th>C</th>\n",
       "      <th>B</th>\n",
       "      <th>A</th>\n",
       "    </tr>\n",
       "  </thead>\n",
       "  <tbody>\n",
       "    <tr>\n",
       "      <th>2013-01-01</th>\n",
       "      <td>1.083588</td>\n",
       "      <td>-0.695989</td>\n",
       "      <td>-0.344602</td>\n",
       "      <td>-0.326199</td>\n",
       "    </tr>\n",
       "    <tr>\n",
       "      <th>2013-01-02</th>\n",
       "      <td>0.244230</td>\n",
       "      <td>-0.631822</td>\n",
       "      <td>0.084995</td>\n",
       "      <td>-0.047375</td>\n",
       "    </tr>\n",
       "    <tr>\n",
       "      <th>2013-01-03</th>\n",
       "      <td>-0.803270</td>\n",
       "      <td>1.000584</td>\n",
       "      <td>0.176343</td>\n",
       "      <td>-0.248123</td>\n",
       "    </tr>\n",
       "    <tr>\n",
       "      <th>2013-01-04</th>\n",
       "      <td>0.855326</td>\n",
       "      <td>1.561718</td>\n",
       "      <td>-0.378938</td>\n",
       "      <td>-1.129952</td>\n",
       "    </tr>\n",
       "    <tr>\n",
       "      <th>2013-01-05</th>\n",
       "      <td>1.141016</td>\n",
       "      <td>-0.075044</td>\n",
       "      <td>0.266593</td>\n",
       "      <td>-0.578888</td>\n",
       "    </tr>\n",
       "    <tr>\n",
       "      <th>2013-01-06</th>\n",
       "      <td>-0.688961</td>\n",
       "      <td>0.141583</td>\n",
       "      <td>-1.417122</td>\n",
       "      <td>-0.660654</td>\n",
       "    </tr>\n",
       "  </tbody>\n",
       "</table>\n",
       "</div>"
      ],
      "text/plain": [
       "                   D         C         B         A\n",
       "2013-01-01  1.083588 -0.695989 -0.344602 -0.326199\n",
       "2013-01-02  0.244230 -0.631822  0.084995 -0.047375\n",
       "2013-01-03 -0.803270  1.000584  0.176343 -0.248123\n",
       "2013-01-04  0.855326  1.561718 -0.378938 -1.129952\n",
       "2013-01-05  1.141016 -0.075044  0.266593 -0.578888\n",
       "2013-01-06 -0.688961  0.141583 -1.417122 -0.660654"
      ]
     },
     "execution_count": 31,
     "metadata": {
      "tags": []
     },
     "output_type": "execute_result"
    }
   ],
   "source": [
    "#::GMG::Ejes (axis) --> 0 \"vertical\", 1 \"horizontal\"\n",
    "#       Lo que ordena aquí son las \"columnas\" en orden \n",
    "#       descendiente (alfabéticamente)\n",
    "df.sort_index(axis=1, ascending=False)"
   ]
  },
  {
   "cell_type": "code",
   "execution_count": 32,
   "metadata": {
    "colab": {
     "base_uri": "https://localhost:8080/",
     "height": 233
    },
    "colab_type": "code",
    "executionInfo": {
     "elapsed": 565,
     "status": "ok",
     "timestamp": 1542989328782,
     "user": {
      "displayName": "Gerardo de Miguel",
      "photoUrl": "https://lh3.googleusercontent.com/-LmFLfSn0ThU/AAAAAAAAAAI/AAAAAAAAAkg/xGe-_jxkcZA/s64/photo.jpg",
      "userId": "12735548512534412210"
     },
     "user_tz": -60
    },
    "id": "_gOQDLUMVIxj",
    "outputId": "9ffb0c65-fbbd-4f50-e5cb-23464b09dccd"
   },
   "outputs": [
    {
     "data": {
      "text/html": [
       "<div>\n",
       "<style scoped>\n",
       "    .dataframe tbody tr th:only-of-type {\n",
       "        vertical-align: middle;\n",
       "    }\n",
       "\n",
       "    .dataframe tbody tr th {\n",
       "        vertical-align: top;\n",
       "    }\n",
       "\n",
       "    .dataframe thead th {\n",
       "        text-align: right;\n",
       "    }\n",
       "</style>\n",
       "<table border=\"1\" class=\"dataframe\">\n",
       "  <thead>\n",
       "    <tr style=\"text-align: right;\">\n",
       "      <th></th>\n",
       "      <th>A</th>\n",
       "      <th>B</th>\n",
       "      <th>C</th>\n",
       "      <th>D</th>\n",
       "    </tr>\n",
       "  </thead>\n",
       "  <tbody>\n",
       "    <tr>\n",
       "      <th>2013-01-06</th>\n",
       "      <td>-0.660654</td>\n",
       "      <td>-1.417122</td>\n",
       "      <td>0.141583</td>\n",
       "      <td>-0.688961</td>\n",
       "    </tr>\n",
       "    <tr>\n",
       "      <th>2013-01-05</th>\n",
       "      <td>-0.578888</td>\n",
       "      <td>0.266593</td>\n",
       "      <td>-0.075044</td>\n",
       "      <td>1.141016</td>\n",
       "    </tr>\n",
       "    <tr>\n",
       "      <th>2013-01-04</th>\n",
       "      <td>-1.129952</td>\n",
       "      <td>-0.378938</td>\n",
       "      <td>1.561718</td>\n",
       "      <td>0.855326</td>\n",
       "    </tr>\n",
       "    <tr>\n",
       "      <th>2013-01-03</th>\n",
       "      <td>-0.248123</td>\n",
       "      <td>0.176343</td>\n",
       "      <td>1.000584</td>\n",
       "      <td>-0.803270</td>\n",
       "    </tr>\n",
       "    <tr>\n",
       "      <th>2013-01-02</th>\n",
       "      <td>-0.047375</td>\n",
       "      <td>0.084995</td>\n",
       "      <td>-0.631822</td>\n",
       "      <td>0.244230</td>\n",
       "    </tr>\n",
       "    <tr>\n",
       "      <th>2013-01-01</th>\n",
       "      <td>-0.326199</td>\n",
       "      <td>-0.344602</td>\n",
       "      <td>-0.695989</td>\n",
       "      <td>1.083588</td>\n",
       "    </tr>\n",
       "  </tbody>\n",
       "</table>\n",
       "</div>"
      ],
      "text/plain": [
       "                   A         B         C         D\n",
       "2013-01-06 -0.660654 -1.417122  0.141583 -0.688961\n",
       "2013-01-05 -0.578888  0.266593 -0.075044  1.141016\n",
       "2013-01-04 -1.129952 -0.378938  1.561718  0.855326\n",
       "2013-01-03 -0.248123  0.176343  1.000584 -0.803270\n",
       "2013-01-02 -0.047375  0.084995 -0.631822  0.244230\n",
       "2013-01-01 -0.326199 -0.344602 -0.695989  1.083588"
      ]
     },
     "execution_count": 32,
     "metadata": {
      "tags": []
     },
     "output_type": "execute_result"
    }
   ],
   "source": [
    "#::GMG::Aquí ordena por las fechas que son el índice de las filas\n",
    "df.sort_index(axis=0, ascending=False)"
   ]
  },
  {
   "cell_type": "markdown",
   "metadata": {
    "colab_type": "text",
    "id": "g12i_K7VVzoS"
   },
   "source": [
    "Sorting by values:"
   ]
  },
  {
   "cell_type": "code",
   "execution_count": 33,
   "metadata": {
    "colab": {
     "base_uri": "https://localhost:8080/",
     "height": 233
    },
    "colab_type": "code",
    "executionInfo": {
     "elapsed": 536,
     "status": "ok",
     "timestamp": 1542989524764,
     "user": {
      "displayName": "Gerardo de Miguel",
      "photoUrl": "https://lh3.googleusercontent.com/-LmFLfSn0ThU/AAAAAAAAAAI/AAAAAAAAAkg/xGe-_jxkcZA/s64/photo.jpg",
      "userId": "12735548512534412210"
     },
     "user_tz": -60
    },
    "id": "CrGdQ7nNV4UP",
    "outputId": "10dd9173-2395-4ec5-d866-481cb19a4bbf"
   },
   "outputs": [
    {
     "data": {
      "text/html": [
       "<div>\n",
       "<style scoped>\n",
       "    .dataframe tbody tr th:only-of-type {\n",
       "        vertical-align: middle;\n",
       "    }\n",
       "\n",
       "    .dataframe tbody tr th {\n",
       "        vertical-align: top;\n",
       "    }\n",
       "\n",
       "    .dataframe thead th {\n",
       "        text-align: right;\n",
       "    }\n",
       "</style>\n",
       "<table border=\"1\" class=\"dataframe\">\n",
       "  <thead>\n",
       "    <tr style=\"text-align: right;\">\n",
       "      <th></th>\n",
       "      <th>A</th>\n",
       "      <th>B</th>\n",
       "      <th>C</th>\n",
       "      <th>D</th>\n",
       "    </tr>\n",
       "  </thead>\n",
       "  <tbody>\n",
       "    <tr>\n",
       "      <th>2013-01-06</th>\n",
       "      <td>-0.660654</td>\n",
       "      <td>-1.417122</td>\n",
       "      <td>0.141583</td>\n",
       "      <td>-0.688961</td>\n",
       "    </tr>\n",
       "    <tr>\n",
       "      <th>2013-01-04</th>\n",
       "      <td>-1.129952</td>\n",
       "      <td>-0.378938</td>\n",
       "      <td>1.561718</td>\n",
       "      <td>0.855326</td>\n",
       "    </tr>\n",
       "    <tr>\n",
       "      <th>2013-01-01</th>\n",
       "      <td>-0.326199</td>\n",
       "      <td>-0.344602</td>\n",
       "      <td>-0.695989</td>\n",
       "      <td>1.083588</td>\n",
       "    </tr>\n",
       "    <tr>\n",
       "      <th>2013-01-02</th>\n",
       "      <td>-0.047375</td>\n",
       "      <td>0.084995</td>\n",
       "      <td>-0.631822</td>\n",
       "      <td>0.244230</td>\n",
       "    </tr>\n",
       "    <tr>\n",
       "      <th>2013-01-03</th>\n",
       "      <td>-0.248123</td>\n",
       "      <td>0.176343</td>\n",
       "      <td>1.000584</td>\n",
       "      <td>-0.803270</td>\n",
       "    </tr>\n",
       "    <tr>\n",
       "      <th>2013-01-05</th>\n",
       "      <td>-0.578888</td>\n",
       "      <td>0.266593</td>\n",
       "      <td>-0.075044</td>\n",
       "      <td>1.141016</td>\n",
       "    </tr>\n",
       "  </tbody>\n",
       "</table>\n",
       "</div>"
      ],
      "text/plain": [
       "                   A         B         C         D\n",
       "2013-01-06 -0.660654 -1.417122  0.141583 -0.688961\n",
       "2013-01-04 -1.129952 -0.378938  1.561718  0.855326\n",
       "2013-01-01 -0.326199 -0.344602 -0.695989  1.083588\n",
       "2013-01-02 -0.047375  0.084995 -0.631822  0.244230\n",
       "2013-01-03 -0.248123  0.176343  1.000584 -0.803270\n",
       "2013-01-05 -0.578888  0.266593 -0.075044  1.141016"
      ]
     },
     "execution_count": 33,
     "metadata": {
      "tags": []
     },
     "output_type": "execute_result"
    }
   ],
   "source": [
    "df.sort_values(by='B')"
   ]
  },
  {
   "cell_type": "code",
   "execution_count": 34,
   "metadata": {
    "colab": {
     "base_uri": "https://localhost:8080/",
     "height": 233
    },
    "colab_type": "code",
    "executionInfo": {
     "elapsed": 581,
     "status": "ok",
     "timestamp": 1542989840161,
     "user": {
      "displayName": "Gerardo de Miguel",
      "photoUrl": "https://lh3.googleusercontent.com/-LmFLfSn0ThU/AAAAAAAAAAI/AAAAAAAAAkg/xGe-_jxkcZA/s64/photo.jpg",
      "userId": "12735548512534412210"
     },
     "user_tz": -60
    },
    "id": "cIvPCL3NWc2d",
    "outputId": "467b3c2e-ce56-4a84-fdd2-67b8642aa220"
   },
   "outputs": [
    {
     "data": {
      "text/html": [
       "<div>\n",
       "<style scoped>\n",
       "    .dataframe tbody tr th:only-of-type {\n",
       "        vertical-align: middle;\n",
       "    }\n",
       "\n",
       "    .dataframe tbody tr th {\n",
       "        vertical-align: top;\n",
       "    }\n",
       "\n",
       "    .dataframe thead th {\n",
       "        text-align: right;\n",
       "    }\n",
       "</style>\n",
       "<table border=\"1\" class=\"dataframe\">\n",
       "  <thead>\n",
       "    <tr style=\"text-align: right;\">\n",
       "      <th></th>\n",
       "      <th>col1</th>\n",
       "      <th>col2</th>\n",
       "      <th>col3</th>\n",
       "    </tr>\n",
       "  </thead>\n",
       "  <tbody>\n",
       "    <tr>\n",
       "      <th>0</th>\n",
       "      <td>A</td>\n",
       "      <td>2</td>\n",
       "      <td>0</td>\n",
       "    </tr>\n",
       "    <tr>\n",
       "      <th>1</th>\n",
       "      <td>A</td>\n",
       "      <td>1</td>\n",
       "      <td>1</td>\n",
       "    </tr>\n",
       "    <tr>\n",
       "      <th>2</th>\n",
       "      <td>B</td>\n",
       "      <td>9</td>\n",
       "      <td>9</td>\n",
       "    </tr>\n",
       "    <tr>\n",
       "      <th>3</th>\n",
       "      <td>NaN</td>\n",
       "      <td>8</td>\n",
       "      <td>4</td>\n",
       "    </tr>\n",
       "    <tr>\n",
       "      <th>4</th>\n",
       "      <td>D</td>\n",
       "      <td>7</td>\n",
       "      <td>2</td>\n",
       "    </tr>\n",
       "    <tr>\n",
       "      <th>5</th>\n",
       "      <td>C</td>\n",
       "      <td>4</td>\n",
       "      <td>3</td>\n",
       "    </tr>\n",
       "  </tbody>\n",
       "</table>\n",
       "</div>"
      ],
      "text/plain": [
       "  col1  col2  col3\n",
       "0    A     2     0\n",
       "1    A     1     1\n",
       "2    B     9     9\n",
       "3  NaN     8     4\n",
       "4    D     7     2\n",
       "5    C     4     3"
      ]
     },
     "execution_count": 34,
     "metadata": {
      "tags": []
     },
     "output_type": "execute_result"
    }
   ],
   "source": [
    "#::GMG::En la ayuda en línea (<TAB>) viene un ejemplo interesante con NaNs \n",
    "df_ex = pd.DataFrame({\n",
    "          'col1' : ['A', 'A', 'B', np.nan, 'D', 'C'],\n",
    "          'col2' : [2, 1, 9, 8, 7, 4],\n",
    "          'col3': [0, 1, 9, 4, 2, 3],\n",
    "          })\n",
    "df_ex"
   ]
  },
  {
   "cell_type": "code",
   "execution_count": 35,
   "metadata": {
    "colab": {
     "base_uri": "https://localhost:8080/",
     "height": 233
    },
    "colab_type": "code",
    "executionInfo": {
     "elapsed": 571,
     "status": "ok",
     "timestamp": 1542989880918,
     "user": {
      "displayName": "Gerardo de Miguel",
      "photoUrl": "https://lh3.googleusercontent.com/-LmFLfSn0ThU/AAAAAAAAAAI/AAAAAAAAAkg/xGe-_jxkcZA/s64/photo.jpg",
      "userId": "12735548512534412210"
     },
     "user_tz": -60
    },
    "id": "ULbgH9IMXI2L",
    "outputId": "15040a8d-ff34-420c-8b9a-5c336dfa1844"
   },
   "outputs": [
    {
     "data": {
      "text/html": [
       "<div>\n",
       "<style scoped>\n",
       "    .dataframe tbody tr th:only-of-type {\n",
       "        vertical-align: middle;\n",
       "    }\n",
       "\n",
       "    .dataframe tbody tr th {\n",
       "        vertical-align: top;\n",
       "    }\n",
       "\n",
       "    .dataframe thead th {\n",
       "        text-align: right;\n",
       "    }\n",
       "</style>\n",
       "<table border=\"1\" class=\"dataframe\">\n",
       "  <thead>\n",
       "    <tr style=\"text-align: right;\">\n",
       "      <th></th>\n",
       "      <th>col1</th>\n",
       "      <th>col2</th>\n",
       "      <th>col3</th>\n",
       "    </tr>\n",
       "  </thead>\n",
       "  <tbody>\n",
       "    <tr>\n",
       "      <th>0</th>\n",
       "      <td>A</td>\n",
       "      <td>2</td>\n",
       "      <td>0</td>\n",
       "    </tr>\n",
       "    <tr>\n",
       "      <th>1</th>\n",
       "      <td>A</td>\n",
       "      <td>1</td>\n",
       "      <td>1</td>\n",
       "    </tr>\n",
       "    <tr>\n",
       "      <th>2</th>\n",
       "      <td>B</td>\n",
       "      <td>9</td>\n",
       "      <td>9</td>\n",
       "    </tr>\n",
       "    <tr>\n",
       "      <th>5</th>\n",
       "      <td>C</td>\n",
       "      <td>4</td>\n",
       "      <td>3</td>\n",
       "    </tr>\n",
       "    <tr>\n",
       "      <th>4</th>\n",
       "      <td>D</td>\n",
       "      <td>7</td>\n",
       "      <td>2</td>\n",
       "    </tr>\n",
       "    <tr>\n",
       "      <th>3</th>\n",
       "      <td>NaN</td>\n",
       "      <td>8</td>\n",
       "      <td>4</td>\n",
       "    </tr>\n",
       "  </tbody>\n",
       "</table>\n",
       "</div>"
      ],
      "text/plain": [
       "  col1  col2  col3\n",
       "0    A     2     0\n",
       "1    A     1     1\n",
       "2    B     9     9\n",
       "5    C     4     3\n",
       "4    D     7     2\n",
       "3  NaN     8     4"
      ]
     },
     "execution_count": 35,
     "metadata": {
      "tags": []
     },
     "output_type": "execute_result"
    }
   ],
   "source": [
    "#::GMG::Sort by col1, NaN comes last\n",
    "df_ex.sort_values(by=['col1'])"
   ]
  },
  {
   "cell_type": "markdown",
   "metadata": {
    "colab_type": "text",
    "id": "bf91_AKjXrLr"
   },
   "source": [
    "#### Selection\n",
    "\n",
    "**Note:** While standard Python / Numpy expressions for selecting and setting are intuitive and come in handy for interactive work, for production code, we recommend the optimized pandas data access methods, `.at, .iat, .loc and .iloc`.\n",
    "\n",
    "See the indexing documentation [Indexing and Selecting Data](http://pandas.pydata.org/pandas-docs/stable/indexing.html#indexing) and [MultiIndex / Advanced Indexing](http://pandas.pydata.org/pandas-docs/stable/advanced.html#advanced)."
   ]
  },
  {
   "cell_type": "markdown",
   "metadata": {
    "colab_type": "text",
    "id": "LpohFWLCYUXL"
   },
   "source": [
    "**Getting**\n",
    "\n",
    "Selecting a single column, which yields a Series, equivalent to `df.A`:"
   ]
  },
  {
   "cell_type": "code",
   "execution_count": 37,
   "metadata": {
    "colab": {
     "base_uri": "https://localhost:8080/",
     "height": 233
    },
    "colab_type": "code",
    "executionInfo": {
     "elapsed": 662,
     "status": "ok",
     "timestamp": 1542990287555,
     "user": {
      "displayName": "Gerardo de Miguel",
      "photoUrl": "https://lh3.googleusercontent.com/-LmFLfSn0ThU/AAAAAAAAAAI/AAAAAAAAAkg/xGe-_jxkcZA/s64/photo.jpg",
      "userId": "12735548512534412210"
     },
     "user_tz": -60
    },
    "id": "p7P8qmKDY0Al",
    "outputId": "8e24e314-bc31-4401-c7bb-00b038408469"
   },
   "outputs": [
    {
     "data": {
      "text/html": [
       "<div>\n",
       "<style scoped>\n",
       "    .dataframe tbody tr th:only-of-type {\n",
       "        vertical-align: middle;\n",
       "    }\n",
       "\n",
       "    .dataframe tbody tr th {\n",
       "        vertical-align: top;\n",
       "    }\n",
       "\n",
       "    .dataframe thead th {\n",
       "        text-align: right;\n",
       "    }\n",
       "</style>\n",
       "<table border=\"1\" class=\"dataframe\">\n",
       "  <thead>\n",
       "    <tr style=\"text-align: right;\">\n",
       "      <th></th>\n",
       "      <th>A</th>\n",
       "      <th>B</th>\n",
       "      <th>C</th>\n",
       "      <th>D</th>\n",
       "    </tr>\n",
       "  </thead>\n",
       "  <tbody>\n",
       "    <tr>\n",
       "      <th>2013-01-01</th>\n",
       "      <td>-0.326199</td>\n",
       "      <td>-0.344602</td>\n",
       "      <td>-0.695989</td>\n",
       "      <td>1.083588</td>\n",
       "    </tr>\n",
       "    <tr>\n",
       "      <th>2013-01-02</th>\n",
       "      <td>-0.047375</td>\n",
       "      <td>0.084995</td>\n",
       "      <td>-0.631822</td>\n",
       "      <td>0.244230</td>\n",
       "    </tr>\n",
       "    <tr>\n",
       "      <th>2013-01-03</th>\n",
       "      <td>-0.248123</td>\n",
       "      <td>0.176343</td>\n",
       "      <td>1.000584</td>\n",
       "      <td>-0.803270</td>\n",
       "    </tr>\n",
       "    <tr>\n",
       "      <th>2013-01-04</th>\n",
       "      <td>-1.129952</td>\n",
       "      <td>-0.378938</td>\n",
       "      <td>1.561718</td>\n",
       "      <td>0.855326</td>\n",
       "    </tr>\n",
       "    <tr>\n",
       "      <th>2013-01-05</th>\n",
       "      <td>-0.578888</td>\n",
       "      <td>0.266593</td>\n",
       "      <td>-0.075044</td>\n",
       "      <td>1.141016</td>\n",
       "    </tr>\n",
       "    <tr>\n",
       "      <th>2013-01-06</th>\n",
       "      <td>-0.660654</td>\n",
       "      <td>-1.417122</td>\n",
       "      <td>0.141583</td>\n",
       "      <td>-0.688961</td>\n",
       "    </tr>\n",
       "  </tbody>\n",
       "</table>\n",
       "</div>"
      ],
      "text/plain": [
       "                   A         B         C         D\n",
       "2013-01-01 -0.326199 -0.344602 -0.695989  1.083588\n",
       "2013-01-02 -0.047375  0.084995 -0.631822  0.244230\n",
       "2013-01-03 -0.248123  0.176343  1.000584 -0.803270\n",
       "2013-01-04 -1.129952 -0.378938  1.561718  0.855326\n",
       "2013-01-05 -0.578888  0.266593 -0.075044  1.141016\n",
       "2013-01-06 -0.660654 -1.417122  0.141583 -0.688961"
      ]
     },
     "execution_count": 37,
     "metadata": {
      "tags": []
     },
     "output_type": "execute_result"
    }
   ],
   "source": [
    "df"
   ]
  },
  {
   "cell_type": "code",
   "execution_count": 43,
   "metadata": {
    "colab": {
     "base_uri": "https://localhost:8080/",
     "height": 295
    },
    "colab_type": "code",
    "executionInfo": {
     "elapsed": 564,
     "status": "ok",
     "timestamp": 1542990488789,
     "user": {
      "displayName": "Gerardo de Miguel",
      "photoUrl": "https://lh3.googleusercontent.com/-LmFLfSn0ThU/AAAAAAAAAAI/AAAAAAAAAkg/xGe-_jxkcZA/s64/photo.jpg",
      "userId": "12735548512534412210"
     },
     "user_tz": -60
    },
    "id": "K0YqF4Q9Ylg1",
    "outputId": "3676b8e7-0f06-41a5-d5d8-dff8f16ceed9"
   },
   "outputs": [
    {
     "data": {
      "text/plain": [
       "2013-01-01   -0.326199\n",
       "2013-01-02   -0.047375\n",
       "2013-01-03   -0.248123\n",
       "2013-01-04   -1.129952\n",
       "2013-01-05   -0.578888\n",
       "2013-01-06   -0.660654\n",
       "Freq: D, Name: A, dtype: float64"
      ]
     },
     "metadata": {
      "tags": []
     },
     "output_type": "display_data"
    },
    {
     "data": {
      "text/plain": [
       "2013-01-01   -0.326199\n",
       "2013-01-02   -0.047375\n",
       "2013-01-03   -0.248123\n",
       "2013-01-04   -1.129952\n",
       "2013-01-05   -0.578888\n",
       "2013-01-06   -0.660654\n",
       "Freq: D, Name: A, dtype: float64"
      ]
     },
     "metadata": {
      "tags": []
     },
     "output_type": "display_data"
    },
    {
     "name": "stdout",
     "output_type": "stream",
     "text": [
      "df: <class 'pandas.core.frame.DataFrame'> \n",
      "df[\"A\"] <class 'pandas.core.series.Series'>\n"
     ]
    }
   ],
   "source": [
    "display(df['A'],df.A)\n",
    "print('df:',type(df), '\\ndf[\"A\"]', type (df['A']))"
   ]
  },
  {
   "cell_type": "markdown",
   "metadata": {
    "colab_type": "text",
    "id": "uDhfrv_ZYrzA"
   },
   "source": [
    "Selecting via `[]`, which slices the rows."
   ]
  },
  {
   "cell_type": "code",
   "execution_count": 44,
   "metadata": {
    "colab": {
     "base_uri": "https://localhost:8080/",
     "height": 264
    },
    "colab_type": "code",
    "executionInfo": {
     "elapsed": 564,
     "status": "ok",
     "timestamp": 1542990529372,
     "user": {
      "displayName": "Gerardo de Miguel",
      "photoUrl": "https://lh3.googleusercontent.com/-LmFLfSn0ThU/AAAAAAAAAAI/AAAAAAAAAkg/xGe-_jxkcZA/s64/photo.jpg",
      "userId": "12735548512534412210"
     },
     "user_tz": -60
    },
    "id": "a5Kq3N5NYy-p",
    "outputId": "8705e312-5fb8-463a-855b-2efa1112b61f"
   },
   "outputs": [
    {
     "data": {
      "text/html": [
       "<div>\n",
       "<style scoped>\n",
       "    .dataframe tbody tr th:only-of-type {\n",
       "        vertical-align: middle;\n",
       "    }\n",
       "\n",
       "    .dataframe tbody tr th {\n",
       "        vertical-align: top;\n",
       "    }\n",
       "\n",
       "    .dataframe thead th {\n",
       "        text-align: right;\n",
       "    }\n",
       "</style>\n",
       "<table border=\"1\" class=\"dataframe\">\n",
       "  <thead>\n",
       "    <tr style=\"text-align: right;\">\n",
       "      <th></th>\n",
       "      <th>A</th>\n",
       "      <th>B</th>\n",
       "      <th>C</th>\n",
       "      <th>D</th>\n",
       "    </tr>\n",
       "  </thead>\n",
       "  <tbody>\n",
       "    <tr>\n",
       "      <th>2013-01-01</th>\n",
       "      <td>-0.326199</td>\n",
       "      <td>-0.344602</td>\n",
       "      <td>-0.695989</td>\n",
       "      <td>1.083588</td>\n",
       "    </tr>\n",
       "    <tr>\n",
       "      <th>2013-01-02</th>\n",
       "      <td>-0.047375</td>\n",
       "      <td>0.084995</td>\n",
       "      <td>-0.631822</td>\n",
       "      <td>0.244230</td>\n",
       "    </tr>\n",
       "    <tr>\n",
       "      <th>2013-01-03</th>\n",
       "      <td>-0.248123</td>\n",
       "      <td>0.176343</td>\n",
       "      <td>1.000584</td>\n",
       "      <td>-0.803270</td>\n",
       "    </tr>\n",
       "  </tbody>\n",
       "</table>\n",
       "</div>"
      ],
      "text/plain": [
       "                   A         B         C         D\n",
       "2013-01-01 -0.326199 -0.344602 -0.695989  1.083588\n",
       "2013-01-02 -0.047375  0.084995 -0.631822  0.244230\n",
       "2013-01-03 -0.248123  0.176343  1.000584 -0.803270"
      ]
     },
     "metadata": {
      "tags": []
     },
     "output_type": "display_data"
    },
    {
     "data": {
      "text/html": [
       "<div>\n",
       "<style scoped>\n",
       "    .dataframe tbody tr th:only-of-type {\n",
       "        vertical-align: middle;\n",
       "    }\n",
       "\n",
       "    .dataframe tbody tr th {\n",
       "        vertical-align: top;\n",
       "    }\n",
       "\n",
       "    .dataframe thead th {\n",
       "        text-align: right;\n",
       "    }\n",
       "</style>\n",
       "<table border=\"1\" class=\"dataframe\">\n",
       "  <thead>\n",
       "    <tr style=\"text-align: right;\">\n",
       "      <th></th>\n",
       "      <th>A</th>\n",
       "      <th>B</th>\n",
       "      <th>C</th>\n",
       "      <th>D</th>\n",
       "    </tr>\n",
       "  </thead>\n",
       "  <tbody>\n",
       "    <tr>\n",
       "      <th>2013-01-02</th>\n",
       "      <td>-0.047375</td>\n",
       "      <td>0.084995</td>\n",
       "      <td>-0.631822</td>\n",
       "      <td>0.244230</td>\n",
       "    </tr>\n",
       "    <tr>\n",
       "      <th>2013-01-03</th>\n",
       "      <td>-0.248123</td>\n",
       "      <td>0.176343</td>\n",
       "      <td>1.000584</td>\n",
       "      <td>-0.803270</td>\n",
       "    </tr>\n",
       "    <tr>\n",
       "      <th>2013-01-04</th>\n",
       "      <td>-1.129952</td>\n",
       "      <td>-0.378938</td>\n",
       "      <td>1.561718</td>\n",
       "      <td>0.855326</td>\n",
       "    </tr>\n",
       "  </tbody>\n",
       "</table>\n",
       "</div>"
      ],
      "text/plain": [
       "                   A         B         C         D\n",
       "2013-01-02 -0.047375  0.084995 -0.631822  0.244230\n",
       "2013-01-03 -0.248123  0.176343  1.000584 -0.803270\n",
       "2013-01-04 -1.129952 -0.378938  1.561718  0.855326"
      ]
     },
     "metadata": {
      "tags": []
     },
     "output_type": "display_data"
    }
   ],
   "source": [
    "#::GMG::the dates limits are INCLUDED (!)\n",
    "#       numeric index start by zero and does not include the last index\n",
    "display(df[0:3],df['20130102':'20130104'])"
   ]
  },
  {
   "cell_type": "markdown",
   "metadata": {
    "colab_type": "text",
    "id": "NaMjI0M0aYJW"
   },
   "source": [
    "**Selection by Label**\n",
    "\n",
    "See more in [Selection by Label](http://pandas.pydata.org/pandas-docs/stable/indexing.html#indexing-label).\n",
    "\n",
    "For getting a cross section using a label:"
   ]
  },
  {
   "cell_type": "code",
   "execution_count": 45,
   "metadata": {
    "colab": {
     "base_uri": "https://localhost:8080/",
     "height": 233
    },
    "colab_type": "code",
    "executionInfo": {
     "elapsed": 546,
     "status": "ok",
     "timestamp": 1542990842769,
     "user": {
      "displayName": "Gerardo de Miguel",
      "photoUrl": "https://lh3.googleusercontent.com/-LmFLfSn0ThU/AAAAAAAAAAI/AAAAAAAAAkg/xGe-_jxkcZA/s64/photo.jpg",
      "userId": "12735548512534412210"
     },
     "user_tz": -60
    },
    "id": "fWNbBQ7uayZD",
    "outputId": "0927bba0-1c6a-4534-977a-f4aec2659398"
   },
   "outputs": [
    {
     "data": {
      "text/html": [
       "<div>\n",
       "<style scoped>\n",
       "    .dataframe tbody tr th:only-of-type {\n",
       "        vertical-align: middle;\n",
       "    }\n",
       "\n",
       "    .dataframe tbody tr th {\n",
       "        vertical-align: top;\n",
       "    }\n",
       "\n",
       "    .dataframe thead th {\n",
       "        text-align: right;\n",
       "    }\n",
       "</style>\n",
       "<table border=\"1\" class=\"dataframe\">\n",
       "  <thead>\n",
       "    <tr style=\"text-align: right;\">\n",
       "      <th></th>\n",
       "      <th>A</th>\n",
       "      <th>B</th>\n",
       "      <th>C</th>\n",
       "      <th>D</th>\n",
       "    </tr>\n",
       "  </thead>\n",
       "  <tbody>\n",
       "    <tr>\n",
       "      <th>2013-01-01</th>\n",
       "      <td>-0.326199</td>\n",
       "      <td>-0.344602</td>\n",
       "      <td>-0.695989</td>\n",
       "      <td>1.083588</td>\n",
       "    </tr>\n",
       "    <tr>\n",
       "      <th>2013-01-02</th>\n",
       "      <td>-0.047375</td>\n",
       "      <td>0.084995</td>\n",
       "      <td>-0.631822</td>\n",
       "      <td>0.244230</td>\n",
       "    </tr>\n",
       "    <tr>\n",
       "      <th>2013-01-03</th>\n",
       "      <td>-0.248123</td>\n",
       "      <td>0.176343</td>\n",
       "      <td>1.000584</td>\n",
       "      <td>-0.803270</td>\n",
       "    </tr>\n",
       "    <tr>\n",
       "      <th>2013-01-04</th>\n",
       "      <td>-1.129952</td>\n",
       "      <td>-0.378938</td>\n",
       "      <td>1.561718</td>\n",
       "      <td>0.855326</td>\n",
       "    </tr>\n",
       "    <tr>\n",
       "      <th>2013-01-05</th>\n",
       "      <td>-0.578888</td>\n",
       "      <td>0.266593</td>\n",
       "      <td>-0.075044</td>\n",
       "      <td>1.141016</td>\n",
       "    </tr>\n",
       "    <tr>\n",
       "      <th>2013-01-06</th>\n",
       "      <td>-0.660654</td>\n",
       "      <td>-1.417122</td>\n",
       "      <td>0.141583</td>\n",
       "      <td>-0.688961</td>\n",
       "    </tr>\n",
       "  </tbody>\n",
       "</table>\n",
       "</div>"
      ],
      "text/plain": [
       "                   A         B         C         D\n",
       "2013-01-01 -0.326199 -0.344602 -0.695989  1.083588\n",
       "2013-01-02 -0.047375  0.084995 -0.631822  0.244230\n",
       "2013-01-03 -0.248123  0.176343  1.000584 -0.803270\n",
       "2013-01-04 -1.129952 -0.378938  1.561718  0.855326\n",
       "2013-01-05 -0.578888  0.266593 -0.075044  1.141016\n",
       "2013-01-06 -0.660654 -1.417122  0.141583 -0.688961"
      ]
     },
     "execution_count": 45,
     "metadata": {
      "tags": []
     },
     "output_type": "execute_result"
    }
   ],
   "source": [
    "df"
   ]
  },
  {
   "cell_type": "code",
   "execution_count": 56,
   "metadata": {
    "colab": {
     "base_uri": "https://localhost:8080/",
     "height": 201
    },
    "colab_type": "code",
    "executionInfo": {
     "elapsed": 522,
     "status": "ok",
     "timestamp": 1542991481136,
     "user": {
      "displayName": "Gerardo de Miguel",
      "photoUrl": "https://lh3.googleusercontent.com/-LmFLfSn0ThU/AAAAAAAAAAI/AAAAAAAAAkg/xGe-_jxkcZA/s64/photo.jpg",
      "userId": "12735548512534412210"
     },
     "user_tz": -60
    },
    "id": "dR-B52fxa9iY",
    "outputId": "337a68ed-2077-4da7-c462-024b84127083"
   },
   "outputs": [
    {
     "data": {
      "text/plain": [
       "A   -0.326199\n",
       "B   -0.344602\n",
       "C   -0.695989\n",
       "D    1.083588\n",
       "Name: 2013-01-01 00:00:00, dtype: float64"
      ]
     },
     "metadata": {
      "tags": []
     },
     "output_type": "display_data"
    },
    {
     "data": {
      "text/html": [
       "<div>\n",
       "<style scoped>\n",
       "    .dataframe tbody tr th:only-of-type {\n",
       "        vertical-align: middle;\n",
       "    }\n",
       "\n",
       "    .dataframe tbody tr th {\n",
       "        vertical-align: top;\n",
       "    }\n",
       "\n",
       "    .dataframe thead th {\n",
       "        text-align: right;\n",
       "    }\n",
       "</style>\n",
       "<table border=\"1\" class=\"dataframe\">\n",
       "  <thead>\n",
       "    <tr style=\"text-align: right;\">\n",
       "      <th></th>\n",
       "      <th>A</th>\n",
       "      <th>B</th>\n",
       "      <th>C</th>\n",
       "      <th>D</th>\n",
       "    </tr>\n",
       "  </thead>\n",
       "  <tbody>\n",
       "    <tr>\n",
       "      <th>2013-01-01</th>\n",
       "      <td>-0.326199</td>\n",
       "      <td>-0.344602</td>\n",
       "      <td>-0.695989</td>\n",
       "      <td>1.083588</td>\n",
       "    </tr>\n",
       "  </tbody>\n",
       "</table>\n",
       "</div>"
      ],
      "text/plain": [
       "                   A         B         C         D\n",
       "2013-01-01 -0.326199 -0.344602 -0.695989  1.083588"
      ]
     },
     "metadata": {
      "tags": []
     },
     "output_type": "display_data"
    },
    {
     "data": {
      "text/plain": [
       "pandas.core.series.Series"
      ]
     },
     "metadata": {
      "tags": []
     },
     "output_type": "display_data"
    },
    {
     "data": {
      "text/plain": [
       "pandas.core.frame.DataFrame"
      ]
     },
     "metadata": {
      "tags": []
     },
     "output_type": "display_data"
    }
   ],
   "source": [
    "#::GMG::First row ... weird (?) and heed the types (!)\n",
    "display(df.loc[dates[0]],df[:1])\n",
    "display(type(df.loc[dates[0]]),type(df[:1]))"
   ]
  },
  {
   "cell_type": "markdown",
   "metadata": {
    "colab_type": "text",
    "id": "JrPfTUxVbdv-"
   },
   "source": [
    "Selecting on a multi-axis by label:"
   ]
  },
  {
   "cell_type": "code",
   "execution_count": 55,
   "metadata": {
    "colab": {
     "base_uri": "https://localhost:8080/",
     "height": 233
    },
    "colab_type": "code",
    "executionInfo": {
     "elapsed": 544,
     "status": "ok",
     "timestamp": 1542991384404,
     "user": {
      "displayName": "Gerardo de Miguel",
      "photoUrl": "https://lh3.googleusercontent.com/-LmFLfSn0ThU/AAAAAAAAAAI/AAAAAAAAAkg/xGe-_jxkcZA/s64/photo.jpg",
      "userId": "12735548512534412210"
     },
     "user_tz": -60
    },
    "id": "u4lvAb_objkh",
    "outputId": "da40546d-9f0d-4084-f418-474254c15830"
   },
   "outputs": [
    {
     "data": {
      "text/html": [
       "<div>\n",
       "<style scoped>\n",
       "    .dataframe tbody tr th:only-of-type {\n",
       "        vertical-align: middle;\n",
       "    }\n",
       "\n",
       "    .dataframe tbody tr th {\n",
       "        vertical-align: top;\n",
       "    }\n",
       "\n",
       "    .dataframe thead th {\n",
       "        text-align: right;\n",
       "    }\n",
       "</style>\n",
       "<table border=\"1\" class=\"dataframe\">\n",
       "  <thead>\n",
       "    <tr style=\"text-align: right;\">\n",
       "      <th></th>\n",
       "      <th>A</th>\n",
       "      <th>B</th>\n",
       "    </tr>\n",
       "  </thead>\n",
       "  <tbody>\n",
       "    <tr>\n",
       "      <th>2013-01-01</th>\n",
       "      <td>-0.326199</td>\n",
       "      <td>-0.344602</td>\n",
       "    </tr>\n",
       "    <tr>\n",
       "      <th>2013-01-02</th>\n",
       "      <td>-0.047375</td>\n",
       "      <td>0.084995</td>\n",
       "    </tr>\n",
       "    <tr>\n",
       "      <th>2013-01-03</th>\n",
       "      <td>-0.248123</td>\n",
       "      <td>0.176343</td>\n",
       "    </tr>\n",
       "    <tr>\n",
       "      <th>2013-01-04</th>\n",
       "      <td>-1.129952</td>\n",
       "      <td>-0.378938</td>\n",
       "    </tr>\n",
       "    <tr>\n",
       "      <th>2013-01-05</th>\n",
       "      <td>-0.578888</td>\n",
       "      <td>0.266593</td>\n",
       "    </tr>\n",
       "    <tr>\n",
       "      <th>2013-01-06</th>\n",
       "      <td>-0.660654</td>\n",
       "      <td>-1.417122</td>\n",
       "    </tr>\n",
       "  </tbody>\n",
       "</table>\n",
       "</div>"
      ],
      "text/plain": [
       "                   A         B\n",
       "2013-01-01 -0.326199 -0.344602\n",
       "2013-01-02 -0.047375  0.084995\n",
       "2013-01-03 -0.248123  0.176343\n",
       "2013-01-04 -1.129952 -0.378938\n",
       "2013-01-05 -0.578888  0.266593\n",
       "2013-01-06 -0.660654 -1.417122"
      ]
     },
     "execution_count": 55,
     "metadata": {
      "tags": []
     },
     "output_type": "execute_result"
    }
   ],
   "source": [
    "df.loc[:,['A','B']]"
   ]
  },
  {
   "cell_type": "markdown",
   "metadata": {
    "colab_type": "text",
    "id": "WiWprQs2dKk_"
   },
   "source": [
    "Showing label slicing, both endpoints are *included*:"
   ]
  },
  {
   "cell_type": "code",
   "execution_count": 59,
   "metadata": {
    "colab": {
     "base_uri": "https://localhost:8080/",
     "height": 158
    },
    "colab_type": "code",
    "executionInfo": {
     "elapsed": 550,
     "status": "ok",
     "timestamp": 1542991772558,
     "user": {
      "displayName": "Gerardo de Miguel",
      "photoUrl": "https://lh3.googleusercontent.com/-LmFLfSn0ThU/AAAAAAAAAAI/AAAAAAAAAkg/xGe-_jxkcZA/s64/photo.jpg",
      "userId": "12735548512534412210"
     },
     "user_tz": -60
    },
    "id": "6DHV-apWd5Kv",
    "outputId": "bf2f198a-2215-40af-ebba-771d3cdac81a"
   },
   "outputs": [
    {
     "data": {
      "text/html": [
       "<div>\n",
       "<style scoped>\n",
       "    .dataframe tbody tr th:only-of-type {\n",
       "        vertical-align: middle;\n",
       "    }\n",
       "\n",
       "    .dataframe tbody tr th {\n",
       "        vertical-align: top;\n",
       "    }\n",
       "\n",
       "    .dataframe thead th {\n",
       "        text-align: right;\n",
       "    }\n",
       "</style>\n",
       "<table border=\"1\" class=\"dataframe\">\n",
       "  <thead>\n",
       "    <tr style=\"text-align: right;\">\n",
       "      <th></th>\n",
       "      <th>A</th>\n",
       "      <th>B</th>\n",
       "    </tr>\n",
       "  </thead>\n",
       "  <tbody>\n",
       "    <tr>\n",
       "      <th>2013-01-02</th>\n",
       "      <td>-0.047375</td>\n",
       "      <td>0.084995</td>\n",
       "    </tr>\n",
       "    <tr>\n",
       "      <th>2013-01-03</th>\n",
       "      <td>-0.248123</td>\n",
       "      <td>0.176343</td>\n",
       "    </tr>\n",
       "    <tr>\n",
       "      <th>2013-01-04</th>\n",
       "      <td>-1.129952</td>\n",
       "      <td>-0.378938</td>\n",
       "    </tr>\n",
       "  </tbody>\n",
       "</table>\n",
       "</div>"
      ],
      "text/plain": [
       "                   A         B\n",
       "2013-01-02 -0.047375  0.084995\n",
       "2013-01-03 -0.248123  0.176343\n",
       "2013-01-04 -1.129952 -0.378938"
      ]
     },
     "metadata": {
      "tags": []
     },
     "output_type": "display_data"
    },
    {
     "data": {
      "text/plain": [
       "pandas.core.frame.DataFrame"
      ]
     },
     "metadata": {
      "tags": []
     },
     "output_type": "display_data"
    }
   ],
   "source": [
    "display(df.loc['20130102':'20130104',['A','B']],\n",
    "        type(df.loc['20130102':'20130104',['A','B']]))"
   ]
  },
  {
   "cell_type": "markdown",
   "metadata": {
    "colab_type": "text",
    "id": "eNYZH8LgeAAK"
   },
   "source": [
    "Reduction in the dimensions of the returned object:"
   ]
  },
  {
   "cell_type": "code",
   "execution_count": 58,
   "metadata": {
    "colab": {
     "base_uri": "https://localhost:8080/",
     "height": 87
    },
    "colab_type": "code",
    "executionInfo": {
     "elapsed": 565,
     "status": "ok",
     "timestamp": 1542991702805,
     "user": {
      "displayName": "Gerardo de Miguel",
      "photoUrl": "https://lh3.googleusercontent.com/-LmFLfSn0ThU/AAAAAAAAAAI/AAAAAAAAAkg/xGe-_jxkcZA/s64/photo.jpg",
      "userId": "12735548512534412210"
     },
     "user_tz": -60
    },
    "id": "rHuDDOF1eEFw",
    "outputId": "22e6065e-fba0-4000-bf25-c010f88f4747"
   },
   "outputs": [
    {
     "data": {
      "text/plain": [
       "A   -0.047375\n",
       "B    0.084995\n",
       "Name: 2013-01-02 00:00:00, dtype: float64"
      ]
     },
     "metadata": {
      "tags": []
     },
     "output_type": "display_data"
    },
    {
     "data": {
      "text/plain": [
       "pandas.core.series.Series"
      ]
     },
     "metadata": {
      "tags": []
     },
     "output_type": "display_data"
    }
   ],
   "source": [
    "display(df.loc['20130102',['A','B']],type(df.loc['20130102',['A','B']]))"
   ]
  },
  {
   "cell_type": "markdown",
   "metadata": {
    "colab_type": "text",
    "id": "7Iy5fNC5eoVV"
   },
   "source": [
    "For getting a scalar value:"
   ]
  },
  {
   "cell_type": "code",
   "execution_count": 60,
   "metadata": {
    "colab": {
     "base_uri": "https://localhost:8080/",
     "height": 52
    },
    "colab_type": "code",
    "executionInfo": {
     "elapsed": 550,
     "status": "ok",
     "timestamp": 1542991847834,
     "user": {
      "displayName": "Gerardo de Miguel",
      "photoUrl": "https://lh3.googleusercontent.com/-LmFLfSn0ThU/AAAAAAAAAAI/AAAAAAAAAkg/xGe-_jxkcZA/s64/photo.jpg",
      "userId": "12735548512534412210"
     },
     "user_tz": -60
    },
    "id": "9645Bu0rersb",
    "outputId": "0df06270-1f51-41fb-a36e-8d7d7de8d371"
   },
   "outputs": [
    {
     "data": {
      "text/plain": [
       "-0.32619947842139757"
      ]
     },
     "metadata": {
      "tags": []
     },
     "output_type": "display_data"
    },
    {
     "data": {
      "text/plain": [
       "numpy.float64"
      ]
     },
     "metadata": {
      "tags": []
     },
     "output_type": "display_data"
    }
   ],
   "source": [
    "display(df.loc[dates[0],'A'],type(df.loc[dates[0],'A']))"
   ]
  },
  {
   "cell_type": "markdown",
   "metadata": {
    "colab_type": "text",
    "id": "l1c-bE0bezVX"
   },
   "source": [
    "For getting fast access to a scalar (equivalent to the prior method):"
   ]
  },
  {
   "cell_type": "code",
   "execution_count": 61,
   "metadata": {
    "colab": {
     "base_uri": "https://localhost:8080/",
     "height": 52
    },
    "colab_type": "code",
    "executionInfo": {
     "elapsed": 549,
     "status": "ok",
     "timestamp": 1542991895912,
     "user": {
      "displayName": "Gerardo de Miguel",
      "photoUrl": "https://lh3.googleusercontent.com/-LmFLfSn0ThU/AAAAAAAAAAI/AAAAAAAAAkg/xGe-_jxkcZA/s64/photo.jpg",
      "userId": "12735548512534412210"
     },
     "user_tz": -60
    },
    "id": "ltmeHifAe3FH",
    "outputId": "6a558875-562e-4ea6-a71e-e3534eedad85"
   },
   "outputs": [
    {
     "data": {
      "text/plain": [
       "-0.32619947842139757"
      ]
     },
     "metadata": {
      "tags": []
     },
     "output_type": "display_data"
    },
    {
     "data": {
      "text/plain": [
       "numpy.float64"
      ]
     },
     "metadata": {
      "tags": []
     },
     "output_type": "display_data"
    }
   ],
   "source": [
    "display(df.at[dates[0],'A'], type(df.at[dates[0],'A']))"
   ]
  }
 ],
 "metadata": {
  "colab": {
   "collapsed_sections": [
    "CTOvqK0hsOma",
    "1ktQ6-aePbSu"
   ],
   "name": "m1967-pandas-gerardo-de-miguel-gonzalez-d7.ipynb",
   "provenance": [],
   "version": "0.3.2"
  },
  "kernelspec": {
   "display_name": "Python 3",
   "name": "python3"
  }
 },
 "nbformat": 4,
 "nbformat_minor": 0
}
