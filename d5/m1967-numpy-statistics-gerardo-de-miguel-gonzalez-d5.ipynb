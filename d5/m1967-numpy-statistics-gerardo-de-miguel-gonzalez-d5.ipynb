{
 "cells": [
  {
   "cell_type": "markdown",
   "metadata": {
    "colab_type": "text",
    "id": "Kf59wtekAhpu"
   },
   "source": [
    "# Alumno: Gerardo de Miguel González"
   ]
  },
  {
   "cell_type": "markdown",
   "metadata": {
    "colab_type": "text",
    "id": "4HzMhiJ97Ghx"
   },
   "source": [
    "## NumPy: Data statistics\n",
    "\n",
    "The data in [populations.txt](http://scipy-lectures.github.io/_downloads/populations.txt) describes the populations of hares and lynxes (and carrots) in northern Canada during 20 years.\n",
    "\n",
    "Computes and print, based on the data in `populations.txt` (use loadtxt to read the file)...\n",
    "\n",
    "  1. The mean and std of the populations of each species for the years in the period.\n",
    "  2. Which year each species had the largest population.\n",
    "  3. Which species has the largest population for each year. (Hint: argsort & fancy indexing of np.array(['H', 'L', 'C']))\n",
    "  4. Which years any of the populations is above 50000. (Hint: comparisons and np.any)\n",
    "  5. The top 2 years for each species when they had the lowest populations. (Hint: argsort, fancy indexing)\n",
    "  6. Compare (plot) the change in hare population (see help(np.gradient)) and the number of lynxes. Check correlation (see help(np.corrcoef)).\n",
    "\n",
    "... all without for-loops."
   ]
  },
  {
   "cell_type": "code",
   "execution_count": 0,
   "metadata": {
    "colab": {},
    "colab_type": "code",
    "id": "-HvFqkflCQuO"
   },
   "outputs": [],
   "source": [
    "#::GMG::We need the usual import here :)\n",
    "import numpy as np"
   ]
  },
  {
   "cell_type": "code",
   "execution_count": 0,
   "metadata": {
    "colab": {},
    "colab_type": "code",
    "id": "kX_I5ASaikxz"
   },
   "outputs": [],
   "source": [
    "#::GMG::I'm going to get the data first, of course\n",
    "# https://docs.scipy.org/doc/numpy-1.15.0/reference/generated/numpy.DataSource.html\n",
    "ds = np.DataSource(None)\n",
    "location = 'http://scipy-lectures.github.io/_downloads/populations.txt'\n"
   ]
  },
  {
   "cell_type": "code",
   "execution_count": 3,
   "metadata": {
    "colab": {
     "base_uri": "https://localhost:8080/",
     "height": 399
    },
    "colab_type": "code",
    "executionInfo": {
     "elapsed": 1185,
     "status": "ok",
     "timestamp": 1543018884930,
     "user": {
      "displayName": "Gerardo de Miguel",
      "photoUrl": "https://lh3.googleusercontent.com/-LmFLfSn0ThU/AAAAAAAAAAI/AAAAAAAAAkg/xGe-_jxkcZA/s64/photo.jpg",
      "userId": "12735548512534412210"
     },
     "user_tz": -60
    },
    "id": "SalwjmPnayLK",
    "outputId": "aacd2ee5-a34e-433f-ae87-94ecb421e255"
   },
   "outputs": [
    {
     "name": "stdout",
     "output_type": "stream",
     "text": [
      "<class 'numpy.ndarray'>\n"
     ]
    },
    {
     "data": {
      "text/plain": [
       "array([[ 1900., 30000.,  4000., 48300.],\n",
       "       [ 1901., 47200.,  6100., 48200.],\n",
       "       [ 1902., 70200.,  9800., 41500.],\n",
       "       [ 1903., 77400., 35200., 38200.],\n",
       "       [ 1904., 36300., 59400., 40600.],\n",
       "       [ 1905., 20600., 41700., 39800.],\n",
       "       [ 1906., 18100., 19000., 38600.],\n",
       "       [ 1907., 21400., 13000., 42300.],\n",
       "       [ 1908., 22000.,  8300., 44500.],\n",
       "       [ 1909., 25400.,  9100., 42100.],\n",
       "       [ 1910., 27100.,  7400., 46000.],\n",
       "       [ 1911., 40300.,  8000., 46800.],\n",
       "       [ 1912., 57000., 12300., 43800.],\n",
       "       [ 1913., 76600., 19500., 40900.],\n",
       "       [ 1914., 52300., 45700., 39400.],\n",
       "       [ 1915., 19500., 51100., 39000.],\n",
       "       [ 1916., 11200., 29700., 36700.],\n",
       "       [ 1917.,  7600., 15800., 41800.],\n",
       "       [ 1918., 14600.,  9700., 43300.],\n",
       "       [ 1919., 16200., 10100., 41300.],\n",
       "       [ 1920., 24700.,  8600., 47300.]])"
      ]
     },
     "execution_count": 3,
     "metadata": {
      "tags": []
     },
     "output_type": "execute_result"
    }
   ],
   "source": [
    "# https://docs.scipy.org/doc/numpy-1.15.0/reference/generated/numpy.loadtxt.html\n",
    "rfile = ds.open(location)\n",
    "data = np.loadtxt(rfile)\n",
    "#::GMG::We've got the numpy 2D array (matrix) data but don't know the\n",
    "#       meaning of each column unless we take a look at the txt source\n",
    "#       file that has a first skipped line mark as comment:\n",
    "#       year\thare\tlynx\tcarrot\n",
    "print(type(data))\n",
    "data"
   ]
  },
  {
   "cell_type": "code",
   "execution_count": 4,
   "metadata": {
    "colab": {
     "base_uri": "https://localhost:8080/",
     "height": 312
    },
    "colab_type": "code",
    "executionInfo": {
     "elapsed": 1166,
     "status": "ok",
     "timestamp": 1543018884931,
     "user": {
      "displayName": "Gerardo de Miguel",
      "photoUrl": "https://lh3.googleusercontent.com/-LmFLfSn0ThU/AAAAAAAAAAI/AAAAAAAAAkg/xGe-_jxkcZA/s64/photo.jpg",
      "userId": "12735548512534412210"
     },
     "user_tz": -60
    },
    "id": "ILyheVnmf9q_",
    "outputId": "c5a4a7c0-b38b-46e5-a556-788cf6e8efb2"
   },
   "outputs": [
    {
     "name": "stdout",
     "output_type": "stream",
     "text": [
      "(21,)\n",
      "[(1900., 30000.,  4000., 48300.) (1901., 47200.,  6100., 48200.)\n",
      " (1902., 70200.,  9800., 41500.) (1903., 77400., 35200., 38200.)\n",
      " (1904., 36300., 59400., 40600.) (1905., 20600., 41700., 39800.)\n",
      " (1906., 18100., 19000., 38600.) (1907., 21400., 13000., 42300.)\n",
      " (1908., 22000.,  8300., 44500.) (1909., 25400.,  9100., 42100.)\n",
      " (1910., 27100.,  7400., 46000.) (1911., 40300.,  8000., 46800.)\n",
      " (1912., 57000., 12300., 43800.) (1913., 76600., 19500., 40900.)\n",
      " (1914., 52300., 45700., 39400.) (1915., 19500., 51100., 39000.)\n",
      " (1916., 11200., 29700., 36700.) (1917.,  7600., 15800., 41800.)\n",
      " (1918., 14600.,  9700., 43300.) (1919., 16200., 10100., 41300.)\n",
      " (1920., 24700.,  8600., 47300.)]\n",
      "Year column: [1900. 1901. 1902. 1903. 1904. 1905. 1906. 1907. 1908. 1909. 1910. 1911.\n",
      " 1912. 1913. 1914. 1915. 1916. 1917. 1918. 1919. 1920.]\n",
      "Carrot column: [48300. 48200. 41500. 38200. 40600. 39800. 38600. 42300. 44500. 42100.\n",
      " 46000. 46800. 43800. 40900. 39400. 39000. 36700. 41800. 43300. 41300.\n",
      " 47300.]\n"
     ]
    }
   ],
   "source": [
    "#::GMG::There's an alternative to read the data creating a view like\n",
    "#       a column named matrix give that the columns are homogeneous\n",
    "# https://stackoverflow.com/questions/24143807/load-csv-file-to-numpy-and-access-columns-by-name/24144773#24144773\n",
    "# https://docs.scipy.org/doc/numpy-1.15.1/reference/generated/numpy.genfromtxt.html\n",
    "rfile = ds.open(location)\n",
    "dataset = np.genfromtxt(rfile, \n",
    "                        delimiter='\\t', \n",
    "                        names=['Year','Hare', 'Lynx', 'Carrot'])\n",
    "print(dataset.shape)\n",
    "print(dataset)\n",
    "print('Year column:', dataset['Year'])\n",
    "print('Carrot column:', dataset['Carrot'])"
   ]
  },
  {
   "cell_type": "code",
   "execution_count": 5,
   "metadata": {
    "colab": {
     "base_uri": "https://localhost:8080/",
     "height": 69
    },
    "colab_type": "code",
    "executionInfo": {
     "elapsed": 1146,
     "status": "ok",
     "timestamp": 1543018884932,
     "user": {
      "displayName": "Gerardo de Miguel",
      "photoUrl": "https://lh3.googleusercontent.com/-LmFLfSn0ThU/AAAAAAAAAAI/AAAAAAAAAkg/xGe-_jxkcZA/s64/photo.jpg",
      "userId": "12735548512534412210"
     },
     "user_tz": -60
    },
    "id": "0iqn7NYYTcaG",
    "outputId": "e357d792-daec-40fc-8e6e-8ff7556ce280"
   },
   "outputs": [
    {
     "name": "stdout",
     "output_type": "stream",
     "text": [
      "hares: [30000. 47200. 70200. 77400. 36300. 20600. 18100. 21400. 22000. 25400.\n",
      " 27100. 40300. 57000. 76600. 52300. 19500. 11200.  7600. 14600. 16200.\n",
      " 24700.]\n"
     ]
    }
   ],
   "source": [
    "#::GMG::So as we stil don't know that pandas exists ... :)\n",
    "#       we have to hardwire the data columns into numpy\n",
    "#       arrays with multiple assignment, turning every column into\n",
    "#       a row ...\n",
    "year, hares, lynxes, carrots = np.transpose(data)\n",
    "#display(type(year), type(hares), type(lynxes), type(carrots))\n",
    "print('hares:',hares)"
   ]
  },
  {
   "cell_type": "markdown",
   "metadata": {
    "colab_type": "text",
    "id": "ocJ_vUbJCN3r"
   },
   "source": [
    "### 1. The mean and std of the populations of each species for the years in the period.\n",
    "\n",
    "::GMG::References used here\n",
    "\n",
    " - [SciPy: Numpy Statistics](https://docs.scipy.org/doc/numpy-1.15.0/reference/routines.statistics.html)\n",
    " - [TutorialsPoint: NumPy - Statistical Functions](https://www.tutorialspoint.com/numpy/numpy_statistical_functions.htm)\n",
    " - [Introduction to statistics using Numpy](https://mubaris.com/posts/statistics/)\n",
    " \n",
    " ::GMG::Also seen these ones\n",
    " \n",
    " - Python Standard Library [statistics — Mathematical statistics functions](https://docs.python.org/3/library/statistics.html)\n",
    " - SciPy: Statistical functions ([scipy.stats](https://docs.scipy.org/doc/scipy/reference/stats.html))\n",
    " - TutorialsPoint: [SciPy - Stats](https://www.tutorialspoint.com/scipy/scipy_stats.htm)"
   ]
  },
  {
   "cell_type": "code",
   "execution_count": 6,
   "metadata": {
    "colab": {
     "base_uri": "https://localhost:8080/",
     "height": 52
    },
    "colab_type": "code",
    "executionInfo": {
     "elapsed": 1129,
     "status": "ok",
     "timestamp": 1543018884932,
     "user": {
      "displayName": "Gerardo de Miguel",
      "photoUrl": "https://lh3.googleusercontent.com/-LmFLfSn0ThU/AAAAAAAAAAI/AAAAAAAAAkg/xGe-_jxkcZA/s64/photo.jpg",
      "userId": "12735548512534412210"
     },
     "user_tz": -60
    },
    "id": "Yxxcy_5L63w1",
    "outputId": "a3bd53c0-086a-4ab7-e9ce-f4852fd5a430"
   },
   "outputs": [
    {
     "name": "stdout",
     "output_type": "stream",
     "text": [
      "Sampl Mean Array: [34080.95238095 20166.66666667 42400.        ]\n",
      "Sample Standard Deviation Array: [20897.90645809 16254.59153691  3322.50622558]\n"
     ]
    }
   ],
   "source": [
    "#::GMG:: Using NumPy's built-in functions to Find (sample) Mean and \n",
    "#        (sample) SD and slicing data 2D numpy array with [:,:]\n",
    "sample_mean = np.mean(data[:,1:],axis = 0)\n",
    "# np.apply_along_axis(np.mean, 0, data[:,1:])\n",
    "sample_sd = np.std(data[:,1:], axis = 0)\n",
    "# np.apply_along_axis(np.std, 0, data[:,1:])\n",
    "\n",
    "#::GMG::Printing the values\n",
    "print(\"Sampl Mean Array:\", sample_mean) \n",
    "print(\"Sample Standard Deviation Array:\", sample_sd) "
   ]
  },
  {
   "cell_type": "code",
   "execution_count": 7,
   "metadata": {
    "colab": {
     "base_uri": "https://localhost:8080/",
     "height": 52
    },
    "colab_type": "code",
    "executionInfo": {
     "elapsed": 1115,
     "status": "ok",
     "timestamp": 1543018884934,
     "user": {
      "displayName": "Gerardo de Miguel",
      "photoUrl": "https://lh3.googleusercontent.com/-LmFLfSn0ThU/AAAAAAAAAAI/AAAAAAAAAkg/xGe-_jxkcZA/s64/photo.jpg",
      "userId": "12735548512534412210"
     },
     "user_tz": -60
    },
    "id": "BKTgjS9i11zD",
    "outputId": "ab7db316-1ae5-46d8-9956-4a99046c8476"
   },
   "outputs": [
    {
     "name": "stdout",
     "output_type": "stream",
     "text": [
      "Sample Mean Hares: 34080.95238095238\n",
      "Sample Standard Deviation Hares: 20897.906458089667\n"
     ]
    }
   ],
   "source": [
    "#::GMG::We could also do it species by species if need be ...\n",
    "sample_mean_hares = np.mean(hares)\n",
    "print(\"Sample Mean Hares:\", sample_mean_hares)\n",
    "sample_sd_hares = np.std(hares)\n",
    "print(\"Sample Standard Deviation Hares:\", sample_sd_hares)"
   ]
  },
  {
   "cell_type": "code",
   "execution_count": 8,
   "metadata": {
    "colab": {
     "base_uri": "https://localhost:8080/",
     "height": 35
    },
    "colab_type": "code",
    "executionInfo": {
     "elapsed": 1089,
     "status": "ok",
     "timestamp": 1543018884934,
     "user": {
      "displayName": "Gerardo de Miguel",
      "photoUrl": "https://lh3.googleusercontent.com/-LmFLfSn0ThU/AAAAAAAAAAI/AAAAAAAAAkg/xGe-_jxkcZA/s64/photo.jpg",
      "userId": "12735548512534412210"
     },
     "user_tz": -60
    },
    "id": "Se-0V7DF0Mmp",
    "outputId": "d370406e-7067-435a-88ee-012c8a5e7b2f"
   },
   "outputs": [
    {
     "name": "stdout",
     "output_type": "stream",
     "text": [
      "Sample Mean Array: 34080.95238095238\n"
     ]
    }
   ],
   "source": [
    "#::GMG::Using the \"alternative\" dataset we can also do it by\n",
    "#       species\n",
    "sample_mean_hares_alt = np.mean(dataset['Hare'])\n",
    "print(\"Sample Mean Array:\", sample_mean_hares_alt)"
   ]
  },
  {
   "cell_type": "code",
   "execution_count": 9,
   "metadata": {
    "colab": {
     "base_uri": "https://localhost:8080/",
     "height": 225
    },
    "colab_type": "code",
    "executionInfo": {
     "elapsed": 1076,
     "status": "ok",
     "timestamp": 1543018884935,
     "user": {
      "displayName": "Gerardo de Miguel",
      "photoUrl": "https://lh3.googleusercontent.com/-LmFLfSn0ThU/AAAAAAAAAAI/AAAAAAAAAkg/xGe-_jxkcZA/s64/photo.jpg",
      "userId": "12735548512534412210"
     },
     "user_tz": -60
    },
    "id": "GB-cnvBX4Jgh",
    "outputId": "9855b3a1-d022-443c-8362-c167483c2a25"
   },
   "outputs": [
    {
     "data": {
      "text/plain": [
       "array([(30000.,  4000., 48300.), (47200.,  6100., 48200.),\n",
       "       (70200.,  9800., 41500.), (77400., 35200., 38200.),\n",
       "       (36300., 59400., 40600.), (20600., 41700., 39800.),\n",
       "       (18100., 19000., 38600.), (21400., 13000., 42300.),\n",
       "       (22000.,  8300., 44500.), (25400.,  9100., 42100.),\n",
       "       (27100.,  7400., 46000.), (40300.,  8000., 46800.),\n",
       "       (57000., 12300., 43800.), (76600., 19500., 40900.),\n",
       "       (52300., 45700., 39400.), (19500., 51100., 39000.),\n",
       "       (11200., 29700., 36700.), ( 7600., 15800., 41800.),\n",
       "       (14600.,  9700., 43300.), (16200., 10100., 41300.),\n",
       "       (24700.,  8600., 47300.)],\n",
       "      dtype=[('Hare', '<f8'), ('Lynx', '<f8'), ('Carrot', '<f8')])"
      ]
     },
     "execution_count": 9,
     "metadata": {
      "tags": []
     },
     "output_type": "execute_result"
    }
   ],
   "source": [
    "#::GMG::But I Don't know how to appply the np.mean() or np.std() to\n",
    "#       this \"array\" (?)\n",
    "# sample_mean = np.mean(dataset[['Hare','Lynx','Carrot']],axis = 0)\n",
    "# TypeError: cannot perform reduce with flexible type\n",
    "dataset[['Hare','Lynx','Carrot']]"
   ]
  },
  {
   "cell_type": "markdown",
   "metadata": {
    "colab_type": "text",
    "id": "YQxAzmJH6ygD"
   },
   "source": [
    "### 2. Which year each species had the largest population.\n",
    "\n"
   ]
  },
  {
   "cell_type": "code",
   "execution_count": 0,
   "metadata": {
    "colab": {},
    "colab_type": "code",
    "id": "ekBlWXqe65yT"
   },
   "outputs": [],
   "source": [
    ""
   ]
  }
 ],
 "metadata": {
  "colab": {
   "collapsed_sections": [],
   "name": "m1967-numpy-statistics-gerardo-de-miguel-gonzalez-d5.ipynb",
   "provenance": [],
   "version": "0.3.2"
  },
  "kernelspec": {
   "display_name": "Python 3",
   "name": "python3"
  }
 },
 "nbformat": 4,
 "nbformat_minor": 0
}
