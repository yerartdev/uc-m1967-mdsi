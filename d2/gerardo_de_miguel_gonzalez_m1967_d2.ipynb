{
  "nbformat": 4,
  "nbformat_minor": 0,
  "metadata": {
    "colab": {
      "name": "gerardo-de-miguel-gonzalez-m1967-d2.ipynb",
      "version": "0.3.2",
      "provenance": [],
      "collapsed_sections": []
    },
    "kernelspec": {
      "name": "python3",
      "display_name": "Python 3"
    }
  },
  "cells": [
    {
      "metadata": {
        "id": "qmuFD14pwJOx",
        "colab_type": "text"
      },
      "cell_type": "markdown",
      "source": [
        "# Gerardo de Miguel González\n",
        "\n",
        "---\n",
        "\n",
        "## Assignment I: Exercises on Introduction to Python\n",
        "\n",
        "### Exercise 2: Exercises from SciPy Lectures\n",
        "\n",
        "Program the three basic exercises from the Python Language intro of SciPy Lectures [1] given in Control Flow and Defining Functions sections [2][3].\n",
        "\n",
        "### References\n",
        "\n",
        "[1] [SciPy Lectures Python Language Intro](http://www.scipy-lectures.org/intro/language/python_language.html)\n",
        "\n",
        "[2] [Control Flow](http://www.scipy-lectures.org/intro/language/control_flow.html)\n",
        "\n",
        "[3] [Defining Functions](http://www.scipy-lectures.org/intro/language/functions.html)"
      ]
    },
    {
      "metadata": {
        "id": "6FujrexawHqc",
        "colab_type": "text"
      },
      "cell_type": "markdown",
      "source": [
        "### Compute Pi number\n",
        "\n",
        "Compute the decimals of Pi using the Wallis formula:\n",
        "\n",
        ">$\\pi = 2 \\prod_{i=1}^{\\infty} \\frac{4i^2}{4i^2 - 1}$"
      ]
    },
    {
      "metadata": {
        "id": "TPQkD_KmvuHj",
        "colab_type": "code",
        "colab": {}
      },
      "cell_type": "code",
      "source": [
        "#::GMG::Topics used: keyword parameter, if/elif/else, defensive programming,\n",
        "#       for loop, iterable range(start, end, step), Docstring,\n",
        "#       Wallis formula as seen at\n",
        "#       https://en.wikipedia.org/wiki/Wallis_product\n",
        "def aproxpi(n=1000):\n",
        "    \"\"\"Compute pi using n terms of Wallis' product.\n",
        "    \n",
        "    aproxpi(n) = 2 \\prod_{i=1}^{n}\\frac{4i^2}{4i^2-1}\n",
        "\n",
        "    Args:\n",
        "        n (int): The upper limit of the iterations at Wallis' formula, \n",
        "                 from 1 to `n`. n > 0. Default to 1000.\n",
        "\n",
        "    Yields:\n",
        "        float: The approximation of pi if n is valid\n",
        "        None: If n is invalid\n",
        "\n",
        "    Examples:\n",
        "\n",
        "        >>> print(aproxpi(1000000))\n",
        "        3.141591868191753\n",
        "\n",
        "        >>> print(aproxpi(-10))\n",
        "        ERROR: n not valid: aproxpi(n) | n > 0\n",
        "        None\n",
        "\n",
        "    \"\"\"\n",
        "    pimedios = 4/3\n",
        "    if not isinstance(n,int):\n",
        "      print(\"ERROR:n not valid: aproxpi(n) | n is integer\")\n",
        "      return None\n",
        "    elif n < 1:\n",
        "      print(\"ERROR: n not valid: aproxpi(n) | n > 0\")\n",
        "      return None\n",
        "    else:\n",
        "      for i in range(2,n+1):\n",
        "        num = 2*i\n",
        "        pimedios *= (num/(num-1))*(num/(num+1))\n",
        "    return 2*pimedios\n"
      ],
      "execution_count": 0,
      "outputs": []
    },
    {
      "metadata": {
        "id": "RbZX5hyoSOoA",
        "colab_type": "code",
        "colab": {
          "base_uri": "https://localhost:8080/",
          "height": 936
        },
        "outputId": "7a758f0b-8e68-4d3f-850a-f4d0daeddcf0"
      },
      "cell_type": "code",
      "source": [
        "  #::GMG::Test\n",
        "  #       Corner cases\n",
        "  pi = aproxpi(3 + 5j)\n",
        "  display((pi, type(pi)))\n",
        "  pi = aproxpi(-100)\n",
        "  display((pi, type(pi)))\n",
        "  pi = aproxpi(0)\n",
        "  display((pi, type(pi)))\n",
        "  pi = aproxpi(1)\n",
        "  display((pi, type(pi)))\n",
        "  pi = aproxpi(2)\n",
        "  display((pi, type(pi)))\n",
        "  pi = aproxpi()\n",
        "  display((pi, type(pi)))\n",
        "  pi = aproxpi(1000000)\n",
        "  display((pi, type(pi)))\n",
        "  #::GMG::Test\n",
        "  #       Wide cases\n",
        "  #       List comprehension style (!!) :))\n",
        "  [print (i) for i in list(map(aproxpi,range(1000,20000,1000)))]\n",
        "  #::GMG::Docstring test\n",
        "  help(aproxpi)"
      ],
      "execution_count": 81,
      "outputs": [
        {
          "output_type": "stream",
          "text": [
            "ERROR:n not valid: aproxpi(n) | n is integer\n"
          ],
          "name": "stdout"
        },
        {
          "output_type": "display_data",
          "data": {
            "text/plain": [
              "(None, NoneType)"
            ]
          },
          "metadata": {
            "tags": []
          }
        },
        {
          "output_type": "stream",
          "text": [
            "ERROR: n not valid: aproxpi(n) | n > 0\n"
          ],
          "name": "stdout"
        },
        {
          "output_type": "display_data",
          "data": {
            "text/plain": [
              "(None, NoneType)"
            ]
          },
          "metadata": {
            "tags": []
          }
        },
        {
          "output_type": "stream",
          "text": [
            "ERROR: n not valid: aproxpi(n) | n > 0\n"
          ],
          "name": "stdout"
        },
        {
          "output_type": "display_data",
          "data": {
            "text/plain": [
              "(None, NoneType)"
            ]
          },
          "metadata": {
            "tags": []
          }
        },
        {
          "output_type": "display_data",
          "data": {
            "text/plain": [
              "(2.6666666666666665, float)"
            ]
          },
          "metadata": {
            "tags": []
          }
        },
        {
          "output_type": "display_data",
          "data": {
            "text/plain": [
              "(2.844444444444444, float)"
            ]
          },
          "metadata": {
            "tags": []
          }
        },
        {
          "output_type": "display_data",
          "data": {
            "text/plain": [
              "(3.1408077460303816, float)"
            ]
          },
          "metadata": {
            "tags": []
          }
        },
        {
          "output_type": "display_data",
          "data": {
            "text/plain": [
              "(3.141591868191753, float)"
            ]
          },
          "metadata": {
            "tags": []
          }
        },
        {
          "output_type": "stream",
          "text": [
            "3.1408077460303816\n",
            "3.1412000771927824\n",
            "3.1413309087334933\n",
            "3.141396334724282\n",
            "3.141435593589838\n",
            "3.1414617675299548\n",
            "3.1414804638691503\n",
            "3.141494486488695\n",
            "3.1415053931869403\n",
            "3.141514118681859\n",
            "3.141521257813296\n",
            "3.1415272071514657\n",
            "3.141532241250847\n",
            "3.1415365562252715\n",
            "3.1415402958937606\n",
            "3.141543568121929\n",
            "3.1415464553962393\n",
            "3.1415490218734177\n",
            "3.141551318203984\n",
            "Help on function aproxpi in module __main__:\n",
            "\n",
            "aproxpi(n=1000)\n",
            "    Compute pi using n terms of Wallis' product.\n",
            "    \n",
            "    aproxpi(n) = 2 \\prod_{i=1}^{n}\frac{4i^2}{4i^2-1}\n",
            "    \n",
            "    Args:\n",
            "        n (int): The upper limit of the iterations at Wallis' formula, \n",
            "                 from 1 to `n`. n > 0. Default to 1000.\n",
            "    \n",
            "    Yields:\n",
            "        float: The approximation of pi if n is valid\n",
            "        None: If n is invalid\n",
            "    \n",
            "    Examples:\n",
            "    \n",
            "        >>> print(aproxpi(1000000))\n",
            "        3.141591868191753\n",
            "    \n",
            "        >>> print(aproxpi(-10))\n",
            "        ERROR: n not valid: aproxpi(n) | n > 0\n",
            "        None\n",
            "\n"
          ],
          "name": "stdout"
        }
      ]
    },
    {
      "metadata": {
        "id": "qQ3d2xDAS9Qy",
        "colab_type": "code",
        "colab": {
          "base_uri": "https://localhost:8080/",
          "height": 379
        },
        "outputId": "23163c48-fa8c-4aa8-8f62-29502eea5a73"
      },
      "cell_type": "code",
      "source": [
        "#::GMG::Bonus: Standing on the shoulders of giants\n",
        "#       https://en.wikipedia.org/wiki/Standing_on_the_shoulders_of_giants\n",
        "#\n",
        "#       Simple convergence demo.\n",
        "#\n",
        "#::GMG::Credit -- ellisonbg/py4science\n",
        "#       https://github.com/ellisonbg/py4science/blob/master/book/examples/wallis_pi.py\n",
        "\n",
        "# A few modules we need\n",
        "from matplotlib import pyplot as plt\n",
        "import numpy as np\n",
        "\n",
        "#::GMG::But before diving into it I have drop out my defensive programming\n",
        "#       because my aproxpi instead of dealing with plain old int, it's going to\n",
        "#       find numpy.int32 strange things as parameter ... \n",
        "def aproxpi(n=1000):\n",
        "  pimedios = 4/3\n",
        "  for i in range(2,n+1):\n",
        "    num = 2*i\n",
        "    pimedios *= (num/(num-1))*(num/(num+1))\n",
        "  return 2*pimedios  \n",
        "\n",
        "# Create a list of points 'nrange' where we'll compute Wallis' formula\n",
        "nrange = np.linspace(10,2000,20).astype(int)\n",
        "\n",
        "# Make an array of such values\n",
        "wpi = list(map(aproxpi,nrange))\n",
        "# Compute the difference against the value of pi in numpy (standard\n",
        "# 16-digit value)\n",
        "#::GMG::Fixed it because \"-\" is not supported between list and float(!)\n",
        "#       see https://docs.scipy.org/doc/numpy-1.15.0/reference/generated/numpy.subtract.html\n",
        "#diff = abs(wpi-np.pi)\n",
        "diff=abs(np.subtract(wpi,np.pi))\n",
        "\n",
        "# Make a new figure and build a semilog plot of the difference so we can\n",
        "# see the quality of the convergence\n",
        "plt.figure()\n",
        "# Line plot with red circles at the data points\n",
        "plt.semilogy(nrange,diff,'-o',mfc='red')\n",
        "\n",
        "# A bit of labeling and a grid\n",
        "plt.title(r\"Convergence of Wallis' product formula for $\\pi$\")\n",
        "plt.xlabel('Number of terms')\n",
        "plt.ylabel(r'Absolute Error')\n",
        "plt.grid()\n",
        "\n",
        "# Display the actual plot\n",
        "plt.show()\n"
      ],
      "execution_count": 82,
      "outputs": [
        {
          "output_type": "display_data",
          "data": {
            "image/png": "[encoded data removed]",
            "text/plain": [
              "<matplotlib.figure.Figure at 0x7f4028014b70>"
            ]
          },
          "metadata": {
            "tags": []
          }
        }
      ]
    },
    {
      "metadata": {
        "id": "aaQCLN8nzQwU",
        "colab_type": "text"
      },
      "cell_type": "markdown",
      "source": [
        "### Fibonacci sequence\n",
        "\n",
        "Write a function that displays the n first terms of the [Fibonacci sequence](https://en.wikipedia.org/wiki/Fibonacci_number), defined by:\n",
        "\n",
        ">$\\left\\{\n",
        "    \\begin{array}{ll}\n",
        "        U_{0} = 0 \\\\\n",
        "        U_{1} = 1 \\\\\n",
        "        U_{n+2} = U_{n+1} + U_{n}\n",
        "    \\end{array}\n",
        "\\right.$"
      ]
    },
    {
      "metadata": {
        "id": "9khLxvuJznIy",
        "colab_type": "code",
        "colab": {}
      },
      "cell_type": "code",
      "source": [
        "#::GMG::Topics used: keyword parameter, while loop, defensive programming,\n",
        "#       Docstring, multiple assignment, simple fibonacci algorithm as\n",
        "#       described at\n",
        "#       https://en.wikipedia.org/wiki/Fibonacci_number\n",
        "def fibonacci(n=10):\n",
        "  \"\"\"Display the n first terms of Fibonacci sequence.\n",
        "  \n",
        "  F_n = F_n-1 + F_n-2  \n",
        "  \n",
        "  with seeds\n",
        "  \n",
        "  F_0 = 0, F_1 = 1\n",
        "  \n",
        "  Args:\n",
        "    n (int): numbers in the sequence to be printed.\n",
        "             n > 0. Default to 10.\n",
        "\n",
        "  Yields:\n",
        "    screen: column of n first numbers of fibonacci sequence or error message if\n",
        "            n is not valid\n",
        "    True:  if n is valid\n",
        "    False: if n is not invalid\n",
        "\n",
        "  Examples:\n",
        "\n",
        "    >>> fibonacci()\n",
        "    0\n",
        "    1\n",
        "    1\n",
        "    2\n",
        "    3\n",
        "    5\n",
        "    8\n",
        "    13\n",
        "    21\n",
        "    34\n",
        "\n",
        "    >>> fibonacci(-10)\n",
        "    ERROR: n not valid: fibonacci(n) | n > 0\n",
        "  \"\"\"\n",
        "  if not isinstance(n,int):\n",
        "    print(\"ERROR:n not valid: fibonacci(n) | n is integer\")\n",
        "    return False\n",
        "  elif n <= 0:\n",
        "    print(\"ERROR:n not valid: fibonacci(n) | n > 0\")\n",
        "    return False\n",
        "  else:  \n",
        "    f0, f1 = 0, 1 #seeds\n",
        "    #::GMG::Wikipedia (sic) ...\n",
        "    #   ... in modern usage, the sequence is extended by one more initial term\n",
        "    print (f0)\n",
        "    count = 1\n",
        "    while count < n:\n",
        "      print (f1)\n",
        "      f0, f1 = f1, f0 + f1\n",
        "      count += 1\n",
        "    return True"
      ],
      "execution_count": 0,
      "outputs": []
    },
    {
      "metadata": {
        "id": "M3lWh_d74Vzq",
        "colab_type": "code",
        "colab": {
          "base_uri": "https://localhost:8080/",
          "height": 1040
        },
        "outputId": "a1362b1e-e42f-4dde-fadc-0ac3f7987d76"
      },
      "cell_type": "code",
      "source": [
        "#::GMG::Test\n",
        "#       Corner cases\n",
        "print(fibonacci(2-3j))\n",
        "print(fibonacci(1))\n",
        "fibonacci(-10)\n",
        "fibonacci()\n",
        "fibonacci(0)\n",
        "#       n=5\n",
        "fibonacci(5)\n",
        "#       Docstring\n",
        "help(fibonacci)"
      ],
      "execution_count": 84,
      "outputs": [
        {
          "output_type": "stream",
          "text": [
            "ERROR:n not valid: fibonacci(n) | n is integer\n",
            "False\n",
            "0\n",
            "True\n",
            "ERROR:n not valid: fibonacci(n) | n > 0\n",
            "0\n",
            "1\n",
            "1\n",
            "2\n",
            "3\n",
            "5\n",
            "8\n",
            "13\n",
            "21\n",
            "34\n",
            "ERROR:n not valid: fibonacci(n) | n > 0\n",
            "0\n",
            "1\n",
            "1\n",
            "2\n",
            "3\n",
            "Help on function fibonacci in module __main__:\n",
            "\n",
            "fibonacci(n=10)\n",
            "    Display the n first terms of Fibonacci sequence.\n",
            "    \n",
            "    F_n = F_n-1 + F_n-2  \n",
            "    \n",
            "    with seeds\n",
            "    \n",
            "    F_0 = 0, F_1 = 1\n",
            "    \n",
            "    Args:\n",
            "      n (int): numbers in the sequence to be printed.\n",
            "               n > 0. Default to 10.\n",
            "    \n",
            "    Yields:\n",
            "      screen: column of n first numbers of fibonacci sequence or error message if\n",
            "              n is not valid\n",
            "      True:  if n is valid\n",
            "      False: if n is not invalid\n",
            "    \n",
            "    Examples:\n",
            "    \n",
            "      >>> fibonacci()\n",
            "      0\n",
            "      1\n",
            "      1\n",
            "      2\n",
            "      3\n",
            "      5\n",
            "      8\n",
            "      13\n",
            "      21\n",
            "      34\n",
            "    \n",
            "      >>> fibonacci(-10)\n",
            "      ERROR: n not valid: fibonacci(n) | n > 0\n",
            "\n"
          ],
          "name": "stdout"
        }
      ]
    },
    {
      "metadata": {
        "id": "zgYq-wbV-PGn",
        "colab_type": "text"
      },
      "cell_type": "markdown",
      "source": [
        ":**:GMG::**I've found out how *to draw* a fibonacci sequence but have no time here. So I'll leave it TODO :)\n",
        "\n",
        "  - Trinket: [Draw the Fibonacci Spiral using Turtle Graphics](https://trinket.io/python/43bc79b582)\n",
        "  - Python4Enlightening: [Fibonacci Mystery Pythonified](http://junilyd.github.io/blog/2014/08/13/fibonacci-mystery-pythonified/)\n",
        "  "
      ]
    },
    {
      "metadata": {
        "id": "EPgsf9ukzrq8",
        "colab_type": "text"
      },
      "cell_type": "markdown",
      "source": [
        "### Quicksort\n",
        "\n",
        "Implement the quicksort algorithm, as defined by [wikipedia](https://en.wikipedia.org/wiki/Quicksort):\n",
        "\n",
        "```\n",
        "function quicksort(array)\n",
        "    var list less, greater\n",
        "    if length(array) < 2\n",
        "        return array\n",
        "    select and remove a pivot value pivot from array\n",
        "    for each x in array\n",
        "        if x < pivot + 1 then append x to less\n",
        "        else append x to greater\n",
        "    return concatenate(quicksort(less), pivot, quicksort(greater))\n",
        "```\n",
        "\n"
      ]
    },
    {
      "metadata": {
        "id": "ji0QT1k_0ReL",
        "colab_type": "code",
        "colab": {}
      },
      "cell_type": "code",
      "source": [
        "#::GMG::Topics used: Docstring, for loop, if/elif/else, list type, defensive\n",
        "#       programming, all, isinstance(), recursion, ...\n",
        "def quicksort(coleccion):\n",
        "  \"\"\"Implementation of the quicksort algorithm. \n",
        "  \n",
        "  Reference:\n",
        "  \n",
        "  https://en.wikipedia.org/wiki/Quicksort#Hoare_partition_scheme\n",
        "  \n",
        "  with seeds\n",
        "  \n",
        "  Args:\n",
        "    coleccion: collection of items to sort. \n",
        "               list type of int allowed only, sorry.\n",
        "\n",
        "  Yields:\n",
        "    list: increasing ordered list if coleccion is valid\n",
        "    None: if coleccion is not invalid\n",
        "    screen: an error message if coleccion is not valid\n",
        "\n",
        "  Examples:\n",
        "\n",
        "    >>> import random\n",
        "    >>> l = random.sample(range(1, 100), 25)\n",
        "    >>> l_s = sorted(l)\n",
        "    >>> l_qs = quicksort(l)\n",
        "    >>> l_qs == l_s\n",
        "    True\n",
        "\n",
        "    >>> l = [10, 1, 15, 23, 7, 18, 4, 2]\n",
        "    >>> print(quicksort(l))\n",
        "    [1, 2, 4, 7, 10, 15, 18, 23]\n",
        "  \"\"\"\n",
        "  #::GMG::Defensive (sanity) checks first :)\n",
        "  if not isinstance(coleccion,list):\n",
        "    print (\"ERROR: only list type allowed, sorry.\")\n",
        "    return None\n",
        "  elif (len(coleccion) > 0) and \\\n",
        "       (not all(isinstance(x, int) for x in coleccion)):\n",
        "    #::GMG::see (1) down in References\n",
        "    print (\"ERROR: only integers allowed within list, sorry.\")\n",
        "    return  None\n",
        "  elif len(coleccion) < 2:\n",
        "    #::GMG::The obvious case, fast and easy peasy! :)\n",
        "    return coleccion\n",
        "  \n",
        "  less = []\n",
        "  greater = []\n",
        "  pivot, rest = coleccion[0], coleccion[1:]\n",
        "  for i in rest:\n",
        "    #::GMG::should I take repetitions into account? Where do I put them?\n",
        "    #       less <= or greater < ... Uhm, I choose less! :)\n",
        "    if i <= pivot:\n",
        "      less.append(i)\n",
        "    else:\n",
        "      greater.append(i)\n",
        "  return quicksort(less) + [pivot] + quicksort(greater)"
      ],
      "execution_count": 0,
      "outputs": []
    },
    {
      "metadata": {
        "id": "JUcRekcMOsaN",
        "colab_type": "code",
        "colab": {
          "base_uri": "https://localhost:8080/",
          "height": 312
        },
        "outputId": "9a3b5fe5-e09e-4a4d-8e15-435904530c6e"
      },
      "cell_type": "code",
      "source": [
        "#::GMG::Test\n",
        "#       Corner cases\n",
        "s = set([3,-2,10,43,0])\n",
        "display((s, type(s), quicksort(s)))\n",
        "t = (3,-2,10,43,0)\n",
        "display((t, type(t), quicksort(t)))\n",
        "d = {'a':1, 'b':-2, 'c':89}\n",
        "display((d, type(d), quicksort(d)))\n",
        "ss = 'hola'\n",
        "display((ss, type(ss), quicksort(ss)))\n",
        "l = ['a', -2, 5+3j, 0, 23]\n",
        "display((l, type(l), quicksort(l)))\n",
        "l_2=[]\n",
        "display((l_2, type(l_2), quicksort(l_2)))\n",
        "l_3=[-1]\n",
        "display((l_3, type(l_3), quicksort(l_3)))\n",
        "#       Formal case\n",
        "l_n = [0,-3,15,98,3,7,1]\n",
        "display((l_n, type(l_n), quicksort(l_n)))\n",
        "#       Let's make it random :)\n",
        "#       see (2) in references\n",
        "import random\n",
        "l_r = random.sample(range(-100, 100), 14)\n",
        "#       reference a gold sorted list using sorted() bulitin function\n",
        "#       see (3) in references\n",
        "l_rs = sorted(l_r)\n",
        "display((l_r, type(l_r), quicksort(l_r), l_rs == quicksort(l_r)))\n",
        "#       we assert we're right, right? :)\n",
        "#       see (5) in references\n",
        "assert l_rs == quicksort(l_r)"
      ],
      "execution_count": 87,
      "outputs": [
        {
          "output_type": "stream",
          "text": [
            "ERROR: only list type allowed, sorry.\n"
          ],
          "name": "stdout"
        },
        {
          "output_type": "display_data",
          "data": {
            "text/plain": [
              "({-2, 0, 3, 10, 43}, set, None)"
            ]
          },
          "metadata": {
            "tags": []
          }
        },
        {
          "output_type": "stream",
          "text": [
            "ERROR: only list type allowed, sorry.\n"
          ],
          "name": "stdout"
        },
        {
          "output_type": "display_data",
          "data": {
            "text/plain": [
              "((3, -2, 10, 43, 0), tuple, None)"
            ]
          },
          "metadata": {
            "tags": []
          }
        },
        {
          "output_type": "stream",
          "text": [
            "ERROR: only list type allowed, sorry.\n"
          ],
          "name": "stdout"
        },
        {
          "output_type": "display_data",
          "data": {
            "text/plain": [
              "({'a': 1, 'b': -2, 'c': 89}, dict, None)"
            ]
          },
          "metadata": {
            "tags": []
          }
        },
        {
          "output_type": "stream",
          "text": [
            "ERROR: only list type allowed, sorry.\n"
          ],
          "name": "stdout"
        },
        {
          "output_type": "display_data",
          "data": {
            "text/plain": [
              "('hola', str, None)"
            ]
          },
          "metadata": {
            "tags": []
          }
        },
        {
          "output_type": "stream",
          "text": [
            "ERROR: only integers allowed within list, sorry.\n"
          ],
          "name": "stdout"
        },
        {
          "output_type": "display_data",
          "data": {
            "text/plain": [
              "(['a', -2, (5+3j), 0, 23], list, None)"
            ]
          },
          "metadata": {
            "tags": []
          }
        },
        {
          "output_type": "display_data",
          "data": {
            "text/plain": [
              "([], list, [])"
            ]
          },
          "metadata": {
            "tags": []
          }
        },
        {
          "output_type": "display_data",
          "data": {
            "text/plain": [
              "([-1], list, [-1])"
            ]
          },
          "metadata": {
            "tags": []
          }
        },
        {
          "output_type": "display_data",
          "data": {
            "text/plain": [
              "([0, -3, 15, 98, 3, 7, 1], list, [-3, 0, 1, 3, 7, 15, 98])"
            ]
          },
          "metadata": {
            "tags": []
          }
        },
        {
          "output_type": "display_data",
          "data": {
            "text/plain": [
              "([86, -19, -58, 94, -64, -13, 58, -10, 47, -56, 46, -98, 92, 97],\n",
              " list,\n",
              " [-98, -64, -58, -56, -19, -13, -10, 46, 47, 58, 86, 92, 94, 97],\n",
              " True)"
            ]
          },
          "metadata": {
            "tags": []
          }
        }
      ]
    },
    {
      "metadata": {
        "id": "_zjdJvgIR3i7",
        "colab_type": "text"
      },
      "cell_type": "markdown",
      "source": [
        "##### References\n",
        "\n",
        "  1. Stackoverflow [Python check if all elements of a list are the same type](https://stackoverflow.com/questions/13252333/python-check-if-all-elements-of-a-list-are-the-same-type)\n",
        "  2. Stackoverflow [Generate 'n' unique random numbers within a range [duplicate]](https://stackoverflow.com/questions/22842289/generate-n-unique-random-numbers-within-a-range)\n",
        "  3. [Python Sorting HOWTO](https://docs.python.org/3.4/howto/sorting.html)\n",
        "  4. [How to use list methods in Pyhton 3](https://www.digitalocean.com/community/tutorials/how-to-use-list-methods-in-python-3)\n",
        "  5. Dan Bader [Assert Statements in Python](https://dbader.org/blog/python-assert-tutorial)\n"
      ]
    }
  ]
}